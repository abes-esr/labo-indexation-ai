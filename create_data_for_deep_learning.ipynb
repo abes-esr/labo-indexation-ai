{
 "cells": [
  {
   "attachments": {},
   "cell_type": "markdown",
   "metadata": {},
   "source": [
    "## Setup"
   ]
  },
  {
   "cell_type": "code",
   "execution_count": 1,
   "metadata": {},
   "outputs": [],
   "source": [
    "import os\n",
    "\n",
    "import pandas as pd\n",
    "import numpy as np\n",
    "import seaborn as sns\n",
    "import matplotlib.pyplot as plt\n",
    "import warnings\n",
    "from sklearn.preprocessing import MultiLabelBinarizer"
   ]
  },
  {
   "attachments": {},
   "cell_type": "markdown",
   "metadata": {},
   "source": [
    "https://curiousily.com/posts/multi-label-text-classification-with-bert-and-pytorch-lightning/\n",
    "https://www.youtube.com/watch?v=vNKIg8rXK6w&ab_channel=rupertai\n"
   ]
  },
  {
   "cell_type": "code",
   "execution_count": 2,
   "metadata": {},
   "outputs": [],
   "source": [
    "# Set paths\n",
    "path = \".\"\n",
    "os.chdir(path)\n",
    "data_path = path + \"/data\"\n",
    "output_path = path + \"/outputs\"\n",
    "fig_path = path + \"/figs\""
   ]
  },
  {
   "cell_type": "code",
   "execution_count": 3,
   "metadata": {},
   "outputs": [],
   "source": [
    "# Suppression des FutureWarnings\n",
    "warnings.simplefilter(action='ignore', category=FutureWarning)\n",
    "warnings.simplefilter(action='ignore', category=DeprecationWarning)"
   ]
  },
  {
   "attachments": {},
   "cell_type": "markdown",
   "metadata": {},
   "source": [
    "## Create Dataset"
   ]
  },
  {
   "cell_type": "code",
   "execution_count": 4,
   "metadata": {},
   "outputs": [
    {
     "name": "stdout",
     "output_type": "stream",
     "text": [
      "Original dataset:  (154447, 10)\n",
      "train dataset:  (125220, 10)\n",
      "test dataset:  (29227, 10)\n",
      "validation dataset:  (100, 10)\n"
     ]
    }
   ],
   "source": [
    "# Import data\n",
    "df = pd.read_pickle(os.path.join(data_path, 'working_data_sans_dewey.pkl'))\n",
    "print(\"Original dataset: \", df.shape)\n",
    "train_df = pd.read_csv(os.path.join(data_path, 'train_dataset.csv'))\n",
    "print(\"train dataset: \", train_df.shape)\n",
    "test_df = pd.read_csv(os.path.join(data_path, 'test_dataset.csv'))\n",
    "print(\"test dataset: \",test_df.shape)\n",
    "valid_df = pd.read_csv(os.path.join(data_path, 'valid100_dataset.csv'))\n",
    "print(\"validation dataset: \", valid_df.shape)"
   ]
  },
  {
   "cell_type": "code",
   "execution_count": 5,
   "metadata": {},
   "outputs": [
    {
     "name": "stdout",
     "output_type": "stream",
     "text": [
      "Taille du catalogue RAMEAU :  (103628, 4)\n"
     ]
    }
   ],
   "source": [
    "# Transform rameau_list_unstack variable\n",
    "rameau = pd.read_csv(os.path.join(data_path, \"rameau_Tf_Td.csv\"))\n",
    "print(\"Taille du catalogue RAMEAU : \", rameau.shape)"
   ]
  },
  {
   "cell_type": "code",
   "execution_count": 6,
   "metadata": {},
   "outputs": [
    {
     "data": {
      "text/html": [
       "<style>#sk-container-id-1 {color: black;background-color: white;}#sk-container-id-1 pre{padding: 0;}#sk-container-id-1 div.sk-toggleable {background-color: white;}#sk-container-id-1 label.sk-toggleable__label {cursor: pointer;display: block;width: 100%;margin-bottom: 0;padding: 0.3em;box-sizing: border-box;text-align: center;}#sk-container-id-1 label.sk-toggleable__label-arrow:before {content: \"▸\";float: left;margin-right: 0.25em;color: #696969;}#sk-container-id-1 label.sk-toggleable__label-arrow:hover:before {color: black;}#sk-container-id-1 div.sk-estimator:hover label.sk-toggleable__label-arrow:before {color: black;}#sk-container-id-1 div.sk-toggleable__content {max-height: 0;max-width: 0;overflow: hidden;text-align: left;background-color: #f0f8ff;}#sk-container-id-1 div.sk-toggleable__content pre {margin: 0.2em;color: black;border-radius: 0.25em;background-color: #f0f8ff;}#sk-container-id-1 input.sk-toggleable__control:checked~div.sk-toggleable__content {max-height: 200px;max-width: 100%;overflow: auto;}#sk-container-id-1 input.sk-toggleable__control:checked~label.sk-toggleable__label-arrow:before {content: \"▾\";}#sk-container-id-1 div.sk-estimator input.sk-toggleable__control:checked~label.sk-toggleable__label {background-color: #d4ebff;}#sk-container-id-1 div.sk-label input.sk-toggleable__control:checked~label.sk-toggleable__label {background-color: #d4ebff;}#sk-container-id-1 input.sk-hidden--visually {border: 0;clip: rect(1px 1px 1px 1px);clip: rect(1px, 1px, 1px, 1px);height: 1px;margin: -1px;overflow: hidden;padding: 0;position: absolute;width: 1px;}#sk-container-id-1 div.sk-estimator {font-family: monospace;background-color: #f0f8ff;border: 1px dotted black;border-radius: 0.25em;box-sizing: border-box;margin-bottom: 0.5em;}#sk-container-id-1 div.sk-estimator:hover {background-color: #d4ebff;}#sk-container-id-1 div.sk-parallel-item::after {content: \"\";width: 100%;border-bottom: 1px solid gray;flex-grow: 1;}#sk-container-id-1 div.sk-label:hover label.sk-toggleable__label {background-color: #d4ebff;}#sk-container-id-1 div.sk-serial::before {content: \"\";position: absolute;border-left: 1px solid gray;box-sizing: border-box;top: 0;bottom: 0;left: 50%;z-index: 0;}#sk-container-id-1 div.sk-serial {display: flex;flex-direction: column;align-items: center;background-color: white;padding-right: 0.2em;padding-left: 0.2em;position: relative;}#sk-container-id-1 div.sk-item {position: relative;z-index: 1;}#sk-container-id-1 div.sk-parallel {display: flex;align-items: stretch;justify-content: center;background-color: white;position: relative;}#sk-container-id-1 div.sk-item::before, #sk-container-id-1 div.sk-parallel-item::before {content: \"\";position: absolute;border-left: 1px solid gray;box-sizing: border-box;top: 0;bottom: 0;left: 50%;z-index: -1;}#sk-container-id-1 div.sk-parallel-item {display: flex;flex-direction: column;z-index: 1;position: relative;background-color: white;}#sk-container-id-1 div.sk-parallel-item:first-child::after {align-self: flex-end;width: 50%;}#sk-container-id-1 div.sk-parallel-item:last-child::after {align-self: flex-start;width: 50%;}#sk-container-id-1 div.sk-parallel-item:only-child::after {width: 0;}#sk-container-id-1 div.sk-dashed-wrapped {border: 1px dashed gray;margin: 0 0.4em 0.5em 0.4em;box-sizing: border-box;padding-bottom: 0.4em;background-color: white;}#sk-container-id-1 div.sk-label label {font-family: monospace;font-weight: bold;display: inline-block;line-height: 1.2em;}#sk-container-id-1 div.sk-label-container {text-align: center;}#sk-container-id-1 div.sk-container {/* jupyter's `normalize.less` sets `[hidden] { display: none; }` but bootstrap.min.css set `[hidden] { display: none !important; }` so we also need the `!important` here to be able to override the default hidden behavior on the sphinx rendered scikit-learn.org. See: https://github.com/scikit-learn/scikit-learn/issues/21755 */display: inline-block !important;position: relative;}#sk-container-id-1 div.sk-text-repr-fallback {display: none;}</style><div id=\"sk-container-id-1\" class=\"sk-top-container\"><div class=\"sk-text-repr-fallback\"><pre>MultiLabelBinarizer()</pre><b>In a Jupyter environment, please rerun this cell to show the HTML representation or trust the notebook. <br />On GitHub, the HTML representation is unable to render, please try loading this page with nbviewer.org.</b></div><div class=\"sk-container\" hidden><div class=\"sk-item\"><div class=\"sk-estimator sk-toggleable\"><input class=\"sk-toggleable__control sk-hidden--visually\" id=\"sk-estimator-id-1\" type=\"checkbox\" checked><label for=\"sk-estimator-id-1\" class=\"sk-toggleable__label sk-toggleable__label-arrow\">MultiLabelBinarizer</label><div class=\"sk-toggleable__content\"><pre>MultiLabelBinarizer()</pre></div></div></div></div></div>"
      ],
      "text/plain": [
       "MultiLabelBinarizer()"
      ]
     },
     "execution_count": 6,
     "metadata": {},
     "output_type": "execute_result"
    }
   ],
   "source": [
    "# Convert the categorical labels to Multi Label Encodings\n",
    "mlb = MultiLabelBinarizer()\n",
    "mlb.fit([rameau[\"NOM\"]])\n"
   ]
  },
  {
   "cell_type": "code",
   "execution_count": 7,
   "metadata": {},
   "outputs": [
    {
     "name": "stdout",
     "output_type": "stream",
     "text": [
      "There are 103021 different Rameau PPN\n"
     ]
    },
    {
     "data": {
      "text/plain": [
       "array(['!Xóõ (langue)',\n",
       "       '\"Sprach- und Sachatlas Italiens und der Südschweiz\"',\n",
       "       '\"Taalatlas van Noord- en Zuid-Nederland\"', \"'?d\", \"'?ntokyo\",\n",
       "       \"'Are'are (peuple des îles Salomon)\", \"'Au keto\",\n",
       "       \"'Au keto, Musique d'\", \"'Au ni aau\", \"'Au ni aau, Musique d'\"],\n",
       "      dtype=object)"
      ]
     },
     "execution_count": 7,
     "metadata": {},
     "output_type": "execute_result"
    }
   ],
   "source": [
    "# Verification des classes\n",
    "print(f\"There are {len(mlb.classes_)} different Rameau PPN\")\n",
    "mlb.classes_[0:10]"
   ]
  },
  {
   "cell_type": "code",
   "execution_count": 8,
   "metadata": {},
   "outputs": [
    {
     "name": "stderr",
     "output_type": "stream",
     "text": [
      "/home/aurelie/anaconda3/envs/abes_index/lib/python3.10/site-packages/sklearn/preprocessing/_label.py:895: UserWarning: unknown class(es) ['', 'La  Belle et la bête (conte)', 'La  Diagonale des Fous', 'Le  Bon Samaritain (parabole biblique)', 'Le  Déluge (épisode biblique)', 'Le  Georges Philippar (paquebot)', 'Le  Petit Chaperon rouge (conte)', 'Le  Petit Hans (psychanalyse)', 'Le  Petit Poucet (conte)', 'Le  Rochefort (yacht)', 'Le  Saint-Philippe (navire à voiles ; 1693-1715)', 'Le  Tabernacle (épisode biblique)', 'Les  Animaux en voyage (conte)', 'Les  Deux Ange (barque)', 'Les  Trois petits cochons (conte)'] will be ignored\n",
      "  warnings.warn(\n"
     ]
    },
    {
     "name": "stdout",
     "output_type": "stream",
     "text": [
      "train labels: [('Culture populaire', 'Diffusion de la culture', 'Politique culturelle'), ('Complexe de castration', 'Psychanalyse', 'Rêves'), ('Culture',), ('Science-fiction américaine', 'Traductions françaises'), ('Photographie',)]\n",
      "test labels: [('Structuralisme',), ('Mathématiques économiques', 'Théorie des jeux'), ('Crise économique (1973)',), ('Magie',), ('Linguistique', 'Linguistique mathématique', \"Manuels d'enseignement\", 'Mathématiques', 'Méthodes graphiques', 'Théorie des ensembles', 'Théorie des graphes', 'Étude et enseignement')]\n",
      "valid labels: [('Bureaucratie', 'Classes dirigeantes', 'Hauts fonctionnaires', 'Hommes politiques', 'Pouvoir (sciences sociales)', 'Pratiques politiques'), ('Dollar américain', 'Finances internationales', 'Politique monétaire'), ('Intellectuels', 'Intellectuels français'), ('Bouddhisme',), ('Histoire', 'Mathématiques', \"Psychologie de l'apprentissage\", 'Sociologie', 'Étude et enseignement')]\n"
     ]
    },
    {
     "name": "stderr",
     "output_type": "stream",
     "text": [
      "/home/aurelie/anaconda3/envs/abes_index/lib/python3.10/site-packages/sklearn/preprocessing/_label.py:895: UserWarning: unknown class(es) ['', 'La  Femme adultère (épisode biblique)', 'La  Tour de Babel (épisode biblique)', 'Le  Chat botté (conte)', 'Le  Français (goélette)', 'Le  Petit Chaperon rouge (conte)', \"Les  Disciples d'Emmaüs (épisode biblique)\", 'Les  Trois Grâces (art)'] will be ignored\n",
      "  warnings.warn(\n"
     ]
    }
   ],
   "source": [
    "# Binarize rameau concepts in train/test and valid dataset\n",
    "train_labels = mlb.transform(train_df[\"rameau_concepts\"].apply(lambda x: eval(x)))\n",
    "test_labels = mlb.transform(test_df[\"rameau_concepts\"].apply(lambda x: eval(x)))\n",
    "valid_labels = mlb.transform(valid_df[\"rameau_concepts\"].apply(lambda x: eval(x)))\n",
    "\n",
    "# Check binarization\n",
    "print(\"train labels:\", mlb.inverse_transform(train_labels[0:5]))\n",
    "print(\"test labels:\", mlb.inverse_transform(test_labels[0:5]))\n",
    "print(\"valid labels:\", mlb.inverse_transform(valid_labels[0:5]))"
   ]
  },
  {
   "cell_type": "code",
   "execution_count": 9,
   "metadata": {},
   "outputs": [],
   "source": [
    "# Create dataframe\n",
    "df_train = pd.DataFrame(train_labels, columns=mlb.classes_)\n",
    "df_test = pd.DataFrame(test_labels, columns=mlb.classes_)\n",
    "df_valid100 = pd.DataFrame(valid_labels, columns=mlb.classes_)\n"
   ]
  },
  {
   "cell_type": "code",
   "execution_count": 10,
   "metadata": {},
   "outputs": [
    {
     "name": "stdout",
     "output_type": "stream",
     "text": [
      "<class 'pandas.core.frame.DataFrame'>\n",
      "RangeIndex: 125220 entries, 0 to 125219\n",
      "Columns: 103021 entries, !Xóõ (langue) to Ṭār (tambour), Musique de\n",
      "dtypes: int64(103021)\n",
      "memory usage: 96.1 GB\n"
     ]
    }
   ],
   "source": [
    "# Check memory usage\n",
    "df_train.info()"
   ]
  },
  {
   "cell_type": "code",
   "execution_count": 11,
   "metadata": {},
   "outputs": [
    {
     "name": "stdout",
     "output_type": "stream",
     "text": [
      "<class 'pandas.core.frame.DataFrame'>\n",
      "RangeIndex: 125220 entries, 0 to 125219\n",
      "Columns: 103021 entries, !Xóõ (langue) to Ṭār (tambour), Musique de\n",
      "dtypes: Sparse[int64, 0](103021)\n",
      "memory usage: 3.8 MB\n"
     ]
    }
   ],
   "source": [
    "# Convert to sparse matrix\n",
    "sdf_train = df_train.astype(pd.SparseDtype(\"int\", 0))\n",
    "sdf_train.info()"
   ]
  },
  {
   "cell_type": "code",
   "execution_count": 12,
   "metadata": {},
   "outputs": [
    {
     "name": "stdout",
     "output_type": "stream",
     "text": [
      "train dataset : (125220, 103022)\n",
      "<class 'pandas.core.frame.DataFrame'>\n",
      "RangeIndex: 125220 entries, 0 to 125219\n",
      "Columns: 103022 entries, !Xóõ (langue) to descr\n",
      "dtypes: Sparse[int64, 0](103021), object(1)\n",
      "memory usage: 4.8+ MB\n",
      "train dataset memory usage: None\n"
     ]
    }
   ],
   "source": [
    "# Finalize matrix by adding description\n",
    "sdf_train[\"descr\"] = train_df[\"DESCR\"]\n",
    "print(\"train dataset :\", sdf_train.shape)\n",
    "print(\"train dataset memory usage:\", sdf_train.info())"
   ]
  },
  {
   "cell_type": "code",
   "execution_count": 13,
   "metadata": {},
   "outputs": [
    {
     "name": "stdout",
     "output_type": "stream",
     "text": [
      "Description:  La bataille mondiale des matières premières Dans le débat sur un nouvel ordre économique international, les marchés mondiaux des matières premières constituent un enjeu de première importance. Ils conditionnent largement les moyens de financement du développement de pays pauvres et sont un des lieux stratégiques où se joue l'indépendance des pays. L'auteur analyse d'abord les mécanismes et les acteurs des marchés libres, mettant en lumière les limites du jeu libéral de l'offre et de la demande. Son examen des divers systèmes de régulation qui ont été expérimentés l'amènent ensuite à émettre de sérieuses réserves sur l'efficacité des stocks régulateurs. De même, les accords compensatoires (type prêts du FMI) se heurtent-ils à des difficultés théoriques et concrètes de mise en place. La régulation de l'offre n'a véritablement réussi que dans le cas du pétrole. Des solutions plus radicales existent en dehors d'un fonctionnement aménagé du marché : ouverture unilatérale des frontières pour certains produits ; indexation des prix, maîtrise des circuits de transformation et commercialisation. Toutes solutions qui supposent une modification profonde des règles des échanges internationaux. [4e de couv.]\n",
      "Concepts:  {'Matières premières': 1, 'Relations économiques internationales': 1}\n"
     ]
    }
   ],
   "source": [
    "# Check access to data\n",
    "row_id = 64\n",
    "sample_row = sdf_train.iloc[row_id]\n",
    "sample_descr = sample_row.descr\n",
    "sample_labels = sample_row[mlb.classes_]\n",
    "\n",
    "print(\"Description: \", sample_descr)\n",
    "print(\"Concepts: \", sample_labels[sample_labels != 0].to_dict())"
   ]
  },
  {
   "cell_type": "code",
   "execution_count": 14,
   "metadata": {},
   "outputs": [
    {
     "name": "stdout",
     "output_type": "stream",
     "text": [
      "test dataset : (29227, 103022)\n",
      "<class 'pandas.core.frame.DataFrame'>\n",
      "RangeIndex: 29227 entries, 0 to 29226\n",
      "Columns: 103022 entries, !Xóõ (langue) to descr\n",
      "dtypes: Sparse[int64, 0](103021), object(1)\n",
      "memory usage: 1.1+ MB\n",
      "test dataset memory usage: None\n",
      "\n",
      "valid dataset : (100, 103022)\n",
      "<class 'pandas.core.frame.DataFrame'>\n",
      "RangeIndex: 100 entries, 0 to 99\n",
      "Columns: 103022 entries, !Xóõ (langue) to descr\n",
      "dtypes: Sparse[int64, 0](103021), object(1)\n",
      "memory usage: 4.1+ KB\n",
      "valid dataset memory usage: None\n"
     ]
    }
   ],
   "source": [
    "# Same process for valid and test datasets\n",
    "sdf_test = df_test.astype(pd.SparseDtype(\"int\", 0))\n",
    "sdf_test[\"descr\"] = test_df[\"DESCR\"]\n",
    "print(\"test dataset :\", sdf_test.shape)\n",
    "print(\"test dataset memory usage:\", sdf_test.info())\n",
    "\n",
    "sdf_valid100 = df_valid100.astype(pd.SparseDtype(\"int\", 0))\n",
    "sdf_valid100[\"descr\"] = valid_df[\"DESCR\"]\n",
    "print(\"\\nvalid dataset :\", sdf_valid100.shape)\n",
    "print(\"valid dataset memory usage:\", sdf_valid100.info())"
   ]
  },
  {
   "cell_type": "code",
   "execution_count": 15,
   "metadata": {},
   "outputs": [],
   "source": [
    "## Save data\n",
    "sdf_train.to_pickle(os.path.join(data_path, \"train_dataset_for_DL.pkl\"))\n",
    "sdf_test.to_pickle(os.path.join(data_path, \"test_dataset_for_DL.pkl\"))\n",
    "sdf_valid100.to_pickle(os.path.join(data_path, \"valid100_dataset_for_DL.pkl\")) "
   ]
  },
  {
   "cell_type": "code",
   "execution_count": 23,
   "metadata": {},
   "outputs": [],
   "source": [
    "## Save data (take long time : ~5min)\n",
    "sdf_train.to_csv(os.path.join(data_path, \"train_dataset_for_DL.csv\"))\n",
    "sdf_test.to_csv(os.path.join(data_path, \"test_dataset_for_DL.csv\"))\n",
    "sdf_valid100.to_csv(os.path.join(data_path, \"valid100_dataset_for_DL.csv\"))"
   ]
  },
  {
   "cell_type": "code",
   "execution_count": 16,
   "metadata": {},
   "outputs": [],
   "source": [
    "# list of labels\n",
    "pd.DataFrame(mlb.classes_, columns=[\"label\"]).to_csv(os.path.join(data_path, \"labels.txt\"), index=0)"
   ]
  }
 ],
 "metadata": {
  "kernelspec": {
   "display_name": "abes_index",
   "language": "python",
   "name": "python3"
  },
  "language_info": {
   "codemirror_mode": {
    "name": "ipython",
    "version": 3
   },
   "file_extension": ".py",
   "mimetype": "text/x-python",
   "name": "python",
   "nbconvert_exporter": "python",
   "pygments_lexer": "ipython3",
   "version": "3.10.11"
  },
  "vscode": {
   "interpreter": {
    "hash": "79d7ff32004ac4c5bc1812f118fca289ef6cc0cea24529fb05e42e57e2fccd5e"
   }
  }
 },
 "nbformat": 4,
 "nbformat_minor": 2
}
