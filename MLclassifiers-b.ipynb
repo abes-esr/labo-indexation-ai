{
 "cells": [
  {
   "cell_type": "code",
   "execution_count": 4,
   "metadata": {},
   "outputs": [],
   "source": [
    "#!/usr/bin/env python\n",
    "# coding: utf-8"
   ]
  },
  {
   "attachments": {},
   "cell_type": "markdown",
   "metadata": {},
   "source": [
    "Test Machine Learning algorithms"
   ]
  },
  {
   "cell_type": "code",
   "execution_count": 5,
   "metadata": {},
   "outputs": [
    {
     "name": "stderr",
     "output_type": "stream",
     "text": [
      "2023-05-22 20:27:28.291462: I tensorflow/core/platform/cpu_feature_guard.cc:182] This TensorFlow binary is optimized to use available CPU instructions in performance-critical operations.\n",
      "To enable the following instructions: AVX2 FMA, in other operations, rebuild TensorFlow with the appropriate compiler flags.\n",
      "2023-05-22 20:27:28.720960: W tensorflow/compiler/tf2tensorrt/utils/py_utils.cc:38] TF-TRT Warning: Could not find TensorRT\n",
      "2023-05-22 20:27:29.162812: I tensorflow/compiler/xla/stream_executor/cuda/cuda_gpu_executor.cc:996] successful NUMA node read from SysFS had negative value (-1), but there must be at least one NUMA node, so returning NUMA node zero. See more at https://github.com/torvalds/linux/blob/v6.0/Documentation/ABI/testing/sysfs-bus-pci#L344-L355\n",
      "2023-05-22 20:27:29.163131: W tensorflow/core/common_runtime/gpu/gpu_device.cc:1956] Cannot dlopen some GPU libraries. Please make sure the missing libraries mentioned above are installed properly if you would like to use GPU. Follow the guide at https://www.tensorflow.org/install/gpu for how to download and setup the required libraries for your platform.\n",
      "Skipping registering GPU devices...\n",
      "[nltk_data] Downloading package words to /home/aurelie/nltk_data...\n",
      "[nltk_data]   Package words is already up-to-date!\n",
      "[nltk_data] Downloading package stopwords to\n",
      "[nltk_data]     /home/aurelie/nltk_data...\n",
      "[nltk_data]   Package stopwords is already up-to-date!\n",
      "[nltk_data] Downloading package omw-1.4 to /home/aurelie/nltk_data...\n",
      "[nltk_data]   Package omw-1.4 is already up-to-date!\n"
     ]
    }
   ],
   "source": [
    "# Import librairies\n",
    "import os\n",
    "import re\n",
    "\n",
    "import joblib\n",
    "import matplotlib.pyplot as plt\n",
    "import numpy as np\n",
    "import pandas as pd\n",
    "import pickle\n",
    "import seaborn as sns\n",
    "import shutil\n",
    "import sys\n",
    "import warnings\n",
    "\n",
    "from nltk.classify.scikitlearn import SklearnClassifier\n",
    "from sklearn.tree import DecisionTreeClassifier\n",
    "from sklearn.ensemble import RandomForestClassifier, BaggingClassifier, GradientBoostingClassifier\n",
    "from sklearn.ensemble import GradientBoostingClassifier\n",
    "from sklearn.feature_extraction.text import TfidfVectorizer\n",
    "from sklearn.linear_model import LogisticRegression\n",
    "from sklearn.naive_bayes import MultinomialNB, GaussianNB\n",
    "from sklearn.neighbors import KNeighborsClassifier\n",
    "from sklearn.neural_network import MLPClassifier\n",
    "from sklearn.metrics import f1_score, accuracy_score, precision_score, recall_score\n",
    "from sklearn.metrics import hamming_loss, confusion_matrix, multilabel_confusion_matrix, classification_report\n",
    "from sklearn.metrics import coverage_error, label_ranking_average_precision_score, label_ranking_loss\n",
    "from sklearn.metrics import precision_recall_fscore_support as score\n",
    "from sklearn.model_selection import train_test_split, KFold, cross_val_score\n",
    "from sklearn.multiclass import OneVsRestClassifier\n",
    "from sklearn.pipeline import Pipeline,  make_pipeline\n",
    "from sklearn.preprocessing import MultiLabelBinarizer, LabelEncoder\n",
    "from sklearn.svm import LinearSVC, SVC\n",
    "\n",
    "from skmultilearn.adapt import MLkNN\n",
    "from skmultilearn.model_selection import iterative_train_test_split\n",
    "from skmultilearn.model_selection.measures import get_combination_wise_output_matrix\n",
    "from skmultilearn.problem_transform import ClassifierChain, BinaryRelevance, LabelPowerset\n",
    "\n",
    "from scipy.sparse import csr_matrix, lil_matrix\n",
    "from yellowbrick.text import FreqDistVisualizer, TSNEVisualizer\n",
    "\n",
    "from utils_text_processing import *\n",
    "from utils_visualization import *\n",
    "from utils_metrics import *"
   ]
  },
  {
   "cell_type": "code",
   "execution_count": 6,
   "metadata": {},
   "outputs": [],
   "source": [
    "# Suppression des FutureWarnings\n",
    "warnings.simplefilter(action='ignore', category=FutureWarning)\n",
    "warnings.simplefilter(action='ignore', category=DeprecationWarning)\n",
    "warnings.filterwarnings(\"ignore\")"
   ]
  },
  {
   "cell_type": "code",
   "execution_count": 7,
   "metadata": {},
   "outputs": [],
   "source": [
    "# Parametres graphiques\n",
    "%matplotlib inline\n",
    "rc = {\n",
    "    'font.size': 14,\n",
    "    'font.family': 'Arial',\n",
    "    'axes.labelsize': 14,\n",
    "    'legend.fontsize': 12,\n",
    "    'axes.titlesize': 14,\n",
    "    'xtick.labelsize': 12,\n",
    "    'ytick.labelsize': 12,\n",
    "    'figure.max_open_warning': 30}\n",
    "\n",
    "sns.set(font='Arial', rc=rc)\n",
    "sns.set_style(\n",
    "    \"whitegrid\", {\n",
    "        'axes.edgecolor': 'k',\n",
    "        'axes.linewidth': 1,\n",
    "        'axes.grid': False,\n",
    "        'xtick.major.width': 1,\n",
    "        'ytick.major.width': 1\n",
    "        })\n",
    "sns.set_context(\n",
    "    \"notebook\",\n",
    "    font_scale=1.1,\n",
    "    rc={\"lines.linewidth\": 1.5})\n",
    "pd.set_option('display.max_columns', None)"
   ]
  },
  {
   "cell_type": "code",
   "execution_count": 8,
   "metadata": {},
   "outputs": [],
   "source": [
    "# Set paths\n",
    "path = \".\"\n",
    "os.chdir(path)\n",
    "data_path = path + \"/data\"\n",
    "output_path = path + \"/outputs\"\n",
    "fig_path = path + \"/figs\""
   ]
  },
  {
   "cell_type": "code",
   "execution_count": 9,
   "metadata": {},
   "outputs": [],
   "source": [
    "# Input data\n",
    "working_data_filename = \"working_data_sans_dewey_processed.pkl\"\n"
   ]
  },
  {
   "cell_type": "code",
   "execution_count": 10,
   "metadata": {},
   "outputs": [
    {
     "name": "stdout",
     "output_type": "stream",
     "text": [
      "le Fichier de données contient 154508 lignes et  10 colonnes\n"
     ]
    }
   ],
   "source": [
    "# Import data\n",
    "df = pd.read_pickle(os.path.join(data_path, working_data_filename))\n",
    "print(f\"le Fichier de données contient {df.shape[0]} lignes et  {df.shape[1]} colonnes\")"
   ]
  },
  {
   "cell_type": "code",
   "execution_count": 11,
   "metadata": {},
   "outputs": [],
   "source": [
    "# label encoding\n",
    "def encoding(df, corpus, col_label):\n",
    "    df_encoded = df.copy()\n",
    "\n",
    "    # define X and y\n",
    "    X = df_encoded[corpus]\n",
    "    y = df_encoded[col_label]\n",
    "\n",
    "    # encode labels\n",
    "    mlb = MultiLabelBinarizer()\n",
    "    y_encoded = mlb.fit_transform(y)\n",
    "    classes = mlb.classes_\n",
    "    return X, y_encoded, classes, mlb"
   ]
  },
  {
   "cell_type": "code",
   "execution_count": 12,
   "metadata": {},
   "outputs": [
    {
     "name": "stdout",
     "output_type": "stream",
     "text": [
      "Encoding labels for trained dataset\n",
      "Labels encoded\n"
     ]
    }
   ],
   "source": [
    "# encode labels\n",
    "print(\"Encoding labels for trained dataset\")\n",
    "X, y, classes, mlb = encoding(\n",
    "    df,\n",
    "    corpus=\"DESCR_processed\",\n",
    "    col_label=\"rameau_concepts\")\n",
    "print(\"Labels encoded\")"
   ]
  },
  {
   "cell_type": "code",
   "execution_count": 13,
   "metadata": {},
   "outputs": [
    {
     "data": {
      "text/plain": [
       "array([\"'Ndrangheta\", \"'Ūd\", \"'Ūd, Musique d'\", ..., 'éthique',\n",
       "       'Čech, Cohomologie de', 'Ōmoto (secte)'], dtype=object)"
      ]
     },
     "execution_count": 13,
     "metadata": {},
     "output_type": "execute_result"
    }
   ],
   "source": [
    "classes"
   ]
  },
  {
   "attachments": {},
   "cell_type": "markdown",
   "metadata": {},
   "source": [
    "## Split dataset"
   ]
  },
  {
   "attachments": {},
   "cell_type": "markdown",
   "metadata": {},
   "source": [
    "### Get validation data"
   ]
  },
  {
   "cell_type": "code",
   "execution_count": 14,
   "metadata": {},
   "outputs": [
    {
     "data": {
      "text/html": [
       "<div>\n",
       "<style scoped>\n",
       "    .dataframe tbody tr th:only-of-type {\n",
       "        vertical-align: middle;\n",
       "    }\n",
       "\n",
       "    .dataframe tbody tr th {\n",
       "        vertical-align: top;\n",
       "    }\n",
       "\n",
       "    .dataframe thead th {\n",
       "        text-align: right;\n",
       "    }\n",
       "</style>\n",
       "<table border=\"1\" class=\"dataframe\">\n",
       "  <thead>\n",
       "    <tr style=\"text-align: right;\">\n",
       "      <th></th>\n",
       "      <th>N°ordre</th>\n",
       "      <th>PPN</th>\n",
       "      <th>TITRE</th>\n",
       "      <th>RESUME</th>\n",
       "      <th>INDEXATION UNIMARC</th>\n",
       "      <th>INDEXATION AFFICHAGE PUBLIC</th>\n",
       "    </tr>\n",
       "  </thead>\n",
       "  <tbody>\n",
       "    <tr>\n",
       "      <th>0</th>\n",
       "      <td>79</td>\n",
       "      <td>308838</td>\n",
       "      <td>Les sommets de l'État : essai sur l'élite du p...</td>\n",
       "      <td>Du XIXe siècle à nos jours, l'Etat \"fort\" à la...</td>\n",
       "      <td>NaN</td>\n",
       "      <td>NaN</td>\n",
       "    </tr>\n",
       "    <tr>\n",
       "      <th>1</th>\n",
       "      <td>58</td>\n",
       "      <td>3632806</td>\n",
       "      <td>Les intellectuels sous la Ve République : 1958...</td>\n",
       "      <td>Célèbres, influents, on les voit, on en parle ...</td>\n",
       "      <td>NaN</td>\n",
       "      <td>NaN</td>\n",
       "    </tr>\n",
       "    <tr>\n",
       "      <th>2</th>\n",
       "      <td>59</td>\n",
       "      <td>47450037</td>\n",
       "      <td>Bouddha, bouddhisme</td>\n",
       "      <td>La 4e de couv. indique : \"Ce petit livre répon...</td>\n",
       "      <td>NaN</td>\n",
       "      <td>NaN</td>\n",
       "    </tr>\n",
       "    <tr>\n",
       "      <th>3</th>\n",
       "      <td>65</td>\n",
       "      <td>58296182</td>\n",
       "      <td>L'homme devant l'incertain</td>\n",
       "      <td>La quatrième de couverture indique : \"Réintrod...</td>\n",
       "      <td>NaN</td>\n",
       "      <td>NaN</td>\n",
       "    </tr>\n",
       "    <tr>\n",
       "      <th>4</th>\n",
       "      <td>80</td>\n",
       "      <td>59911174</td>\n",
       "      <td>Imperator Caesar Augustus : recherches sur le ...</td>\n",
       "      <td>Ce dossier comporte quatre volumes qui aborden...</td>\n",
       "      <td>NaN</td>\n",
       "      <td>NaN</td>\n",
       "    </tr>\n",
       "    <tr>\n",
       "      <th>...</th>\n",
       "      <td>...</td>\n",
       "      <td>...</td>\n",
       "      <td>...</td>\n",
       "      <td>...</td>\n",
       "      <td>...</td>\n",
       "      <td>...</td>\n",
       "    </tr>\n",
       "    <tr>\n",
       "      <th>95</th>\n",
       "      <td>38</td>\n",
       "      <td>23690454X</td>\n",
       "      <td>Droit public et patrimoine : le rôle du Consei...</td>\n",
       "      <td>la 4e de couv. indique : \"L'histoire du droit ...</td>\n",
       "      <td>NaN</td>\n",
       "      <td>NaN</td>\n",
       "    </tr>\n",
       "    <tr>\n",
       "      <th>96</th>\n",
       "      <td>95</td>\n",
       "      <td>24155859X</td>\n",
       "      <td>Lars Fredrikson : [exposition Musée d'art mode...</td>\n",
       "      <td>Première grande monographie consacrée à l'œuvr...</td>\n",
       "      <td>NaN</td>\n",
       "      <td>NaN</td>\n",
       "    </tr>\n",
       "    <tr>\n",
       "      <th>97</th>\n",
       "      <td>52</td>\n",
       "      <td>25561280X</td>\n",
       "      <td>L'ère des soulèvements : émeutes et confinemen...</td>\n",
       "      <td>Dès les années 1980, Michel Maffesoli se fait ...</td>\n",
       "      <td>NaN</td>\n",
       "      <td>NaN</td>\n",
       "    </tr>\n",
       "    <tr>\n",
       "      <th>98</th>\n",
       "      <td>99</td>\n",
       "      <td>26117309X</td>\n",
       "      <td>Monde enchanté : chansons et imaginaires géogr...</td>\n",
       "      <td>Le monde est enchanté par certaines chansons. ...</td>\n",
       "      <td>NaN</td>\n",
       "      <td>NaN</td>\n",
       "    </tr>\n",
       "    <tr>\n",
       "      <th>99</th>\n",
       "      <td>46</td>\n",
       "      <td>26753177X</td>\n",
       "      <td>Algocratie : allons-nous donner le pouvoir aux...</td>\n",
       "      <td>Aujourd’hui, nos vies se retrouvent sous l’inf...</td>\n",
       "      <td>NaN</td>\n",
       "      <td>NaN</td>\n",
       "    </tr>\n",
       "  </tbody>\n",
       "</table>\n",
       "<p>100 rows × 6 columns</p>\n",
       "</div>"
      ],
      "text/plain": [
       "    N°ordre        PPN                                              TITRE  \\\n",
       "0        79     308838  Les sommets de l'État : essai sur l'élite du p...   \n",
       "1        58    3632806  Les intellectuels sous la Ve République : 1958...   \n",
       "2        59   47450037                                Bouddha, bouddhisme   \n",
       "3        65   58296182                         L'homme devant l'incertain   \n",
       "4        80   59911174  Imperator Caesar Augustus : recherches sur le ...   \n",
       "..      ...        ...                                                ...   \n",
       "95       38  23690454X  Droit public et patrimoine : le rôle du Consei...   \n",
       "96       95  24155859X  Lars Fredrikson : [exposition Musée d'art mode...   \n",
       "97       52  25561280X  L'ère des soulèvements : émeutes et confinemen...   \n",
       "98       99  26117309X  Monde enchanté : chansons et imaginaires géogr...   \n",
       "99       46  26753177X  Algocratie : allons-nous donner le pouvoir aux...   \n",
       "\n",
       "                                               RESUME INDEXATION UNIMARC  \\\n",
       "0   Du XIXe siècle à nos jours, l'Etat \"fort\" à la...                NaN   \n",
       "1   Célèbres, influents, on les voit, on en parle ...                NaN   \n",
       "2   La 4e de couv. indique : \"Ce petit livre répon...                NaN   \n",
       "3   La quatrième de couverture indique : \"Réintrod...                NaN   \n",
       "4   Ce dossier comporte quatre volumes qui aborden...                NaN   \n",
       "..                                                ...                ...   \n",
       "95  la 4e de couv. indique : \"L'histoire du droit ...                NaN   \n",
       "96  Première grande monographie consacrée à l'œuvr...                NaN   \n",
       "97  Dès les années 1980, Michel Maffesoli se fait ...                NaN   \n",
       "98  Le monde est enchanté par certaines chansons. ...                NaN   \n",
       "99  Aujourd’hui, nos vies se retrouvent sous l’inf...                NaN   \n",
       "\n",
       "   INDEXATION AFFICHAGE PUBLIC  \n",
       "0                          NaN  \n",
       "1                          NaN  \n",
       "2                          NaN  \n",
       "3                          NaN  \n",
       "4                          NaN  \n",
       "..                         ...  \n",
       "95                         NaN  \n",
       "96                         NaN  \n",
       "97                         NaN  \n",
       "98                         NaN  \n",
       "99                         NaN  \n",
       "\n",
       "[100 rows x 6 columns]"
      ]
     },
     "execution_count": 14,
     "metadata": {},
     "output_type": "execute_result"
    }
   ],
   "source": [
    "# Validation data : 100 re-indexed notices\n",
    "reindexed = pd.read_excel(os.path.join(data_path, \"reindexation/avril2023/100 NOTICES A INDEXER.xlsx\"), converters={\"PPN\": str})\n",
    "reindexed = reindexed.drop(index=reindexed[reindexed[\"PPN\"].isnull()].index)\n",
    "reindexed"
   ]
  },
  {
   "cell_type": "code",
   "execution_count": 15,
   "metadata": {},
   "outputs": [
    {
     "data": {
      "text/plain": [
       "(100, 15)"
      ]
     },
     "execution_count": 15,
     "metadata": {},
     "output_type": "execute_result"
    }
   ],
   "source": [
    "# Get subset of 100 notices\n",
    "subset = df.merge(reindexed, on=\"RESUME\", how=\"inner\")\n",
    "subset.shape"
   ]
  },
  {
   "attachments": {},
   "cell_type": "markdown",
   "metadata": {},
   "source": [
    "### Use split performed by Jean Luc Prieto"
   ]
  },
  {
   "cell_type": "code",
   "execution_count": 16,
   "metadata": {},
   "outputs": [
    {
     "name": "stdout",
     "output_type": "stream",
     "text": [
      "dimension of train set:  (125264, 1)\n",
      "dimension of test set:  (29244, 1)\n"
     ]
    }
   ],
   "source": [
    "train_set_ppn = pd.read_excel(os.path.join(data_path, \"training_data.xlsx\"), dtype=str)\n",
    "print(\"dimension of train set: \", train_set_ppn.shape)\n",
    "test_set_ppn = pd.read_excel(os.path.join(data_path, \"testing_data.xlsx\"), dtype=str)\n",
    "print(\"dimension of test set: \", test_set_ppn.shape)"
   ]
  },
  {
   "cell_type": "code",
   "execution_count": 17,
   "metadata": {},
   "outputs": [
    {
     "name": "stdout",
     "output_type": "stream",
     "text": [
      "dimension of train set:  (115853, 10)\n",
      "dimension of test set:  (27070, 10)\n"
     ]
    }
   ],
   "source": [
    "df_train = pd.merge(df, train_set_ppn, on=\"PPN\", how=\"inner\")\n",
    "print(\"dimension of train set: \", df_train.shape)\n",
    "df_test = pd.merge(df, test_set_ppn, on=\"PPN\", how=\"inner\")\n",
    "print(\"dimension of test set: \", df_test.shape)"
   ]
  },
  {
   "cell_type": "code",
   "execution_count": 18,
   "metadata": {},
   "outputs": [],
   "source": [
    "# Get X matrices\n",
    "X_train = df_train[\"DESCR_processed\"]\n",
    "X_test = df_test[\"DESCR_processed\"]\n",
    "X_val = subset[\"DESCR_processed\"]"
   ]
  },
  {
   "cell_type": "code",
   "execution_count": 19,
   "metadata": {},
   "outputs": [
    {
     "name": "stdout",
     "output_type": "stream",
     "text": [
      "Encoding labels for trained dataset\n",
      "Labels encoded (115853, 26642)\n",
      "Encoding labels for test dataset\n",
      "Labels encoded (27070, 26642)\n",
      "Encoding labels for validation dataset\n",
      "Labels encoded (100, 26642)\n"
     ]
    }
   ],
   "source": [
    "# encode labels\n",
    "print(\"Encoding labels for trained dataset\")\n",
    "y_train = mlb.transform(df_train[\"rameau_concepts\"])\n",
    "print(\"Labels encoded\", y_train.shape)\n",
    "\n",
    "print(\"Encoding labels for test dataset\")\n",
    "y_test = mlb.transform(df_test[\"rameau_concepts\"])\n",
    "print(\"Labels encoded\", y_test.shape)\n",
    "\n",
    "print(\"Encoding labels for validation dataset\")\n",
    "y_val = mlb.transform(subset[\"rameau_concepts\"])\n",
    "print(\"Labels encoded\", y_val.shape)"
   ]
  },
  {
   "cell_type": "code",
   "execution_count": 20,
   "metadata": {},
   "outputs": [
    {
     "name": "stdout",
     "output_type": "stream",
     "text": [
      "(115853,) (27070,) (100,)\n"
     ]
    }
   ],
   "source": [
    "print(X_train.shape, X_test.shape, X_val.shape)"
   ]
  },
  {
   "cell_type": "code",
   "execution_count": 21,
   "metadata": {},
   "outputs": [
    {
     "data": {
      "text/plain": [
       "0         politique réunion michel debré élire député ré...\n",
       "1         aparole électoral 4ème couv indique \" somme mo...\n",
       "2         face cachée soleil énergie solaire architectur...\n",
       "3         voie vertu tao - tê - king couverture indique ...\n",
       "4         akavak akavak an pourtant luire revenir respon...\n",
       "                                ...                        \n",
       "115848    blablabla finir bavardage climatique brouhaha ...\n",
       "115849    politique transition écologique démocratie dro...\n",
       "115850    abécédaire mot rite ailleurs dédier abécédaire...\n",
       "115851    consommer consommer mieux cahier pratique ludi...\n",
       "115852    langage perdre plante -vou goûter eau sauvage ...\n",
       "Name: DESCR_processed, Length: 115853, dtype: object"
      ]
     },
     "execution_count": 21,
     "metadata": {},
     "output_type": "execute_result"
    }
   ],
   "source": [
    "X_train"
   ]
  },
  {
   "cell_type": "code",
   "execution_count": 22,
   "metadata": {},
   "outputs": [
    {
     "name": "stdout",
     "output_type": "stream",
     "text": [
      "nombre de labels différents:  26642\n"
     ]
    },
    {
     "data": {
      "text/plain": [
       "array([\"'Ndrangheta\", \"'Ūd\", \"'Ūd, Musique d'\", ..., 'éthique',\n",
       "       'Čech, Cohomologie de', 'Ōmoto (secte)'], dtype=object)"
      ]
     },
     "execution_count": 22,
     "metadata": {},
     "output_type": "execute_result"
    }
   ],
   "source": [
    "# Check classes\n",
    "print(\"nombre de labels différents: \", len(classes))\n",
    "classes"
   ]
  },
  {
   "cell_type": "code",
   "execution_count": 23,
   "metadata": {},
   "outputs": [
    {
     "name": "stdout",
     "output_type": "stream",
     "text": [
      "Train dataset size : 115853\n",
      "Test dataset size : 27070\n",
      "Validation dataset size : 100\n"
     ]
    }
   ],
   "source": [
    "# Check size of test and train datasets\n",
    "print(f\"Train dataset size : {len(y_train)}\")\n",
    "print(f\"Test dataset size : {len(y_test)}\")\n",
    "print(f\"Validation dataset size : {len(y_val)}\")\n"
   ]
  },
  {
   "attachments": {},
   "cell_type": "markdown",
   "metadata": {},
   "source": [
    "# Check splitting balance\n",
    "from skmultilearn.model_selection.measures import get_combination_wise_output_matrix\n",
    "order = 3\n",
    "pd.DataFrame({\n",
    "    'train': Counter(\n",
    "        str(combination) for row in get_combination_wise_output_matrix(\n",
    "            y_train, order=order) for combination in row),\n",
    "    'test': Counter(\n",
    "        str(combination) for row in get_combination_wise_output_matrix(\n",
    "            y_test, order=order) for combination in row)\n",
    "}).T.fillna(0.0)"
   ]
  },
  {
   "attachments": {},
   "cell_type": "markdown",
   "metadata": {},
   "source": [
    "## Vectorize dataset (tf-idf)"
   ]
  },
  {
   "cell_type": "code",
   "execution_count": 24,
   "metadata": {},
   "outputs": [],
   "source": [
    "# Set parameters for tf-idf\n",
    "max_df = 0.95\n",
    "min_df = 2\n",
    "max_features = 500\n",
    "n_gram = (1, 3)\n",
    "regex_pattern = r'\\w{3,}'"
   ]
  },
  {
   "cell_type": "code",
   "execution_count": 25,
   "metadata": {},
   "outputs": [],
   "source": [
    "# Build vectorizer\n",
    "vectorizer = TfidfVectorizer(\n",
    "    max_df=max_df,\n",
    "    min_df=min_df,\n",
    "    max_features=max_features,\n",
    "    ngram_range=n_gram,\n",
    "    token_pattern=regex_pattern)"
   ]
  },
  {
   "cell_type": "code",
   "execution_count": 24,
   "metadata": {},
   "outputs": [],
   "source": [
    "# Vectorize corpus\n",
    "X_train_vect = vectorizer.fit_transform(X_train)\n",
    "X_test_vect = vectorizer.transform(X_test)\n",
    "features = vectorizer.get_feature_names_out()"
   ]
  },
  {
   "cell_type": "code",
   "execution_count": 25,
   "metadata": {},
   "outputs": [
    {
     "data": {
      "image/png": "[encoded data removed]",
      "text/plain": [
       "<Figure size 2000x1000 with 1 Axes>"
      ]
     },
     "metadata": {},
     "output_type": "display_data"
    },
    {
     "data": {
      "text/plain": [
       "<Axes: title={'center': 'Frequency Distribution of Top 100 tokens'}>"
      ]
     },
     "execution_count": 25,
     "metadata": {},
     "output_type": "execute_result"
    }
   ],
   "source": [
    "# Visualize Word Frequency Distribution\n",
    "plt.figure(figsize=(20, 10))\n",
    "visualizer = FreqDistVisualizer(features=features, n=100, orient=\"v\")\n",
    "visualizer.fit(X_train_vect)\n",
    "visualizer.show()"
   ]
  },
  {
   "attachments": {},
   "cell_type": "markdown",
   "metadata": {},
   "source": [
    "## Basic classification models"
   ]
  },
  {
   "cell_type": "code",
   "execution_count": 26,
   "metadata": {},
   "outputs": [],
   "source": [
    "# Save model\n",
    "def save_model_pkl(model, modelname):\n",
    "    joblib.dump(model, os.path.join(output_path, modelname))"
   ]
  },
  {
   "cell_type": "code",
   "execution_count": 27,
   "metadata": {},
   "outputs": [],
   "source": [
    "# Training of transformed classifier for multi-label purpose\n",
    "def classification_model(algo, transf=\"\"):\n",
    "    if algo == 'lr':\n",
    "        model = LogisticRegression(\n",
    "            solver='saga',\n",
    "            max_iter=500,\n",
    "            class_weight='balanced')\n",
    "        require_dense = [False, True]\n",
    "    elif algo == 'svc':\n",
    "        model = LinearSVC(\n",
    "            max_iter=500,\n",
    "            class_weight='balanced')\n",
    "        require_dense = [False, True]\n",
    "    elif algo == 'MultinomialNB':\n",
    "        model = MultinomialNB()\n",
    "        require_dense = [False, True]\n",
    "    elif algo == 'GaussianNB':\n",
    "        model = GaussianNB()\n",
    "        require_dense = [True, True]\n",
    "    elif algo == 'knn':\n",
    "        model = KNeighborsClassifier(n_neighbors=3)\n",
    "        require_dense = [False, True]\n",
    "    elif algo == 'MLkNN':\n",
    "        model = MLkNN(k=3)\n",
    "        transf = None\n",
    "    elif algo == 'rf':\n",
    "        model = RandomForestClassifier(\n",
    "            random_state=RANDOM_STATE,\n",
    "            class_weight='balanced',\n",
    "            max_depth=20,\n",
    "            n_jobs=-1)\n",
    "        require_dense = [False, True]\n",
    "    elif algo == 'tree':\n",
    "        model = DecisionTreeClassifier()\n",
    "        require_dense = [False, True]\n",
    "    elif algo == \"bagging\":\n",
    "        model = BaggingClassifier(n_jobs=-1)\n",
    "        require_dense = [False, True]\n",
    "    elif algo == \"boosting\":\n",
    "        model = GradientBoostingClassifier()\n",
    "        require_dense = [False, True]\n",
    "    else:\n",
    "        print('The algo ' + algo + ' is not defined!')\n",
    "\n",
    "    if transf == 'BR':\n",
    "        clf = BinaryRelevance(model, require_dense=require_dense)\n",
    "    elif transf == 'CC':\n",
    "        clf = ClassifierChain(model, require_dense=require_dense)\n",
    "    elif transf == 'LP':\n",
    "        clf = LabelPowerset(model, require_dense=require_dense)\n",
    "    elif transf == 'OneVsRest':\n",
    "        clf = OneVsRestClassifier(model)\n",
    "    else:\n",
    "        clf = model\n",
    "\n",
    "    return clf"
   ]
  },
  {
   "cell_type": "code",
   "execution_count": 28,
   "metadata": {},
   "outputs": [],
   "source": [
    "# Define models and transformations\n",
    "model_list = [\n",
    "    'MultinomialNB',\n",
    "    'knn', 'GaussianNB', 'tree', 'rf',\n",
    "    'bagging', 'boosting', 'MLkNN']\n",
    "transf_list = [\"LP\"]\n",
    "ModelsPerformance_test = {}\n",
    "ModelsPerformance_val = {}"
   ]
  },
  {
   "cell_type": "code",
   "execution_count": 30,
   "metadata": {},
   "outputs": [],
   "source": [
    "model_list = [\n",
    "    'tree', 'rf',\n",
    "    'bagging', 'boosting', 'MLkNN']"
   ]
  },
  {
   "cell_type": "code",
   "execution_count": 31,
   "metadata": {},
   "outputs": [
    {
     "name": "stdout",
     "output_type": "stream",
     "text": [
      "Treating model: tree adapted with LP\n"
     ]
    }
   ],
   "source": [
    "# Define pipeline\n",
    "# Run models\n",
    "for model in model_list:\n",
    "    for transf in transf_list:\n",
    "        print(f\"Treating model: {model} adapted with {transf}\")\n",
    "        model_name = str(model + \"_\" + transf)\n",
    "        clf = classification_model(\n",
    "            algo=model,\n",
    "            transf=transf)\n",
    "        X_train_vect = vectorizer.fit_transform(X_train)\n",
    "        clf.fit(X_train_vect, y_train)\n",
    "        print(\"model fitted\")\n",
    "        X_test_vect = vectorizer.transform(X_test)\n",
    "        X_val_vect = vectorizer.transform(X_val)\n",
    "        predictions_test = clf.predict(X_test_vect)\n",
    "        predictions_val = clf.predict(X_val_vect)\n",
    "        print(\"predictions done\")\n",
    "        print(\"Computing metrics on test set\")\n",
    "        ModelsPerformance_test[model_name] = label_metrics_report(model, y_test, predictions_test, zero_division=\"warn\", print_metrics=True)\n",
    "        pd.DataFrame(ModelsPerformance_test).to_csv(\"MLclassifier_results_test_set.csv\")\n",
    "        print(\"Computing metrics on validation set\")\n",
    "        ModelsPerformance_val[model_name] = label_metrics_report(model, y_val, predictions_val, zero_division=\"warn\", print_metrics=True)\n",
    "        pd.DataFrame(ModelsPerformance_val).to_csv(\"MLclassifier_results_val_set.csv\")"
   ]
  },
  {
   "cell_type": "code",
   "execution_count": null,
   "metadata": {},
   "outputs": [],
   "source": [
    "model = MultinomialNB()\n",
    "require_dense = [False, True]"
   ]
  },
  {
   "cell_type": "code",
   "execution_count": null,
   "metadata": {},
   "outputs": [],
   "source": [
    "clf = LabelPowerset(model, require_dense=require_dense)\n",
    "clf"
   ]
  },
  {
   "cell_type": "code",
   "execution_count": null,
   "metadata": {},
   "outputs": [],
   "source": [
    "clf.fit(X_train_vect, y_train)"
   ]
  },
  {
   "cell_type": "code",
   "execution_count": null,
   "metadata": {},
   "outputs": [],
   "source": [
    "clf.fit()"
   ]
  },
  {
   "cell_type": "code",
   "execution_count": null,
   "metadata": {},
   "outputs": [],
   "source": [
    "X_train_vect"
   ]
  },
  {
   "cell_type": "code",
   "execution_count": null,
   "metadata": {},
   "outputs": [],
   "source": [
    "predictions = clf.predict(X_test_vect)"
   ]
  },
  {
   "cell_type": "code",
   "execution_count": null,
   "metadata": {},
   "outputs": [],
   "source": [
    "y_test.shape"
   ]
  },
  {
   "cell_type": "code",
   "execution_count": null,
   "metadata": {},
   "outputs": [],
   "source": [
    "predictions.shape"
   ]
  },
  {
   "cell_type": "code",
   "execution_count": null,
   "metadata": {},
   "outputs": [],
   "source": [
    "ModelsPerformance[\"MultinomialNB\"] = label_metrics_report(\"MultinomialNB\", y_test, predictions, zero_division=\"warn\", print_metrics=True)\n",
    "ModelsPerformance        "
   ]
  },
  {
   "cell_type": "code",
   "execution_count": null,
   "metadata": {},
   "outputs": [],
   "source": [
    "pd.DataFrame(ModelsPerformance).to_csv(\"MLclassifier_results.csv\")"
   ]
  },
  {
   "cell_type": "code",
   "execution_count": null,
   "metadata": {},
   "outputs": [],
   "source": []
  },
  {
   "cell_type": "code",
   "execution_count": null,
   "metadata": {},
   "outputs": [],
   "source": [
    "pd.DataFrame(ModelsPerformance).to_csv(\"MLclassifier_results.csv\")"
   ]
  },
  {
   "cell_type": "code",
   "execution_count": null,
   "metadata": {},
   "outputs": [],
   "source": [
    "# Vectorization\n",
    "vectorizer = TfidfVectorizer(\n",
    "        max_df=max_df,\n",
    "        min_df=min_df,\n",
    "        max_features=max_features,\n",
    "        ngram_range=n_gram,\n",
    "        token_pattern= r'\\w{3,}')\n",
    "\n",
    "X_val_vect = vectorizer.transform(X_val)"
   ]
  },
  {
   "cell_type": "code",
   "execution_count": null,
   "metadata": {},
   "outputs": [],
   "source": [
    "# Show performances of a specific model\n",
    "model_name = \"svc_LP\"\n",
    "ModelsPerformance[model_name]"
   ]
  },
  {
   "attachments": {},
   "cell_type": "markdown",
   "metadata": {},
   "source": [
    "## Models adapted to multi-label classification"
   ]
  },
  {
   "attachments": {},
   "cell_type": "markdown",
   "metadata": {},
   "source": [
    "### MLKNN"
   ]
  },
  {
   "cell_type": "code",
   "execution_count": null,
   "metadata": {},
   "outputs": [],
   "source": [
    "# MLKNN\n",
    "model = \"MLkNN\"\n",
    "clf = classification_model(\n",
    "        X_train=X_train_vect,\n",
    "        y_train=y_train,\n",
    "        algo=model,\n",
    "        save=False)\n",
    "predictions = clf.predict(X_test_vect)\n",
    "ModelsPerformance[model] = metricsReport(model, y_test, predictions, print_metrics=True)"
   ]
  },
  {
   "attachments": {},
   "cell_type": "markdown",
   "metadata": {},
   "source": [
    "### MEKA"
   ]
  },
  {
   "cell_type": "code",
   "execution_count": null,
   "metadata": {},
   "outputs": [],
   "source": [
    "# MEKA\n",
    "from skmultilearn.ext import download_meka\n",
    "from skmultilearn.ext import Meka\n",
    "\n",
    "meka_classpath = download_meka()\n",
    "meka_classpath"
   ]
  },
  {
   "cell_type": "code",
   "execution_count": null,
   "metadata": {},
   "outputs": [],
   "source": [
    "# Model\n",
    "model = \"Meka\"\n",
    "meka = Meka(\n",
    "        meka_classifier = \"meka.classifiers.multilabel.BR\", # Binary Relevance\n",
    "        weka_classifier = \"weka.classifiers.bayes.NaiveBayesMultinomial\", # with Naive Bayes single-label classifier\n",
    "        meka_classpath = meka_classpath, #obtained via download_meka\n",
    "        java_command = '/usr/bin/java' # path to java executable\n",
    ")\n",
    "meka"
   ]
  },
  {
   "cell_type": "code",
   "execution_count": null,
   "metadata": {},
   "outputs": [],
   "source": [
    "# Fit and performance\n",
    "meka.fit(X_train, y_train)\n",
    "predictions = meka.predict(X_test)\n",
    "ModelsPerformance[model] = metricsReport(model, y_test, predictions, print_metrics=True)"
   ]
  },
  {
   "attachments": {},
   "cell_type": "markdown",
   "metadata": {},
   "source": [
    "### Multiclass Keras classifier"
   ]
  },
  {
   "cell_type": "code",
   "execution_count": null,
   "metadata": {},
   "outputs": [],
   "source": [
    "!pip install -U skorch torch"
   ]
  },
  {
   "cell_type": "code",
   "execution_count": null,
   "metadata": {},
   "outputs": [],
   "source": [
    "import torch\n",
    "from torch import nn\n",
    "import torch.nn.functional as F\n",
    "from skorch import NeuralNetClassifier"
   ]
  },
  {
   "cell_type": "code",
   "execution_count": null,
   "metadata": {},
   "outputs": [],
   "source": [
    "# Define model parameters\n",
    "model= \"neural_network\"\n",
    "nodes = 8\n",
    "input_dim = X_train.shape[1]\n",
    "hidden_dim = int(input_dim/nodes)\n",
    "output_dim = len(np.unique(y_train.rows))"
   ]
  },
  {
   "cell_type": "code",
   "execution_count": null,
   "metadata": {},
   "outputs": [],
   "source": [
    "# Create model\n",
    "class MultiClassClassifierModule(nn.Module):\n",
    "    def __init__(\n",
    "            self,\n",
    "            input_dim=input_dim,\n",
    "            hidden_dim=hidden_dim,\n",
    "            output_dim=output_dim,\n",
    "            dropout=0.5,\n",
    "    ):\n",
    "        super(MultiClassClassifierModule, self).__init__()\n",
    "        self.dropout = nn.Dropout(dropout)\n",
    "        self.hidden = nn.Linear(input_dim, hidden_dim)\n",
    "        self.output = nn.Linear(hidden_dim, output_dim)\n",
    "    def forward(self, X, **kwargs):\n",
    "        X = F.relu(self.hidden(X))\n",
    "        X = self.dropout(X)\n",
    "        X = F.softmax(self.output(X), dim=-1)\n",
    "        return X"
   ]
  },
  {
   "cell_type": "code",
   "execution_count": null,
   "metadata": {},
   "outputs": [],
   "source": [
    "net = NeuralNetClassifier(\n",
    "    MultiClassClassifierModule,\n",
    "    max_epochs=20,\n",
    "    verbose=0\n",
    ")"
   ]
  },
  {
   "cell_type": "code",
   "execution_count": null,
   "metadata": {},
   "outputs": [],
   "source": [
    "# Fit and predict\n",
    "clf = LabelPowerset(classifier=net, require_dense=[True,True])\n",
    "clf.fit(X_train.astype(np.float32),y_train)\n",
    "y_pred = clf.predict(X_test.astype(np.float32))\n",
    "ModelsPerformance[model] = metricsReport(model, y_test, y_pred, print_metrics=True)"
   ]
  },
  {
   "attachments": {},
   "cell_type": "markdown",
   "metadata": {},
   "source": [
    "# Visualize performances"
   ]
  },
  {
   "cell_type": "code",
   "execution_count": null,
   "metadata": {},
   "outputs": [],
   "source": [
    "pd.DataFrame(ModelsPerformance)"
   ]
  },
  {
   "cell_type": "code",
   "execution_count": null,
   "metadata": {},
   "outputs": [],
   "source": [
    "# Save performances\n",
    "pd.DataFrame(ModelsPerformance).to_csv(os.path.join(output_path, \"ML_metrics_13042023.csv\"), index=False)"
   ]
  },
  {
   "attachments": {},
   "cell_type": "markdown",
   "metadata": {},
   "source": [
    "## Test on subsamples for metrics understanding"
   ]
  },
  {
   "attachments": {},
   "cell_type": "markdown",
   "metadata": {},
   "source": [
    "### Test on N samples"
   ]
  },
  {
   "cell_type": "code",
   "execution_count": null,
   "metadata": {},
   "outputs": [],
   "source": [
    "# Define number of samples\n",
    "n = 20"
   ]
  },
  {
   "cell_type": "code",
   "execution_count": null,
   "metadata": {},
   "outputs": [],
   "source": [
    "# Select 20 samples\n",
    "X_test_vect_sample = X_test_vect[:n]\n",
    "y_test_sample = y_test[:n]"
   ]
  },
  {
   "cell_type": "code",
   "execution_count": null,
   "metadata": {},
   "outputs": [],
   "source": [
    "# Recreate labels (vedettes)\n",
    "y_test_labels_sample = mlb.inverse_transform(y_test_sample)\n",
    "y_test_labels_sample"
   ]
  },
  {
   "cell_type": "code",
   "execution_count": null,
   "metadata": {},
   "outputs": [],
   "source": [
    "# Run models\n",
    "ModelsPerformance = {}\n",
    "for model in model_list:\n",
    "    print(\"Treating model: \", model)\n",
    "    clf = classification_model(\n",
    "        X_train=X_train_vect,\n",
    "        y_train=y_train,\n",
    "        algo=model,\n",
    "        save=False)\n",
    "    predictions20 = clf.predict(X_test_vect_20)\n",
    "    ModelsPerformance[model] = metricsReport(model, y_test_20, predictions20, print_metrics=True)"
   ]
  },
  {
   "cell_type": "code",
   "execution_count": null,
   "metadata": {},
   "outputs": [],
   "source": [
    "# index_test\n",
    "index_test[:n].tolist()"
   ]
  },
  {
   "cell_type": "code",
   "execution_count": null,
   "metadata": {},
   "outputs": [],
   "source": [
    "# Refind raw data\n",
    "df.loc[index_test.values]"
   ]
  },
  {
   "cell_type": "code",
   "execution_count": null,
   "metadata": {},
   "outputs": [],
   "source": [
    "# Create dataframe\n",
    "pd.DataFrame([X_test[:n].values, y_test_labels_sample, labels])"
   ]
  }
 ],
 "metadata": {
  "kernelspec": {
   "display_name": "Python 3 (ipykernel)",
   "language": "python",
   "name": "python3"
  },
  "language_info": {
   "codemirror_mode": {
    "name": "ipython",
    "version": 3
   },
   "file_extension": ".py",
   "mimetype": "text/x-python",
   "name": "python",
   "nbconvert_exporter": "python",
   "pygments_lexer": "ipython3",
   "version": "3.11.2"
  }
 },
 "nbformat": 4,
 "nbformat_minor": 2
}
