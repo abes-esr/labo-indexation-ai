{
 "cells": [
  {
   "cell_type": "markdown",
   "metadata": {},
   "source": [
    "# Parsing XML file to get Dewey labels of main domains \n",
    "(https://www.theses.fr/schemas/tef/recommandation/oaiSets.xml)"
   ]
  },
  {
   "cell_type": "code",
   "execution_count": null,
   "metadata": {},
   "outputs": [],
   "source": [
    "# Importing the required libraries\n",
    "import os\n",
    "\n",
    "import pandas as pd\n",
    "import xml.etree.ElementTree as Xet"
   ]
  },
  {
   "cell_type": "code",
   "execution_count": null,
   "metadata": {},
   "outputs": [],
   "source": [
    "# Set paths\n",
    "path = \".\"\n",
    "os.chdir(path)\n",
    "data_path = path + \"/data\"\n",
    "output_path = path + \"/outputs\"\n",
    "fig_path = path + \"/figures\""
   ]
  },
  {
   "cell_type": "code",
   "execution_count": null,
   "metadata": {},
   "outputs": [],
   "source": [
    "# File\n",
    "filename = 'oaiSets.xml'\n",
    "out_filename = \"dewey_label.csv\""
   ]
  },
  {
   "cell_type": "code",
   "execution_count": null,
   "metadata": {},
   "outputs": [],
   "source": [
    "# Define output header  \n",
    "cols = [\"TEF_LABEL\", \"DDC\"]\n",
    "rows = []\n",
    "  \n",
    "# Parsing the XML file\n",
    "xmlparse = Xet.parse(os.path.join(data_path, filename))\n",
    "root = xmlparse.getroot()\n",
    "for i in root:\n",
    "    code = i.find(\"setSpec\").text.split(\":\")[1]\n",
    "    label = i.find(\"setName\").text\n",
    "  \n",
    "    rows.append({\"TEF_LABEL\": label,\n",
    "                 \"DDC\": str(code)})\n",
    "  \n",
    "df = pd.DataFrame(rows, columns=cols)\n",
    "\n",
    "# Writing dataframe to csv\n",
    "df.to_csv(os.path.join(data_path, out_filename))"
   ]
  },
  {
   "cell_type": "code",
   "execution_count": null,
   "metadata": {},
   "outputs": [],
   "source": [
    "# Check \n",
    "df"
   ]
  }
 ],
 "metadata": {
  "kernelspec": {
   "display_name": "abes_index",
   "language": "python",
   "name": "python3"
  },
  "language_info": {
   "codemirror_mode": {
    "name": "ipython",
    "version": 3
   },
   "file_extension": ".py",
   "mimetype": "text/x-python",
   "name": "python",
   "nbconvert_exporter": "python",
   "pygments_lexer": "ipython3",
   "version": "3.10.10"
  }
 },
 "nbformat": 4,
 "nbformat_minor": 2
}
