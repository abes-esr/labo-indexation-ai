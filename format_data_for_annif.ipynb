{
 "cells": [
  {
   "attachments": {},
   "cell_type": "markdown",
   "metadata": {},
   "source": [
    "# Use of ANNIF library"
   ]
  },
  {
   "attachments": {},
   "cell_type": "markdown",
   "metadata": {},
   "source": [
    "Ce notebook contient toutes les étapes de l'utilisation de la librairie annif (doc d'installation de toutes les librairies à prévoir).\n",
    "- Formatage des données pour utilisation dans ANNIF\n",
    "- Entrainement d'un modèle \n",
    "- Utilisation de pipelines pour tester plusieurs modèles\n",
    "- Recherche des meilleurs paramètres  "
   ]
  },
  {
   "attachments": {},
   "cell_type": "markdown",
   "metadata": {},
   "source": [
    "## Setup "
   ]
  },
  {
   "attachments": {},
   "cell_type": "markdown",
   "metadata": {},
   "source": [
    "### Packages"
   ]
  },
  {
   "cell_type": "code",
   "execution_count": 1,
   "metadata": {},
   "outputs": [],
   "source": [
    "# Import librairies\n",
    "import os\n",
    "import csv\n",
    "import pandas as pd"
   ]
  },
  {
   "cell_type": "code",
   "execution_count": 2,
   "metadata": {},
   "outputs": [
    {
     "data": {
      "text/plain": [
       "'/home/aurelie/ABES/labo-indexation-ai'"
      ]
     },
     "execution_count": 2,
     "metadata": {},
     "output_type": "execute_result"
    }
   ],
   "source": [
    "import os \n",
    "os.getcwd()"
   ]
  },
  {
   "attachments": {},
   "cell_type": "markdown",
   "metadata": {},
   "source": [
    "### Graphical parameters"
   ]
  },
  {
   "attachments": {},
   "cell_type": "markdown",
   "metadata": {},
   "source": [
    "### Paths"
   ]
  },
  {
   "cell_type": "code",
   "execution_count": 3,
   "metadata": {},
   "outputs": [
    {
     "name": "stdout",
     "output_type": "stream",
     "text": [
      "/bin/bash: /home/aurelie/anaconda3/lib/libtinfo.so.6: no version information available (required by /bin/bash)\n",
      "mkdir: cannot create directory ‘ANNIF’: File exists\n"
     ]
    },
    {
     "name": "stdout",
     "output_type": "stream",
     "text": [
      "/bin/bash: /home/aurelie/anaconda3/lib/libtinfo.so.6: no version information available (required by /bin/bash)\n",
      "mkdir: cannot create directory ‘ANNIF/data’: File exists\n",
      "mkdir: cannot create directory ‘ANNIF/reports’: File exists\n",
      "mkdir: cannot create directory ‘ANNIF/vocabs’: File exists\n",
      "/bin/bash: /home/aurelie/anaconda3/lib/libtinfo.so.6: no version information available (required by /bin/bash)\n",
      "mkdir: cannot create directory ‘ANNIF/data/train’: File exists\n",
      "mkdir: cannot create directory ‘ANNIF/data/test’: File exists\n"
     ]
    }
   ],
   "source": [
    "# Create folders\n",
    "! mkdir ANNIF\n",
    "! mkdir ANNIF/data ANNIF/reports ANNIF/vocabs\n",
    "! mkdir ANNIF/data/train  ANNIF/data/test"
   ]
  },
  {
   "cell_type": "code",
   "execution_count": 4,
   "metadata": {},
   "outputs": [],
   "source": [
    "# Set paths\n",
    "project_path = \"/home/aurelie/ABES/labo-indexation-ai\"\n",
    "data_path = project_path + \"/data\"\n",
    "annif_path = project_path + \"/ANNIF\"\n",
    "annif_data_path = annif_path + \"/data\"\n",
    "annif_report_path = annif_path + \"/reports\""
   ]
  },
  {
   "attachments": {},
   "cell_type": "markdown",
   "metadata": {},
   "source": [
    "### Files"
   ]
  },
  {
   "cell_type": "code",
   "execution_count": 5,
   "metadata": {},
   "outputs": [],
   "source": [
    "# Select data to use\n",
    "data = \"working_data_sans_dewey.pkl\"\n",
    "rameau_file = \"rameau_Tf_Td.csv\""
   ]
  },
  {
   "attachments": {},
   "cell_type": "markdown",
   "metadata": {},
   "source": [
    "## Create datasets"
   ]
  },
  {
   "attachments": {},
   "cell_type": "markdown",
   "metadata": {},
   "source": [
    "### Import data"
   ]
  },
  {
   "cell_type": "code",
   "execution_count": 6,
   "metadata": {},
   "outputs": [
    {
     "name": "stdout",
     "output_type": "stream",
     "text": [
      "(154447, 10)\n"
     ]
    }
   ],
   "source": [
    "# Import working data\n",
    "df = pd.read_pickle(os.path.join(data_path, data))\n",
    "print(df.shape)"
   ]
  },
  {
   "cell_type": "code",
   "execution_count": 7,
   "metadata": {},
   "outputs": [
    {
     "data": {
      "text/html": [
       "<div>\n",
       "<style scoped>\n",
       "    .dataframe tbody tr th:only-of-type {\n",
       "        vertical-align: middle;\n",
       "    }\n",
       "\n",
       "    .dataframe tbody tr th {\n",
       "        vertical-align: top;\n",
       "    }\n",
       "\n",
       "    .dataframe thead th {\n",
       "        text-align: right;\n",
       "    }\n",
       "</style>\n",
       "<table border=\"1\" class=\"dataframe\">\n",
       "  <thead>\n",
       "    <tr style=\"text-align: right;\">\n",
       "      <th></th>\n",
       "      <th>PPN</th>\n",
       "      <th>TITRE</th>\n",
       "      <th>RESUME</th>\n",
       "      <th>RAMEAU</th>\n",
       "      <th>DEWEY</th>\n",
       "      <th>DESCR</th>\n",
       "      <th>RAMEAU_CHECKED</th>\n",
       "      <th>presence_chaine_indexation</th>\n",
       "      <th>rameau_chaines_index</th>\n",
       "      <th>rameau_concepts</th>\n",
       "    </tr>\n",
       "  </thead>\n",
       "  <tbody>\n",
       "    <tr>\n",
       "      <th>0</th>\n",
       "      <td>000002364</td>\n",
       "      <td>La culture pour vivre</td>\n",
       "      <td>Mort de la culture populaire en France. Mutati...</td>\n",
       "      <td>Culture populaire;Diffusion de la culture;Poli...</td>\n",
       "      <td>840</td>\n",
       "      <td>La culture pour vivre Mort de la culture popul...</td>\n",
       "      <td>Culture populaire;Diffusion de la culture;Poli...</td>\n",
       "      <td>False</td>\n",
       "      <td>[Culture populaire, Diffusion de la culture, P...</td>\n",
       "      <td>[Culture populaire, Diffusion de la culture, P...</td>\n",
       "    </tr>\n",
       "    <tr>\n",
       "      <th>1</th>\n",
       "      <td>000014877</td>\n",
       "      <td>La nuit, le jour : essai psychanalytique sur l...</td>\n",
       "      <td>Discontinuité, latence, rétablissement d’une c...</td>\n",
       "      <td>Complexe de castration;Psychanalyse;Rêves</td>\n",
       "      <td>154.63</td>\n",
       "      <td>La nuit, le jour : essai psychanalytique sur l...</td>\n",
       "      <td>Complexe de castration;Psychanalyse;Rêves</td>\n",
       "      <td>False</td>\n",
       "      <td>[Complexe de castration, Psychanalyse, Rêves]</td>\n",
       "      <td>[Complexe de castration, Psychanalyse, Rêves]</td>\n",
       "    </tr>\n",
       "    <tr>\n",
       "      <th>2</th>\n",
       "      <td>000021857</td>\n",
       "      <td>Ruptures, cultures</td>\n",
       "      <td>Il faut imaginer Robinson sur son île, au mome...</td>\n",
       "      <td>Culture</td>\n",
       "      <td>840</td>\n",
       "      <td>Ruptures, cultures Il faut imaginer Robinson s...</td>\n",
       "      <td>Culture</td>\n",
       "      <td>False</td>\n",
       "      <td>[Culture]</td>\n",
       "      <td>[Culture]</td>\n",
       "    </tr>\n",
       "    <tr>\n",
       "      <th>3</th>\n",
       "      <td>00002564X</td>\n",
       "      <td>La révolution structurale</td>\n",
       "      <td>Mutations ou crises, les brusques accès de fiè...</td>\n",
       "      <td>Structuralisme</td>\n",
       "      <td>100</td>\n",
       "      <td>La révolution structurale Mutations ou crises,...</td>\n",
       "      <td>Structuralisme</td>\n",
       "      <td>False</td>\n",
       "      <td>[Structuralisme]</td>\n",
       "      <td>[Structuralisme]</td>\n",
       "    </tr>\n",
       "    <tr>\n",
       "      <th>4</th>\n",
       "      <td>000026352</td>\n",
       "      <td>La Destruction du temple</td>\n",
       "      <td>Oswald tire sur Kennedy. Jusque-là, c'est bon,...</td>\n",
       "      <td>Science-fiction américaine -- Traductions fran...</td>\n",
       "      <td>830</td>\n",
       "      <td>La Destruction du temple Oswald tire sur Kenne...</td>\n",
       "      <td>Science-fiction américaine -- Traductions fran...</td>\n",
       "      <td>True</td>\n",
       "      <td>[Science-fiction américaine -- Traductions fra...</td>\n",
       "      <td>[Science-fiction américaine, Traductions franç...</td>\n",
       "    </tr>\n",
       "  </tbody>\n",
       "</table>\n",
       "</div>"
      ],
      "text/plain": [
       "         PPN                                              TITRE   \n",
       "0  000002364                              La culture pour vivre  \\\n",
       "1  000014877  La nuit, le jour : essai psychanalytique sur l...   \n",
       "2  000021857                                 Ruptures, cultures   \n",
       "3  00002564X                          La révolution structurale   \n",
       "4  000026352                           La Destruction du temple   \n",
       "\n",
       "                                              RESUME   \n",
       "0  Mort de la culture populaire en France. Mutati...  \\\n",
       "1  Discontinuité, latence, rétablissement d’une c...   \n",
       "2  Il faut imaginer Robinson sur son île, au mome...   \n",
       "3  Mutations ou crises, les brusques accès de fiè...   \n",
       "4  Oswald tire sur Kennedy. Jusque-là, c'est bon,...   \n",
       "\n",
       "                                              RAMEAU   DEWEY   \n",
       "0  Culture populaire;Diffusion de la culture;Poli...     840  \\\n",
       "1          Complexe de castration;Psychanalyse;Rêves  154.63   \n",
       "2                                            Culture     840   \n",
       "3                                     Structuralisme     100   \n",
       "4  Science-fiction américaine -- Traductions fran...     830   \n",
       "\n",
       "                                               DESCR   \n",
       "0  La culture pour vivre Mort de la culture popul...  \\\n",
       "1  La nuit, le jour : essai psychanalytique sur l...   \n",
       "2  Ruptures, cultures Il faut imaginer Robinson s...   \n",
       "3  La révolution structurale Mutations ou crises,...   \n",
       "4  La Destruction du temple Oswald tire sur Kenne...   \n",
       "\n",
       "                                      RAMEAU_CHECKED   \n",
       "0  Culture populaire;Diffusion de la culture;Poli...  \\\n",
       "1          Complexe de castration;Psychanalyse;Rêves   \n",
       "2                                            Culture   \n",
       "3                                     Structuralisme   \n",
       "4  Science-fiction américaine -- Traductions fran...   \n",
       "\n",
       "   presence_chaine_indexation   \n",
       "0                       False  \\\n",
       "1                       False   \n",
       "2                       False   \n",
       "3                       False   \n",
       "4                        True   \n",
       "\n",
       "                                rameau_chaines_index   \n",
       "0  [Culture populaire, Diffusion de la culture, P...  \\\n",
       "1      [Complexe de castration, Psychanalyse, Rêves]   \n",
       "2                                          [Culture]   \n",
       "3                                   [Structuralisme]   \n",
       "4  [Science-fiction américaine -- Traductions fra...   \n",
       "\n",
       "                                     rameau_concepts  \n",
       "0  [Culture populaire, Diffusion de la culture, P...  \n",
       "1      [Complexe de castration, Psychanalyse, Rêves]  \n",
       "2                                          [Culture]  \n",
       "3                                   [Structuralisme]  \n",
       "4  [Science-fiction américaine, Traductions franç...  "
      ]
     },
     "execution_count": 7,
     "metadata": {},
     "output_type": "execute_result"
    }
   ],
   "source": [
    "df.head(5)"
   ]
  },
  {
   "cell_type": "code",
   "execution_count": 8,
   "metadata": {},
   "outputs": [
    {
     "name": "stdout",
     "output_type": "stream",
     "text": [
      "(103628, 3)\n"
     ]
    },
    {
     "data": {
      "text/html": [
       "<div>\n",
       "<style scoped>\n",
       "    .dataframe tbody tr th:only-of-type {\n",
       "        vertical-align: middle;\n",
       "    }\n",
       "\n",
       "    .dataframe tbody tr th {\n",
       "        vertical-align: top;\n",
       "    }\n",
       "\n",
       "    .dataframe thead th {\n",
       "        text-align: right;\n",
       "    }\n",
       "</style>\n",
       "<table border=\"1\" class=\"dataframe\">\n",
       "  <thead>\n",
       "    <tr style=\"text-align: right;\">\n",
       "      <th></th>\n",
       "      <th>PPN</th>\n",
       "      <th>NOM</th>\n",
       "      <th>URI</th>\n",
       "    </tr>\n",
       "  </thead>\n",
       "  <tbody>\n",
       "    <tr>\n",
       "      <th>0</th>\n",
       "      <td>157992527</td>\n",
       "      <td>Kirp?n</td>\n",
       "      <td>https://www.idref.fr/157992527</td>\n",
       "    </tr>\n",
       "    <tr>\n",
       "      <th>1</th>\n",
       "      <td>110140494</td>\n",
       "      <td>Militaires artistes</td>\n",
       "      <td>https://www.idref.fr/110140494</td>\n",
       "    </tr>\n",
       "    <tr>\n",
       "      <th>2</th>\n",
       "      <td>028492161</td>\n",
       "      <td>Militaires romains</td>\n",
       "      <td>https://www.idref.fr/028492161</td>\n",
       "    </tr>\n",
       "    <tr>\n",
       "      <th>3</th>\n",
       "      <td>028521757</td>\n",
       "      <td>Militaires prussiens</td>\n",
       "      <td>https://www.idref.fr/028521757</td>\n",
       "    </tr>\n",
       "    <tr>\n",
       "      <th>4</th>\n",
       "      <td>029895561</td>\n",
       "      <td>Sa-skya-pa</td>\n",
       "      <td>https://www.idref.fr/029895561</td>\n",
       "    </tr>\n",
       "    <tr>\n",
       "      <th>5</th>\n",
       "      <td>031875459</td>\n",
       "      <td>Militaires réunionnais</td>\n",
       "      <td>https://www.idref.fr/031875459</td>\n",
       "    </tr>\n",
       "    <tr>\n",
       "      <th>6</th>\n",
       "      <td>032370083</td>\n",
       "      <td>Construction à l'épreuve de la sécheresse</td>\n",
       "      <td>https://www.idref.fr/032370083</td>\n",
       "    </tr>\n",
       "    <tr>\n",
       "      <th>7</th>\n",
       "      <td>032878117</td>\n",
       "      <td>Missionnaires suisses</td>\n",
       "      <td>https://www.idref.fr/032878117</td>\n",
       "    </tr>\n",
       "    <tr>\n",
       "      <th>8</th>\n",
       "      <td>034423982</td>\n",
       "      <td>Militaires ivoiriens</td>\n",
       "      <td>https://www.idref.fr/034423982</td>\n",
       "    </tr>\n",
       "    <tr>\n",
       "      <th>9</th>\n",
       "      <td>034686940</td>\n",
       "      <td>Outils à métaux</td>\n",
       "      <td>https://www.idref.fr/034686940</td>\n",
       "    </tr>\n",
       "    <tr>\n",
       "      <th>10</th>\n",
       "      <td>034789081</td>\n",
       "      <td>Militaires maghrébins</td>\n",
       "      <td>https://www.idref.fr/034789081</td>\n",
       "    </tr>\n",
       "    <tr>\n",
       "      <th>11</th>\n",
       "      <td>034826483</td>\n",
       "      <td>Militaires japonais</td>\n",
       "      <td>https://www.idref.fr/034826483</td>\n",
       "    </tr>\n",
       "    <tr>\n",
       "      <th>12</th>\n",
       "      <td>034948813</td>\n",
       "      <td>Outils pour le travail du cuir</td>\n",
       "      <td>https://www.idref.fr/034948813</td>\n",
       "    </tr>\n",
       "    <tr>\n",
       "      <th>13</th>\n",
       "      <td>035446404</td>\n",
       "      <td>Militaires albanais</td>\n",
       "      <td>https://www.idref.fr/035446404</td>\n",
       "    </tr>\n",
       "    <tr>\n",
       "      <th>14</th>\n",
       "      <td>035752939</td>\n",
       "      <td>Militaires israéliens</td>\n",
       "      <td>https://www.idref.fr/035752939</td>\n",
       "    </tr>\n",
       "    <tr>\n",
       "      <th>15</th>\n",
       "      <td>195692845</td>\n",
       "      <td>École de Madrid (philosophie)</td>\n",
       "      <td>https://www.idref.fr/195692845</td>\n",
       "    </tr>\n",
       "    <tr>\n",
       "      <th>16</th>\n",
       "      <td>20377101X</td>\n",
       "      <td>Scientifiques suisses</td>\n",
       "      <td>https://www.idref.fr/20377101X</td>\n",
       "    </tr>\n",
       "    <tr>\n",
       "      <th>17</th>\n",
       "      <td>203771044</td>\n",
       "      <td>Diretmidae</td>\n",
       "      <td>https://www.idref.fr/203771044</td>\n",
       "    </tr>\n",
       "    <tr>\n",
       "      <th>18</th>\n",
       "      <td>203771060</td>\n",
       "      <td>Diretmichthys</td>\n",
       "      <td>https://www.idref.fr/203771060</td>\n",
       "    </tr>\n",
       "    <tr>\n",
       "      <th>19</th>\n",
       "      <td>203771370</td>\n",
       "      <td>Opsanus beta</td>\n",
       "      <td>https://www.idref.fr/203771370</td>\n",
       "    </tr>\n",
       "  </tbody>\n",
       "</table>\n",
       "</div>"
      ],
      "text/plain": [
       "          PPN                                        NOM   \n",
       "0   157992527                                     Kirp?n  \\\n",
       "1   110140494                        Militaires artistes   \n",
       "2   028492161                         Militaires romains   \n",
       "3   028521757                       Militaires prussiens   \n",
       "4   029895561                                 Sa-skya-pa   \n",
       "5   031875459                     Militaires réunionnais   \n",
       "6   032370083  Construction à l'épreuve de la sécheresse   \n",
       "7   032878117                      Missionnaires suisses   \n",
       "8   034423982                       Militaires ivoiriens   \n",
       "9   034686940                            Outils à métaux   \n",
       "10  034789081                      Militaires maghrébins   \n",
       "11  034826483                        Militaires japonais   \n",
       "12  034948813             Outils pour le travail du cuir   \n",
       "13  035446404                        Militaires albanais   \n",
       "14  035752939                      Militaires israéliens   \n",
       "15  195692845              École de Madrid (philosophie)   \n",
       "16  20377101X                      Scientifiques suisses   \n",
       "17  203771044                                 Diretmidae   \n",
       "18  203771060                              Diretmichthys   \n",
       "19  203771370                               Opsanus beta   \n",
       "\n",
       "                               URI  \n",
       "0   https://www.idref.fr/157992527  \n",
       "1   https://www.idref.fr/110140494  \n",
       "2   https://www.idref.fr/028492161  \n",
       "3   https://www.idref.fr/028521757  \n",
       "4   https://www.idref.fr/029895561  \n",
       "5   https://www.idref.fr/031875459  \n",
       "6   https://www.idref.fr/032370083  \n",
       "7   https://www.idref.fr/032878117  \n",
       "8   https://www.idref.fr/034423982  \n",
       "9   https://www.idref.fr/034686940  \n",
       "10  https://www.idref.fr/034789081  \n",
       "11  https://www.idref.fr/034826483  \n",
       "12  https://www.idref.fr/034948813  \n",
       "13  https://www.idref.fr/035446404  \n",
       "14  https://www.idref.fr/035752939  \n",
       "15  https://www.idref.fr/195692845  \n",
       "16  https://www.idref.fr/20377101X  \n",
       "17  https://www.idref.fr/203771044  \n",
       "18  https://www.idref.fr/203771060  \n",
       "19  https://www.idref.fr/203771370  "
      ]
     },
     "execution_count": 8,
     "metadata": {},
     "output_type": "execute_result"
    }
   ],
   "source": [
    "# Import file of RAMEAU concepts\n",
    "rameau = pd.read_csv(os.path.join(data_path, rameau_file), index_col=0)\n",
    "print(rameau.shape)\n",
    "rameau.head(20)"
   ]
  },
  {
   "attachments": {},
   "cell_type": "markdown",
   "metadata": {},
   "source": [
    "### Create vocabulary files"
   ]
  },
  {
   "cell_type": "code",
   "execution_count": 9,
   "metadata": {},
   "outputs": [],
   "source": [
    "# Create dictionnary of URI\n",
    "label2uri = {k:v for k,v in zip(rameau[\"NOM\"], rameau[\"URI\"].astype(str))}"
   ]
  },
  {
   "cell_type": "code",
   "execution_count": 10,
   "metadata": {},
   "outputs": [
    {
     "data": {
      "text/plain": [
       "'https://www.idref.fr/136992536'"
      ]
     },
     "execution_count": 10,
     "metadata": {},
     "output_type": "execute_result"
    }
   ],
   "source": [
    "label2uri[\"Le Petit Chaperon rouge (conte)\"]"
   ]
  },
  {
   "cell_type": "markdown",
   "metadata": {},
   "source": [
    "#### Concepts vocabulary file"
   ]
  },
  {
   "cell_type": "code",
   "execution_count": 11,
   "metadata": {},
   "outputs": [
    {
     "data": {
      "text/html": [
       "<div>\n",
       "<style scoped>\n",
       "    .dataframe tbody tr th:only-of-type {\n",
       "        vertical-align: middle;\n",
       "    }\n",
       "\n",
       "    .dataframe tbody tr th {\n",
       "        vertical-align: top;\n",
       "    }\n",
       "\n",
       "    .dataframe thead th {\n",
       "        text-align: right;\n",
       "    }\n",
       "</style>\n",
       "<table border=\"1\" class=\"dataframe\">\n",
       "  <thead>\n",
       "    <tr style=\"text-align: right;\">\n",
       "      <th></th>\n",
       "      <th>label_fr</th>\n",
       "      <th>uri</th>\n",
       "    </tr>\n",
       "  </thead>\n",
       "  <tbody>\n",
       "    <tr>\n",
       "      <th>0</th>\n",
       "      <td>Kirp?n</td>\n",
       "      <td>https://www.idref.fr/157992527</td>\n",
       "    </tr>\n",
       "    <tr>\n",
       "      <th>1</th>\n",
       "      <td>Militaires artistes</td>\n",
       "      <td>https://www.idref.fr/110140494</td>\n",
       "    </tr>\n",
       "    <tr>\n",
       "      <th>2</th>\n",
       "      <td>Militaires romains</td>\n",
       "      <td>https://www.idref.fr/028492161</td>\n",
       "    </tr>\n",
       "    <tr>\n",
       "      <th>3</th>\n",
       "      <td>Militaires prussiens</td>\n",
       "      <td>https://www.idref.fr/028521757</td>\n",
       "    </tr>\n",
       "    <tr>\n",
       "      <th>4</th>\n",
       "      <td>Sa-skya-pa</td>\n",
       "      <td>https://www.idref.fr/029895561</td>\n",
       "    </tr>\n",
       "    <tr>\n",
       "      <th>5</th>\n",
       "      <td>Militaires réunionnais</td>\n",
       "      <td>https://www.idref.fr/031875459</td>\n",
       "    </tr>\n",
       "    <tr>\n",
       "      <th>6</th>\n",
       "      <td>Construction à l'épreuve de la sécheresse</td>\n",
       "      <td>https://www.idref.fr/032370083</td>\n",
       "    </tr>\n",
       "    <tr>\n",
       "      <th>7</th>\n",
       "      <td>Missionnaires suisses</td>\n",
       "      <td>https://www.idref.fr/032878117</td>\n",
       "    </tr>\n",
       "    <tr>\n",
       "      <th>8</th>\n",
       "      <td>Militaires ivoiriens</td>\n",
       "      <td>https://www.idref.fr/034423982</td>\n",
       "    </tr>\n",
       "    <tr>\n",
       "      <th>9</th>\n",
       "      <td>Outils à métaux</td>\n",
       "      <td>https://www.idref.fr/034686940</td>\n",
       "    </tr>\n",
       "  </tbody>\n",
       "</table>\n",
       "</div>"
      ],
      "text/plain": [
       "                                    label_fr                             uri\n",
       "0                                     Kirp?n  https://www.idref.fr/157992527\n",
       "1                        Militaires artistes  https://www.idref.fr/110140494\n",
       "2                         Militaires romains  https://www.idref.fr/028492161\n",
       "3                       Militaires prussiens  https://www.idref.fr/028521757\n",
       "4                                 Sa-skya-pa  https://www.idref.fr/029895561\n",
       "5                     Militaires réunionnais  https://www.idref.fr/031875459\n",
       "6  Construction à l'épreuve de la sécheresse  https://www.idref.fr/032370083\n",
       "7                      Missionnaires suisses  https://www.idref.fr/032878117\n",
       "8                       Militaires ivoiriens  https://www.idref.fr/034423982\n",
       "9                            Outils à métaux  https://www.idref.fr/034686940"
      ]
     },
     "execution_count": 11,
     "metadata": {},
     "output_type": "execute_result"
    }
   ],
   "source": [
    "# Create vocabulary file from concepts\n",
    "vocab_filename = os.path.join(annif_data_path,'subjects.csv')\n",
    "vocab = pd.DataFrame(rameau[[\"NOM\", \"URI\"]])\n",
    "vocab.columns = [\"label_fr\", \"uri\"]\n",
    "vocab.to_csv(vocab_filename, encoding='utf-8', index=None)\n",
    "vocab.head(10)"
   ]
  },
  {
   "cell_type": "code",
   "execution_count": 12,
   "metadata": {},
   "outputs": [
    {
     "name": "stdout",
     "output_type": "stream",
     "text": [
      "/bin/bash: /home/aurelie/anaconda3/lib/libtinfo.so.6: no version information available (required by /bin/bash)\n",
      "label_fr,uri\n",
      "Kirp?n,https://www.idref.fr/157992527\n",
      "Militaires artistes,https://www.idref.fr/110140494\n",
      "Militaires romains,https://www.idref.fr/028492161\n",
      "Militaires prussiens,https://www.idref.fr/028521757\n",
      "Sa-skya-pa,https://www.idref.fr/029895561\n",
      "Militaires réunionnais,https://www.idref.fr/031875459\n",
      "Construction à l'épreuve de la sécheresse,https://www.idref.fr/032370083\n",
      "Missionnaires suisses,https://www.idref.fr/032878117\n",
      "Militaires ivoiriens,https://www.idref.fr/034423982\n"
     ]
    }
   ],
   "source": [
    "# Check import with bash:\n",
    "! head {vocab_filename}"
   ]
  },
  {
   "cell_type": "code",
   "execution_count": 13,
   "metadata": {},
   "outputs": [
    {
     "name": "stdout",
     "output_type": "stream",
     "text": [
      "/bin/bash: /home/aurelie/anaconda3/lib/libtinfo.so.6: no version information available (required by /bin/bash)\n",
      "103629\n"
     ]
    }
   ],
   "source": [
    "# Check number of concepts in the vocabulary file:\n",
    "! wc -l < {vocab_filename}"
   ]
  },
  {
   "cell_type": "markdown",
   "metadata": {},
   "source": [
    "#### Chains vocabulary file"
   ]
  },
  {
   "cell_type": "code",
   "execution_count": 14,
   "metadata": {},
   "outputs": [],
   "source": [
    "# Create URIS\n",
    "def create_vocabulary_from_chains(chains, label2uri):\n",
    "    chain_df = pd.DataFrame()\n",
    "    for label in chains:\n",
    "        i = 0\n",
    "        if ' -- ' in label:\n",
    "            chain_df.loc[i, \"label_fr\"] = label\n",
    "            items = label.split(\" -- \")\n",
    "            chained_uri = []\n",
    "            for item in items:\n",
    "                chained_uri.append(label2uri[item])\n",
    "            chain_df.loc[i, \"uri\"] = \"#--\".join(chained_uri)\n",
    "            i += 1 \n",
    "            \n",
    "    return chain_df"
   ]
  },
  {
   "cell_type": "code",
   "execution_count": 15,
   "metadata": {},
   "outputs": [
    {
     "name": "stdout",
     "output_type": "stream",
     "text": [
      "dimension of train set:  (125220, 10)\n"
     ]
    }
   ],
   "source": [
    "# Append vocabulary with indexation chains in training set (quite long to run ~ 5min)\n",
    "vocab_chain = vocab.copy()\n",
    "df_train = pd.read_csv(os.path.join(data_path, \"train_dataset.csv\"))\n",
    "print(\"dimension of train set: \", df_train.shape)\n",
    "for indexation in df_train[\"rameau_chaines_index\"]:\n",
    "    new_uri_chain = create_vocabulary_from_chains(eval(indexation), label2uri)\n",
    "    vocab_chain = pd.concat([vocab_chain, new_uri_chain])"
   ]
  },
  {
   "cell_type": "code",
   "execution_count": 16,
   "metadata": {},
   "outputs": [
    {
     "name": "stdout",
     "output_type": "stream",
     "text": [
      "Vocabulary with indexation chains : (151048, 2)\n"
     ]
    },
    {
     "data": {
      "text/html": [
       "<div>\n",
       "<style scoped>\n",
       "    .dataframe tbody tr th:only-of-type {\n",
       "        vertical-align: middle;\n",
       "    }\n",
       "\n",
       "    .dataframe tbody tr th {\n",
       "        vertical-align: top;\n",
       "    }\n",
       "\n",
       "    .dataframe thead th {\n",
       "        text-align: right;\n",
       "    }\n",
       "</style>\n",
       "<table border=\"1\" class=\"dataframe\">\n",
       "  <thead>\n",
       "    <tr style=\"text-align: right;\">\n",
       "      <th></th>\n",
       "      <th>label_fr</th>\n",
       "      <th>uri</th>\n",
       "    </tr>\n",
       "  </thead>\n",
       "  <tbody>\n",
       "    <tr>\n",
       "      <th>0</th>\n",
       "      <td>Population -- Statistiques -- Vingtième siècle</td>\n",
       "      <td>https://www.idref.fr/027546071#--http://www.id...</td>\n",
       "    </tr>\n",
       "    <tr>\n",
       "      <th>0</th>\n",
       "      <td>Esclavage -- Dans l'art</td>\n",
       "      <td>https://www.idref.fr/027224295#--https://www.i...</td>\n",
       "    </tr>\n",
       "    <tr>\n",
       "      <th>0</th>\n",
       "      <td>Physique -- Dans l'art</td>\n",
       "      <td>https://www.idref.fr/027247015#--https://www.i...</td>\n",
       "    </tr>\n",
       "    <tr>\n",
       "      <th>0</th>\n",
       "      <td>Violences sexuelles -- Prévention</td>\n",
       "      <td>https://www.idref.fr/027343758#--https://www.i...</td>\n",
       "    </tr>\n",
       "    <tr>\n",
       "      <th>0</th>\n",
       "      <td>Transition écologique -- Finances</td>\n",
       "      <td>https://www.idref.fr/189110813#--https://www.i...</td>\n",
       "    </tr>\n",
       "  </tbody>\n",
       "</table>\n",
       "</div>"
      ],
      "text/plain": [
       "                                         label_fr   \n",
       "0  Population -- Statistiques -- Vingtième siècle  \\\n",
       "0                         Esclavage -- Dans l'art   \n",
       "0                          Physique -- Dans l'art   \n",
       "0               Violences sexuelles -- Prévention   \n",
       "0               Transition écologique -- Finances   \n",
       "\n",
       "                                                 uri  \n",
       "0  https://www.idref.fr/027546071#--http://www.id...  \n",
       "0  https://www.idref.fr/027224295#--https://www.i...  \n",
       "0  https://www.idref.fr/027247015#--https://www.i...  \n",
       "0  https://www.idref.fr/027343758#--https://www.i...  \n",
       "0  https://www.idref.fr/189110813#--https://www.i...  "
      ]
     },
     "execution_count": 16,
     "metadata": {},
     "output_type": "execute_result"
    }
   ],
   "source": [
    "# Check\n",
    "print(\"Vocabulary with indexation chains :\", vocab_chain.shape)\n",
    "vocab_chain.tail()"
   ]
  },
  {
   "cell_type": "code",
   "execution_count": 18,
   "metadata": {},
   "outputs": [
    {
     "data": {
      "text/html": [
       "<div>\n",
       "<style scoped>\n",
       "    .dataframe tbody tr th:only-of-type {\n",
       "        vertical-align: middle;\n",
       "    }\n",
       "\n",
       "    .dataframe tbody tr th {\n",
       "        vertical-align: top;\n",
       "    }\n",
       "\n",
       "    .dataframe thead th {\n",
       "        text-align: right;\n",
       "    }\n",
       "</style>\n",
       "<table border=\"1\" class=\"dataframe\">\n",
       "  <thead>\n",
       "    <tr style=\"text-align: right;\">\n",
       "      <th></th>\n",
       "      <th>label_fr</th>\n",
       "      <th>uri</th>\n",
       "    </tr>\n",
       "  </thead>\n",
       "  <tbody>\n",
       "    <tr>\n",
       "      <th>0</th>\n",
       "      <td>Kirp?n</td>\n",
       "      <td>https://www.idref.fr/157992527</td>\n",
       "    </tr>\n",
       "    <tr>\n",
       "      <th>1</th>\n",
       "      <td>Militaires artistes</td>\n",
       "      <td>https://www.idref.fr/110140494</td>\n",
       "    </tr>\n",
       "    <tr>\n",
       "      <th>2</th>\n",
       "      <td>Militaires romains</td>\n",
       "      <td>https://www.idref.fr/028492161</td>\n",
       "    </tr>\n",
       "    <tr>\n",
       "      <th>3</th>\n",
       "      <td>Militaires prussiens</td>\n",
       "      <td>https://www.idref.fr/028521757</td>\n",
       "    </tr>\n",
       "    <tr>\n",
       "      <th>4</th>\n",
       "      <td>Sa-skya-pa</td>\n",
       "      <td>https://www.idref.fr/029895561</td>\n",
       "    </tr>\n",
       "  </tbody>\n",
       "</table>\n",
       "</div>"
      ],
      "text/plain": [
       "               label_fr                             uri\n",
       "0                Kirp?n  https://www.idref.fr/157992527\n",
       "1   Militaires artistes  https://www.idref.fr/110140494\n",
       "2    Militaires romains  https://www.idref.fr/028492161\n",
       "3  Militaires prussiens  https://www.idref.fr/028521757\n",
       "4            Sa-skya-pa  https://www.idref.fr/029895561"
      ]
     },
     "execution_count": 18,
     "metadata": {},
     "output_type": "execute_result"
    }
   ],
   "source": [
    "# Save vocabulary file including indexaton chains\n",
    "vocab_filename_chain = os.path.join(annif_data_path,'chain-subjects.csv')\n",
    "vocab_chain.to_csv(vocab_filename_chain, encoding='utf-8', index=None)\n",
    "vocab_chain.head()"
   ]
  },
  {
   "cell_type": "code",
   "execution_count": 19,
   "metadata": {},
   "outputs": [
    {
     "data": {
      "text/html": [
       "<div>\n",
       "<style scoped>\n",
       "    .dataframe tbody tr th:only-of-type {\n",
       "        vertical-align: middle;\n",
       "    }\n",
       "\n",
       "    .dataframe tbody tr th {\n",
       "        vertical-align: top;\n",
       "    }\n",
       "\n",
       "    .dataframe thead th {\n",
       "        text-align: right;\n",
       "    }\n",
       "</style>\n",
       "<table border=\"1\" class=\"dataframe\">\n",
       "  <thead>\n",
       "    <tr style=\"text-align: right;\">\n",
       "      <th></th>\n",
       "      <th>label_fr</th>\n",
       "      <th>uri</th>\n",
       "    </tr>\n",
       "  </thead>\n",
       "  <tbody>\n",
       "    <tr>\n",
       "      <th>0</th>\n",
       "      <td>Population -- Statistiques -- Vingtième siècle</td>\n",
       "      <td>https://www.idref.fr/027546071#--http://www.id...</td>\n",
       "    </tr>\n",
       "    <tr>\n",
       "      <th>0</th>\n",
       "      <td>Esclavage -- Dans l'art</td>\n",
       "      <td>https://www.idref.fr/027224295#--https://www.i...</td>\n",
       "    </tr>\n",
       "    <tr>\n",
       "      <th>0</th>\n",
       "      <td>Physique -- Dans l'art</td>\n",
       "      <td>https://www.idref.fr/027247015#--https://www.i...</td>\n",
       "    </tr>\n",
       "    <tr>\n",
       "      <th>0</th>\n",
       "      <td>Violences sexuelles -- Prévention</td>\n",
       "      <td>https://www.idref.fr/027343758#--https://www.i...</td>\n",
       "    </tr>\n",
       "    <tr>\n",
       "      <th>0</th>\n",
       "      <td>Transition écologique -- Finances</td>\n",
       "      <td>https://www.idref.fr/189110813#--https://www.i...</td>\n",
       "    </tr>\n",
       "  </tbody>\n",
       "</table>\n",
       "</div>"
      ],
      "text/plain": [
       "                                         label_fr   \n",
       "0  Population -- Statistiques -- Vingtième siècle  \\\n",
       "0                         Esclavage -- Dans l'art   \n",
       "0                          Physique -- Dans l'art   \n",
       "0               Violences sexuelles -- Prévention   \n",
       "0               Transition écologique -- Finances   \n",
       "\n",
       "                                                 uri  \n",
       "0  https://www.idref.fr/027546071#--http://www.id...  \n",
       "0  https://www.idref.fr/027224295#--https://www.i...  \n",
       "0  https://www.idref.fr/027247015#--https://www.i...  \n",
       "0  https://www.idref.fr/027343758#--https://www.i...  \n",
       "0  https://www.idref.fr/189110813#--https://www.i...  "
      ]
     },
     "execution_count": 19,
     "metadata": {},
     "output_type": "execute_result"
    }
   ],
   "source": [
    "vocab_chain.tail()"
   ]
  },
  {
   "cell_type": "code",
   "execution_count": 20,
   "metadata": {},
   "outputs": [],
   "source": [
    "# Create dictionnary of URI\n",
    "chains2uri = {k:v for k,v in zip(vocab_chain[\"label_fr\"], vocab_chain[\"uri\"])}"
   ]
  },
  {
   "cell_type": "code",
   "execution_count": 21,
   "metadata": {},
   "outputs": [
    {
     "data": {
      "text/plain": [
       "'https://www.idref.fr/189110813#--https://www.idref.fr/027606511'"
      ]
     },
     "execution_count": 21,
     "metadata": {},
     "output_type": "execute_result"
    }
   ],
   "source": [
    "chains2uri['Transition écologique -- Finances']"
   ]
  },
  {
   "attachments": {},
   "cell_type": "markdown",
   "metadata": {},
   "source": [
    "### Datasets for training and evaluation"
   ]
  },
  {
   "attachments": {},
   "cell_type": "markdown",
   "metadata": {},
   "source": [
    "#### Import train and test sets (using split performed by Jean Luc Prieto)"
   ]
  },
  {
   "cell_type": "code",
   "execution_count": null,
   "metadata": {},
   "outputs": [
    {
     "name": "stdout",
     "output_type": "stream",
     "text": [
      "dimension of train set:  (125220, 10)\n",
      "dimension of test set:  (29227, 10)\n",
      "dimension of test set:  (100, 10)\n"
     ]
    }
   ],
   "source": [
    "df_train = pd.read_pickle(os.path.join(data_path, \"train_dataset.pkl\"))\n",
    "print(\"dimension of train set: \", df_train.shape)\n",
    "df_test = pd.read_pickle(os.path.join(data_path, \"test_dataset.pkl\"))\n",
    "print(\"dimension of test set: \", df_test.shape)\n",
    "df_valid100 = pd.read_pickle(os.path.join(data_path, \"valid100_dataset.pkl\"))\n",
    "print(\"dimension of test set: \", df_valid100.shape)"
   ]
  },
  {
   "attachments": {},
   "cell_type": "markdown",
   "metadata": {},
   "source": [
    "#### Create TSV files (short-text-document)\n",
    "see: https://github.com/NatLibFi/Annif/wiki/Document-corpus-formats#short-text-document-corpus-tsv-file"
   ]
  },
  {
   "cell_type": "markdown",
   "metadata": {},
   "source": [
    "#### For Concepts"
   ]
  },
  {
   "cell_type": "code",
   "execution_count": 27,
   "metadata": {},
   "outputs": [],
   "source": [
    "# Format URIS for ANNIF\n",
    "def format_for_annif(labels):\n",
    "    uris = []\n",
    "    for label in labels:\n",
    "        if label in label2uri.keys():\n",
    "            uris.append(label2uri[label])\n",
    "    uris_formated = \" \".join(uris)\n",
    "    return uris_formated"
   ]
  },
  {
   "cell_type": "code",
   "execution_count": 32,
   "metadata": {},
   "outputs": [
    {
     "data": {
      "text/html": [
       "<div>\n",
       "<style scoped>\n",
       "    .dataframe tbody tr th:only-of-type {\n",
       "        vertical-align: middle;\n",
       "    }\n",
       "\n",
       "    .dataframe tbody tr th {\n",
       "        vertical-align: top;\n",
       "    }\n",
       "\n",
       "    .dataframe thead th {\n",
       "        text-align: right;\n",
       "    }\n",
       "</style>\n",
       "<table border=\"1\" class=\"dataframe\">\n",
       "  <thead>\n",
       "    <tr style=\"text-align: right;\">\n",
       "      <th></th>\n",
       "      <th>DESCR_cleaned</th>\n",
       "      <th>rameau_concept_formatted_for_annif</th>\n",
       "    </tr>\n",
       "  </thead>\n",
       "  <tbody>\n",
       "    <tr>\n",
       "      <th>0</th>\n",
       "      <td>La culture pour vivre Mort de la culture popul...</td>\n",
       "      <td>https://www.idref.fr/027348237 https://www.idr...</td>\n",
       "    </tr>\n",
       "    <tr>\n",
       "      <th>1</th>\n",
       "      <td>La nuit, le jour : essai psychanalytique sur l...</td>\n",
       "      <td>https://www.idref.fr/027823393 https://www.idr...</td>\n",
       "    </tr>\n",
       "    <tr>\n",
       "      <th>2</th>\n",
       "      <td>Ruptures, cultures Il faut imaginer Robinson s...</td>\n",
       "      <td>https://www.idref.fr/027231429</td>\n",
       "    </tr>\n",
       "    <tr>\n",
       "      <th>3</th>\n",
       "      <td>La Destruction du temple Oswald tire sur Kenne...</td>\n",
       "      <td>http://www.idref.fr/028242955 https://www.idre...</td>\n",
       "    </tr>\n",
       "    <tr>\n",
       "      <th>4</th>\n",
       "      <td>Mon père Jové, pèlerin de l'image Naturalisé f...</td>\n",
       "      <td>http://www.idref.fr/028224248</td>\n",
       "    </tr>\n",
       "  </tbody>\n",
       "</table>\n",
       "</div>"
      ],
      "text/plain": [
       "                                       DESCR_cleaned   \n",
       "0  La culture pour vivre Mort de la culture popul...  \\\n",
       "1  La nuit, le jour : essai psychanalytique sur l...   \n",
       "2  Ruptures, cultures Il faut imaginer Robinson s...   \n",
       "3  La Destruction du temple Oswald tire sur Kenne...   \n",
       "4  Mon père Jové, pèlerin de l'image Naturalisé f...   \n",
       "\n",
       "                  rameau_concept_formatted_for_annif  \n",
       "0  https://www.idref.fr/027348237 https://www.idr...  \n",
       "1  https://www.idref.fr/027823393 https://www.idr...  \n",
       "2                     https://www.idref.fr/027231429  \n",
       "3  http://www.idref.fr/028242955 https://www.idre...  \n",
       "4                      http://www.idref.fr/028224248  "
      ]
     },
     "execution_count": 32,
     "metadata": {},
     "output_type": "execute_result"
    }
   ],
   "source": [
    "# Apply on train data\n",
    "df_train[\"rameau_concept_formatted_for_annif\"] = df_train[\"rameau_concepts\"].apply(lambda x: format_for_annif(x))\n",
    "df_train[\"DESCR_cleaned\"] = df_train[\"DESCR\"].apply(lambda x: \" \".join(x.split()))\n",
    "df_train[[\"DESCR_cleaned\", \"rameau_concept_formatted_for_annif\"]].head()"
   ]
  },
  {
   "cell_type": "code",
   "execution_count": 33,
   "metadata": {},
   "outputs": [],
   "source": [
    "# Save TSV file for ANNIF\n",
    "with open(os.path.join(annif_data_path, \"rameau-train.tsv\"), 'w', encoding='utf-8') as output_train_file:\n",
    "        for index, row in df_train.iterrows():\n",
    "                print(row['DESCR_cleaned'] + '\\t' + row['rameau_concept_formatted_for_annif'], file=output_train_file)\n"
   ]
  },
  {
   "cell_type": "code",
   "execution_count": 34,
   "metadata": {},
   "outputs": [
    {
     "name": "stdout",
     "output_type": "stream",
     "text": [
      "/bin/bash: /home/aurelie/anaconda3/lib/libtinfo.so.6: no version information available (required by /bin/bash)\n",
      "Une politique pour La Réunion Michel Debré a été élu député de la Réunion en avril 1963, en 1967, en 1968 et en 1973. Ce dernier a pris une part considérable dans une étape essentielle de l'évolution réunionnaise qui est celle de la réalisation effective de la départementalisation entraînant un développement et un progrès considérable dans tous les domaines. Cet ouvrage a pour objectif de déterminer les grandes orientations économiques et sociales de l'île.\thttps://www.idref.fr/027274292 https://www.idref.fr/027479358\n",
      "L'Aparole électorale La 4ème de couv. indique : \" Sommes-nous la moitié du ciel ou voulons-nous la moitié du gâteau ?… Les élections étaient finies depuis peu en Italie. Elles laissaient derrière elles une déception sensible […], un déchaînement de polémiques acerbes et amères… une fois encore, les femmes étaient mises en accusation… Il ne s’agit pas d’un livre dont le propos aurait été de représenter dans son ensemble la réalité féministe nationale ou encore le débat complet relancé pour les élections dans tous les collectifs féministes […] toutes les camarades appelées à y participer devaient s’efforcer de raconter une histoire politique en choisissant les temps, les modes et les chronologies qu’elles préféraient.\"\thttps://www.idref.fr/027225763\n"
     ]
    }
   ],
   "source": [
    "# Check import with bash: \n",
    "! head -n 2 /home/aurelie/ABES/Annif-tutorial/data-sets/rameau/rameau-train.tsv"
   ]
  },
  {
   "cell_type": "code",
   "execution_count": 35,
   "metadata": {},
   "outputs": [
    {
     "data": {
      "text/html": [
       "<div>\n",
       "<style scoped>\n",
       "    .dataframe tbody tr th:only-of-type {\n",
       "        vertical-align: middle;\n",
       "    }\n",
       "\n",
       "    .dataframe tbody tr th {\n",
       "        vertical-align: top;\n",
       "    }\n",
       "\n",
       "    .dataframe thead th {\n",
       "        text-align: right;\n",
       "    }\n",
       "</style>\n",
       "<table border=\"1\" class=\"dataframe\">\n",
       "  <thead>\n",
       "    <tr style=\"text-align: right;\">\n",
       "      <th></th>\n",
       "      <th>DESCR_cleaned</th>\n",
       "      <th>rameau_concept_formatted_for_annif</th>\n",
       "    </tr>\n",
       "  </thead>\n",
       "  <tbody>\n",
       "    <tr>\n",
       "      <th>0</th>\n",
       "      <td>La révolution structurale Mutations ou crises,...</td>\n",
       "      <td>https://www.idref.fr/027249581</td>\n",
       "    </tr>\n",
       "    <tr>\n",
       "      <th>1</th>\n",
       "      <td>La théorie des jeux et ses applications à l'éc...</td>\n",
       "      <td>https://www.idref.fr/02733743X https://www.idr...</td>\n",
       "    </tr>\n",
       "    <tr>\n",
       "      <th>2</th>\n",
       "      <td>Pétrole : le vrai dossier Que dissimulent les ...</td>\n",
       "      <td>https://www.idref.fr/027428958</td>\n",
       "    </tr>\n",
       "    <tr>\n",
       "      <th>3</th>\n",
       "      <td>Magie : aspects de la tradition occidentale La...</td>\n",
       "      <td>https://www.idref.fr/027238210</td>\n",
       "    </tr>\n",
       "    <tr>\n",
       "      <th>4</th>\n",
       "      <td>Mathématiques de base pour les linguistes La f...</td>\n",
       "      <td>https://www.idref.fr/027236005 https://www.idr...</td>\n",
       "    </tr>\n",
       "  </tbody>\n",
       "</table>\n",
       "</div>"
      ],
      "text/plain": [
       "                                       DESCR_cleaned   \n",
       "0  La révolution structurale Mutations ou crises,...  \\\n",
       "1  La théorie des jeux et ses applications à l'éc...   \n",
       "2  Pétrole : le vrai dossier Que dissimulent les ...   \n",
       "3  Magie : aspects de la tradition occidentale La...   \n",
       "4  Mathématiques de base pour les linguistes La f...   \n",
       "\n",
       "                  rameau_concept_formatted_for_annif  \n",
       "0                     https://www.idref.fr/027249581  \n",
       "1  https://www.idref.fr/02733743X https://www.idr...  \n",
       "2                     https://www.idref.fr/027428958  \n",
       "3                     https://www.idref.fr/027238210  \n",
       "4  https://www.idref.fr/027236005 https://www.idr...  "
      ]
     },
     "execution_count": 35,
     "metadata": {},
     "output_type": "execute_result"
    }
   ],
   "source": [
    "# Apply on test dataset\n",
    "df_test[\"rameau_concept_formatted_for_annif\"] = df_test[\"rameau_concepts\"].apply(lambda x: format_for_annif(x))\n",
    "df_test[\"DESCR_cleaned\"] = df_test[\"DESCR\"].apply(lambda x: \" \".join(x.split()))\n",
    "df_test[[\"DESCR_cleaned\", \"rameau_concept_formatted_for_annif\"]].head()"
   ]
  },
  {
   "cell_type": "code",
   "execution_count": 49,
   "metadata": {},
   "outputs": [],
   "source": [
    "# Save TSV file for ANNIF\n",
    "with open(os.path.join(annif_data_path, \"rameau-test.tsv\"), 'w', encoding='utf-8') as output_test_file:\n",
    "        for index, row in df_test.iterrows():\n",
    "                print(row['DESCR_cleaned'] + '\\t' + row['rameau_concept_formatted_for_annif'], file=output_test_file)"
   ]
  },
  {
   "cell_type": "code",
   "execution_count": 36,
   "metadata": {},
   "outputs": [],
   "source": [
    "# Apply on validation dataset\n",
    "df_valid100[\"rameau_concept_formatted_for_annif\"] = df_valid100[\"rameau_concepts\"].apply(lambda x: format_for_annif(x))\n",
    "df_valid100[\"DESCR_cleaned\"] = df_valid100[\"DESCR\"].apply(lambda x: \" \".join(x.split()))\n",
    "df_valid100[[\"DESCR_cleaned\", \"rameau_concept_formatted_for_annif\"]].head()\n",
    "\n",
    "with open(os.path.join(annif_data_path, \"rameau-valid.tsv\"), 'w', encoding='utf-8') as output_test_file:\n",
    "        for index, row in df_valid100.iterrows():\n",
    "                print(row['DESCR_cleaned'] + '\\t' + row['rameau_concept_formatted_for_annif'], file=output_test_file)"
   ]
  },
  {
   "cell_type": "markdown",
   "metadata": {},
   "source": [
    "#### For chains"
   ]
  },
  {
   "cell_type": "code",
   "execution_count": 37,
   "metadata": {},
   "outputs": [],
   "source": [
    "# Create URIS\n",
    "def format_chains_for_annif(labels):\n",
    "    uris = []\n",
    "    for label in labels:\n",
    "        if label in chains2uri.keys():\n",
    "            uris.append(chains2uri[label])\n",
    "    uris_formated = \" \".join(uris)\n",
    "    return uris_formated"
   ]
  },
  {
   "cell_type": "code",
   "execution_count": 38,
   "metadata": {},
   "outputs": [
    {
     "data": {
      "text/html": [
       "<div>\n",
       "<style scoped>\n",
       "    .dataframe tbody tr th:only-of-type {\n",
       "        vertical-align: middle;\n",
       "    }\n",
       "\n",
       "    .dataframe tbody tr th {\n",
       "        vertical-align: top;\n",
       "    }\n",
       "\n",
       "    .dataframe thead th {\n",
       "        text-align: right;\n",
       "    }\n",
       "</style>\n",
       "<table border=\"1\" class=\"dataframe\">\n",
       "  <thead>\n",
       "    <tr style=\"text-align: right;\">\n",
       "      <th></th>\n",
       "      <th>DESCR_cleaned</th>\n",
       "      <th>rameau_chains_formatted_for_annif</th>\n",
       "    </tr>\n",
       "  </thead>\n",
       "  <tbody>\n",
       "    <tr>\n",
       "      <th>0</th>\n",
       "      <td>La culture pour vivre Mort de la culture popul...</td>\n",
       "      <td>https://www.idref.fr/027348237 https://www.idr...</td>\n",
       "    </tr>\n",
       "    <tr>\n",
       "      <th>1</th>\n",
       "      <td>La nuit, le jour : essai psychanalytique sur l...</td>\n",
       "      <td>https://www.idref.fr/027823393 https://www.idr...</td>\n",
       "    </tr>\n",
       "    <tr>\n",
       "      <th>2</th>\n",
       "      <td>Ruptures, cultures Il faut imaginer Robinson s...</td>\n",
       "      <td>https://www.idref.fr/027231429</td>\n",
       "    </tr>\n",
       "    <tr>\n",
       "      <th>3</th>\n",
       "      <td>La Destruction du temple Oswald tire sur Kenne...</td>\n",
       "      <td>http://www.idref.fr/028242955#--https://www.id...</td>\n",
       "    </tr>\n",
       "    <tr>\n",
       "      <th>4</th>\n",
       "      <td>Mon père Jové, pèlerin de l'image Naturalisé f...</td>\n",
       "      <td>http://www.idref.fr/028224248</td>\n",
       "    </tr>\n",
       "  </tbody>\n",
       "</table>\n",
       "</div>"
      ],
      "text/plain": [
       "                                       DESCR_cleaned   \n",
       "0  La culture pour vivre Mort de la culture popul...  \\\n",
       "1  La nuit, le jour : essai psychanalytique sur l...   \n",
       "2  Ruptures, cultures Il faut imaginer Robinson s...   \n",
       "3  La Destruction du temple Oswald tire sur Kenne...   \n",
       "4  Mon père Jové, pèlerin de l'image Naturalisé f...   \n",
       "\n",
       "                   rameau_chains_formatted_for_annif  \n",
       "0  https://www.idref.fr/027348237 https://www.idr...  \n",
       "1  https://www.idref.fr/027823393 https://www.idr...  \n",
       "2                     https://www.idref.fr/027231429  \n",
       "3  http://www.idref.fr/028242955#--https://www.id...  \n",
       "4                      http://www.idref.fr/028224248  "
      ]
     },
     "execution_count": 38,
     "metadata": {},
     "output_type": "execute_result"
    }
   ],
   "source": [
    "# Create indexation chains\n",
    "df_train[\"rameau_chains_formatted_for_annif\"] = df_train[\"rameau_chaines_index\"].apply(lambda x: format_chains_for_annif(x))\n",
    "df_train[[\"DESCR_cleaned\", \"rameau_chains_formatted_for_annif\"]].head()"
   ]
  },
  {
   "cell_type": "code",
   "execution_count": 39,
   "metadata": {},
   "outputs": [
    {
     "data": {
      "text/html": [
       "<div>\n",
       "<style scoped>\n",
       "    .dataframe tbody tr th:only-of-type {\n",
       "        vertical-align: middle;\n",
       "    }\n",
       "\n",
       "    .dataframe tbody tr th {\n",
       "        vertical-align: top;\n",
       "    }\n",
       "\n",
       "    .dataframe thead th {\n",
       "        text-align: right;\n",
       "    }\n",
       "</style>\n",
       "<table border=\"1\" class=\"dataframe\">\n",
       "  <thead>\n",
       "    <tr style=\"text-align: right;\">\n",
       "      <th></th>\n",
       "      <th>DESCR_cleaned</th>\n",
       "      <th>rameau_chains_formatted_for_annif</th>\n",
       "    </tr>\n",
       "  </thead>\n",
       "  <tbody>\n",
       "    <tr>\n",
       "      <th>0</th>\n",
       "      <td>La révolution structurale Mutations ou crises,...</td>\n",
       "      <td>https://www.idref.fr/027249581</td>\n",
       "    </tr>\n",
       "    <tr>\n",
       "      <th>1</th>\n",
       "      <td>La théorie des jeux et ses applications à l'éc...</td>\n",
       "      <td>https://www.idref.fr/02733743X https://www.idr...</td>\n",
       "    </tr>\n",
       "    <tr>\n",
       "      <th>2</th>\n",
       "      <td>Pétrole : le vrai dossier Que dissimulent les ...</td>\n",
       "      <td>https://www.idref.fr/027428958</td>\n",
       "    </tr>\n",
       "    <tr>\n",
       "      <th>3</th>\n",
       "      <td>Magie : aspects de la tradition occidentale La...</td>\n",
       "      <td>https://www.idref.fr/027238210</td>\n",
       "    </tr>\n",
       "    <tr>\n",
       "      <th>4</th>\n",
       "      <td>Mathématiques de base pour les linguistes La f...</td>\n",
       "      <td>https://www.idref.fr/027236641 https://www.idr...</td>\n",
       "    </tr>\n",
       "  </tbody>\n",
       "</table>\n",
       "</div>"
      ],
      "text/plain": [
       "                                       DESCR_cleaned   \n",
       "0  La révolution structurale Mutations ou crises,...  \\\n",
       "1  La théorie des jeux et ses applications à l'éc...   \n",
       "2  Pétrole : le vrai dossier Que dissimulent les ...   \n",
       "3  Magie : aspects de la tradition occidentale La...   \n",
       "4  Mathématiques de base pour les linguistes La f...   \n",
       "\n",
       "                   rameau_chains_formatted_for_annif  \n",
       "0                     https://www.idref.fr/027249581  \n",
       "1  https://www.idref.fr/02733743X https://www.idr...  \n",
       "2                     https://www.idref.fr/027428958  \n",
       "3                     https://www.idref.fr/027238210  \n",
       "4  https://www.idref.fr/027236641 https://www.idr...  "
      ]
     },
     "execution_count": 39,
     "metadata": {},
     "output_type": "execute_result"
    }
   ],
   "source": [
    "df_test[\"rameau_chains_formatted_for_annif\"] = df_test[\"rameau_chaines_index\"].apply(lambda x: format_chains_for_annif(x))\n",
    "df_test[[\"DESCR_cleaned\", \"rameau_chains_formatted_for_annif\"]].head()"
   ]
  },
  {
   "cell_type": "code",
   "execution_count": 40,
   "metadata": {},
   "outputs": [
    {
     "data": {
      "text/html": [
       "<div>\n",
       "<style scoped>\n",
       "    .dataframe tbody tr th:only-of-type {\n",
       "        vertical-align: middle;\n",
       "    }\n",
       "\n",
       "    .dataframe tbody tr th {\n",
       "        vertical-align: top;\n",
       "    }\n",
       "\n",
       "    .dataframe thead th {\n",
       "        text-align: right;\n",
       "    }\n",
       "</style>\n",
       "<table border=\"1\" class=\"dataframe\">\n",
       "  <thead>\n",
       "    <tr style=\"text-align: right;\">\n",
       "      <th></th>\n",
       "      <th>DESCR_cleaned</th>\n",
       "      <th>rameau_chains_formatted_for_annif</th>\n",
       "    </tr>\n",
       "  </thead>\n",
       "  <tbody>\n",
       "    <tr>\n",
       "      <th>0</th>\n",
       "      <td>Les sommets de l'État : essai sur l'élite du p...</td>\n",
       "      <td>https://www.idref.fr/027229629 https://www.idr...</td>\n",
       "    </tr>\n",
       "    <tr>\n",
       "      <th>1</th>\n",
       "      <td>Le dollar La quatrième de couverture indique :...</td>\n",
       "      <td>https://www.idref.fr/027882691 https://www.idr...</td>\n",
       "    </tr>\n",
       "    <tr>\n",
       "      <th>2</th>\n",
       "      <td>Les intellectuels sous la Ve République : 1958...</td>\n",
       "      <td>https://www.idref.fr/027235149 https://www.idr...</td>\n",
       "    </tr>\n",
       "    <tr>\n",
       "      <th>3</th>\n",
       "      <td>Bouddha, bouddhisme La 4e de couv. indique : \"...</td>\n",
       "      <td>https://www.idref.fr/027321835</td>\n",
       "    </tr>\n",
       "    <tr>\n",
       "      <th>4</th>\n",
       "      <td>Apprendre à aimer les mathématiques : conditio...</td>\n",
       "      <td>https://www.idref.fr/02723875X#--https://www.i...</td>\n",
       "    </tr>\n",
       "  </tbody>\n",
       "</table>\n",
       "</div>"
      ],
      "text/plain": [
       "                                       DESCR_cleaned   \n",
       "0  Les sommets de l'État : essai sur l'élite du p...  \\\n",
       "1  Le dollar La quatrième de couverture indique :...   \n",
       "2  Les intellectuels sous la Ve République : 1958...   \n",
       "3  Bouddha, bouddhisme La 4e de couv. indique : \"...   \n",
       "4  Apprendre à aimer les mathématiques : conditio...   \n",
       "\n",
       "                   rameau_chains_formatted_for_annif  \n",
       "0  https://www.idref.fr/027229629 https://www.idr...  \n",
       "1  https://www.idref.fr/027882691 https://www.idr...  \n",
       "2  https://www.idref.fr/027235149 https://www.idr...  \n",
       "3                     https://www.idref.fr/027321835  \n",
       "4  https://www.idref.fr/02723875X#--https://www.i...  "
      ]
     },
     "execution_count": 40,
     "metadata": {},
     "output_type": "execute_result"
    }
   ],
   "source": [
    "df_valid100[\"rameau_chains_formatted_for_annif\"] = df_valid100[\"rameau_chaines_index\"].apply(lambda x: format_chains_for_annif(x))\n",
    "df_valid100[[\"DESCR_cleaned\", \"rameau_chains_formatted_for_annif\"]].head()"
   ]
  },
  {
   "cell_type": "code",
   "execution_count": 41,
   "metadata": {},
   "outputs": [],
   "source": [
    "# save dataframes\n",
    "with open(os.path.join(annif_data_path, \"rameau-chains-train.tsv\"), 'w', encoding='utf-8') as output_test_file:\n",
    "        for index, row in df_train.iterrows():\n",
    "                print(row['DESCR_cleaned'] + '\\t' + row['rameau_chains_formatted_for_annif'], file=output_test_file)\n",
    "\n",
    "with open(os.path.join(annif_data_path, \"rameau-chains-test.tsv\"), 'w', encoding='utf-8') as output_test_file:\n",
    "        for index, row in df_test.iterrows():\n",
    "                print(row['DESCR_cleaned'] + '\\t' + row['rameau_chains_formatted_for_annif'], file=output_test_file)\n",
    "\n",
    "with open(os.path.join(annif_data_path, \"rameau-chains-valid.tsv\"), 'w', encoding='utf-8') as output_test_file:\n",
    "        for index, row in df_valid100.iterrows():\n",
    "                print(row['DESCR_cleaned'] + '\\t' + row['rameau_chains_formatted_for_annif'], file=output_test_file)\n"
   ]
  },
  {
   "cell_type": "code",
   "execution_count": 47,
   "metadata": {},
   "outputs": [
    {
     "name": "stdout",
     "output_type": "stream",
     "text": [
      "/bin/bash: /home/aurelie/anaconda3/lib/libtinfo.so.6: no version information available (required by /bin/bash)\n",
      "La culture pour vivre Mort de la culture populaire en France. Mutation des institutions culturelles grâce à une technique de mise en relation des oeuvres et d'un public, et qui tend à créer un comportement culturel adapté aux caractéristiques de l'époque\thttps://www.idref.fr/027348237 https://www.idref.fr/027224929 https://www.idref.fr/027416593\n",
      "La nuit, le jour : essai psychanalytique sur le fonctionnement mental Discontinuité, latence, rétablissement d’une continuité organisent la vie psychique. Réparatrice est dite la nuit... Les auteurs ont voulu montrer la complexité sous-jacente à cette qualité dès lors que Freud met au jour dans l’étude du rêve, au-delà d’une certaine réalisation de désir inconscient lié à l’histoire individuelle d’un sujet donné, l’existence de « veinures » qui résultent de la préhistoire de tous les humains et qui, imprimant la matière où s’inscrit le rêve, obligent celui-ci à organiser l’hallucination du désir en fonction de leur immuabilité. Les pensées latentes où s’origine de jour la vie onirique surgissent sur fond de manque à percevoir où se réédite quotidiennement le message verbal de castration. C’est pourquoi les pensées latentes et l’hallucination du désir auraient plus tendance à se conserver qu’à se décharger. La poussée vers la décharge apte à rendre la nuit aussi réparatrice que possible ne pourrait aboutir si la mère du tout premier âge, mère sexuelle et incestueuse, invisible car recouverte de son habit de censure, ne resurgissait rythmiquement ; certes elle pérennise l’inceste, mais aussi, le temps d’un sommeil, elle replonge l’individu dans la nuit des temps.\thttps://www.idref.fr/027823393 https://www.idref.fr/027241505 https://www.idref.fr/027242013\n"
     ]
    }
   ],
   "source": [
    "# Check import with bash: \n",
    "! head -n 2 /home/aurelie/ABES/labo-indexation-ai/ANNIF/data/rameau-chains-train.tsv"
   ]
  },
  {
   "attachments": {},
   "cell_type": "markdown",
   "metadata": {},
   "source": [
    "### Datasets to get predictions"
   ]
  },
  {
   "attachments": {},
   "cell_type": "markdown",
   "metadata": {},
   "source": [
    "ANNIF ne sait pas faire la prédiction de chaque notice d'un fichier short-text document (TSV) d'un coup. Il fait une prédiction pour tout le texte du TSV, ce qui n'a pas de sens.\n",
    "\n",
    "Il faut donc créer un fichier .txt pour chaque notice et lancer la prédiction pour tous les .txt d'un dossier en utilisant annif index"
   ]
  },
  {
   "cell_type": "code",
   "execution_count": 51,
   "metadata": {},
   "outputs": [],
   "source": [
    "# Train dataset\n",
    "\n",
    "for index, row in df_train.iterrows():\n",
    "    folder_path = os.path.join(annif_data_path, \"train/\")\n",
    "    if not os.path.exists(folder_path):\n",
    "        os.makedirs(folder_path)\n",
    "    filename = os.path.join(folder_path, str(row['PPN'] + '.txt'))\n",
    "    with open(filename, 'a') as f:\n",
    "        f.write(row['DESCR_cleaned'])"
   ]
  },
  {
   "cell_type": "code",
   "execution_count": 52,
   "metadata": {},
   "outputs": [],
   "source": [
    "# Test dataset\n",
    "for index, row in df_test.iterrows():\n",
    "    folder_path = os.path.join(annif_data_path, \"test/\")\n",
    "    if not os.path.exists(folder_path):\n",
    "        os.makedirs(folder_path)\n",
    "    filename = os.path.join(folder_path, str(row['PPN'] + '.txt'))\n",
    "    with open(filename, 'a') as f:\n",
    "        f.write(row['DESCR_cleaned'])"
   ]
  },
  {
   "cell_type": "code",
   "execution_count": 53,
   "metadata": {},
   "outputs": [],
   "source": [
    "# Validation dataset\n",
    "for index, row in df_valid100.iterrows():\n",
    "    folder_path = os.path.join(annif_data_path, \"valid/\")\n",
    "    if not os.path.exists(folder_path):\n",
    "        os.makedirs(folder_path)\n",
    "    filename = os.path.join(folder_path, str(row['PPN'] + '.txt'))\n",
    "    with open(filename, 'a') as f:\n",
    "        f.write(row['DESCR_cleaned'])"
   ]
  }
 ],
 "metadata": {
  "kernelspec": {
   "display_name": "abes_index",
   "language": "python",
   "name": "python3"
  },
  "language_info": {
   "codemirror_mode": {
    "name": "ipython",
    "version": 3
   },
   "file_extension": ".py",
   "mimetype": "text/x-python",
   "name": "python",
   "nbconvert_exporter": "python",
   "pygments_lexer": "ipython3",
   "version": "3.10.11"
  },
  "orig_nbformat": 4
 },
 "nbformat": 4,
 "nbformat_minor": 2
}
