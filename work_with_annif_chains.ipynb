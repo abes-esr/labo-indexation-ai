{
 "cells": [
  {
   "cell_type": "code",
   "execution_count": 1,
   "metadata": {},
   "outputs": [],
   "source": [
    "#!/bin/bash -e"
   ]
  },
  {
   "attachments": {},
   "cell_type": "markdown",
   "metadata": {},
   "source": [
    "# Use of ANNIF library"
   ]
  },
  {
   "attachments": {},
   "cell_type": "markdown",
   "metadata": {},
   "source": [
    "Ce notebook contient toutes les étapes de l'utilisation de la librairie annif (doc d'installation de toutes les librairies à prévoir).\n",
    "- Formatage des données pour utilisation dans ANNIF\n",
    "- Entrainement d'un modèle \n",
    "- Utilisation de pipelines pour tester plusieurs modèles\n",
    "- Recherche des meilleurs paramètres  "
   ]
  },
  {
   "attachments": {},
   "cell_type": "markdown",
   "metadata": {},
   "source": [
    "## Setup "
   ]
  },
  {
   "attachments": {},
   "cell_type": "markdown",
   "metadata": {},
   "source": [
    "### Packages"
   ]
  },
  {
   "cell_type": "code",
   "execution_count": 2,
   "metadata": {},
   "outputs": [],
   "source": [
    "# Import librairies\n",
    "import os\n",
    "import re\n",
    "import csv\n",
    "import pandas as pd"
   ]
  },
  {
   "attachments": {},
   "cell_type": "markdown",
   "metadata": {},
   "source": [
    "### Graphical parameters"
   ]
  },
  {
   "attachments": {},
   "cell_type": "markdown",
   "metadata": {},
   "source": [
    "### Paths"
   ]
  },
  {
   "cell_type": "code",
   "execution_count": 3,
   "metadata": {},
   "outputs": [],
   "source": [
    "# Set path\n",
    "abes_path = \"/home/aurelie/ABES/labo-indexation-ai/\"\n",
    "os.chdir(abes_path)"
   ]
  },
  {
   "cell_type": "code",
   "execution_count": 4,
   "metadata": {},
   "outputs": [
    {
     "name": "stdout",
     "output_type": "stream",
     "text": [
      "Folder ANNIF already exists\n",
      "Folder ANNIF/data already exists\n",
      "Folder ANNIF/reports already exists\n",
      "Folder ANNIF/data/train already exists\n",
      "Folder ANNIF/data/test already exists\n",
      "Folder ANNIF/data/valid already exists\n"
     ]
    }
   ],
   "source": [
    "# Create folders if needed\n",
    "list_folder = [\n",
    "    \"ANNIF\", \n",
    "    \"ANNIF/data\", \"ANNIF/reports\",\n",
    "    \"ANNIF/data/train\", \"ANNIF/data/test\", \"ANNIF/data/valid\"]\n",
    "\n",
    "for folder in list_folder:\n",
    "    if not os.path.exists(folder):\n",
    "        os.makedirs(folder)\n",
    "    else:\n",
    "        print(f\"Folder {folder} already exists\")\n",
    "\n"
   ]
  },
  {
   "cell_type": "code",
   "execution_count": 5,
   "metadata": {},
   "outputs": [],
   "source": [
    "# Set current directory\n",
    "annif_path = os.getcwd() + \"/ANNIF\"\n",
    "os.chdir(annif_path)"
   ]
  },
  {
   "cell_type": "code",
   "execution_count": 6,
   "metadata": {},
   "outputs": [],
   "source": [
    "# Set paths\n",
    "data_path = \"./../data\"\n",
    "fig_path = \"./../figs\"\n",
    "annif_data_path = annif_path + \"/data\"\n",
    "annif_report_path = annif_path + \"/reports\"\n",
    "\n",
    "\n",
    "annif_train_folder_path = os.path.join(annif_data_path, \"train/\")\n",
    "annif_test_folder_path = os.path.join(annif_data_path, \"test/\")\n",
    "annif_valid_folder_path = os.path.join(annif_data_path, \"valid/\")"
   ]
  },
  {
   "attachments": {},
   "cell_type": "markdown",
   "metadata": {},
   "source": [
    "## Prepare data"
   ]
  },
  {
   "cell_type": "code",
   "execution_count": 7,
   "metadata": {},
   "outputs": [
    {
     "name": "stdout",
     "output_type": "stream",
     "text": [
      "/bin/bash: /home/aurelie/anaconda3/lib/libtinfo.so.6: no version information available (required by /bin/bash)\n"
     ]
    },
    {
     "name": "stdout",
     "output_type": "stream",
     "text": [
      "Vocabulary ID       Languages                 Size  Loaded\n",
      "----------------------------------------------------------\n",
      "rameau              fr                      103628  True  \n",
      "rameau-chains       fr                      151048  True  \n"
     ]
    }
   ],
   "source": [
    "! annif list-vocabs"
   ]
  },
  {
   "cell_type": "code",
   "execution_count": 8,
   "metadata": {},
   "outputs": [],
   "source": [
    "# Select vocabulary to use\n",
    "vocab = \"rameau-chains\""
   ]
  },
  {
   "cell_type": "code",
   "execution_count": 9,
   "metadata": {},
   "outputs": [
    {
     "name": "stdout",
     "output_type": "stream",
     "text": [
      "/bin/bash: /home/aurelie/anaconda3/lib/libtinfo.so.6: no version information available (required by /bin/bash)\n"
     ]
    },
    {
     "name": "stdout",
     "output_type": "stream",
     "text": [
      "Loading vocabulary from CSV file /home/aurelie/ABES/labo-indexation-ai/ANNIF/data/chain-subjects.csv...\n",
      "creating subject index\n",
      "saving vocabulary into SKOS file data/vocabs/rameau-chains/subjects.ttl\n"
     ]
    }
   ],
   "source": [
    "if vocab == \"rameau\":\n",
    "    vocab_filename = os.path.join(annif_data_path,'subjects.csv')\n",
    "    train_tsv_path = os.path.join(annif_data_path, \"rameau-chains-train.tsv\")\n",
    "    test_tsv_path = os.path.join(annif_data_path, \"rameau-chains-test.tsv\")\n",
    "    valid_tsv_path = os.path.join(annif_data_path, \"rameau-chains-valid.tsv\")\n",
    "\n",
    "elif vocab == \"rameau-chains\":\n",
    "    vocab_filename = os.path.join(annif_data_path,'chain-subjects.csv')\n",
    "    train_tsv_path = os.path.join(annif_data_path, \"rameau-train.tsv\")\n",
    "    test_tsv_path = os.path.join(annif_data_path, \"rameau-test.tsv\")\n",
    "    valid_tsv_path = os.path.join(annif_data_path, \"rameau-valid.tsv\")\n",
    "\n",
    "\n",
    "else:\n",
    "    print(f\"uri_type should be 'chains' or 'concepts'. You asked for {vocab}\")\n",
    "\n",
    "# Load vocabulary\n",
    "! annif load-vocab {vocab} {vocab_filename} --force\n",
    "\n",
    "# Set texts folders\n",
    "annif_train_folder_path = os.path.join(annif_data_path, \"train/\")\n",
    "annif_test_folder_path = os.path.join(annif_data_path, \"test/\")\n",
    "annif_valid_folder_path = os.path.join(annif_data_path, \"valid/\")\n"
   ]
  },
  {
   "cell_type": "code",
   "execution_count": 10,
   "metadata": {},
   "outputs": [
    {
     "name": "stdout",
     "output_type": "stream",
     "text": [
      "/bin/bash: /home/aurelie/anaconda3/lib/libtinfo.so.6: no version information available (required by /bin/bash)\n",
      "label_fr,uri\n",
      "Kirp?n,https://www.idref.fr/157992527\n",
      "Militaires artistes,https://www.idref.fr/110140494\n",
      "Militaires romains,https://www.idref.fr/028492161\n",
      "Militaires prussiens,https://www.idref.fr/028521757\n",
      "Sa-skya-pa,https://www.idref.fr/029895561\n",
      "Militaires réunionnais,https://www.idref.fr/031875459\n",
      "Construction à l'épreuve de la sécheresse,https://www.idref.fr/032370083\n",
      "Missionnaires suisses,https://www.idref.fr/032878117\n",
      "Militaires ivoiriens,https://www.idref.fr/034423982\n"
     ]
    }
   ],
   "source": [
    "# Check import with bash:\n",
    "! head {vocab_filename}"
   ]
  },
  {
   "cell_type": "code",
   "execution_count": 11,
   "metadata": {},
   "outputs": [
    {
     "name": "stdout",
     "output_type": "stream",
     "text": [
      "/bin/bash: /home/aurelie/anaconda3/lib/libtinfo.so.6: no version information available (required by /bin/bash)\n",
      "Coutumes alimentaires -- Aspect social,https://www.idref.fr/027233464#--https://www.idref.fr/027790088\n",
      "Sociologie -- Recherche,https://www.idref.fr/049647490#--https://www.idref.fr/027315754\n",
      "Isolation thermique -- Aspect environnemental,https://www.idref.fr/027235394#--https://www.idref.fr/027587886\n",
      "\"Nombre, Idée de -- Chez l'enfant\",https://www.idref.fr/027241181#--https://www.idref.fr/16719402X\n",
      "Risques professionnels -- Prévention,https://www.idref.fr/165201010#--https://www.idref.fr/02724525X\n",
      "Population -- Statistiques -- Vingtième siècle,https://www.idref.fr/027546071#--http://www.idref.fr/028627008#--https://www.idref.fr/027338983\n",
      "Esclavage -- Dans l'art,https://www.idref.fr/027224295#--https://www.idref.fr/027966216\n",
      "Physique -- Dans l'art,https://www.idref.fr/027247015#--https://www.idref.fr/027966216\n",
      "Violences sexuelles -- Prévention,https://www.idref.fr/027343758#--https://www.idref.fr/02724525X\n",
      "Transition écologique -- Finances,https://www.idref.fr/189110813#--https://www.idref.fr/027606511\n"
     ]
    }
   ],
   "source": [
    "# Check import with bash:\n",
    "! tail {vocab_filename}"
   ]
  },
  {
   "cell_type": "code",
   "execution_count": 12,
   "metadata": {},
   "outputs": [
    {
     "name": "stdout",
     "output_type": "stream",
     "text": [
      "/bin/bash: /home/aurelie/anaconda3/lib/libtinfo.so.6: no version information available (required by /bin/bash)\n",
      "151049\n"
     ]
    }
   ],
   "source": [
    "# Check number of concepts in the vocabulary file:\n",
    "! wc -l < {vocab_filename}"
   ]
  },
  {
   "attachments": {},
   "cell_type": "markdown",
   "metadata": {},
   "source": [
    "### Datasets for training and evaluation"
   ]
  },
  {
   "cell_type": "code",
   "execution_count": 13,
   "metadata": {},
   "outputs": [
    {
     "name": "stdout",
     "output_type": "stream",
     "text": [
      "/bin/bash: /home/aurelie/anaconda3/lib/libtinfo.so.6: no version information available (required by /bin/bash)\n",
      "La culture pour vivre Mort de la culture populaire en France. Mutation des institutions culturelles grâce à une technique de mise en relation des oeuvres et d'un public, et qui tend à créer un comportement culturel adapté aux caractéristiques de l'époque\thttps://www.idref.fr/027348237 https://www.idref.fr/027224929 https://www.idref.fr/027416593\n",
      "La nuit, le jour : essai psychanalytique sur le fonctionnement mental Discontinuité, latence, rétablissement d’une continuité organisent la vie psychique. Réparatrice est dite la nuit... Les auteurs ont voulu montrer la complexité sous-jacente à cette qualité dès lors que Freud met au jour dans l’étude du rêve, au-delà d’une certaine réalisation de désir inconscient lié à l’histoire individuelle d’un sujet donné, l’existence de « veinures » qui résultent de la préhistoire de tous les humains et qui, imprimant la matière où s’inscrit le rêve, obligent celui-ci à organiser l’hallucination du désir en fonction de leur immuabilité. Les pensées latentes où s’origine de jour la vie onirique surgissent sur fond de manque à percevoir où se réédite quotidiennement le message verbal de castration. C’est pourquoi les pensées latentes et l’hallucination du désir auraient plus tendance à se conserver qu’à se décharger. La poussée vers la décharge apte à rendre la nuit aussi réparatrice que possible ne pourrait aboutir si la mère du tout premier âge, mère sexuelle et incestueuse, invisible car recouverte de son habit de censure, ne resurgissait rythmiquement ; certes elle pérennise l’inceste, mais aussi, le temps d’un sommeil, elle replonge l’individu dans la nuit des temps.\thttps://www.idref.fr/027823393 https://www.idref.fr/027241505 https://www.idref.fr/027242013\n",
      "Ruptures, cultures Il faut imaginer Robinson sur son île, au moment où il va être menacé de découvrir les lettres et les arts : quelle ressource, observait déjà Rousseau, que cette figure, que cette “ folie ” pour une culture qui ne l'aura inventée que pour nous persuader plus sûrement de sa nécessité ? Mais tout un qui écrit, qui peint, qui fait œuvre, n'est-il pas une manière de Robinson, un être séparé ou – comme disait Bataille – un “ nécessiteux ” ? Et que dire de celui qui prétend s'exclure du jeu, refuser l'héritage, rompre les amarres ? Et que dire, à l'inverse, de celui qui, soustrait par force à la société de ses semblables, s'emploie à battre la culture sur son propre terrain, à la débusquer de ses retraites les plus secrètes, à la vaincre par excès ? De Dubuffet à Sade, en passant par quelques-unes des figures, mythiques, économiques, politiques, créatrices, de l'appropriation, de l'inquisition, du refus, c'est la culture elle-même qui se trouve renvoyée à son propre fond et sommée d'avouer – quand s'inversent les signes du luxe et de la nécessité – la puissance de rupture qui l'habite et qui fait son ressort.\thttps://www.idref.fr/027231429\n",
      "La Destruction du temple Oswald tire sur Kennedy. Jusque-là, c'est bon, cette fois, mais ensuite tout recommence à aller de travers. C'est bien simple, il n'y a rien à faire avec ces gens-là. Cet imbécile de Kennedy a jugé bon de se mettre debout dans la limousine, ce coup-là, et il tombe pesamment sans aucune élégance... Oswald, inconscient du désastre et ne pensant, comme tous les autres, qu'à sa propre prestation, balance allégrement son fusil du haut du dixième étage et disparaît de la fenêtre tandis que je me sauve ventre à terre. Reconstitution ? Film ? Jeu ? Et s'il s'agissait d'une autre réalité dans laquelle, à chaque instant, Lee Harvey Oswald tire sur le président Kennedy ?\thttp://www.idref.fr/028242955 https://www.idref.fr/029051428\n",
      "Mon père Jové, pèlerin de l'image Naturalisé français en 1931, ce photographe qui travailla entre autres pour l'Illustration fut aussi peintre, graveur-lithographe et pratiqua le cinéma itinérant. Il vécut 37 ans à Pau\thttp://www.idref.fr/028224248\n"
     ]
    }
   ],
   "source": [
    "# Check import with bash: \n",
    "! head -n 5 {train_tsv_path}"
   ]
  },
  {
   "attachments": {},
   "cell_type": "markdown",
   "metadata": {},
   "source": [
    "## Test ANNIF"
   ]
  },
  {
   "attachments": {},
   "cell_type": "markdown",
   "metadata": {},
   "source": [
    "### List all available projects "
   ]
  },
  {
   "cell_type": "code",
   "execution_count": 14,
   "metadata": {},
   "outputs": [
    {
     "data": {
      "text/plain": [
       "['/bin/bash: /home/aurelie/anaconda3/lib/libtinfo.so.6: no version information available (required by /bin/bash)',\n",
       " 'Project ID               Project Name                                 Language  Trained',\n",
       " '---------------------------------------------------------------------------------------',\n",
       " 'rameau-tfidf-snowball-fr RAMEAU - TF-IDF(Snowball)                    fr        True   ',\n",
       " 'rameau-fasttext-snowball-frFastText French RAMEAU                       fr        False  ',\n",
       " 'rameau-yake-snowball-fr  Yake French RAMEAU                           fr        True   ',\n",
       " 'rameau-mllm-snowball-fr  RAMEAU MLLM project                          fr        True   ',\n",
       " 'rameau-omikuji-snowball-frOmikuji Parabel French                       fr        True   ',\n",
       " 'rameau-tfidf-fr          TF-IDF French RAMEAU with spacy lemma        fr        False  ',\n",
       " 'rameau-fasttext-fr       FastText French RAMEAU                       fr        True   ',\n",
       " 'rameau-yake-fr           Yake French RAMEAU                           fr        True   ',\n",
       " 'rameau-omikuji-parabel-frOmikuji Parabel French                       fr        True   ',\n",
       " 'rameau-mllm-fr           RAMEAU MLLM project                          fr        True   ',\n",
       " '2023-07-13 08:07:22.526828: I tensorflow/core/platform/cpu_feature_guard.cc:193] This TensorFlow binary is optimized with oneAPI Deep Neural Network Library (oneDNN) to use the following CPU instructions in performance-critical operations:  AVX2 FMA',\n",
       " 'To enable them in other operations, rebuild TensorFlow with the appropriate compiler flags.',\n",
       " 'rameau-ensemble-mllm-fr  RAMEAU ensemble with MLLM French             fr        False  ',\n",
       " 'rameau-simple-ensemble-fasttext-frRAMEAU ensemble with Fasttext French         fr        False  ',\n",
       " 'rameau-simple-ensemble-all-frRAMEAU ensemble French                       fr        False  ',\n",
       " 'rameau-simple-ensemble-allButFastext-frRAMEAU ensemble French                       fr        True   ',\n",
       " 'rameau-simple-ensemble-mllmSpacy-allButFastext-frRAMEAU ensemble French                       fr        True   ',\n",
       " 'rameau-simple-ensemble-mllm-frRAMEAU ensemble with MLLM French             fr        False  ',\n",
       " 'rameau-ensemble-allButFastext-frRAMEAU ensemble French                       fr        True   ',\n",
       " 'rameau-ensemble-mllmSpacy-allButFastext-frRAMEAU ensemble French                       fr        True   ',\n",
       " 'rameau-ensemble-fasttext-frRAMEAU ensemble with FastText French         fr        True   ',\n",
       " 'rameau-pav-MLLM-fr       RAMEAU PAV ensemble project with MLLM        fr        True   ',\n",
       " 'rameau-pav-allButFastext-frRAMEAU ensemble French                       fr        True   ',\n",
       " 'rameau-pav-mllmSpacy-allButFastext-frRAMEAU ensemble French                       fr        True   ',\n",
       " 'rameau-chains-tfidf-snowball-frTF-IDF French RAMEAU with snowball lemma - Concepts + Chaines indexfr        True   ',\n",
       " 'rameau-chains-fasttext-snowball-frFastText French RAMEAU - Concepts + Chaines indexfr        False  ',\n",
       " 'rameau-chains-yake-snowball-frYake French RAMEAU - Concepts + Chaines indexfr        True   ',\n",
       " 'rameau-chains-mllm-snowball-frRAMEAU MLLM project - Concepts + Chaines indexfr        True   ',\n",
       " 'rameau-chains-omikuji-snowball-frOmikuji Parabel French - Concepts + Chaines indexfr        True   ',\n",
       " 'rameau-chains-tfidf-fr   TF-IDF French RAMEAU with spacy lemma - Concepts + Chaines indexfr        True   ',\n",
       " 'rameau-chains-fasttext-frFastText French RAMEAU - Concepts + Chaines indexfr        False  ',\n",
       " 'rameau-chains-yake-fr    Yake French RAMEAU - Concepts + Chaines indexfr        True   ',\n",
       " 'rameau-chains-omikuji-parabel-frOmikuji Parabel French - Concepts + Chaines indexfr        True   ',\n",
       " 'rameau-chains-mllm-fr    RAMEAU MLLM project - Concepts + Chaines indexfr        True   ',\n",
       " 'rameau-chains-ensemble-mllm-frRAMEAU ensemble with MLLM French - Concepts + Chaines indexfr        False  ',\n",
       " 'rameau-chains-simple-ensemble-fasttext-frRAMEAU ensemble with Fasttext French - Concepts + Chaines indexfr        False  ',\n",
       " 'rameau-chains-simple-ensemble-all-frRAMEAU ensemble French - Concepts + Chaines indexfr        False  ',\n",
       " 'rameau-chains-simple-ensemble-allButFastext-frRAMEAU ensemble French - Concepts + Chaines indexfr        True   ',\n",
       " 'rameau-chains-simple-ensemble-mllmSpacy-allButFastext-frRAMEAU ensemble French - Concepts + Chaines indexfr        True   ',\n",
       " 'rameau-chains-simple-ensemble-mllm-frRAMEAU ensemble with MLLM French - Concepts + Chaines indexfr        True   ',\n",
       " 'rameau-chains-ensemble-allButFastext-frRAMEAU ensemble French - Concepts + Chaines indexfr        True   ',\n",
       " 'rameau-chains-ensemble-mllmSpacy-allButFastext-frRAMEAU ensemble French - Concepts + Chaines indexfr        False  ',\n",
       " 'rameau-chains-ensemble-fasttext-frRAMEAU ensemble with FastText French - Concepts + Chaines indexfr        False  ',\n",
       " 'rameau-chains-pav-MLLM-frRAMEAU PAV ensemble project with MLLM        fr        False  ',\n",
       " 'rameau-chains-pav-allButFastext-frRAMEAU ensemble French - Concepts + Chaines indexfr        True   ',\n",
       " 'rameau-chains-pav-mllmSpacy-allButFastext-frRAMEAU ensemble French - Concepts + Chaines indexfr        False  ']"
      ]
     },
     "execution_count": 14,
     "metadata": {},
     "output_type": "execute_result"
    }
   ],
   "source": [
    "# list of projects\n",
    "project_list = ! annif list-projects\n",
    "project_list"
   ]
  },
  {
   "attachments": {},
   "cell_type": "markdown",
   "metadata": {},
   "source": [
    "### Select project to test"
   ]
  },
  {
   "cell_type": "code",
   "execution_count": 15,
   "metadata": {},
   "outputs": [],
   "source": [
    "# Select project and parameters\n",
    "project = \"rameau-chains-ensemble-allButFastext-fr\"\n",
    "njobs = 0\n",
    "input_file = train_tsv_path\n",
    "max_nb_concepts = 10\n",
    "threshold = 0.2 \n",
    "trials = 100\n",
    "metric_file_path = os.path.join(annif_report_path, str(project + '.json'))\n",
    "result_file_path = os.path.join(annif_report_path, str(project + '.csv'))\n",
    "\n",
    "test_file = train_tsv_path"
   ]
  },
  {
   "cell_type": "code",
   "execution_count": 16,
   "metadata": {},
   "outputs": [
    {
     "data": {
      "text/plain": [
       "'/home/aurelie/ABES/labo-indexation-ai/ANNIF/reports/rameau-chains-ensemble-allButFastext-fr.json'"
      ]
     },
     "execution_count": 16,
     "metadata": {},
     "output_type": "execute_result"
    }
   ],
   "source": [
    "metric_file_path"
   ]
  },
  {
   "attachments": {},
   "cell_type": "markdown",
   "metadata": {},
   "source": [
    "### Train model"
   ]
  },
  {
   "cell_type": "code",
   "execution_count": 19,
   "metadata": {},
   "outputs": [
    {
     "name": "stdout",
     "output_type": "stream",
     "text": [
      "/bin/bash: /home/aurelie/anaconda3/lib/libtinfo.so.6: no version information available (required by /bin/bash)\n"
     ]
    },
    {
     "name": "stdout",
     "output_type": "stream",
     "text": [
      "2023-07-13 08:21:04.744963: I tensorflow/core/platform/cpu_feature_guard.cc:193] This TensorFlow binary is optimized with oneAPI Deep Neural Network Library (oneDNN) to use the following CPU instructions in performance-critical operations:  AVX2 FMA\n",
      "To enable them in other operations, rebuild TensorFlow with the appropriate compiler flags.\n",
      "Backend nn_ensemble: creating NN ensemble model\n",
      "2023-07-13 08:21:06.380933: I tensorflow/core/platform/cpu_feature_guard.cc:193] This TensorFlow binary is optimized with oneAPI Deep Neural Network Library (oneDNN) to use the following CPU instructions in performance-critical operations:  AVX2 FMA\n",
      "To enable them in other operations, rebuild TensorFlow with the appropriate compiler flags.\n",
      "Backend nn_ensemble: Initializing source projects: rameau-chains-tfidf-snowball-fr, rameau-chains-mllm-snowball-fr, rameau-chains-omikuji-snowball-fr\n",
      "2023-07-13T08:21:11.033Z \u001b[36mINFO\u001b[0m [omikuji::model] Loading model from data/projects/rameau-chains-omikuji-snowball-fr/omikuji-model...\n",
      "2023-07-13T08:21:11.033Z \u001b[36mINFO\u001b[0m [omikuji::model] Loading model settings from data/projects/rameau-chains-omikuji-snowball-fr/omikuji-model/settings.json...\n",
      "2023-07-13T08:21:11.033Z \u001b[36mINFO\u001b[0m [omikuji::model] Loaded model settings Settings { n_features: 207599, classifier_loss_type: Hinge }...\n",
      "2023-07-13T08:21:11.033Z \u001b[36mINFO\u001b[0m [omikuji::model] Loading tree from data/projects/rameau-chains-omikuji-snowball-fr/omikuji-model/tree0.cbor...\n",
      "2023-07-13T08:21:11.516Z \u001b[36mINFO\u001b[0m [omikuji::model] Loading tree from data/projects/rameau-chains-omikuji-snowball-fr/omikuji-model/tree1.cbor...\n",
      "2023-07-13T08:21:12.002Z \u001b[36mINFO\u001b[0m [omikuji::model] Loading tree from data/projects/rameau-chains-omikuji-snowball-fr/omikuji-model/tree2.cbor...\n",
      "2023-07-13T08:21:12.485Z \u001b[36mINFO\u001b[0m [omikuji::model] Loaded model with 3 trees; it took 1.45s\n",
      "Backend nn_ensemble: Processing training documents...\n",
      "Backend nn_ensemble: Training neural network model...\n",
      "Epoch 1/10\n",
      "3914/3914 [==============================] - 1976s 505ms/step - loss: 2.1430e-05 - top_k_categorical_accuracy: 0.9697\n",
      "Epoch 2/10\n",
      "3914/3914 [==============================] - 2000s 511ms/step - loss: 1.8766e-05 - top_k_categorical_accuracy: 0.9720\n",
      "Epoch 3/10\n",
      "3914/3914 [==============================] - 2154s 550ms/step - loss: 1.8089e-05 - top_k_categorical_accuracy: 0.9732\n",
      "Epoch 4/10\n",
      "3914/3914 [==============================] - 2054s 525ms/step - loss: 1.7593e-05 - top_k_categorical_accuracy: 0.9745\n",
      "Epoch 5/10\n",
      "3914/3914 [==============================] - 2037s 520ms/step - loss: 1.7200e-05 - top_k_categorical_accuracy: 0.9745\n",
      "Epoch 6/10\n",
      "3914/3914 [==============================] - 1985s 507ms/step - loss: 1.6856e-05 - top_k_categorical_accuracy: 0.9747\n",
      "Epoch 7/10\n",
      "3914/3914 [==============================] - 2001s 511ms/step - loss: 1.6537e-05 - top_k_categorical_accuracy: 0.9757\n",
      "Epoch 8/10\n",
      "3914/3914 [==============================] - 2015s 515ms/step - loss: 1.6344e-05 - top_k_categorical_accuracy: 0.9760\n",
      "Epoch 9/10\n",
      "3914/3914 [==============================] - 2013s 514ms/step - loss: 1.6115e-05 - top_k_categorical_accuracy: 0.9762\n",
      "Epoch 10/10\n",
      "3914/3914 [==============================] - 2038s 521ms/step - loss: 1.5925e-05 - top_k_categorical_accuracy: 0.9759\n"
     ]
    }
   ],
   "source": [
    "# Train project\n",
    "! annif train {project} --jobs {njobs} {input_file}"
   ]
  },
  {
   "attachments": {},
   "cell_type": "markdown",
   "metadata": {},
   "source": [
    "### Evaluate model"
   ]
  },
  {
   "cell_type": "code",
   "execution_count": 20,
   "metadata": {},
   "outputs": [
    {
     "name": "stdout",
     "output_type": "stream",
     "text": [
      "/bin/bash: /home/aurelie/anaconda3/lib/libtinfo.so.6: no version information available (required by /bin/bash)\n",
      "Writing per subject evaluation results to /home/aurelie/ABES/labo-indexation-ai/ANNIF/reports/rameau-chains-ensemble-allButFastext-fr.csv\n",
      "2023-07-13 15:05:10.429138: I tensorflow/core/platform/cpu_feature_guard.cc:193] This TensorFlow binary is optimized with oneAPI Deep Neural Network Library (oneDNN) to use the following CPU instructions in performance-critical operations:  AVX2 FMA\n",
      "To enable them in other operations, rebuild TensorFlow with the appropriate compiler flags.\n",
      "2023-07-13T15:05:16.224Z \u001b[36mINFO\u001b[0m [omikuji::model] Loading model from data/projects/rameau-chains-omikuji-snowball-fr/omikuji-model...\n",
      "2023-07-13T15:05:16.224Z \u001b[36mINFO\u001b[0m [omikuji::model] Loading model settings from data/projects/rameau-chains-omikuji-snowball-fr/omikuji-model/settings.json...\n",
      "2023-07-13T15:05:16.224Z \u001b[36mINFO\u001b[0m [omikuji::model] Loaded model settings Settings { n_features: 207599, classifier_loss_type: Hinge }...\n",
      "2023-07-13T15:05:16.224Z \u001b[36mINFO\u001b[0m [omikuji::model] Loading tree from data/projects/rameau-chains-omikuji-snowball-fr/omikuji-model/tree0.cbor...\n",
      "2023-07-13T15:05:16.697Z \u001b[36mINFO\u001b[0m [omikuji::model] Loading tree from data/projects/rameau-chains-omikuji-snowball-fr/omikuji-model/tree1.cbor...\n",
      "2023-07-13T15:05:17.172Z \u001b[36mINFO\u001b[0m [omikuji::model] Loading tree from data/projects/rameau-chains-omikuji-snowball-fr/omikuji-model/tree2.cbor...\n",
      "2023-07-13T15:05:17.647Z \u001b[36mINFO\u001b[0m [omikuji::model] Loaded model with 3 trees; it took 1.42s\n",
      "2023-07-13 15:05:17.901815: I tensorflow/core/platform/cpu_feature_guard.cc:193] This TensorFlow binary is optimized with oneAPI Deep Neural Network Library (oneDNN) to use the following CPU instructions in performance-critical operations:  AVX2 FMA\n",
      "To enable them in other operations, rebuild TensorFlow with the appropriate compiler flags.\n",
      "2023-07-13 15:05:17.901816: I tensorflow/core/platform/cpu_feature_guard.cc:193] This TensorFlow binary is optimized with oneAPI Deep Neural Network Library (oneDNN) to use the following CPU instructions in performance-critical operations:  AVX2 FMA\n",
      "To enable them in other operations, rebuild TensorFlow with the appropriate compiler flags.\n",
      "2023-07-13 15:05:17.901817: I tensorflow/core/platform/cpu_feature_guard.cc:193] This TensorFlow binary is optimized with oneAPI Deep Neural Network Library (oneDNN) to use the following CPU instructions in performance-critical operations:  AVX2 FMA\n",
      "To enable them in other operations, rebuild TensorFlow with the appropriate compiler flags.\n",
      "2023-07-13 15:05:17.901819: I tensorflow/core/platform/cpu_feature_guard.cc:193] This TensorFlow binary is optimized with oneAPI Deep Neural Network Library (oneDNN) to use the following CPU instructions in performance-critical operations:  AVX2 FMA\n",
      "To enable them in other operations, rebuild TensorFlow with the appropriate compiler flags.\n",
      "2023-07-13 15:05:17.901814: I tensorflow/core/platform/cpu_feature_guard.cc:193] This TensorFlow binary is optimized with oneAPI Deep Neural Network Library (oneDNN) to use the following CPU instructions in performance-critical operations:  AVX2 FMA\n",
      "To enable them in other operations, rebuild TensorFlow with the appropriate compiler flags.\n",
      "2023-07-13 15:05:17.901819: I tensorflow/core/platform/cpu_feature_guard.cc:193] This TensorFlow binary is optimized with oneAPI Deep Neural Network Library (oneDNN) to use the following CPU instructions in performance-critical operations:  AVX2 FMA\n",
      "To enable them in other operations, rebuild TensorFlow with the appropriate compiler flags.\n",
      "2023-07-13 15:05:17.901819: I tensorflow/core/platform/cpu_feature_guard.cc:193] This TensorFlow binary is optimized with oneAPI Deep Neural Network Library (oneDNN) to use the following CPU instructions in performance-critical operations:  AVX2 FMA\n",
      "To enable them in other operations, rebuild TensorFlow with the appropriate compiler flags.\n",
      "2023-07-13 15:05:17.901813: I tensorflow/core/platform/cpu_feature_guard.cc:193] This TensorFlow binary is optimized with oneAPI Deep Neural Network Library (oneDNN) to use the following CPU instructions in performance-critical operations:  AVX2 FMA\n",
      "To enable them in other operations, rebuild TensorFlow with the appropriate compiler flags.\n",
      "2023-07-13 15:05:17.901822: I tensorflow/core/platform/cpu_feature_guard.cc:193] This TensorFlow binary is optimized with oneAPI Deep Neural Network Library (oneDNN) to use the following CPU instructions in performance-critical operations:  AVX2 FMA\n",
      "To enable them in other operations, rebuild TensorFlow with the appropriate compiler flags.\n",
      "2023-07-13 15:05:17.901814: I tensorflow/core/platform/cpu_feature_guard.cc:193] This TensorFlow binary is optimized with oneAPI Deep Neural Network Library (oneDNN) to use the following CPU instructions in performance-critical operations:  AVX2 FMA\n",
      "To enable them in other operations, rebuild TensorFlow with the appropriate compiler flags.\n",
      "2023-07-13 15:05:17.901823: I tensorflow/core/platform/cpu_feature_guard.cc:193] This TensorFlow binary is optimized with oneAPI Deep Neural Network Library (oneDNN) to use the following CPU instructions in performance-critical operations:  AVX2 FMA\n",
      "To enable them in other operations, rebuild TensorFlow with the appropriate compiler flags.\n",
      "2023-07-13 15:05:17.901813: I tensorflow/core/platform/cpu_feature_guard.cc:193] This TensorFlow binary is optimized with oneAPI Deep Neural Network Library (oneDNN) to use the following CPU instructions in performance-critical operations:  AVX2 FMA\n",
      "To enable them in other operations, rebuild TensorFlow with the appropriate compiler flags.\n",
      "2023-07-13 15:05:17.910742: I tensorflow/core/platform/cpu_feature_guard.cc:193] This TensorFlow binary is optimized with oneAPI Deep Neural Network Library (oneDNN) to use the following CPU instructions in performance-critical operations:  AVX2 FMA\n",
      "To enable them in other operations, rebuild TensorFlow with the appropriate compiler flags.\n",
      "2023-07-13 15:05:17.919783: I tensorflow/core/platform/cpu_feature_guard.cc:193] This TensorFlow binary is optimized with oneAPI Deep Neural Network Library (oneDNN) to use the following CPU instructions in performance-critical operations:  AVX2 FMA\n",
      "To enable them in other operations, rebuild TensorFlow with the appropriate compiler flags.\n",
      "2023-07-13 15:05:17.925899: I tensorflow/core/platform/cpu_feature_guard.cc:193] This TensorFlow binary is optimized with oneAPI Deep Neural Network Library (oneDNN) to use the following CPU instructions in performance-critical operations:  AVX2 FMA\n",
      "To enable them in other operations, rebuild TensorFlow with the appropriate compiler flags.\n",
      "2023-07-13 15:05:17.941692: I tensorflow/core/platform/cpu_feature_guard.cc:193] This TensorFlow binary is optimized with oneAPI Deep Neural Network Library (oneDNN) to use the following CPU instructions in performance-critical operations:  AVX2 FMA\n",
      "To enable them in other operations, rebuild TensorFlow with the appropriate compiler flags.\n"
     ]
    }
   ],
   "source": [
    "# Evaluate project\n",
    "! annif eval --limit {max_nb_concepts} --threshold {threshold} --metrics-file {metric_file_path} --results-file {result_file_path} --jobs {njobs} {project} {test_file}"
   ]
  },
  {
   "attachments": {},
   "cell_type": "markdown",
   "metadata": {},
   "source": [
    "## Hyperoptimization"
   ]
  },
  {
   "cell_type": "code",
   "execution_count": 17,
   "metadata": {},
   "outputs": [
    {
     "name": "stdout",
     "output_type": "stream",
     "text": [
      "/bin/bash: /home/aurelie/anaconda3/lib/libtinfo.so.6: no version information available (required by /bin/bash)\n",
      "Looking for optimal hyperparameters using 100 trials\n",
      "\u001b[32m[I 2023-07-12 09:59:12,973]\u001b[0m A new study created in memory with name: no-name-ff3cbc6c-06b3-4e59-b7fb-aef9607be1b8\u001b[0m\n",
      "\u001b[32m[I 2023-07-12 10:26:02,466]\u001b[0m Trial 0 finished with value: 0.3213123679161072 and parameters: {'min_samples_leaf': 22, 'max_leaf_nodes': 1066, 'max_samples': 0.9236792232828465}. Best is trial 0 with value: 0.3213123679161072.\u001b[0m\n",
      "\u001b[32m[I 2023-07-12 10:59:53,713]\u001b[0m Trial 1 finished with value: 0.32043683528900146 and parameters: {'min_samples_leaf': 18, 'max_leaf_nodes': 878, 'max_samples': 0.606656009987659}. Best is trial 0 with value: 0.3213123679161072.\u001b[0m\n",
      "\u001b[32m[I 2023-07-12 11:31:48,931]\u001b[0m Trial 2 finished with value: 0.3230161666870117 and parameters: {'min_samples_leaf': 22, 'max_leaf_nodes': 1494, 'max_samples': 0.74663042365701}. Best is trial 2 with value: 0.3230161666870117.\u001b[0m\n",
      "\u001b[32m[I 2023-07-12 12:12:43,484]\u001b[0m Trial 3 finished with value: 0.3192485272884369 and parameters: {'min_samples_leaf': 16, 'max_leaf_nodes': 624, 'max_samples': 0.5503335635275526}. Best is trial 2 with value: 0.3230161666870117.\u001b[0m\n",
      "\u001b[32m[I 2023-07-12 12:42:02,496]\u001b[0m Trial 4 finished with value: 0.31857073307037354 and parameters: {'min_samples_leaf': 9, 'max_leaf_nodes': 543, 'max_samples': 0.7295679334106524}. Best is trial 2 with value: 0.3230161666870117.\u001b[0m\n",
      "  5%|█▊                                  | 5/100 [2:42:49<52:19:36, 1982.91s/it]^C\n"
     ]
    }
   ],
   "source": [
    "metric_file_path = os.path.join(annif_report_path, str(project + '_opt.json'))\n",
    "result_file_path = os.path.join(annif_report_path, str(project + '_opt.csv'))\n",
    "\n",
    "! annif hyperopt {project} --trials {trials} --results-file {result_file_path}   {test_file}"
   ]
  },
  {
   "cell_type": "code",
   "execution_count": 19,
   "metadata": {},
   "outputs": [
    {
     "data": {
      "text/plain": [
       "'/home/aurelie/ABES/labo-indexation-ai/ANNIF/reports/rameau-chains-simple-ensemble-allButFastext-fr.csv'"
      ]
     },
     "execution_count": 19,
     "metadata": {},
     "output_type": "execute_result"
    }
   ],
   "source": [
    "result_file_path"
   ]
  },
  {
   "cell_type": "code",
   "execution_count": 42,
   "metadata": {},
   "outputs": [
    {
     "data": {
      "text/html": [
       "<div>\n",
       "<style scoped>\n",
       "    .dataframe tbody tr th:only-of-type {\n",
       "        vertical-align: middle;\n",
       "    }\n",
       "\n",
       "    .dataframe tbody tr th {\n",
       "        vertical-align: top;\n",
       "    }\n",
       "\n",
       "    .dataframe thead th {\n",
       "        text-align: right;\n",
       "    }\n",
       "</style>\n",
       "<table border=\"1\" class=\"dataframe\">\n",
       "  <thead>\n",
       "    <tr style=\"text-align: right;\">\n",
       "      <th></th>\n",
       "      <th>trial</th>\n",
       "      <th>value</th>\n",
       "      <th>rameau-chains-tfidf-snowball-fr</th>\n",
       "      <th>rameau-chains-mllm-snowball-fr</th>\n",
       "      <th>rameau-chains-omikuji-snowball-fr</th>\n",
       "    </tr>\n",
       "  </thead>\n",
       "  <tbody>\n",
       "    <tr>\n",
       "      <th>0</th>\n",
       "      <td>1</td>\n",
       "      <td>0.876617</td>\n",
       "      <td>0.379310</td>\n",
       "      <td>0.414124</td>\n",
       "      <td>0.206566</td>\n",
       "    </tr>\n",
       "    <tr>\n",
       "      <th>1</th>\n",
       "      <td>3</td>\n",
       "      <td>0.919342</td>\n",
       "      <td>0.310702</td>\n",
       "      <td>0.345550</td>\n",
       "      <td>0.343748</td>\n",
       "    </tr>\n",
       "    <tr>\n",
       "      <th>2</th>\n",
       "      <td>2</td>\n",
       "      <td>0.862996</td>\n",
       "      <td>0.828231</td>\n",
       "      <td>0.057027</td>\n",
       "      <td>0.114742</td>\n",
       "    </tr>\n",
       "    <tr>\n",
       "      <th>3</th>\n",
       "      <td>0</td>\n",
       "      <td>0.904235</td>\n",
       "      <td>0.381039</td>\n",
       "      <td>0.343160</td>\n",
       "      <td>0.275802</td>\n",
       "    </tr>\n",
       "    <tr>\n",
       "      <th>4</th>\n",
       "      <td>5</td>\n",
       "      <td>0.930734</td>\n",
       "      <td>0.385528</td>\n",
       "      <td>0.226061</td>\n",
       "      <td>0.388410</td>\n",
       "    </tr>\n",
       "    <tr>\n",
       "      <th>...</th>\n",
       "      <td>...</td>\n",
       "      <td>...</td>\n",
       "      <td>...</td>\n",
       "      <td>...</td>\n",
       "      <td>...</td>\n",
       "    </tr>\n",
       "    <tr>\n",
       "      <th>95</th>\n",
       "      <td>95</td>\n",
       "      <td>0.977741</td>\n",
       "      <td>0.006305</td>\n",
       "      <td>0.059121</td>\n",
       "      <td>0.934573</td>\n",
       "    </tr>\n",
       "    <tr>\n",
       "      <th>96</th>\n",
       "      <td>96</td>\n",
       "      <td>0.977773</td>\n",
       "      <td>0.003472</td>\n",
       "      <td>0.056872</td>\n",
       "      <td>0.939656</td>\n",
       "    </tr>\n",
       "    <tr>\n",
       "      <th>97</th>\n",
       "      <td>98</td>\n",
       "      <td>0.978182</td>\n",
       "      <td>0.004521</td>\n",
       "      <td>0.022829</td>\n",
       "      <td>0.972649</td>\n",
       "    </tr>\n",
       "    <tr>\n",
       "      <th>98</th>\n",
       "      <td>97</td>\n",
       "      <td>0.978190</td>\n",
       "      <td>0.000146</td>\n",
       "      <td>0.016319</td>\n",
       "      <td>0.983535</td>\n",
       "    </tr>\n",
       "    <tr>\n",
       "      <th>99</th>\n",
       "      <td>99</td>\n",
       "      <td>0.974384</td>\n",
       "      <td>0.104171</td>\n",
       "      <td>0.017984</td>\n",
       "      <td>0.877845</td>\n",
       "    </tr>\n",
       "  </tbody>\n",
       "</table>\n",
       "<p>100 rows × 5 columns</p>\n",
       "</div>"
      ],
      "text/plain": [
       "    trial     value  rameau-chains-tfidf-snowball-fr  \\\n",
       "0       1  0.876617                         0.379310   \n",
       "1       3  0.919342                         0.310702   \n",
       "2       2  0.862996                         0.828231   \n",
       "3       0  0.904235                         0.381039   \n",
       "4       5  0.930734                         0.385528   \n",
       "..    ...       ...                              ...   \n",
       "95     95  0.977741                         0.006305   \n",
       "96     96  0.977773                         0.003472   \n",
       "97     98  0.978182                         0.004521   \n",
       "98     97  0.978190                         0.000146   \n",
       "99     99  0.974384                         0.104171   \n",
       "\n",
       "    rameau-chains-mllm-snowball-fr  rameau-chains-omikuji-snowball-fr  \n",
       "0                         0.414124                           0.206566  \n",
       "1                         0.345550                           0.343748  \n",
       "2                         0.057027                           0.114742  \n",
       "3                         0.343160                           0.275802  \n",
       "4                         0.226061                           0.388410  \n",
       "..                             ...                                ...  \n",
       "95                        0.059121                           0.934573  \n",
       "96                        0.056872                           0.939656  \n",
       "97                        0.022829                           0.972649  \n",
       "98                        0.016319                           0.983535  \n",
       "99                        0.017984                           0.877845  \n",
       "\n",
       "[100 rows x 5 columns]"
      ]
     },
     "execution_count": 42,
     "metadata": {},
     "output_type": "execute_result"
    }
   ],
   "source": [
    "# Select best model\n",
    "result_file_path\n",
    "opt = pd.read_csv(\"reports/rameau-chains-simple-ensemble-allButFastext-fr_opt.csv\", sep='\\t')\n",
    "opt"
   ]
  },
  {
   "cell_type": "code",
   "execution_count": 43,
   "metadata": {},
   "outputs": [
    {
     "data": {
      "text/plain": [
       "trial                                26.000000\n",
       "value                                 0.978343\n",
       "rameau-chains-tfidf-snowball-fr       0.007775\n",
       "rameau-chains-mllm-snowball-fr        0.004958\n",
       "rameau-chains-omikuji-snowball-fr     0.987267\n",
       "Name: 26, dtype: float64"
      ]
     },
     "execution_count": 43,
     "metadata": {},
     "output_type": "execute_result"
    }
   ],
   "source": [
    "import numpy as np\n",
    "best_model = opt.iloc[np.argmax(opt[\"value\"])]\n",
    "best_model"
   ]
  },
  {
   "cell_type": "code",
   "execution_count": null,
   "metadata": {},
   "outputs": [],
   "source": [
    "# Retrain model\n",
    "! annif train {project} --jobs {njobs} {input_file}"
   ]
  },
  {
   "cell_type": "code",
   "execution_count": null,
   "metadata": {},
   "outputs": [],
   "source": [
    "# Evaluate project\n",
    "! annif eval --limit {max_nb_concepts} --threshold {threshold} --metrics-file {metric_file_path} --results-file {result_file_path} --jobs {njobs} {project} {test_file}"
   ]
  },
  {
   "cell_type": "code",
   "execution_count": null,
   "metadata": {},
   "outputs": [],
   "source": [
    "annif_eval.loc[\"rameau-pav-MLLM-fr.json\"]"
   ]
  },
  {
   "attachments": {},
   "cell_type": "markdown",
   "metadata": {},
   "source": [
    "### Prediction on all notices from test folder"
   ]
  },
  {
   "cell_type": "code",
   "execution_count": 57,
   "metadata": {},
   "outputs": [
    {
     "name": "stdout",
     "output_type": "stream",
     "text": [
      "/bin/bash: /home/aurelie/anaconda3/lib/libtinfo.so.6: no version information available (required by /bin/bash)\n"
     ]
    },
    {
     "name": "stdout",
     "output_type": "stream",
     "text": [
      "2023-07-12T20:16:41.004Z \u001b[36mINFO\u001b[0m [omikuji::model] Loading model from data/projects/rameau-chains-omikuji-snowball-fr/omikuji-model...\n",
      "2023-07-12T20:16:41.004Z \u001b[36mINFO\u001b[0m [omikuji::model] Loading model settings from data/projects/rameau-chains-omikuji-snowball-fr/omikuji-model/settings.json...\n",
      "2023-07-12T20:16:41.004Z \u001b[36mINFO\u001b[0m [omikuji::model] Loaded model settings Settings { n_features: 207599, classifier_loss_type: Hinge }...\n",
      "2023-07-12T20:16:41.004Z \u001b[36mINFO\u001b[0m [omikuji::model] Loading tree from data/projects/rameau-chains-omikuji-snowball-fr/omikuji-model/tree0.cbor...\n",
      "2023-07-12T20:16:42.063Z \u001b[36mINFO\u001b[0m [omikuji::model] Loading tree from data/projects/rameau-chains-omikuji-snowball-fr/omikuji-model/tree1.cbor...\n",
      "2023-07-12T20:16:43.116Z \u001b[36mINFO\u001b[0m [omikuji::model] Loading tree from data/projects/rameau-chains-omikuji-snowball-fr/omikuji-model/tree2.cbor...\n",
      "2023-07-12T20:16:44.180Z \u001b[36mINFO\u001b[0m [omikuji::model] Loaded model with 3 trees; it took 3.18s\n"
     ]
    }
   ],
   "source": [
    "# Prediction sur toutes les notices du dossier \"test\"\n",
    "suffix = str('_' + project + '.csv')\n",
    "! annif index -s {suffix} {project} {annif_test_folder_path}"
   ]
  },
  {
   "attachments": {},
   "cell_type": "markdown",
   "metadata": {},
   "source": [
    "## Format predictions for future use"
   ]
  },
  {
   "cell_type": "code",
   "execution_count": 58,
   "metadata": {},
   "outputs": [
    {
     "name": "stdout",
     "output_type": "stream",
     "text": [
      "There are 29227 files to compile\n"
     ]
    }
   ],
   "source": [
    "csv_files = [f for f in os.listdir(annif_test_folder_path) if f.endswith(suffix)]\n",
    "print(f\"There are {len(csv_files)} files to compile\")"
   ]
  },
  {
   "cell_type": "code",
   "execution_count": 59,
   "metadata": {},
   "outputs": [],
   "source": [
    "# Build dataframe\n",
    "predictions = pd.DataFrame(columns=[\"PPN\", \"predictions\", \"scores\"])\n",
    "for i, file in enumerate(csv_files):\n",
    "    ppn = file.split('_')[0]\n",
    "    pred = pd.read_csv(os.path.join(annif_test_folder_path, file), sep='\\t', header=None, names=[\"URI\", \"pred_concept\", \"score\"])\n",
    "    predictions.loc[i,\"PPN\"] = ppn\n",
    "    predictions.loc[i,\"predictions\"] = pred[\"pred_concept\"].to_list()\n",
    "    predictions.loc[i,\"scores\"] = pred[\"score\"].to_list()"
   ]
  },
  {
   "cell_type": "code",
   "execution_count": 60,
   "metadata": {},
   "outputs": [
    {
     "data": {
      "text/html": [
       "<div>\n",
       "<style scoped>\n",
       "    .dataframe tbody tr th:only-of-type {\n",
       "        vertical-align: middle;\n",
       "    }\n",
       "\n",
       "    .dataframe tbody tr th {\n",
       "        vertical-align: top;\n",
       "    }\n",
       "\n",
       "    .dataframe thead th {\n",
       "        text-align: right;\n",
       "    }\n",
       "</style>\n",
       "<table border=\"1\" class=\"dataframe\">\n",
       "  <thead>\n",
       "    <tr style=\"text-align: right;\">\n",
       "      <th></th>\n",
       "      <th>PPN</th>\n",
       "      <th>predictions</th>\n",
       "      <th>scores</th>\n",
       "    </tr>\n",
       "  </thead>\n",
       "  <tbody>\n",
       "    <tr>\n",
       "      <th>0</th>\n",
       "      <td>250492091</td>\n",
       "      <td>[Notariat, Manuels d'enseignement supérieur, C...</td>\n",
       "      <td>[0.1410744786262512, 0.012239116244018, 0.0024...</td>\n",
       "    </tr>\n",
       "    <tr>\n",
       "      <th>1</th>\n",
       "      <td>186369999</td>\n",
       "      <td>[Manuels d'enseignement supérieur, Problèmes e...</td>\n",
       "      <td>[0.2717428505420685, 0.1196022480726242, 0.082...</td>\n",
       "    </tr>\n",
       "    <tr>\n",
       "      <th>2</th>\n",
       "      <td>158168623</td>\n",
       "      <td>[Didactique, Universités, Séminaires (groupes ...</td>\n",
       "      <td>[0.6160987019538879, 0.493828684091568, 0.1499...</td>\n",
       "    </tr>\n",
       "    <tr>\n",
       "      <th>3</th>\n",
       "      <td>194354326</td>\n",
       "      <td>[Enseignement supérieur, Étude et enseignement...</td>\n",
       "      <td>[0.9926307201385498, 0.5386803150177002, 0.098...</td>\n",
       "    </tr>\n",
       "    <tr>\n",
       "      <th>4</th>\n",
       "      <td>261584022</td>\n",
       "      <td>[Histoire, Aspect social, Culture populaire, O...</td>\n",
       "      <td>[0.9645671844482422, 0.592507004737854, 0.0823...</td>\n",
       "    </tr>\n",
       "  </tbody>\n",
       "</table>\n",
       "</div>"
      ],
      "text/plain": [
       "         PPN                                        predictions  \\\n",
       "0  250492091  [Notariat, Manuels d'enseignement supérieur, C...   \n",
       "1  186369999  [Manuels d'enseignement supérieur, Problèmes e...   \n",
       "2  158168623  [Didactique, Universités, Séminaires (groupes ...   \n",
       "3  194354326  [Enseignement supérieur, Étude et enseignement...   \n",
       "4  261584022  [Histoire, Aspect social, Culture populaire, O...   \n",
       "\n",
       "                                              scores  \n",
       "0  [0.1410744786262512, 0.012239116244018, 0.0024...  \n",
       "1  [0.2717428505420685, 0.1196022480726242, 0.082...  \n",
       "2  [0.6160987019538879, 0.493828684091568, 0.1499...  \n",
       "3  [0.9926307201385498, 0.5386803150177002, 0.098...  \n",
       "4  [0.9645671844482422, 0.592507004737854, 0.0823...  "
      ]
     },
     "execution_count": 60,
     "metadata": {},
     "output_type": "execute_result"
    }
   ],
   "source": [
    "# Show predictions\n",
    "predictions.head()"
   ]
  },
  {
   "cell_type": "code",
   "execution_count": 62,
   "metadata": {},
   "outputs": [],
   "source": [
    "# Save dataframe\n",
    "predictions.to_csv(os.path.join(annif_report_path, str(project + \"_predictions.csv\")))"
   ]
  },
  {
   "attachments": {},
   "cell_type": "markdown",
   "metadata": {},
   "source": [
    "## Merge predictions with existing predictions (including reindexation and indexing if available)"
   ]
  },
  {
   "cell_type": "code",
   "execution_count": null,
   "metadata": {},
   "outputs": [],
   "source": [
    "os.getcwd()"
   ]
  },
  {
   "cell_type": "code",
   "execution_count": 66,
   "metadata": {},
   "outputs": [],
   "source": [
    "# Set files\n",
    "input_file = \"./../data/reindexation_final_with_concepts_juin2023.csv\"\n",
    "output_file = \"./../data/reindexation_final_with_concepts_juin2023_withANNIF.csv\"\n"
   ]
  },
  {
   "cell_type": "code",
   "execution_count": 65,
   "metadata": {},
   "outputs": [
    {
     "data": {
      "text/plain": [
       "'/home/aurelie/ABES/labo-indexation-ai/ANNIF'"
      ]
     },
     "execution_count": 65,
     "metadata": {},
     "output_type": "execute_result"
    }
   ],
   "source": [
    "os.getcwd()"
   ]
  },
  {
   "cell_type": "code",
   "execution_count": 67,
   "metadata": {},
   "outputs": [
    {
     "name": "stdout",
     "output_type": "stream",
     "text": [
      "(100, 34)\n"
     ]
    },
    {
     "data": {
      "text/html": [
       "<div>\n",
       "<style scoped>\n",
       "    .dataframe tbody tr th:only-of-type {\n",
       "        vertical-align: middle;\n",
       "    }\n",
       "\n",
       "    .dataframe tbody tr th {\n",
       "        vertical-align: top;\n",
       "    }\n",
       "\n",
       "    .dataframe thead th {\n",
       "        text-align: right;\n",
       "    }\n",
       "</style>\n",
       "<table border=\"1\" class=\"dataframe\">\n",
       "  <thead>\n",
       "    <tr style=\"text-align: right;\">\n",
       "      <th></th>\n",
       "      <th>PPN</th>\n",
       "      <th>DESCR</th>\n",
       "      <th>RAMEAU_CHECKED</th>\n",
       "      <th>rameau_concepts</th>\n",
       "      <th>rameau_chaines_index</th>\n",
       "      <th>INDEX_AFE</th>\n",
       "      <th>INDEX_JMF</th>\n",
       "      <th>INDEX_LJZ</th>\n",
       "      <th>INDEX_LPL</th>\n",
       "      <th>INDEX_MCR</th>\n",
       "      <th>...</th>\n",
       "      <th>rameau_index_chain_AFE</th>\n",
       "      <th>rameau_index_chain_MCR</th>\n",
       "      <th>rameau_index_chain_JMF</th>\n",
       "      <th>rameau_index_chain_LPL</th>\n",
       "      <th>rameau_index_chain_LJZ</th>\n",
       "      <th>rameau_index_chain_MPD</th>\n",
       "      <th>predictions_rameau-ensemble-mllmSpacy-allButFastext-fr</th>\n",
       "      <th>scores_rameau-ensemble-mllmSpacy-allButFastext-fr</th>\n",
       "      <th>predictions_rameau-omikuji-snowball-fr</th>\n",
       "      <th>scores_rameau-omikuji-snowball-fr</th>\n",
       "    </tr>\n",
       "  </thead>\n",
       "  <tbody>\n",
       "    <tr>\n",
       "      <th>0</th>\n",
       "      <td>000308838</td>\n",
       "      <td>Les sommets de l'État : essai sur l'élite du p...</td>\n",
       "      <td>Bureaucratie;Classes dirigeantes;Classes dirig...</td>\n",
       "      <td>['Bureaucratie', 'Classes dirigeantes', 'Class...</td>\n",
       "      <td>['Bureaucratie', 'Classes dirigeantes', 'Class...</td>\n",
       "      <td>Classes dirigeantes -- France -- Histoire;;Pou...</td>\n",
       "      <td>Classes dirigeantes -- Relations avec l'État -...</td>\n",
       "      <td>Classes dirigeantes -- France;;Hauts-fonctionn...</td>\n",
       "      <td>Hauts-fonctionnairesss -- France;;Classes diri...</td>\n",
       "      <td>Pouvoir (sciences sociales) -- Classes dirigea...</td>\n",
       "      <td>...</td>\n",
       "      <td>['Classes dirigeantes -- France -- Histoire', ...</td>\n",
       "      <td>['Pouvoir (sciences sociales) -- Classes dirig...</td>\n",
       "      <td>[\"Classes dirigeantes -- Relations avec l'État...</td>\n",
       "      <td>['Hauts-fonctionnairesss -- France', 'Classes ...</td>\n",
       "      <td>['Classes dirigeantes -- France', 'Hauts-fonct...</td>\n",
       "      <td>['Classes dirigeantes -- France -- Histoire', ...</td>\n",
       "      <td>['Histoire', 'Élite (sciences sociales)', 'Éta...</td>\n",
       "      <td>[0.5610998868942261, 0.4483318328857422, 0.435...</td>\n",
       "      <td>['Élite (sciences sociales)', 'État', 'Histoir...</td>\n",
       "      <td>[0.46941938996315, 0.3625344932079315, 0.24151...</td>\n",
       "    </tr>\n",
       "    <tr>\n",
       "      <th>1</th>\n",
       "      <td>00094758X</td>\n",
       "      <td>Le dollar La quatrième de couverture indique :...</td>\n",
       "      <td>Dollar américain;Finances internationales;Poli...</td>\n",
       "      <td>['Dollar américain', 'Finances internationales...</td>\n",
       "      <td>['Dollar américain', 'Finances internationales...</td>\n",
       "      <td>Dollar américain;;Eurodollar, Marché de l';;Po...</td>\n",
       "      <td>Dollar américain ;;Politique économique -- Éta...</td>\n",
       "      <td>Dollar américain;;Eurodollar, Marché de l';;Fi...</td>\n",
       "      <td>Dollar américain -- Influence -- 20e siècle;;F...</td>\n",
       "      <td>Dollar américain -- Mondialisation;;Dollar amé...</td>\n",
       "      <td>...</td>\n",
       "      <td>['Dollar américain', \"Eurodollar, Marché de l'...</td>\n",
       "      <td>['Dollar américain -- Mondialisation', 'Dollar...</td>\n",
       "      <td>['Dollar américain ', 'Politique économique --...</td>\n",
       "      <td>['Dollar américain -- Influence -- 20e siècle'...</td>\n",
       "      <td>['Dollar américain', \"Eurodollar, Marché de l'...</td>\n",
       "      <td>['Dollar américain', \"Eurodollar, Marché de l'...</td>\n",
       "      <td>['Système monétaire international', 'Monnaie',...</td>\n",
       "      <td>[0.2470552176237106, 0.1972707509994506, 0.164...</td>\n",
       "      <td>['Système monétaire international', 'Monnaie',...</td>\n",
       "      <td>[0.2199680209159851, 0.0743607208132743, 0.063...</td>\n",
       "    </tr>\n",
       "    <tr>\n",
       "      <th>2</th>\n",
       "      <td>003632806</td>\n",
       "      <td>Les intellectuels sous la Ve République : 1958...</td>\n",
       "      <td>Intellectuels;Intellectuels français</td>\n",
       "      <td>['Intellectuels', 'Intellectuels français']</td>\n",
       "      <td>['Intellectuels', 'Intellectuels français']</td>\n",
       "      <td>Intellectuels -- France -- 1958-.... (5e Répub...</td>\n",
       "      <td>Intellectuels français -- Sociologie ;;Intelle...</td>\n",
       "      <td>Intellectuels -- France;;Vie intellectuelle --...</td>\n",
       "      <td>Intellectuels -- France -- 1958 (5e République...</td>\n",
       "      <td>Intellectuels -- France -- 1945</td>\n",
       "      <td>...</td>\n",
       "      <td>['Intellectuels -- France -- 1958-.... (5e Rép...</td>\n",
       "      <td>['Intellectuels -- France -- 1945']</td>\n",
       "      <td>['Intellectuels français -- Sociologie ', 'Int...</td>\n",
       "      <td>['Intellectuels -- France -- 1958 (5e Républiq...</td>\n",
       "      <td>['Intellectuels -- France', 'Vie intellectuell...</td>\n",
       "      <td>['Intellectuels -- France -- 1958-.... (5e Rép...</td>\n",
       "      <td>['Intellectuels', 'Sociologie', 'Politique et ...</td>\n",
       "      <td>[0.2859456539154053, 0.1352124512195587, 0.077...</td>\n",
       "      <td>['Intellectuels', 'Sociologie', 'Vie intellect...</td>\n",
       "      <td>[0.1557696014642715, 0.0378550477325916, 0.020...</td>\n",
       "    </tr>\n",
       "  </tbody>\n",
       "</table>\n",
       "<p>3 rows × 34 columns</p>\n",
       "</div>"
      ],
      "text/plain": [
       "         PPN                                              DESCR  \\\n",
       "0  000308838  Les sommets de l'État : essai sur l'élite du p...   \n",
       "1  00094758X  Le dollar La quatrième de couverture indique :...   \n",
       "2  003632806  Les intellectuels sous la Ve République : 1958...   \n",
       "\n",
       "                                      RAMEAU_CHECKED  \\\n",
       "0  Bureaucratie;Classes dirigeantes;Classes dirig...   \n",
       "1  Dollar américain;Finances internationales;Poli...   \n",
       "2               Intellectuels;Intellectuels français   \n",
       "\n",
       "                                     rameau_concepts  \\\n",
       "0  ['Bureaucratie', 'Classes dirigeantes', 'Class...   \n",
       "1  ['Dollar américain', 'Finances internationales...   \n",
       "2        ['Intellectuels', 'Intellectuels français']   \n",
       "\n",
       "                                rameau_chaines_index  \\\n",
       "0  ['Bureaucratie', 'Classes dirigeantes', 'Class...   \n",
       "1  ['Dollar américain', 'Finances internationales...   \n",
       "2        ['Intellectuels', 'Intellectuels français']   \n",
       "\n",
       "                                           INDEX_AFE  \\\n",
       "0  Classes dirigeantes -- France -- Histoire;;Pou...   \n",
       "1  Dollar américain;;Eurodollar, Marché de l';;Po...   \n",
       "2  Intellectuels -- France -- 1958-.... (5e Répub...   \n",
       "\n",
       "                                           INDEX_JMF  \\\n",
       "0  Classes dirigeantes -- Relations avec l'État -...   \n",
       "1  Dollar américain ;;Politique économique -- Éta...   \n",
       "2  Intellectuels français -- Sociologie ;;Intelle...   \n",
       "\n",
       "                                           INDEX_LJZ  \\\n",
       "0  Classes dirigeantes -- France;;Hauts-fonctionn...   \n",
       "1  Dollar américain;;Eurodollar, Marché de l';;Fi...   \n",
       "2  Intellectuels -- France;;Vie intellectuelle --...   \n",
       "\n",
       "                                           INDEX_LPL  \\\n",
       "0  Hauts-fonctionnairesss -- France;;Classes diri...   \n",
       "1  Dollar américain -- Influence -- 20e siècle;;F...   \n",
       "2  Intellectuels -- France -- 1958 (5e République...   \n",
       "\n",
       "                                           INDEX_MCR  ...  \\\n",
       "0  Pouvoir (sciences sociales) -- Classes dirigea...  ...   \n",
       "1  Dollar américain -- Mondialisation;;Dollar amé...  ...   \n",
       "2                    Intellectuels -- France -- 1945  ...   \n",
       "\n",
       "                              rameau_index_chain_AFE  \\\n",
       "0  ['Classes dirigeantes -- France -- Histoire', ...   \n",
       "1  ['Dollar américain', \"Eurodollar, Marché de l'...   \n",
       "2  ['Intellectuels -- France -- 1958-.... (5e Rép...   \n",
       "\n",
       "                              rameau_index_chain_MCR  \\\n",
       "0  ['Pouvoir (sciences sociales) -- Classes dirig...   \n",
       "1  ['Dollar américain -- Mondialisation', 'Dollar...   \n",
       "2                ['Intellectuels -- France -- 1945']   \n",
       "\n",
       "                              rameau_index_chain_JMF  \\\n",
       "0  [\"Classes dirigeantes -- Relations avec l'État...   \n",
       "1  ['Dollar américain ', 'Politique économique --...   \n",
       "2  ['Intellectuels français -- Sociologie ', 'Int...   \n",
       "\n",
       "                              rameau_index_chain_LPL  \\\n",
       "0  ['Hauts-fonctionnairesss -- France', 'Classes ...   \n",
       "1  ['Dollar américain -- Influence -- 20e siècle'...   \n",
       "2  ['Intellectuels -- France -- 1958 (5e Républiq...   \n",
       "\n",
       "                              rameau_index_chain_LJZ  \\\n",
       "0  ['Classes dirigeantes -- France', 'Hauts-fonct...   \n",
       "1  ['Dollar américain', \"Eurodollar, Marché de l'...   \n",
       "2  ['Intellectuels -- France', 'Vie intellectuell...   \n",
       "\n",
       "                              rameau_index_chain_MPD  \\\n",
       "0  ['Classes dirigeantes -- France -- Histoire', ...   \n",
       "1  ['Dollar américain', \"Eurodollar, Marché de l'...   \n",
       "2  ['Intellectuels -- France -- 1958-.... (5e Rép...   \n",
       "\n",
       "  predictions_rameau-ensemble-mllmSpacy-allButFastext-fr  \\\n",
       "0  ['Histoire', 'Élite (sciences sociales)', 'Éta...       \n",
       "1  ['Système monétaire international', 'Monnaie',...       \n",
       "2  ['Intellectuels', 'Sociologie', 'Politique et ...       \n",
       "\n",
       "   scores_rameau-ensemble-mllmSpacy-allButFastext-fr  \\\n",
       "0  [0.5610998868942261, 0.4483318328857422, 0.435...   \n",
       "1  [0.2470552176237106, 0.1972707509994506, 0.164...   \n",
       "2  [0.2859456539154053, 0.1352124512195587, 0.077...   \n",
       "\n",
       "              predictions_rameau-omikuji-snowball-fr  \\\n",
       "0  ['Élite (sciences sociales)', 'État', 'Histoir...   \n",
       "1  ['Système monétaire international', 'Monnaie',...   \n",
       "2  ['Intellectuels', 'Sociologie', 'Vie intellect...   \n",
       "\n",
       "                   scores_rameau-omikuji-snowball-fr  \n",
       "0  [0.46941938996315, 0.3625344932079315, 0.24151...  \n",
       "1  [0.2199680209159851, 0.0743607208132743, 0.063...  \n",
       "2  [0.1557696014642715, 0.0378550477325916, 0.020...  \n",
       "\n",
       "[3 rows x 34 columns]"
      ]
     },
     "execution_count": 67,
     "metadata": {},
     "output_type": "execute_result"
    }
   ],
   "source": [
    "# merge predictions with reindexation file\n",
    "indexation_file = pd.read_csv(output_file, index_col=0)\n",
    "print(indexation_file.shape)\n",
    "indexation_file.head(3)"
   ]
  },
  {
   "cell_type": "code",
   "execution_count": 68,
   "metadata": {},
   "outputs": [],
   "source": [
    "# Merge predictions\n",
    "output = indexation_file.merge(predictions, on=\"PPN\", how=\"inner\")\n",
    "output.rename(columns={\"predictions\" : str(\"predictions_\" + project), \"scores\":str(\"scores_\" + project)}, inplace=True)"
   ]
  },
  {
   "cell_type": "code",
   "execution_count": 69,
   "metadata": {},
   "outputs": [
    {
     "data": {
      "text/html": [
       "<div>\n",
       "<style scoped>\n",
       "    .dataframe tbody tr th:only-of-type {\n",
       "        vertical-align: middle;\n",
       "    }\n",
       "\n",
       "    .dataframe tbody tr th {\n",
       "        vertical-align: top;\n",
       "    }\n",
       "\n",
       "    .dataframe thead th {\n",
       "        text-align: right;\n",
       "    }\n",
       "</style>\n",
       "<table border=\"1\" class=\"dataframe\">\n",
       "  <thead>\n",
       "    <tr style=\"text-align: right;\">\n",
       "      <th></th>\n",
       "      <th>PPN</th>\n",
       "      <th>DESCR</th>\n",
       "      <th>RAMEAU_CHECKED</th>\n",
       "      <th>rameau_concepts</th>\n",
       "      <th>rameau_chaines_index</th>\n",
       "      <th>INDEX_AFE</th>\n",
       "      <th>INDEX_JMF</th>\n",
       "      <th>INDEX_LJZ</th>\n",
       "      <th>INDEX_LPL</th>\n",
       "      <th>INDEX_MCR</th>\n",
       "      <th>...</th>\n",
       "      <th>rameau_index_chain_JMF</th>\n",
       "      <th>rameau_index_chain_LPL</th>\n",
       "      <th>rameau_index_chain_LJZ</th>\n",
       "      <th>rameau_index_chain_MPD</th>\n",
       "      <th>predictions_rameau-ensemble-mllmSpacy-allButFastext-fr</th>\n",
       "      <th>scores_rameau-ensemble-mllmSpacy-allButFastext-fr</th>\n",
       "      <th>predictions_rameau-omikuji-snowball-fr</th>\n",
       "      <th>scores_rameau-omikuji-snowball-fr</th>\n",
       "      <th>predictions_rameau-chains-pav-allButFastext-fr</th>\n",
       "      <th>scores_rameau-chains-pav-allButFastext-fr</th>\n",
       "    </tr>\n",
       "  </thead>\n",
       "  <tbody>\n",
       "    <tr>\n",
       "      <th>0</th>\n",
       "      <td>000308838</td>\n",
       "      <td>Les sommets de l'État : essai sur l'élite du p...</td>\n",
       "      <td>Bureaucratie;Classes dirigeantes;Classes dirig...</td>\n",
       "      <td>['Bureaucratie', 'Classes dirigeantes', 'Class...</td>\n",
       "      <td>['Bureaucratie', 'Classes dirigeantes', 'Class...</td>\n",
       "      <td>Classes dirigeantes -- France -- Histoire;;Pou...</td>\n",
       "      <td>Classes dirigeantes -- Relations avec l'État -...</td>\n",
       "      <td>Classes dirigeantes -- France;;Hauts-fonctionn...</td>\n",
       "      <td>Hauts-fonctionnairesss -- France;;Classes diri...</td>\n",
       "      <td>Pouvoir (sciences sociales) -- Classes dirigea...</td>\n",
       "      <td>...</td>\n",
       "      <td>[\"Classes dirigeantes -- Relations avec l'État...</td>\n",
       "      <td>['Hauts-fonctionnairesss -- France', 'Classes ...</td>\n",
       "      <td>['Classes dirigeantes -- France', 'Hauts-fonct...</td>\n",
       "      <td>['Classes dirigeantes -- France -- Histoire', ...</td>\n",
       "      <td>['Histoire', 'Élite (sciences sociales)', 'Éta...</td>\n",
       "      <td>[0.5610998868942261, 0.4483318328857422, 0.435...</td>\n",
       "      <td>['Élite (sciences sociales)', 'État', 'Histoir...</td>\n",
       "      <td>[0.46941938996315, 0.3625344932079315, 0.24151...</td>\n",
       "      <td>[Classes dirigeantes, État, Élite (sciences so...</td>\n",
       "      <td>[0.9877382516860962, 0.9687923789024352, 0.888...</td>\n",
       "    </tr>\n",
       "    <tr>\n",
       "      <th>1</th>\n",
       "      <td>00094758X</td>\n",
       "      <td>Le dollar La quatrième de couverture indique :...</td>\n",
       "      <td>Dollar américain;Finances internationales;Poli...</td>\n",
       "      <td>['Dollar américain', 'Finances internationales...</td>\n",
       "      <td>['Dollar américain', 'Finances internationales...</td>\n",
       "      <td>Dollar américain;;Eurodollar, Marché de l';;Po...</td>\n",
       "      <td>Dollar américain ;;Politique économique -- Éta...</td>\n",
       "      <td>Dollar américain;;Eurodollar, Marché de l';;Fi...</td>\n",
       "      <td>Dollar américain -- Influence -- 20e siècle;;F...</td>\n",
       "      <td>Dollar américain -- Mondialisation;;Dollar amé...</td>\n",
       "      <td>...</td>\n",
       "      <td>['Dollar américain ', 'Politique économique --...</td>\n",
       "      <td>['Dollar américain -- Influence -- 20e siècle'...</td>\n",
       "      <td>['Dollar américain', \"Eurodollar, Marché de l'...</td>\n",
       "      <td>['Dollar américain', \"Eurodollar, Marché de l'...</td>\n",
       "      <td>['Système monétaire international', 'Monnaie',...</td>\n",
       "      <td>[0.2470552176237106, 0.1972707509994506, 0.164...</td>\n",
       "      <td>['Système monétaire international', 'Monnaie',...</td>\n",
       "      <td>[0.2199680209159851, 0.0743607208132743, 0.063...</td>\n",
       "      <td>[Système monétaire international, Finances int...</td>\n",
       "      <td>[0.98750501871109, 0.1764083951711654, 0.04999...</td>\n",
       "    </tr>\n",
       "    <tr>\n",
       "      <th>2</th>\n",
       "      <td>003632806</td>\n",
       "      <td>Les intellectuels sous la Ve République : 1958...</td>\n",
       "      <td>Intellectuels;Intellectuels français</td>\n",
       "      <td>['Intellectuels', 'Intellectuels français']</td>\n",
       "      <td>['Intellectuels', 'Intellectuels français']</td>\n",
       "      <td>Intellectuels -- France -- 1958-.... (5e Répub...</td>\n",
       "      <td>Intellectuels français -- Sociologie ;;Intelle...</td>\n",
       "      <td>Intellectuels -- France;;Vie intellectuelle --...</td>\n",
       "      <td>Intellectuels -- France -- 1958 (5e République...</td>\n",
       "      <td>Intellectuels -- France -- 1945</td>\n",
       "      <td>...</td>\n",
       "      <td>['Intellectuels français -- Sociologie ', 'Int...</td>\n",
       "      <td>['Intellectuels -- France -- 1958 (5e Républiq...</td>\n",
       "      <td>['Intellectuels -- France', 'Vie intellectuell...</td>\n",
       "      <td>['Intellectuels -- France -- 1958-.... (5e Rép...</td>\n",
       "      <td>['Intellectuels', 'Sociologie', 'Politique et ...</td>\n",
       "      <td>[0.2859456539154053, 0.1352124512195587, 0.077...</td>\n",
       "      <td>['Intellectuels', 'Sociologie', 'Vie intellect...</td>\n",
       "      <td>[0.1557696014642715, 0.0378550477325916, 0.020...</td>\n",
       "      <td>[Sociologie, Opinion publique, Aspect social, ...</td>\n",
       "      <td>[0.0289787556976079, 0.0040915142744779, 0.003...</td>\n",
       "    </tr>\n",
       "  </tbody>\n",
       "</table>\n",
       "<p>3 rows × 36 columns</p>\n",
       "</div>"
      ],
      "text/plain": [
       "         PPN                                              DESCR  \\\n",
       "0  000308838  Les sommets de l'État : essai sur l'élite du p...   \n",
       "1  00094758X  Le dollar La quatrième de couverture indique :...   \n",
       "2  003632806  Les intellectuels sous la Ve République : 1958...   \n",
       "\n",
       "                                      RAMEAU_CHECKED  \\\n",
       "0  Bureaucratie;Classes dirigeantes;Classes dirig...   \n",
       "1  Dollar américain;Finances internationales;Poli...   \n",
       "2               Intellectuels;Intellectuels français   \n",
       "\n",
       "                                     rameau_concepts  \\\n",
       "0  ['Bureaucratie', 'Classes dirigeantes', 'Class...   \n",
       "1  ['Dollar américain', 'Finances internationales...   \n",
       "2        ['Intellectuels', 'Intellectuels français']   \n",
       "\n",
       "                                rameau_chaines_index  \\\n",
       "0  ['Bureaucratie', 'Classes dirigeantes', 'Class...   \n",
       "1  ['Dollar américain', 'Finances internationales...   \n",
       "2        ['Intellectuels', 'Intellectuels français']   \n",
       "\n",
       "                                           INDEX_AFE  \\\n",
       "0  Classes dirigeantes -- France -- Histoire;;Pou...   \n",
       "1  Dollar américain;;Eurodollar, Marché de l';;Po...   \n",
       "2  Intellectuels -- France -- 1958-.... (5e Répub...   \n",
       "\n",
       "                                           INDEX_JMF  \\\n",
       "0  Classes dirigeantes -- Relations avec l'État -...   \n",
       "1  Dollar américain ;;Politique économique -- Éta...   \n",
       "2  Intellectuels français -- Sociologie ;;Intelle...   \n",
       "\n",
       "                                           INDEX_LJZ  \\\n",
       "0  Classes dirigeantes -- France;;Hauts-fonctionn...   \n",
       "1  Dollar américain;;Eurodollar, Marché de l';;Fi...   \n",
       "2  Intellectuels -- France;;Vie intellectuelle --...   \n",
       "\n",
       "                                           INDEX_LPL  \\\n",
       "0  Hauts-fonctionnairesss -- France;;Classes diri...   \n",
       "1  Dollar américain -- Influence -- 20e siècle;;F...   \n",
       "2  Intellectuels -- France -- 1958 (5e République...   \n",
       "\n",
       "                                           INDEX_MCR  ...  \\\n",
       "0  Pouvoir (sciences sociales) -- Classes dirigea...  ...   \n",
       "1  Dollar américain -- Mondialisation;;Dollar amé...  ...   \n",
       "2                    Intellectuels -- France -- 1945  ...   \n",
       "\n",
       "                              rameau_index_chain_JMF  \\\n",
       "0  [\"Classes dirigeantes -- Relations avec l'État...   \n",
       "1  ['Dollar américain ', 'Politique économique --...   \n",
       "2  ['Intellectuels français -- Sociologie ', 'Int...   \n",
       "\n",
       "                              rameau_index_chain_LPL  \\\n",
       "0  ['Hauts-fonctionnairesss -- France', 'Classes ...   \n",
       "1  ['Dollar américain -- Influence -- 20e siècle'...   \n",
       "2  ['Intellectuels -- France -- 1958 (5e Républiq...   \n",
       "\n",
       "                              rameau_index_chain_LJZ  \\\n",
       "0  ['Classes dirigeantes -- France', 'Hauts-fonct...   \n",
       "1  ['Dollar américain', \"Eurodollar, Marché de l'...   \n",
       "2  ['Intellectuels -- France', 'Vie intellectuell...   \n",
       "\n",
       "                              rameau_index_chain_MPD  \\\n",
       "0  ['Classes dirigeantes -- France -- Histoire', ...   \n",
       "1  ['Dollar américain', \"Eurodollar, Marché de l'...   \n",
       "2  ['Intellectuels -- France -- 1958-.... (5e Rép...   \n",
       "\n",
       "  predictions_rameau-ensemble-mllmSpacy-allButFastext-fr  \\\n",
       "0  ['Histoire', 'Élite (sciences sociales)', 'Éta...       \n",
       "1  ['Système monétaire international', 'Monnaie',...       \n",
       "2  ['Intellectuels', 'Sociologie', 'Politique et ...       \n",
       "\n",
       "   scores_rameau-ensemble-mllmSpacy-allButFastext-fr  \\\n",
       "0  [0.5610998868942261, 0.4483318328857422, 0.435...   \n",
       "1  [0.2470552176237106, 0.1972707509994506, 0.164...   \n",
       "2  [0.2859456539154053, 0.1352124512195587, 0.077...   \n",
       "\n",
       "              predictions_rameau-omikuji-snowball-fr  \\\n",
       "0  ['Élite (sciences sociales)', 'État', 'Histoir...   \n",
       "1  ['Système monétaire international', 'Monnaie',...   \n",
       "2  ['Intellectuels', 'Sociologie', 'Vie intellect...   \n",
       "\n",
       "                   scores_rameau-omikuji-snowball-fr  \\\n",
       "0  [0.46941938996315, 0.3625344932079315, 0.24151...   \n",
       "1  [0.2199680209159851, 0.0743607208132743, 0.063...   \n",
       "2  [0.1557696014642715, 0.0378550477325916, 0.020...   \n",
       "\n",
       "      predictions_rameau-chains-pav-allButFastext-fr  \\\n",
       "0  [Classes dirigeantes, État, Élite (sciences so...   \n",
       "1  [Système monétaire international, Finances int...   \n",
       "2  [Sociologie, Opinion publique, Aspect social, ...   \n",
       "\n",
       "           scores_rameau-chains-pav-allButFastext-fr  \n",
       "0  [0.9877382516860962, 0.9687923789024352, 0.888...  \n",
       "1  [0.98750501871109, 0.1764083951711654, 0.04999...  \n",
       "2  [0.0289787556976079, 0.0040915142744779, 0.003...  \n",
       "\n",
       "[3 rows x 36 columns]"
      ]
     },
     "execution_count": 69,
     "metadata": {},
     "output_type": "execute_result"
    }
   ],
   "source": [
    "output.head(3)"
   ]
  },
  {
   "cell_type": "code",
   "execution_count": 70,
   "metadata": {},
   "outputs": [],
   "source": [
    "# Save output\n",
    "output.to_csv(output_file)"
   ]
  },
  {
   "attachments": {},
   "cell_type": "markdown",
   "metadata": {},
   "source": []
  },
  {
   "attachments": {},
   "cell_type": "markdown",
   "metadata": {},
   "source": [
    "## Multilabel classification - Metrics"
   ]
  },
  {
   "cell_type": "code",
   "execution_count": null,
   "metadata": {},
   "outputs": [],
   "source": [
    "from sklearn.preprocessing import MultiLabelBinarizer\n",
    "from utils_metrics import *"
   ]
  },
  {
   "cell_type": "code",
   "execution_count": null,
   "metadata": {},
   "outputs": [],
   "source": [
    "# Variables to use\n",
    "## Chains\n",
    "field = [\n",
    "    (\"ANNIF_mllm\", \"rameau_concepts\", \"predictions_opt_rameau-mllm-fr\"),\n",
    "    (\"ANNIF_tfidf\",  \"rameau_concepts\", \"predictions_rameau-tfidf-snowball-fr\")\n",
    "]\n",
    "results = dict()\n"
   ]
  },
  {
   "cell_type": "code",
   "execution_count": null,
   "metadata": {},
   "outputs": [],
   "source": [
    "def flatten(list):\n",
    "    flat_list = [item for sublist in list for item in sublist]\n",
    "    return flat_list"
   ]
  },
  {
   "cell_type": "code",
   "execution_count": null,
   "metadata": {},
   "outputs": [],
   "source": [
    "# Binarization\n",
    "for var in field: \n",
    "    print(\"Working on \", var[0])\n",
    "    mlb = MultiLabelBinarizer(sparse_output=False)\n",
    "    mlb.fit(flatten(output[\"rameau_concepts\"]))\n",
    "    sudoc = mlb.transform(output[var[1]])\n",
    "    embed = mlb.transform(output[var[2]])\n",
    "    results[str(\"ANNIF\" + var[0])] = label_metrics_report(\"Embeddings\", sudoc, embed, zero_division=0)"
   ]
  },
  {
   "cell_type": "code",
   "execution_count": null,
   "metadata": {},
   "outputs": [],
   "source": [
    "mlb.inverse_transform(embed)"
   ]
  },
  {
   "attachments": {},
   "cell_type": "markdown",
   "metadata": {},
   "source": [
    "### Dataframe of results"
   ]
  },
  {
   "cell_type": "code",
   "execution_count": null,
   "metadata": {},
   "outputs": [],
   "source": [
    "result_df = pd.DataFrame(results).T\n",
    "result_df"
   ]
  },
  {
   "attachments": {},
   "cell_type": "markdown",
   "metadata": {},
   "source": [
    "### Plot"
   ]
  },
  {
   "cell_type": "code",
   "execution_count": null,
   "metadata": {},
   "outputs": [],
   "source": [
    "# Plot results\n",
    "metrics_radar_plot(\n",
    "    result_df,\n",
    "    remove_identity=False,\n",
    "    title=\"Quantitative comparisons\",\n",
    "    savefig=\"metrics_ANNIF-sudoc.html\",)"
   ]
  }
 ],
 "metadata": {
  "kernelspec": {
   "display_name": "abes_index",
   "language": "python",
   "name": "python3"
  },
  "language_info": {
   "codemirror_mode": {
    "name": "ipython",
    "version": 3
   },
   "file_extension": ".py",
   "mimetype": "text/x-python",
   "name": "python",
   "nbconvert_exporter": "python",
   "pygments_lexer": "ipython3",
   "version": "3.10.12"
  },
  "orig_nbformat": 4
 },
 "nbformat": 4,
 "nbformat_minor": 2
}
