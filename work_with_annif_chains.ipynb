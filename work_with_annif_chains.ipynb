{
 "cells": [
  {
   "cell_type": "code",
   "execution_count": 1,
   "metadata": {},
   "outputs": [],
   "source": [
    "#!/bin/bash -e"
   ]
  },
  {
   "attachments": {},
   "cell_type": "markdown",
   "metadata": {},
   "source": [
    "# Use of ANNIF library"
   ]
  },
  {
   "attachments": {},
   "cell_type": "markdown",
   "metadata": {},
   "source": [
    "Ce notebook contient toutes les étapes de l'utilisation de la librairie annif (doc d'installation de toutes les librairies à prévoir).\n",
    "- Formatage des données pour utilisation dans ANNIF\n",
    "- Entrainement d'un modèle \n",
    "- Utilisation de pipelines pour tester plusieurs modèles\n",
    "- Recherche des meilleurs paramètres  "
   ]
  },
  {
   "attachments": {},
   "cell_type": "markdown",
   "metadata": {},
   "source": [
    "## Setup "
   ]
  },
  {
   "attachments": {},
   "cell_type": "markdown",
   "metadata": {},
   "source": [
    "### Packages"
   ]
  },
  {
   "cell_type": "code",
   "execution_count": 2,
   "metadata": {},
   "outputs": [],
   "source": [
    "# Import librairies\n",
    "import os\n",
    "import re\n",
    "import csv\n",
    "import pandas as pd\n",
    "\n",
    "from itertools import chain"
   ]
  },
  {
   "attachments": {},
   "cell_type": "markdown",
   "metadata": {},
   "source": [
    "### Graphical parameters"
   ]
  },
  {
   "attachments": {},
   "cell_type": "markdown",
   "metadata": {},
   "source": [
    "### Paths"
   ]
  },
  {
   "cell_type": "code",
   "execution_count": 3,
   "metadata": {},
   "outputs": [],
   "source": [
    "# Set path\n",
    "abes_path = \"/home/aurelie/ABES/labo-indexation-ai/\"\n",
    "os.chdir(abes_path)"
   ]
  },
  {
   "cell_type": "code",
   "execution_count": 4,
   "metadata": {},
   "outputs": [
    {
     "name": "stdout",
     "output_type": "stream",
     "text": [
      "Folder ANNIF already exists\n",
      "Folder ANNIF/data already exists\n",
      "Folder ANNIF/reports already exists\n",
      "Folder ANNIF/data/train already exists\n",
      "Folder ANNIF/data/test already exists\n",
      "Folder ANNIF/data/valid already exists\n"
     ]
    }
   ],
   "source": [
    "# Create folders if needed\n",
    "list_folder = [\n",
    "    \"ANNIF\", \n",
    "    \"ANNIF/data\", \"ANNIF/reports\",\n",
    "    \"ANNIF/data/train\", \"ANNIF/data/test\", \"ANNIF/data/valid\"]\n",
    "\n",
    "for folder in list_folder:\n",
    "    if not os.path.exists(folder):\n",
    "        os.makedirs(folder)\n",
    "    else:\n",
    "        print(f\"Folder {folder} already exists\")\n",
    "\n"
   ]
  },
  {
   "cell_type": "code",
   "execution_count": 5,
   "metadata": {},
   "outputs": [],
   "source": [
    "# Set current directory\n",
    "annif_path = os.getcwd() + \"/ANNIF\"\n",
    "os.chdir(annif_path)"
   ]
  },
  {
   "cell_type": "code",
   "execution_count": 6,
   "metadata": {},
   "outputs": [],
   "source": [
    "# Set paths\n",
    "data_path = \"./../data\"\n",
    "fig_path = \"./../figs\"\n",
    "annif_data_path = annif_path + \"/data\"\n",
    "annif_report_path = annif_path + \"/reports\""
   ]
  },
  {
   "attachments": {},
   "cell_type": "markdown",
   "metadata": {},
   "source": [
    "### Files"
   ]
  },
  {
   "cell_type": "code",
   "execution_count": 7,
   "metadata": {},
   "outputs": [],
   "source": [
    "# Select data to use\n",
    "data = \"working_data_sans_dewey.pkl\"\n",
    "rameau_file_td = \"extraction/liste_concepts_rameau_sans_vedetteConstruites.csv\"\n",
    "rameau_file_tf = \"extraction/Tf8_Forme-genre_Rameau_juin_2023.csv\"\n",
    "rameau_file = \"rameau_Tf_Td_withURI.csv\""
   ]
  },
  {
   "cell_type": "code",
   "execution_count": 8,
   "metadata": {},
   "outputs": [],
   "source": [
    "# Merge predictions to existing predictions?\n",
    "save_predictions = True\n",
    "optimization = True"
   ]
  },
  {
   "attachments": {},
   "cell_type": "markdown",
   "metadata": {},
   "source": [
    "## Create datasets"
   ]
  },
  {
   "attachments": {},
   "cell_type": "markdown",
   "metadata": {},
   "source": [
    "### Import data"
   ]
  },
  {
   "cell_type": "code",
   "execution_count": 9,
   "metadata": {},
   "outputs": [
    {
     "name": "stdout",
     "output_type": "stream",
     "text": [
      "(154508, 10)\n"
     ]
    }
   ],
   "source": [
    "# Import working data\n",
    "df = pd.read_pickle(os.path.join(data_path, data))\n",
    "print(df.shape)"
   ]
  },
  {
   "cell_type": "code",
   "execution_count": 10,
   "metadata": {},
   "outputs": [
    {
     "data": {
      "text/html": [
       "<div>\n",
       "<style scoped>\n",
       "    .dataframe tbody tr th:only-of-type {\n",
       "        vertical-align: middle;\n",
       "    }\n",
       "\n",
       "    .dataframe tbody tr th {\n",
       "        vertical-align: top;\n",
       "    }\n",
       "\n",
       "    .dataframe thead th {\n",
       "        text-align: right;\n",
       "    }\n",
       "</style>\n",
       "<table border=\"1\" class=\"dataframe\">\n",
       "  <thead>\n",
       "    <tr style=\"text-align: right;\">\n",
       "      <th></th>\n",
       "      <th>PPN</th>\n",
       "      <th>TITRE</th>\n",
       "      <th>RESUME</th>\n",
       "      <th>RAMEAU</th>\n",
       "      <th>DEWEY</th>\n",
       "      <th>DESCR</th>\n",
       "      <th>RAMEAU_CHECKED</th>\n",
       "      <th>presence_chaine_indexation</th>\n",
       "      <th>rameau_chaines_index</th>\n",
       "      <th>rameau_concepts</th>\n",
       "    </tr>\n",
       "  </thead>\n",
       "  <tbody>\n",
       "    <tr>\n",
       "      <th>0</th>\n",
       "      <td>000002364</td>\n",
       "      <td>La culture pour vivre</td>\n",
       "      <td>Mort de la culture populaire en France. Mutati...</td>\n",
       "      <td>Culture populaire;Diffusion de la culture;Poli...</td>\n",
       "      <td>840</td>\n",
       "      <td>La culture pour vivre Mort de la culture popul...</td>\n",
       "      <td>Culture populaire;Diffusion de la culture;Poli...</td>\n",
       "      <td>False</td>\n",
       "      <td>[Culture populaire, Diffusion de la culture, P...</td>\n",
       "      <td>[Culture populaire, Diffusion de la culture, P...</td>\n",
       "    </tr>\n",
       "    <tr>\n",
       "      <th>1</th>\n",
       "      <td>000014877</td>\n",
       "      <td>La nuit, le jour : essai psychanalytique sur l...</td>\n",
       "      <td>Discontinuité, latence, rétablissement d’une c...</td>\n",
       "      <td>Complexe de castration;Psychanalyse;Rêves</td>\n",
       "      <td>154.63</td>\n",
       "      <td>La nuit, le jour : essai psychanalytique sur l...</td>\n",
       "      <td>Complexe de castration;Psychanalyse;Rêves</td>\n",
       "      <td>False</td>\n",
       "      <td>[Complexe de castration, Psychanalyse, Rêves]</td>\n",
       "      <td>[Complexe de castration, Psychanalyse, Rêves]</td>\n",
       "    </tr>\n",
       "    <tr>\n",
       "      <th>2</th>\n",
       "      <td>000021857</td>\n",
       "      <td>Ruptures, cultures</td>\n",
       "      <td>Il faut imaginer Robinson sur son île, au mome...</td>\n",
       "      <td>Culture</td>\n",
       "      <td>840</td>\n",
       "      <td>Ruptures, cultures Il faut imaginer Robinson s...</td>\n",
       "      <td>Culture</td>\n",
       "      <td>False</td>\n",
       "      <td>[Culture]</td>\n",
       "      <td>[Culture]</td>\n",
       "    </tr>\n",
       "    <tr>\n",
       "      <th>3</th>\n",
       "      <td>00002564X</td>\n",
       "      <td>La révolution structurale</td>\n",
       "      <td>Mutations ou crises, les brusques accès de fiè...</td>\n",
       "      <td>Structuralisme</td>\n",
       "      <td>100</td>\n",
       "      <td>La révolution structurale Mutations ou crises,...</td>\n",
       "      <td>Structuralisme</td>\n",
       "      <td>False</td>\n",
       "      <td>[Structuralisme]</td>\n",
       "      <td>[Structuralisme]</td>\n",
       "    </tr>\n",
       "    <tr>\n",
       "      <th>4</th>\n",
       "      <td>000026352</td>\n",
       "      <td>La Destruction du temple</td>\n",
       "      <td>Oswald tire sur Kennedy. Jusque-là, c'est bon,...</td>\n",
       "      <td>Science-fiction américaine -- Traductions fran...</td>\n",
       "      <td>830</td>\n",
       "      <td>La Destruction du temple Oswald tire sur Kenne...</td>\n",
       "      <td>Science-fiction américaine -- Traductions fran...</td>\n",
       "      <td>True</td>\n",
       "      <td>[Science-fiction américaine -- Traductions fra...</td>\n",
       "      <td>[Science-fiction américaine, Traductions franç...</td>\n",
       "    </tr>\n",
       "  </tbody>\n",
       "</table>\n",
       "</div>"
      ],
      "text/plain": [
       "         PPN                                              TITRE   \n",
       "0  000002364                              La culture pour vivre  \\\n",
       "1  000014877  La nuit, le jour : essai psychanalytique sur l...   \n",
       "2  000021857                                 Ruptures, cultures   \n",
       "3  00002564X                          La révolution structurale   \n",
       "4  000026352                           La Destruction du temple   \n",
       "\n",
       "                                              RESUME   \n",
       "0  Mort de la culture populaire en France. Mutati...  \\\n",
       "1  Discontinuité, latence, rétablissement d’une c...   \n",
       "2  Il faut imaginer Robinson sur son île, au mome...   \n",
       "3  Mutations ou crises, les brusques accès de fiè...   \n",
       "4  Oswald tire sur Kennedy. Jusque-là, c'est bon,...   \n",
       "\n",
       "                                              RAMEAU   DEWEY   \n",
       "0  Culture populaire;Diffusion de la culture;Poli...     840  \\\n",
       "1          Complexe de castration;Psychanalyse;Rêves  154.63   \n",
       "2                                            Culture     840   \n",
       "3                                     Structuralisme     100   \n",
       "4  Science-fiction américaine -- Traductions fran...     830   \n",
       "\n",
       "                                               DESCR   \n",
       "0  La culture pour vivre Mort de la culture popul...  \\\n",
       "1  La nuit, le jour : essai psychanalytique sur l...   \n",
       "2  Ruptures, cultures Il faut imaginer Robinson s...   \n",
       "3  La révolution structurale Mutations ou crises,...   \n",
       "4  La Destruction du temple Oswald tire sur Kenne...   \n",
       "\n",
       "                                      RAMEAU_CHECKED   \n",
       "0  Culture populaire;Diffusion de la culture;Poli...  \\\n",
       "1          Complexe de castration;Psychanalyse;Rêves   \n",
       "2                                            Culture   \n",
       "3                                     Structuralisme   \n",
       "4  Science-fiction américaine -- Traductions fran...   \n",
       "\n",
       "   presence_chaine_indexation   \n",
       "0                       False  \\\n",
       "1                       False   \n",
       "2                       False   \n",
       "3                       False   \n",
       "4                        True   \n",
       "\n",
       "                                rameau_chaines_index   \n",
       "0  [Culture populaire, Diffusion de la culture, P...  \\\n",
       "1      [Complexe de castration, Psychanalyse, Rêves]   \n",
       "2                                          [Culture]   \n",
       "3                                   [Structuralisme]   \n",
       "4  [Science-fiction américaine -- Traductions fra...   \n",
       "\n",
       "                                     rameau_concepts  \n",
       "0  [Culture populaire, Diffusion de la culture, P...  \n",
       "1      [Complexe de castration, Psychanalyse, Rêves]  \n",
       "2                                          [Culture]  \n",
       "3                                   [Structuralisme]  \n",
       "4  [Science-fiction américaine, Traductions franç...  "
      ]
     },
     "execution_count": 10,
     "metadata": {},
     "output_type": "execute_result"
    }
   ],
   "source": [
    "df.head()"
   ]
  },
  {
   "attachments": {},
   "cell_type": "markdown",
   "metadata": {},
   "source": [
    "### Create list of concepts with URIs (needed once)"
   ]
  },
  {
   "cell_type": "code",
   "execution_count": 11,
   "metadata": {},
   "outputs": [],
   "source": [
    "# Manage concepts\n",
    "ram_td = pd.read_csv(os.path.join(data_path, rameau_file_td), encoding=\"latin-1\")\n",
    "ram_tf = pd.read_csv(os.path.join(data_path, rameau_file_tf), encoding=\"utf-8\", sep=\";\")\n",
    "ram_tf = ram_tf.rename(columns={\"A001_AS\":\"PPN\", \"A008_AS\":'type', 'A003_AS': \"URI\", \"A280.A280Sa_AS\":\"NOM\"})\n",
    "ram_tf = ram_tf.dropna()\n",
    "\n",
    "# Correction de tous les problèmes liés aux @ \n",
    "ram_td[\"NOM\"] = ram_td[\"NOM\"].apply(lambda x: re.sub(r\" [?]\", \"\", re.sub(r\"^[?]\", \"\", x)))\n",
    "ram_tf[\"NOM\"] = ram_tf[\"NOM\"].apply(lambda x: re.sub(r\" [?]\", \"\", re.sub(r\"^[?]\", \"\", x)))\n",
    "ram_td[\"NOM\"] = ram_td[\"NOM\"].apply(lambda x: re.sub(r\"[\\\\],\", \",\", x))\n",
    "ram_tf[\"NOM\"] = ram_tf[\"NOM\"].apply(lambda x: re.sub(r\"[\\\\],\", \",\", x))"
   ]
  },
  {
   "cell_type": "code",
   "execution_count": 12,
   "metadata": {},
   "outputs": [
    {
     "data": {
      "text/html": [
       "<div>\n",
       "<style scoped>\n",
       "    .dataframe tbody tr th:only-of-type {\n",
       "        vertical-align: middle;\n",
       "    }\n",
       "\n",
       "    .dataframe tbody tr th {\n",
       "        vertical-align: top;\n",
       "    }\n",
       "\n",
       "    .dataframe thead th {\n",
       "        text-align: right;\n",
       "    }\n",
       "</style>\n",
       "<table border=\"1\" class=\"dataframe\">\n",
       "  <thead>\n",
       "    <tr style=\"text-align: right;\">\n",
       "      <th></th>\n",
       "      <th>PPN</th>\n",
       "      <th>NOM</th>\n",
       "      <th>URI</th>\n",
       "    </tr>\n",
       "  </thead>\n",
       "  <tbody>\n",
       "    <tr>\n",
       "      <th>0</th>\n",
       "      <td>157992527</td>\n",
       "      <td>Kirp?n</td>\n",
       "      <td>https://www.idref.fr/157992527</td>\n",
       "    </tr>\n",
       "    <tr>\n",
       "      <th>1</th>\n",
       "      <td>110140494</td>\n",
       "      <td>Militaires artistes</td>\n",
       "      <td>https://www.idref.fr/110140494</td>\n",
       "    </tr>\n",
       "    <tr>\n",
       "      <th>2</th>\n",
       "      <td>028492161</td>\n",
       "      <td>Militaires romains</td>\n",
       "      <td>https://www.idref.fr/028492161</td>\n",
       "    </tr>\n",
       "    <tr>\n",
       "      <th>3</th>\n",
       "      <td>028521757</td>\n",
       "      <td>Militaires prussiens</td>\n",
       "      <td>https://www.idref.fr/028521757</td>\n",
       "    </tr>\n",
       "    <tr>\n",
       "      <th>4</th>\n",
       "      <td>029895561</td>\n",
       "      <td>Sa-skya-pa</td>\n",
       "      <td>https://www.idref.fr/029895561</td>\n",
       "    </tr>\n",
       "    <tr>\n",
       "      <th>5</th>\n",
       "      <td>031875459</td>\n",
       "      <td>Militaires réunionnais</td>\n",
       "      <td>https://www.idref.fr/031875459</td>\n",
       "    </tr>\n",
       "    <tr>\n",
       "      <th>6</th>\n",
       "      <td>032370083</td>\n",
       "      <td>Construction à l'épreuve de la sécheresse</td>\n",
       "      <td>https://www.idref.fr/032370083</td>\n",
       "    </tr>\n",
       "    <tr>\n",
       "      <th>7</th>\n",
       "      <td>032878117</td>\n",
       "      <td>Missionnaires suisses</td>\n",
       "      <td>https://www.idref.fr/032878117</td>\n",
       "    </tr>\n",
       "    <tr>\n",
       "      <th>8</th>\n",
       "      <td>034423982</td>\n",
       "      <td>Militaires ivoiriens</td>\n",
       "      <td>https://www.idref.fr/034423982</td>\n",
       "    </tr>\n",
       "    <tr>\n",
       "      <th>9</th>\n",
       "      <td>034686940</td>\n",
       "      <td>Outils à métaux</td>\n",
       "      <td>https://www.idref.fr/034686940</td>\n",
       "    </tr>\n",
       "    <tr>\n",
       "      <th>10</th>\n",
       "      <td>034789081</td>\n",
       "      <td>Militaires maghrébins</td>\n",
       "      <td>https://www.idref.fr/034789081</td>\n",
       "    </tr>\n",
       "    <tr>\n",
       "      <th>11</th>\n",
       "      <td>034826483</td>\n",
       "      <td>Militaires japonais</td>\n",
       "      <td>https://www.idref.fr/034826483</td>\n",
       "    </tr>\n",
       "    <tr>\n",
       "      <th>12</th>\n",
       "      <td>034948813</td>\n",
       "      <td>Outils pour le travail du cuir</td>\n",
       "      <td>https://www.idref.fr/034948813</td>\n",
       "    </tr>\n",
       "    <tr>\n",
       "      <th>13</th>\n",
       "      <td>035446404</td>\n",
       "      <td>Militaires albanais</td>\n",
       "      <td>https://www.idref.fr/035446404</td>\n",
       "    </tr>\n",
       "    <tr>\n",
       "      <th>14</th>\n",
       "      <td>035752939</td>\n",
       "      <td>Militaires israéliens</td>\n",
       "      <td>https://www.idref.fr/035752939</td>\n",
       "    </tr>\n",
       "    <tr>\n",
       "      <th>15</th>\n",
       "      <td>195692845</td>\n",
       "      <td>École de Madrid (philosophie)</td>\n",
       "      <td>https://www.idref.fr/195692845</td>\n",
       "    </tr>\n",
       "    <tr>\n",
       "      <th>16</th>\n",
       "      <td>20377101X</td>\n",
       "      <td>Scientifiques suisses</td>\n",
       "      <td>https://www.idref.fr/20377101X</td>\n",
       "    </tr>\n",
       "    <tr>\n",
       "      <th>17</th>\n",
       "      <td>203771044</td>\n",
       "      <td>Diretmidae</td>\n",
       "      <td>https://www.idref.fr/203771044</td>\n",
       "    </tr>\n",
       "    <tr>\n",
       "      <th>18</th>\n",
       "      <td>203771060</td>\n",
       "      <td>Diretmichthys</td>\n",
       "      <td>https://www.idref.fr/203771060</td>\n",
       "    </tr>\n",
       "    <tr>\n",
       "      <th>19</th>\n",
       "      <td>203771370</td>\n",
       "      <td>Opsanus beta</td>\n",
       "      <td>https://www.idref.fr/203771370</td>\n",
       "    </tr>\n",
       "  </tbody>\n",
       "</table>\n",
       "</div>"
      ],
      "text/plain": [
       "          PPN                                        NOM   \n",
       "0   157992527                                     Kirp?n  \\\n",
       "1   110140494                        Militaires artistes   \n",
       "2   028492161                         Militaires romains   \n",
       "3   028521757                       Militaires prussiens   \n",
       "4   029895561                                 Sa-skya-pa   \n",
       "5   031875459                     Militaires réunionnais   \n",
       "6   032370083  Construction à l'épreuve de la sécheresse   \n",
       "7   032878117                      Missionnaires suisses   \n",
       "8   034423982                       Militaires ivoiriens   \n",
       "9   034686940                            Outils à métaux   \n",
       "10  034789081                      Militaires maghrébins   \n",
       "11  034826483                        Militaires japonais   \n",
       "12  034948813             Outils pour le travail du cuir   \n",
       "13  035446404                        Militaires albanais   \n",
       "14  035752939                      Militaires israéliens   \n",
       "15  195692845              École de Madrid (philosophie)   \n",
       "16  20377101X                      Scientifiques suisses   \n",
       "17  203771044                                 Diretmidae   \n",
       "18  203771060                              Diretmichthys   \n",
       "19  203771370                               Opsanus beta   \n",
       "\n",
       "                               URI  \n",
       "0   https://www.idref.fr/157992527  \n",
       "1   https://www.idref.fr/110140494  \n",
       "2   https://www.idref.fr/028492161  \n",
       "3   https://www.idref.fr/028521757  \n",
       "4   https://www.idref.fr/029895561  \n",
       "5   https://www.idref.fr/031875459  \n",
       "6   https://www.idref.fr/032370083  \n",
       "7   https://www.idref.fr/032878117  \n",
       "8   https://www.idref.fr/034423982  \n",
       "9   https://www.idref.fr/034686940  \n",
       "10  https://www.idref.fr/034789081  \n",
       "11  https://www.idref.fr/034826483  \n",
       "12  https://www.idref.fr/034948813  \n",
       "13  https://www.idref.fr/035446404  \n",
       "14  https://www.idref.fr/035752939  \n",
       "15  https://www.idref.fr/195692845  \n",
       "16  https://www.idref.fr/20377101X  \n",
       "17  https://www.idref.fr/203771044  \n",
       "18  https://www.idref.fr/203771060  \n",
       "19  https://www.idref.fr/203771370  "
      ]
     },
     "execution_count": 12,
     "metadata": {},
     "output_type": "execute_result"
    }
   ],
   "source": [
    "# Creation des URIS\n",
    "BASE_URI = 'https://www.idref.fr/'\n",
    "ram_td[\"URI\"] = ram_td[\"PPN\"].apply(lambda x: BASE_URI + x)\n",
    "ram_td.head(20)"
   ]
  },
  {
   "cell_type": "code",
   "execution_count": 13,
   "metadata": {},
   "outputs": [
    {
     "name": "stdout",
     "output_type": "stream",
     "text": [
      "103628 authorized concepts among Td and tf\n"
     ]
    }
   ],
   "source": [
    "# Concatenate concepts\n",
    "authorized_concepts = pd.concat([ram_td[[\"PPN\", \"NOM\", \"URI\"]],  ram_tf[[\"PPN\", \"NOM\", \"URI\"]]]).dropna()\n",
    "print(f\"{len(authorized_concepts)} authorized concepts among Td and tf\")\n",
    "# Save URI to csv file\n",
    "authorized_concepts.to_csv(os.path.join(data_path, str(\"rameau_Tf_Td_withURI.csv\")))"
   ]
  },
  {
   "attachments": {},
   "cell_type": "markdown",
   "metadata": {},
   "source": [
    "### Create vocabulary file for ANNIF"
   ]
  },
  {
   "cell_type": "code",
   "execution_count": 14,
   "metadata": {},
   "outputs": [
    {
     "name": "stdout",
     "output_type": "stream",
     "text": [
      "(103628, 3)\n"
     ]
    },
    {
     "data": {
      "text/html": [
       "<div>\n",
       "<style scoped>\n",
       "    .dataframe tbody tr th:only-of-type {\n",
       "        vertical-align: middle;\n",
       "    }\n",
       "\n",
       "    .dataframe tbody tr th {\n",
       "        vertical-align: top;\n",
       "    }\n",
       "\n",
       "    .dataframe thead th {\n",
       "        text-align: right;\n",
       "    }\n",
       "</style>\n",
       "<table border=\"1\" class=\"dataframe\">\n",
       "  <thead>\n",
       "    <tr style=\"text-align: right;\">\n",
       "      <th></th>\n",
       "      <th>PPN</th>\n",
       "      <th>NOM</th>\n",
       "      <th>URI</th>\n",
       "    </tr>\n",
       "  </thead>\n",
       "  <tbody>\n",
       "    <tr>\n",
       "      <th>0</th>\n",
       "      <td>157992527</td>\n",
       "      <td>Kirp?n</td>\n",
       "      <td>https://www.idref.fr/157992527</td>\n",
       "    </tr>\n",
       "    <tr>\n",
       "      <th>1</th>\n",
       "      <td>110140494</td>\n",
       "      <td>Militaires artistes</td>\n",
       "      <td>https://www.idref.fr/110140494</td>\n",
       "    </tr>\n",
       "    <tr>\n",
       "      <th>2</th>\n",
       "      <td>028492161</td>\n",
       "      <td>Militaires romains</td>\n",
       "      <td>https://www.idref.fr/028492161</td>\n",
       "    </tr>\n",
       "    <tr>\n",
       "      <th>3</th>\n",
       "      <td>028521757</td>\n",
       "      <td>Militaires prussiens</td>\n",
       "      <td>https://www.idref.fr/028521757</td>\n",
       "    </tr>\n",
       "    <tr>\n",
       "      <th>4</th>\n",
       "      <td>029895561</td>\n",
       "      <td>Sa-skya-pa</td>\n",
       "      <td>https://www.idref.fr/029895561</td>\n",
       "    </tr>\n",
       "    <tr>\n",
       "      <th>5</th>\n",
       "      <td>031875459</td>\n",
       "      <td>Militaires réunionnais</td>\n",
       "      <td>https://www.idref.fr/031875459</td>\n",
       "    </tr>\n",
       "    <tr>\n",
       "      <th>6</th>\n",
       "      <td>032370083</td>\n",
       "      <td>Construction à l'épreuve de la sécheresse</td>\n",
       "      <td>https://www.idref.fr/032370083</td>\n",
       "    </tr>\n",
       "    <tr>\n",
       "      <th>7</th>\n",
       "      <td>032878117</td>\n",
       "      <td>Missionnaires suisses</td>\n",
       "      <td>https://www.idref.fr/032878117</td>\n",
       "    </tr>\n",
       "    <tr>\n",
       "      <th>8</th>\n",
       "      <td>034423982</td>\n",
       "      <td>Militaires ivoiriens</td>\n",
       "      <td>https://www.idref.fr/034423982</td>\n",
       "    </tr>\n",
       "    <tr>\n",
       "      <th>9</th>\n",
       "      <td>034686940</td>\n",
       "      <td>Outils à métaux</td>\n",
       "      <td>https://www.idref.fr/034686940</td>\n",
       "    </tr>\n",
       "    <tr>\n",
       "      <th>10</th>\n",
       "      <td>034789081</td>\n",
       "      <td>Militaires maghrébins</td>\n",
       "      <td>https://www.idref.fr/034789081</td>\n",
       "    </tr>\n",
       "    <tr>\n",
       "      <th>11</th>\n",
       "      <td>034826483</td>\n",
       "      <td>Militaires japonais</td>\n",
       "      <td>https://www.idref.fr/034826483</td>\n",
       "    </tr>\n",
       "    <tr>\n",
       "      <th>12</th>\n",
       "      <td>034948813</td>\n",
       "      <td>Outils pour le travail du cuir</td>\n",
       "      <td>https://www.idref.fr/034948813</td>\n",
       "    </tr>\n",
       "    <tr>\n",
       "      <th>13</th>\n",
       "      <td>035446404</td>\n",
       "      <td>Militaires albanais</td>\n",
       "      <td>https://www.idref.fr/035446404</td>\n",
       "    </tr>\n",
       "    <tr>\n",
       "      <th>14</th>\n",
       "      <td>035752939</td>\n",
       "      <td>Militaires israéliens</td>\n",
       "      <td>https://www.idref.fr/035752939</td>\n",
       "    </tr>\n",
       "    <tr>\n",
       "      <th>15</th>\n",
       "      <td>195692845</td>\n",
       "      <td>École de Madrid (philosophie)</td>\n",
       "      <td>https://www.idref.fr/195692845</td>\n",
       "    </tr>\n",
       "    <tr>\n",
       "      <th>16</th>\n",
       "      <td>20377101X</td>\n",
       "      <td>Scientifiques suisses</td>\n",
       "      <td>https://www.idref.fr/20377101X</td>\n",
       "    </tr>\n",
       "    <tr>\n",
       "      <th>17</th>\n",
       "      <td>203771044</td>\n",
       "      <td>Diretmidae</td>\n",
       "      <td>https://www.idref.fr/203771044</td>\n",
       "    </tr>\n",
       "    <tr>\n",
       "      <th>18</th>\n",
       "      <td>203771060</td>\n",
       "      <td>Diretmichthys</td>\n",
       "      <td>https://www.idref.fr/203771060</td>\n",
       "    </tr>\n",
       "    <tr>\n",
       "      <th>19</th>\n",
       "      <td>203771370</td>\n",
       "      <td>Opsanus beta</td>\n",
       "      <td>https://www.idref.fr/203771370</td>\n",
       "    </tr>\n",
       "  </tbody>\n",
       "</table>\n",
       "</div>"
      ],
      "text/plain": [
       "          PPN                                        NOM   \n",
       "0   157992527                                     Kirp?n  \\\n",
       "1   110140494                        Militaires artistes   \n",
       "2   028492161                         Militaires romains   \n",
       "3   028521757                       Militaires prussiens   \n",
       "4   029895561                                 Sa-skya-pa   \n",
       "5   031875459                     Militaires réunionnais   \n",
       "6   032370083  Construction à l'épreuve de la sécheresse   \n",
       "7   032878117                      Missionnaires suisses   \n",
       "8   034423982                       Militaires ivoiriens   \n",
       "9   034686940                            Outils à métaux   \n",
       "10  034789081                      Militaires maghrébins   \n",
       "11  034826483                        Militaires japonais   \n",
       "12  034948813             Outils pour le travail du cuir   \n",
       "13  035446404                        Militaires albanais   \n",
       "14  035752939                      Militaires israéliens   \n",
       "15  195692845              École de Madrid (philosophie)   \n",
       "16  20377101X                      Scientifiques suisses   \n",
       "17  203771044                                 Diretmidae   \n",
       "18  203771060                              Diretmichthys   \n",
       "19  203771370                               Opsanus beta   \n",
       "\n",
       "                               URI  \n",
       "0   https://www.idref.fr/157992527  \n",
       "1   https://www.idref.fr/110140494  \n",
       "2   https://www.idref.fr/028492161  \n",
       "3   https://www.idref.fr/028521757  \n",
       "4   https://www.idref.fr/029895561  \n",
       "5   https://www.idref.fr/031875459  \n",
       "6   https://www.idref.fr/032370083  \n",
       "7   https://www.idref.fr/032878117  \n",
       "8   https://www.idref.fr/034423982  \n",
       "9   https://www.idref.fr/034686940  \n",
       "10  https://www.idref.fr/034789081  \n",
       "11  https://www.idref.fr/034826483  \n",
       "12  https://www.idref.fr/034948813  \n",
       "13  https://www.idref.fr/035446404  \n",
       "14  https://www.idref.fr/035752939  \n",
       "15  https://www.idref.fr/195692845  \n",
       "16  https://www.idref.fr/20377101X  \n",
       "17  https://www.idref.fr/203771044  \n",
       "18  https://www.idref.fr/203771060  \n",
       "19  https://www.idref.fr/203771370  "
      ]
     },
     "execution_count": 14,
     "metadata": {},
     "output_type": "execute_result"
    }
   ],
   "source": [
    "# Import file of RAMEAU concepts\n",
    "rameau = pd.read_csv(os.path.join(data_path, rameau_file), encoding=\"utf-8\", index_col=0)\n",
    "print(rameau.shape)\n",
    "rameau.head(20)"
   ]
  },
  {
   "cell_type": "code",
   "execution_count": 15,
   "metadata": {},
   "outputs": [],
   "source": [
    "# Create dictionnary of URI\n",
    "label2uri = {k:v for k,v in zip(rameau[\"NOM\"], rameau[\"URI\"].astype(str))}"
   ]
  },
  {
   "attachments": {},
   "cell_type": "markdown",
   "metadata": {},
   "source": [
    "#### Create vocabulary from concepts"
   ]
  },
  {
   "cell_type": "code",
   "execution_count": 16,
   "metadata": {},
   "outputs": [
    {
     "data": {
      "text/html": [
       "<div>\n",
       "<style scoped>\n",
       "    .dataframe tbody tr th:only-of-type {\n",
       "        vertical-align: middle;\n",
       "    }\n",
       "\n",
       "    .dataframe tbody tr th {\n",
       "        vertical-align: top;\n",
       "    }\n",
       "\n",
       "    .dataframe thead th {\n",
       "        text-align: right;\n",
       "    }\n",
       "</style>\n",
       "<table border=\"1\" class=\"dataframe\">\n",
       "  <thead>\n",
       "    <tr style=\"text-align: right;\">\n",
       "      <th></th>\n",
       "      <th>label_fr</th>\n",
       "      <th>uri</th>\n",
       "    </tr>\n",
       "  </thead>\n",
       "  <tbody>\n",
       "    <tr>\n",
       "      <th>0</th>\n",
       "      <td>Kirp?n</td>\n",
       "      <td>https://www.idref.fr/157992527</td>\n",
       "    </tr>\n",
       "    <tr>\n",
       "      <th>1</th>\n",
       "      <td>Militaires artistes</td>\n",
       "      <td>https://www.idref.fr/110140494</td>\n",
       "    </tr>\n",
       "    <tr>\n",
       "      <th>2</th>\n",
       "      <td>Militaires romains</td>\n",
       "      <td>https://www.idref.fr/028492161</td>\n",
       "    </tr>\n",
       "    <tr>\n",
       "      <th>3</th>\n",
       "      <td>Militaires prussiens</td>\n",
       "      <td>https://www.idref.fr/028521757</td>\n",
       "    </tr>\n",
       "    <tr>\n",
       "      <th>4</th>\n",
       "      <td>Sa-skya-pa</td>\n",
       "      <td>https://www.idref.fr/029895561</td>\n",
       "    </tr>\n",
       "    <tr>\n",
       "      <th>5</th>\n",
       "      <td>Militaires réunionnais</td>\n",
       "      <td>https://www.idref.fr/031875459</td>\n",
       "    </tr>\n",
       "    <tr>\n",
       "      <th>6</th>\n",
       "      <td>Construction à l'épreuve de la sécheresse</td>\n",
       "      <td>https://www.idref.fr/032370083</td>\n",
       "    </tr>\n",
       "    <tr>\n",
       "      <th>7</th>\n",
       "      <td>Missionnaires suisses</td>\n",
       "      <td>https://www.idref.fr/032878117</td>\n",
       "    </tr>\n",
       "    <tr>\n",
       "      <th>8</th>\n",
       "      <td>Militaires ivoiriens</td>\n",
       "      <td>https://www.idref.fr/034423982</td>\n",
       "    </tr>\n",
       "    <tr>\n",
       "      <th>9</th>\n",
       "      <td>Outils à métaux</td>\n",
       "      <td>https://www.idref.fr/034686940</td>\n",
       "    </tr>\n",
       "  </tbody>\n",
       "</table>\n",
       "</div>"
      ],
      "text/plain": [
       "                                    label_fr                             uri\n",
       "0                                     Kirp?n  https://www.idref.fr/157992527\n",
       "1                        Militaires artistes  https://www.idref.fr/110140494\n",
       "2                         Militaires romains  https://www.idref.fr/028492161\n",
       "3                       Militaires prussiens  https://www.idref.fr/028521757\n",
       "4                                 Sa-skya-pa  https://www.idref.fr/029895561\n",
       "5                     Militaires réunionnais  https://www.idref.fr/031875459\n",
       "6  Construction à l'épreuve de la sécheresse  https://www.idref.fr/032370083\n",
       "7                      Missionnaires suisses  https://www.idref.fr/032878117\n",
       "8                       Militaires ivoiriens  https://www.idref.fr/034423982\n",
       "9                            Outils à métaux  https://www.idref.fr/034686940"
      ]
     },
     "execution_count": 16,
     "metadata": {},
     "output_type": "execute_result"
    }
   ],
   "source": [
    "# Create vocabulary file\n",
    "vocab_filename = os.path.join(annif_data_path,'vocabs/rameau/subjects.csv')\n",
    "vocab = pd.DataFrame(rameau[[\"NOM\", \"URI\"]])\n",
    "vocab.columns = [\"label_fr\", \"uri\"]\n",
    "vocab.to_csv(vocab_filename, encoding='utf-8', index=None)\n",
    "vocab.head(10)"
   ]
  },
  {
   "cell_type": "code",
   "execution_count": 17,
   "metadata": {},
   "outputs": [
    {
     "name": "stdout",
     "output_type": "stream",
     "text": [
      "/bin/bash: /home/aurelie/anaconda3/lib/libtinfo.so.6: no version information available (required by /bin/bash)\n",
      "label_fr,uri\n",
      "Kirp?n,https://www.idref.fr/157992527\n",
      "Militaires artistes,https://www.idref.fr/110140494\n",
      "Militaires romains,https://www.idref.fr/028492161\n",
      "Militaires prussiens,https://www.idref.fr/028521757\n",
      "Sa-skya-pa,https://www.idref.fr/029895561\n",
      "Militaires réunionnais,https://www.idref.fr/031875459\n",
      "Construction à l'épreuve de la sécheresse,https://www.idref.fr/032370083\n",
      "Missionnaires suisses,https://www.idref.fr/032878117\n",
      "Militaires ivoiriens,https://www.idref.fr/034423982\n"
     ]
    }
   ],
   "source": [
    "# Check import with bash:\n",
    "! head {vocab_filename}"
   ]
  },
  {
   "cell_type": "code",
   "execution_count": 18,
   "metadata": {},
   "outputs": [
    {
     "name": "stdout",
     "output_type": "stream",
     "text": [
      "/bin/bash: /home/aurelie/anaconda3/lib/libtinfo.so.6: no version information available (required by /bin/bash)\n",
      "103629\n"
     ]
    }
   ],
   "source": [
    "# Check number of concepts in the vocabulary file:\n",
    "! wc -l < {vocab_filename}"
   ]
  },
  {
   "cell_type": "code",
   "execution_count": 19,
   "metadata": {},
   "outputs": [
    {
     "name": "stdout",
     "output_type": "stream",
     "text": [
      "/bin/bash: /home/aurelie/anaconda3/lib/libtinfo.so.6: no version information available (required by /bin/bash)\n",
      "Loading vocabulary from CSV file /home/aurelie/ABES/labo-indexation-ai/ANNIF/data/vocabs/rameau/subjects.csv...\n",
      "updating existing subject index\n",
      "saving vocabulary into SKOS file data/vocabs/rameau/subjects.ttl\n"
     ]
    }
   ],
   "source": [
    "# Load vocabulary\n",
    "! annif load-vocab rameau {vocab_filename}"
   ]
  },
  {
   "attachments": {},
   "cell_type": "markdown",
   "metadata": {},
   "source": [
    "#### Create vocabulary from indexation chains (train_dataset)"
   ]
  },
  {
   "cell_type": "code",
   "execution_count": 20,
   "metadata": {},
   "outputs": [],
   "source": [
    "# Create URIS\n",
    "def create_vocabulary_from_chains(chains, label2uri):\n",
    "    chain_df = pd.DataFrame()\n",
    "    for label in chains:\n",
    "        i = 0\n",
    "        if ' -- ' in label:\n",
    "            chain_df.loc[i, \"label_fr\"] = label\n",
    "            items = label.split(\" -- \")\n",
    "            chained_uri = []\n",
    "            for item in items:\n",
    "                chained_uri.append(label2uri[item])\n",
    "            chain_df.loc[i, \"uri\"] = \"--\".join(chained_uri)\n",
    "            i += 1 \n",
    "            \n",
    "    return chain_df"
   ]
  },
  {
   "cell_type": "code",
   "execution_count": 30,
   "metadata": {},
   "outputs": [
    {
     "name": "stdout",
     "output_type": "stream",
     "text": [
      "dimension of train set:  (125264, 10)\n"
     ]
    }
   ],
   "source": [
    "# Append vocabulary with indexation chains in training set (quite long to run ~ 5min)\n",
    "vocab_chain = vocab.copy()\n",
    "df_train = pd.read_csv(os.path.join(data_path, \"train_dataset.csv\"))\n",
    "print(\"dimension of train set: \", df_train.shape)\n",
    "for indexation in df_train[\"rameau_chaines_index\"]:\n",
    "    new_uri_chain = create_vocabulary_from_chains(eval(indexation), label2uri)\n",
    "    vocab_chain = pd.concat([vocab_chain, new_uri_chain])"
   ]
  },
  {
   "cell_type": "code",
   "execution_count": 32,
   "metadata": {},
   "outputs": [
    {
     "name": "stdout",
     "output_type": "stream",
     "text": [
      "Vocabulary with indexation chains : (151048, 2)\n"
     ]
    },
    {
     "data": {
      "text/html": [
       "<div>\n",
       "<style scoped>\n",
       "    .dataframe tbody tr th:only-of-type {\n",
       "        vertical-align: middle;\n",
       "    }\n",
       "\n",
       "    .dataframe tbody tr th {\n",
       "        vertical-align: top;\n",
       "    }\n",
       "\n",
       "    .dataframe thead th {\n",
       "        text-align: right;\n",
       "    }\n",
       "</style>\n",
       "<table border=\"1\" class=\"dataframe\">\n",
       "  <thead>\n",
       "    <tr style=\"text-align: right;\">\n",
       "      <th></th>\n",
       "      <th>label_fr</th>\n",
       "      <th>uri</th>\n",
       "    </tr>\n",
       "  </thead>\n",
       "  <tbody>\n",
       "    <tr>\n",
       "      <th>0</th>\n",
       "      <td>Population -- Statistiques -- Vingtième siècle</td>\n",
       "      <td>https://www.idref.fr/027546071--http://www.idr...</td>\n",
       "    </tr>\n",
       "    <tr>\n",
       "      <th>0</th>\n",
       "      <td>Esclavage -- Dans l'art</td>\n",
       "      <td>https://www.idref.fr/027224295--https://www.id...</td>\n",
       "    </tr>\n",
       "    <tr>\n",
       "      <th>0</th>\n",
       "      <td>Physique -- Dans l'art</td>\n",
       "      <td>https://www.idref.fr/027247015--https://www.id...</td>\n",
       "    </tr>\n",
       "    <tr>\n",
       "      <th>0</th>\n",
       "      <td>Violences sexuelles -- Prévention</td>\n",
       "      <td>https://www.idref.fr/027343758--https://www.id...</td>\n",
       "    </tr>\n",
       "    <tr>\n",
       "      <th>0</th>\n",
       "      <td>Transition écologique -- Finances</td>\n",
       "      <td>https://www.idref.fr/189110813--https://www.id...</td>\n",
       "    </tr>\n",
       "  </tbody>\n",
       "</table>\n",
       "</div>"
      ],
      "text/plain": [
       "                                         label_fr   \n",
       "0  Population -- Statistiques -- Vingtième siècle  \\\n",
       "0                         Esclavage -- Dans l'art   \n",
       "0                          Physique -- Dans l'art   \n",
       "0               Violences sexuelles -- Prévention   \n",
       "0               Transition écologique -- Finances   \n",
       "\n",
       "                                                 uri  \n",
       "0  https://www.idref.fr/027546071--http://www.idr...  \n",
       "0  https://www.idref.fr/027224295--https://www.id...  \n",
       "0  https://www.idref.fr/027247015--https://www.id...  \n",
       "0  https://www.idref.fr/027343758--https://www.id...  \n",
       "0  https://www.idref.fr/189110813--https://www.id...  "
      ]
     },
     "execution_count": 32,
     "metadata": {},
     "output_type": "execute_result"
    }
   ],
   "source": [
    "# Check\n",
    "print(\"Vocabulary with indexation chains :\", vocab_chain.shape)\n",
    "vocab_chain.tail()"
   ]
  },
  {
   "cell_type": "code",
   "execution_count": 34,
   "metadata": {},
   "outputs": [
    {
     "data": {
      "text/html": [
       "<div>\n",
       "<style scoped>\n",
       "    .dataframe tbody tr th:only-of-type {\n",
       "        vertical-align: middle;\n",
       "    }\n",
       "\n",
       "    .dataframe tbody tr th {\n",
       "        vertical-align: top;\n",
       "    }\n",
       "\n",
       "    .dataframe thead th {\n",
       "        text-align: right;\n",
       "    }\n",
       "</style>\n",
       "<table border=\"1\" class=\"dataframe\">\n",
       "  <thead>\n",
       "    <tr style=\"text-align: right;\">\n",
       "      <th></th>\n",
       "      <th>label_fr</th>\n",
       "      <th>uri</th>\n",
       "    </tr>\n",
       "  </thead>\n",
       "  <tbody>\n",
       "    <tr>\n",
       "      <th>0</th>\n",
       "      <td>Kirp?n</td>\n",
       "      <td>https://www.idref.fr/157992527</td>\n",
       "    </tr>\n",
       "    <tr>\n",
       "      <th>1</th>\n",
       "      <td>Militaires artistes</td>\n",
       "      <td>https://www.idref.fr/110140494</td>\n",
       "    </tr>\n",
       "    <tr>\n",
       "      <th>2</th>\n",
       "      <td>Militaires romains</td>\n",
       "      <td>https://www.idref.fr/028492161</td>\n",
       "    </tr>\n",
       "    <tr>\n",
       "      <th>3</th>\n",
       "      <td>Militaires prussiens</td>\n",
       "      <td>https://www.idref.fr/028521757</td>\n",
       "    </tr>\n",
       "    <tr>\n",
       "      <th>4</th>\n",
       "      <td>Sa-skya-pa</td>\n",
       "      <td>https://www.idref.fr/029895561</td>\n",
       "    </tr>\n",
       "  </tbody>\n",
       "</table>\n",
       "</div>"
      ],
      "text/plain": [
       "               label_fr                             uri\n",
       "0                Kirp?n  https://www.idref.fr/157992527\n",
       "1   Militaires artistes  https://www.idref.fr/110140494\n",
       "2    Militaires romains  https://www.idref.fr/028492161\n",
       "3  Militaires prussiens  https://www.idref.fr/028521757\n",
       "4            Sa-skya-pa  https://www.idref.fr/029895561"
      ]
     },
     "execution_count": 34,
     "metadata": {},
     "output_type": "execute_result"
    }
   ],
   "source": [
    "# Save vocabulary file including indexaton chains\n",
    "vocab_filename_chain = os.path.join(annif_data_path,'vocabs/rameau-chains/subjects.csv')\n",
    "vocab_chain.to_csv(vocab_filename_chain, encoding='utf-8', index=None)\n",
    "vocab_chain.head()"
   ]
  },
  {
   "cell_type": "code",
   "execution_count": 35,
   "metadata": {},
   "outputs": [
    {
     "name": "stdout",
     "output_type": "stream",
     "text": [
      "/bin/bash: /home/aurelie/anaconda3/lib/libtinfo.so.6: no version information available (required by /bin/bash)\n",
      "label_fr,uri\n",
      "Kirp?n,https://www.idref.fr/157992527\n",
      "Militaires artistes,https://www.idref.fr/110140494\n",
      "Militaires romains,https://www.idref.fr/028492161\n",
      "Militaires prussiens,https://www.idref.fr/028521757\n",
      "Sa-skya-pa,https://www.idref.fr/029895561\n",
      "Militaires réunionnais,https://www.idref.fr/031875459\n",
      "Construction à l'épreuve de la sécheresse,https://www.idref.fr/032370083\n",
      "Missionnaires suisses,https://www.idref.fr/032878117\n",
      "Militaires ivoiriens,https://www.idref.fr/034423982\n",
      "\n",
      "/bin/bash: /home/aurelie/anaconda3/lib/libtinfo.so.6: no version information available (required by /bin/bash)\n",
      "Coutumes alimentaires -- Aspect social,https://www.idref.fr/027233464--https://www.idref.fr/027790088\n",
      "Sociologie -- Recherche,https://www.idref.fr/049647490--https://www.idref.fr/027315754\n",
      "Isolation thermique -- Aspect environnemental,https://www.idref.fr/027235394--https://www.idref.fr/027587886\n",
      "\"Nombre, Idée de -- Chez l'enfant\",https://www.idref.fr/027241181--https://www.idref.fr/16719402X\n",
      "Risques professionnels -- Prévention,https://www.idref.fr/165201010--https://www.idref.fr/02724525X\n",
      "Population -- Statistiques -- Vingtième siècle,https://www.idref.fr/027546071--http://www.idref.fr/028627008--https://www.idref.fr/027338983\n",
      "Esclavage -- Dans l'art,https://www.idref.fr/027224295--https://www.idref.fr/027966216\n",
      "Physique -- Dans l'art,https://www.idref.fr/027247015--https://www.idref.fr/027966216\n",
      "Violences sexuelles -- Prévention,https://www.idref.fr/027343758--https://www.idref.fr/02724525X\n",
      "Transition écologique -- Finances,https://www.idref.fr/189110813--https://www.idref.fr/027606511\n"
     ]
    }
   ],
   "source": [
    "# Check import with bash:\n",
    "! head {vocab_filename_chain}\n",
    "print()\n",
    "! tail {vocab_filename_chain}"
   ]
  },
  {
   "cell_type": "code",
   "execution_count": 36,
   "metadata": {},
   "outputs": [
    {
     "name": "stdout",
     "output_type": "stream",
     "text": [
      "/bin/bash: /home/aurelie/anaconda3/lib/libtinfo.so.6: no version information available (required by /bin/bash)\n",
      "151049\n"
     ]
    }
   ],
   "source": [
    "# Check number of concepts in the vocabulary file:\n",
    "! wc -l < {vocab_filename_chain}"
   ]
  },
  {
   "cell_type": "code",
   "execution_count": 41,
   "metadata": {},
   "outputs": [
    {
     "name": "stdout",
     "output_type": "stream",
     "text": [
      "Dimension du vocabulaire:  (151048, 2)\n",
      "/bin/bash: /home/aurelie/anaconda3/lib/libtinfo.so.6: no version information available (required by /bin/bash)\n",
      "Loading vocabulary from CSV file /home/aurelie/ABES/labo-indexation-ai/ANNIF/data/vocabs/rameau-chains/subjects.csv...\n",
      "updating existing subject index\n",
      "saving vocabulary into SKOS file data/vocabs/rameau/subjects.ttl\n"
     ]
    }
   ],
   "source": [
    "# Load vocabulary file in ANNIF\n",
    "print(\"Dimension du vocabulaire: \", vocab_chain.shape)\n",
    "! annif load-vocab rameau {vocab_filename_chain}"
   ]
  },
  {
   "cell_type": "code",
   "execution_count": 42,
   "metadata": {},
   "outputs": [
    {
     "name": "stdout",
     "output_type": "stream",
     "text": [
      "/bin/bash: /home/aurelie/anaconda3/lib/libtinfo.so.6: no version information available (required by /bin/bash)\n",
      "Vocabulary ID       Languages                 Size  Loaded\n",
      "----------------------------------------------------------\n",
      "rameau              fr                      151048  True  \n"
     ]
    }
   ],
   "source": [
    "! annif list-vocabs"
   ]
  },
  {
   "attachments": {},
   "cell_type": "markdown",
   "metadata": {},
   "source": [
    "### Datasets for training and evaluation"
   ]
  },
  {
   "attachments": {},
   "cell_type": "markdown",
   "metadata": {},
   "source": [
    "#### Define train and test sets (using split performed by Jean Luc Prieto)"
   ]
  },
  {
   "cell_type": "code",
   "execution_count": 43,
   "metadata": {},
   "outputs": [
    {
     "name": "stdout",
     "output_type": "stream",
     "text": [
      "dimension of train set:  (125264, 10)\n",
      "dimension of test set:  (29244, 10)\n",
      "dimension of validation set:  (100, 10)\n"
     ]
    }
   ],
   "source": [
    "# Define train and test sets \n",
    "df_train = pd.read_csv(os.path.join(data_path, \"train_dataset.csv\"))\n",
    "print(\"dimension of train set: \", df_train.shape)\n",
    "df_test = pd.read_csv(os.path.join(data_path, \"test_dataset.csv\"))\n",
    "print(\"dimension of test set: \", df_test.shape)\n",
    "df_valid = pd.read_csv(os.path.join(data_path, \"valid100_dataset.csv\"))\n",
    "print(\"dimension of validation set: \", df_valid.shape)"
   ]
  },
  {
   "attachments": {},
   "cell_type": "markdown",
   "metadata": {},
   "source": [
    "#### Create TSV files (short-text-document)\n",
    "see: https://github.com/NatLibFi/Annif/wiki/Document-corpus-formats#short-text-document-corpus-tsv-file"
   ]
  },
  {
   "cell_type": "code",
   "execution_count": 44,
   "metadata": {},
   "outputs": [],
   "source": [
    "# define paths\n",
    "train_tsv_path = os.path.join(annif_data_path, \"rameau-train.tsv\")\n",
    "test_tsv_path = os.path.join(annif_data_path, \"rameau-test.tsv\")\n",
    "valid_tsv_path = os.path.join(annif_data_path, \"rameau-valid.tsv\")\n",
    "\n",
    "train_tsv_path_chains = os.path.join(annif_data_path, \"rameau-train_chains.tsv\")\n",
    "test_tsv_path_chains = os.path.join(annif_data_path, \"rameau-test_chains.tsv\")\n",
    "valid_tsv_path_chains = os.path.join(annif_data_path, \"rameau-valid_chains.tsv\")\n",
    "\n",
    "\n",
    "annif_train_folder_path = os.path.join(annif_data_path, \"train/\")\n",
    "annif_test_folder_path = os.path.join(annif_data_path, \"test/\")\n",
    "annif_valid_folder_path = os.path.join(annif_data_path, \"valid/\")"
   ]
  },
  {
   "cell_type": "code",
   "execution_count": 45,
   "metadata": {},
   "outputs": [],
   "source": [
    "# Format URIS_chains for ANNIF\n",
    "def format_for_annif(labels):\n",
    "    uris = []\n",
    "    for label in labels:\n",
    "        if ' -- ' in label:\n",
    "            items = label.split(\" -- \")\n",
    "            l = []\n",
    "            for item in items:\n",
    "                l.append(label2uri[item])\n",
    "            uris.append(\"--\".join(l))\n",
    "            \n",
    "        elif label in label2uri.keys():\n",
    "            uris.append(label2uri[label])\n",
    "        \n",
    "        else:\n",
    "            pass\n",
    "\n",
    "    uris_formated = \" \".join(uris)\n",
    "    return uris_formated"
   ]
  },
  {
   "cell_type": "code",
   "execution_count": 46,
   "metadata": {},
   "outputs": [
    {
     "data": {
      "text/html": [
       "<div>\n",
       "<style scoped>\n",
       "    .dataframe tbody tr th:only-of-type {\n",
       "        vertical-align: middle;\n",
       "    }\n",
       "\n",
       "    .dataframe tbody tr th {\n",
       "        vertical-align: top;\n",
       "    }\n",
       "\n",
       "    .dataframe thead th {\n",
       "        text-align: right;\n",
       "    }\n",
       "</style>\n",
       "<table border=\"1\" class=\"dataframe\">\n",
       "  <thead>\n",
       "    <tr style=\"text-align: right;\">\n",
       "      <th></th>\n",
       "      <th>DESCR_cleaned</th>\n",
       "      <th>rameau_chains_formatted_for_annif</th>\n",
       "    </tr>\n",
       "  </thead>\n",
       "  <tbody>\n",
       "    <tr>\n",
       "      <th>0</th>\n",
       "      <td>La culture pour vivre Mort de la culture popul...</td>\n",
       "      <td>https://www.idref.fr/027348237 https://www.idr...</td>\n",
       "    </tr>\n",
       "    <tr>\n",
       "      <th>1</th>\n",
       "      <td>La nuit, le jour : essai psychanalytique sur l...</td>\n",
       "      <td>https://www.idref.fr/027823393 https://www.idr...</td>\n",
       "    </tr>\n",
       "    <tr>\n",
       "      <th>2</th>\n",
       "      <td>Ruptures, cultures Il faut imaginer Robinson s...</td>\n",
       "      <td>https://www.idref.fr/027231429</td>\n",
       "    </tr>\n",
       "    <tr>\n",
       "      <th>3</th>\n",
       "      <td>La Destruction du temple Oswald tire sur Kenne...</td>\n",
       "      <td>http://www.idref.fr/028242955--https://www.idr...</td>\n",
       "    </tr>\n",
       "    <tr>\n",
       "      <th>4</th>\n",
       "      <td>Mon père Jové, pèlerin de l'image Naturalisé f...</td>\n",
       "      <td>http://www.idref.fr/028224248</td>\n",
       "    </tr>\n",
       "  </tbody>\n",
       "</table>\n",
       "</div>"
      ],
      "text/plain": [
       "                                       DESCR_cleaned   \n",
       "0  La culture pour vivre Mort de la culture popul...  \\\n",
       "1  La nuit, le jour : essai psychanalytique sur l...   \n",
       "2  Ruptures, cultures Il faut imaginer Robinson s...   \n",
       "3  La Destruction du temple Oswald tire sur Kenne...   \n",
       "4  Mon père Jové, pèlerin de l'image Naturalisé f...   \n",
       "\n",
       "                   rameau_chains_formatted_for_annif  \n",
       "0  https://www.idref.fr/027348237 https://www.idr...  \n",
       "1  https://www.idref.fr/027823393 https://www.idr...  \n",
       "2                     https://www.idref.fr/027231429  \n",
       "3  http://www.idref.fr/028242955--https://www.idr...  \n",
       "4                      http://www.idref.fr/028224248  "
      ]
     },
     "execution_count": 46,
     "metadata": {},
     "output_type": "execute_result"
    }
   ],
   "source": [
    "# Apply on train data\n",
    "df_train[\"rameau_concept_formatted_for_annif\"] = df_train[\"rameau_concepts\"].apply(lambda x: format_for_annif(eval(x)))\n",
    "df_train[\"rameau_chains_formatted_for_annif\"] = df_train[\"rameau_chaines_index\"].apply(lambda x: format_for_annif(eval(x)))\n",
    "df_train[\"DESCR_cleaned\"] = df_train[\"DESCR\"].apply(lambda x: \" \".join(x.split()))\n",
    "df_train[[\"DESCR_cleaned\", \"rameau_chains_formatted_for_annif\"]].head(5)"
   ]
  },
  {
   "cell_type": "code",
   "execution_count": 47,
   "metadata": {},
   "outputs": [],
   "source": [
    "# Save TSV file for ANNIF\n",
    "train_tsv_path = os.path.join(annif_data_path, \"rameau-train.tsv\")\n",
    "train_tsv_path_chains = os.path.join(annif_data_path, \"rameau-train_chains.tsv\")\n",
    "\n",
    "with open(train_tsv_path, 'w', encoding='utf-8') as output_train_file:\n",
    "        for index, row in df_train.iterrows():\n",
    "                print(row['DESCR_cleaned'] + '\\t' + row['rameau_concept_formatted_for_annif'], file=output_train_file)\n",
    "\n",
    "\n",
    "with open(train_tsv_path_chains, 'w', encoding='utf-8') as output_train_file:\n",
    "        for index, row in df_train.iterrows():\n",
    "                print(row['DESCR_cleaned'] + '\\t' + row['rameau_chains_formatted_for_annif'], file=output_train_file)\n"
   ]
  },
  {
   "cell_type": "code",
   "execution_count": 48,
   "metadata": {},
   "outputs": [
    {
     "name": "stdout",
     "output_type": "stream",
     "text": [
      "/bin/bash: /home/aurelie/anaconda3/lib/libtinfo.so.6: no version information available (required by /bin/bash)\n",
      "La culture pour vivre Mort de la culture populaire en France. Mutation des institutions culturelles grâce à une technique de mise en relation des oeuvres et d'un public, et qui tend à créer un comportement culturel adapté aux caractéristiques de l'époque\thttps://www.idref.fr/027348237 https://www.idref.fr/027224929 https://www.idref.fr/027416593\n",
      "La nuit, le jour : essai psychanalytique sur le fonctionnement mental Discontinuité, latence, rétablissement d’une continuité organisent la vie psychique. Réparatrice est dite la nuit... Les auteurs ont voulu montrer la complexité sous-jacente à cette qualité dès lors que Freud met au jour dans l’étude du rêve, au-delà d’une certaine réalisation de désir inconscient lié à l’histoire individuelle d’un sujet donné, l’existence de « veinures » qui résultent de la préhistoire de tous les humains et qui, imprimant la matière où s’inscrit le rêve, obligent celui-ci à organiser l’hallucination du désir en fonction de leur immuabilité. Les pensées latentes où s’origine de jour la vie onirique surgissent sur fond de manque à percevoir où se réédite quotidiennement le message verbal de castration. C’est pourquoi les pensées latentes et l’hallucination du désir auraient plus tendance à se conserver qu’à se décharger. La poussée vers la décharge apte à rendre la nuit aussi réparatrice que possible ne pourrait aboutir si la mère du tout premier âge, mère sexuelle et incestueuse, invisible car recouverte de son habit de censure, ne resurgissait rythmiquement ; certes elle pérennise l’inceste, mais aussi, le temps d’un sommeil, elle replonge l’individu dans la nuit des temps.\thttps://www.idref.fr/027823393 https://www.idref.fr/027241505 https://www.idref.fr/027242013\n",
      "Ruptures, cultures Il faut imaginer Robinson sur son île, au moment où il va être menacé de découvrir les lettres et les arts : quelle ressource, observait déjà Rousseau, que cette figure, que cette “ folie ” pour une culture qui ne l'aura inventée que pour nous persuader plus sûrement de sa nécessité ? Mais tout un qui écrit, qui peint, qui fait œuvre, n'est-il pas une manière de Robinson, un être séparé ou – comme disait Bataille – un “ nécessiteux ” ? Et que dire de celui qui prétend s'exclure du jeu, refuser l'héritage, rompre les amarres ? Et que dire, à l'inverse, de celui qui, soustrait par force à la société de ses semblables, s'emploie à battre la culture sur son propre terrain, à la débusquer de ses retraites les plus secrètes, à la vaincre par excès ? De Dubuffet à Sade, en passant par quelques-unes des figures, mythiques, économiques, politiques, créatrices, de l'appropriation, de l'inquisition, du refus, c'est la culture elle-même qui se trouve renvoyée à son propre fond et sommée d'avouer – quand s'inversent les signes du luxe et de la nécessité – la puissance de rupture qui l'habite et qui fait son ressort.\thttps://www.idref.fr/027231429\n",
      "La Destruction du temple Oswald tire sur Kennedy. Jusque-là, c'est bon, cette fois, mais ensuite tout recommence à aller de travers. C'est bien simple, il n'y a rien à faire avec ces gens-là. Cet imbécile de Kennedy a jugé bon de se mettre debout dans la limousine, ce coup-là, et il tombe pesamment sans aucune élégance... Oswald, inconscient du désastre et ne pensant, comme tous les autres, qu'à sa propre prestation, balance allégrement son fusil du haut du dixième étage et disparaît de la fenêtre tandis que je me sauve ventre à terre. Reconstitution ? Film ? Jeu ? Et s'il s'agissait d'une autre réalité dans laquelle, à chaque instant, Lee Harvey Oswald tire sur le président Kennedy ?\thttp://www.idref.fr/028242955--https://www.idref.fr/029051428\n",
      "Mon père Jové, pèlerin de l'image Naturalisé français en 1931, ce photographe qui travailla entre autres pour l'Illustration fut aussi peintre, graveur-lithographe et pratiqua le cinéma itinérant. Il vécut 37 ans à Pau\thttp://www.idref.fr/028224248\n"
     ]
    }
   ],
   "source": [
    "# Check import with bash: \n",
    "! head -n 5 {train_tsv_path_chains}"
   ]
  },
  {
   "cell_type": "code",
   "execution_count": 49,
   "metadata": {},
   "outputs": [
    {
     "data": {
      "text/html": [
       "<div>\n",
       "<style scoped>\n",
       "    .dataframe tbody tr th:only-of-type {\n",
       "        vertical-align: middle;\n",
       "    }\n",
       "\n",
       "    .dataframe tbody tr th {\n",
       "        vertical-align: top;\n",
       "    }\n",
       "\n",
       "    .dataframe thead th {\n",
       "        text-align: right;\n",
       "    }\n",
       "</style>\n",
       "<table border=\"1\" class=\"dataframe\">\n",
       "  <thead>\n",
       "    <tr style=\"text-align: right;\">\n",
       "      <th></th>\n",
       "      <th>DESCR_cleaned</th>\n",
       "      <th>rameau_concept_formatted_for_annif</th>\n",
       "      <th>rameau_chains_formatted_for_annif</th>\n",
       "    </tr>\n",
       "  </thead>\n",
       "  <tbody>\n",
       "    <tr>\n",
       "      <th>0</th>\n",
       "      <td>La révolution structurale Mutations ou crises,...</td>\n",
       "      <td>https://www.idref.fr/027249581</td>\n",
       "      <td>https://www.idref.fr/027249581</td>\n",
       "    </tr>\n",
       "    <tr>\n",
       "      <th>1</th>\n",
       "      <td>La théorie des jeux et ses applications à l'éc...</td>\n",
       "      <td>https://www.idref.fr/02733743X https://www.idr...</td>\n",
       "      <td>https://www.idref.fr/02733743X https://www.idr...</td>\n",
       "    </tr>\n",
       "    <tr>\n",
       "      <th>2</th>\n",
       "      <td>Pétrole : le vrai dossier Que dissimulent les ...</td>\n",
       "      <td>https://www.idref.fr/027428958</td>\n",
       "      <td>https://www.idref.fr/027428958</td>\n",
       "    </tr>\n",
       "    <tr>\n",
       "      <th>3</th>\n",
       "      <td>Magie : aspects de la tradition occidentale La...</td>\n",
       "      <td>https://www.idref.fr/027238210</td>\n",
       "      <td>https://www.idref.fr/027238210</td>\n",
       "    </tr>\n",
       "    <tr>\n",
       "      <th>4</th>\n",
       "      <td>Mathématiques de base pour les linguistes La f...</td>\n",
       "      <td>https://www.idref.fr/027236005 https://www.idr...</td>\n",
       "      <td>https://www.idref.fr/027236005--https://www.id...</td>\n",
       "    </tr>\n",
       "  </tbody>\n",
       "</table>\n",
       "</div>"
      ],
      "text/plain": [
       "                                       DESCR_cleaned   \n",
       "0  La révolution structurale Mutations ou crises,...  \\\n",
       "1  La théorie des jeux et ses applications à l'éc...   \n",
       "2  Pétrole : le vrai dossier Que dissimulent les ...   \n",
       "3  Magie : aspects de la tradition occidentale La...   \n",
       "4  Mathématiques de base pour les linguistes La f...   \n",
       "\n",
       "                  rameau_concept_formatted_for_annif   \n",
       "0                     https://www.idref.fr/027249581  \\\n",
       "1  https://www.idref.fr/02733743X https://www.idr...   \n",
       "2                     https://www.idref.fr/027428958   \n",
       "3                     https://www.idref.fr/027238210   \n",
       "4  https://www.idref.fr/027236005 https://www.idr...   \n",
       "\n",
       "                   rameau_chains_formatted_for_annif  \n",
       "0                     https://www.idref.fr/027249581  \n",
       "1  https://www.idref.fr/02733743X https://www.idr...  \n",
       "2                     https://www.idref.fr/027428958  \n",
       "3                     https://www.idref.fr/027238210  \n",
       "4  https://www.idref.fr/027236005--https://www.id...  "
      ]
     },
     "execution_count": 49,
     "metadata": {},
     "output_type": "execute_result"
    }
   ],
   "source": [
    "# Apply on test dataset\n",
    "df_test[\"rameau_concept_formatted_for_annif\"] = df_test[\"rameau_concepts\"].apply(lambda x: format_for_annif(eval(x)))\n",
    "df_test[\"rameau_chains_formatted_for_annif\"] = df_test[\"rameau_chaines_index\"].apply(lambda x: format_for_annif(eval(x)))\n",
    "df_test[\"DESCR_cleaned\"] = df_test[\"DESCR\"].apply(lambda x: \" \".join(x.split()))\n",
    "df_test[[\"DESCR_cleaned\", \"rameau_concept_formatted_for_annif\", \"rameau_chains_formatted_for_annif\"]].head()"
   ]
  },
  {
   "cell_type": "code",
   "execution_count": 50,
   "metadata": {},
   "outputs": [],
   "source": [
    "# Save TSV file for ANNIF\n",
    "test_tsv_path = os.path.join(annif_data_path, \"rameau-test.tsv\")\n",
    "test_tsv_path_chains = os.path.join(annif_data_path, \"rameau-test_chains.tsv\")\n",
    "\n",
    "with open(test_tsv_path, 'w', encoding='utf-8') as output_test_file:\n",
    "        for index, row in df_test.iterrows():\n",
    "                print(row['DESCR_cleaned'] + '\\t' + row['rameau_concept_formatted_for_annif'], file=output_test_file)\n",
    "\n",
    "with open(test_tsv_path_chains, 'w', encoding='utf-8') as output_test_file:\n",
    "        for index, row in df_test.iterrows():\n",
    "                print(row['DESCR_cleaned'] + '\\t' + row['rameau_chains_formatted_for_annif'], file=output_test_file)"
   ]
  },
  {
   "cell_type": "code",
   "execution_count": 51,
   "metadata": {},
   "outputs": [],
   "source": [
    "# Apply on test dataset\n",
    "df_valid[\"rameau_concept_formatted_for_annif\"] = df_valid[\"rameau_concepts\"].apply(lambda x: format_for_annif(eval(x)))\n",
    "df_valid[\"rameau_chains_formatted_for_annif\"] = df_valid[\"rameau_chaines_index\"].apply(lambda x: format_for_annif(eval(x)))\n",
    "df_valid[\"DESCR_cleaned\"] = df_valid[\"DESCR\"].apply(lambda x: \" \".join(x.split()))\n",
    "df_valid[[\"DESCR_cleaned\", \"rameau_concept_formatted_for_annif\", \"rameau_chains_formatted_for_annif\"]].head()\n",
    "\n",
    "# Save TSV file for ANNIF\n",
    "valid_tsv_path = os.path.join(annif_data_path, \"rameau-valid.tsv\")\n",
    "valid_tsv_path_chains = os.path.join(annif_data_path, \"rameau-valid_chains.tsv\")\n",
    "\n",
    "with open(valid_tsv_path, 'w', encoding='utf-8') as output_valid_file:\n",
    "        for index, row in df_test.iterrows():\n",
    "                print(row['DESCR_cleaned'] + '\\t' + row['rameau_concept_formatted_for_annif'], file=output_valid_file)\n",
    "\n",
    "with open(valid_tsv_path_chains, 'w', encoding='utf-8') as output_valid_file:\n",
    "        for index, row in df_test.iterrows():\n",
    "                print(row['DESCR_cleaned'] + '\\t' + row['rameau_chains_formatted_for_annif'], file=output_valid_file)"
   ]
  },
  {
   "attachments": {},
   "cell_type": "markdown",
   "metadata": {},
   "source": [
    "### Datasets to get predictions"
   ]
  },
  {
   "attachments": {},
   "cell_type": "markdown",
   "metadata": {},
   "source": [
    "ANNIF ne sait pas faire la prédiction de chaque notice d'un fichier short-text document (TSV) d'un coup. Il fait une prédiction pour tout le texte du TSV, ce qui n'a pas de sens.\n",
    "\n",
    "Il faut donc créer un fichier .txt pour chaque notice et lancer la prédiction pour tous les .txt d'un dossier en utilisant annif index"
   ]
  },
  {
   "cell_type": "code",
   "execution_count": 138,
   "metadata": {},
   "outputs": [],
   "source": [
    "# Train dataset\n",
    "for index, row in df_train.iterrows():\n",
    "    if not os.path.exists(annif_train_folder_path):\n",
    "        os.makedirs(annif_train_folder_path)\n",
    "    filename = os.path.join(annif_train_folder_path, str(row['PPN'] + '.txt'))\n",
    "    with open(filename, 'a') as f:\n",
    "        f.write(row['DESCR_cleaned'])"
   ]
  },
  {
   "cell_type": "code",
   "execution_count": 139,
   "metadata": {},
   "outputs": [
    {
     "name": "stdout",
     "output_type": "stream",
     "text": [
      "Number of files in /home/aurelie/ABES/labo-indexation-ai/ANNIF/data/train/ folder: \n",
      "['/bin/bash: /home/aurelie/anaconda3/lib/libtinfo.so.6: no version information available (required by /bin/bash)', '125264']\n"
     ]
    }
   ],
   "source": [
    "# Check number of files in the train folder:\n",
    "nb_file = !ls {annif_train_folder_path} | wc -l\n",
    "print(f\"Number of files in {annif_train_folder_path} folder: \\n{nb_file}\")"
   ]
  },
  {
   "cell_type": "code",
   "execution_count": 140,
   "metadata": {},
   "outputs": [],
   "source": [
    "# Test dataset\n",
    "annif_test_folder_path = os.path.join(annif_data_path, \"test/\")\n",
    "for index, row in df_test.iterrows():\n",
    "    if not os.path.exists(annif_test_folder_path):\n",
    "        os.makedirs(annif_test_folder_path)\n",
    "    filename = os.path.join(annif_test_folder_path, str(row['PPN'] + '.txt'))\n",
    "    with open(filename, 'a') as f:\n",
    "        f.write(row['DESCR_cleaned'])"
   ]
  },
  {
   "cell_type": "code",
   "execution_count": 141,
   "metadata": {},
   "outputs": [
    {
     "name": "stdout",
     "output_type": "stream",
     "text": [
      "Number of files in /home/aurelie/ABES/labo-indexation-ai/ANNIF/data/test/ folder: \n",
      "['/bin/bash: /home/aurelie/anaconda3/lib/libtinfo.so.6: no version information available (required by /bin/bash)', '29244']\n"
     ]
    }
   ],
   "source": [
    "# Check number of files in the train folder:\n",
    "nb_file = !ls {annif_test_folder_path} | wc -l\n",
    "print(f\"Number of files in {annif_test_folder_path} folder: \\n{nb_file}\")"
   ]
  },
  {
   "cell_type": "code",
   "execution_count": 142,
   "metadata": {},
   "outputs": [
    {
     "name": "stdout",
     "output_type": "stream",
     "text": [
      "Number of files in /home/aurelie/ABES/labo-indexation-ai/ANNIF/data/valid/ folder: \n",
      "['/bin/bash: /home/aurelie/anaconda3/lib/libtinfo.so.6: no version information available (required by /bin/bash)', '100']\n"
     ]
    }
   ],
   "source": [
    "# Validation dataset\n",
    "annif_valid_folder_path = os.path.join(annif_data_path, \"valid/\")\n",
    "for index, row in df_valid.iterrows():\n",
    "    if not os.path.exists(annif_valid_folder_path):\n",
    "        os.makedirs(annif_valid_folder_path)\n",
    "    filename = os.path.join(annif_valid_folder_path, str(row['PPN'] + '.txt'))\n",
    "    with open(filename, 'a') as f:\n",
    "        f.write(row['DESCR_cleaned'])\n",
    "\n",
    "# Check number of files in the train folder:\n",
    "nb_file = !ls {annif_valid_folder_path} | wc -l\n",
    "print(f\"Number of files in {annif_valid_folder_path} folder: \\n{nb_file}\")"
   ]
  },
  {
   "attachments": {},
   "cell_type": "markdown",
   "metadata": {},
   "source": [
    "## Test ANNIF"
   ]
  },
  {
   "attachments": {},
   "cell_type": "markdown",
   "metadata": {},
   "source": [
    "### List all available projects "
   ]
  },
  {
   "cell_type": "code",
   "execution_count": 53,
   "metadata": {},
   "outputs": [
    {
     "data": {
      "text/plain": [
       "['/bin/bash: /home/aurelie/anaconda3/lib/libtinfo.so.6: no version information available (required by /bin/bash)',\n",
       " 'Project ID               Project Name                                 Language  Trained',\n",
       " '---------------------------------------------------------------------------------------',\n",
       " 'rameau-tfidf-snowball-fr TF-IDF French RAMEAU with snowball lemma     fr        True   ',\n",
       " 'rameau-fasttext-snowball-frFastText French RAMEAU                       fr        False  ',\n",
       " 'rameau-yake-snowball-fr  Yake French RAMEAU                           fr        True   ',\n",
       " 'rameau-mllm-snowball-fr  RAMEAU MLLM project                          fr        True   ',\n",
       " 'rameau-omikuji-snowball-frOmikuji Parabel French                       fr        False  ',\n",
       " 'rameau-tfidf-fr          TF-IDF French RAMEAU with spacy lemma        fr        False  ',\n",
       " 'rameau-fasttext-fr       FastText French RAMEAU                       fr        True   ',\n",
       " 'rameau-yake-fr           Yake French RAMEAU                           fr        True   ',\n",
       " 'rameau-omikuji-parabel-frOmikuji Parabel French                       fr        True   ',\n",
       " 'rameau-mllm-fr           RAMEAU MLLM project                          fr        True   ',\n",
       " '2023-06-28 20:58:34.371218: I tensorflow/core/platform/cpu_feature_guard.cc:193] This TensorFlow binary is optimized with oneAPI Deep Neural Network Library (oneDNN) to use the following CPU instructions in performance-critical operations:  AVX2 FMA',\n",
       " 'To enable them in other operations, rebuild TensorFlow with the appropriate compiler flags.',\n",
       " 'rameau-ensemble-mllm-fr  RAMEAU ensemble with MLLM French             fr        False  ',\n",
       " 'rameau-simple-ensemble-fasttext-frRAMEAU ensemble with Fasttext French         fr        False  ',\n",
       " 'rameau-simple-ensemble-all-frRAMEAU ensemble French                       fr        False  ',\n",
       " 'rameau-simple-ensemble-allButFastext-frRAMEAU ensemble French                       fr        False  ',\n",
       " 'rameau-simple-ensemble-mllm-frRAMEAU ensemble with MLLM French             fr        False  ',\n",
       " 'rameau-ensemble-allButFastext-frRAMEAU ensemble French                       fr        False  ',\n",
       " 'rameau-ensemble-fasttext-frRAMEAU ensemble with FastText French         fr        True   ',\n",
       " 'rameau-pav-MLLM-fr       RAMEAU PAV ensemble project with MLLM        fr        True   ',\n",
       " 'rameau-pav-allButFastext-frRAMEAU ensemble French                       fr        False  ']"
      ]
     },
     "execution_count": 53,
     "metadata": {},
     "output_type": "execute_result"
    }
   ],
   "source": [
    "# list of projects\n",
    "project_list = ! annif list-projects\n",
    "project_list"
   ]
  },
  {
   "attachments": {},
   "cell_type": "markdown",
   "metadata": {},
   "source": [
    "### Select project to test"
   ]
  },
  {
   "cell_type": "code",
   "execution_count": 57,
   "metadata": {},
   "outputs": [],
   "source": [
    "# Select project and parameters\n",
    "project = \"rameau-tfidf-snowball-fr\"\n",
    "njobs = 0\n",
    "input_file = train_tsv_path\n",
    "max_nb_concepts = 10\n",
    "threshold = 0.2 \n",
    "trials = 100\n",
    "metric_file_path = os.path.join(annif_report_path, str(project + '_chains.json'))\n",
    "result_file_path = os.path.join(annif_report_path, str(project + '_chains.csv'))\n",
    "\n",
    "test_file = train_tsv_path"
   ]
  },
  {
   "cell_type": "code",
   "execution_count": 55,
   "metadata": {},
   "outputs": [
    {
     "data": {
      "text/plain": [
       "'/home/aurelie/ABES/labo-indexation-ai/ANNIF/reports/rameau-tfidf-snowball-fr_chains.json'"
      ]
     },
     "execution_count": 55,
     "metadata": {},
     "output_type": "execute_result"
    }
   ],
   "source": [
    "metric_file_path"
   ]
  },
  {
   "attachments": {},
   "cell_type": "markdown",
   "metadata": {},
   "source": [
    "### Train model"
   ]
  },
  {
   "cell_type": "code",
   "execution_count": 58,
   "metadata": {},
   "outputs": [
    {
     "name": "stdout",
     "output_type": "stream",
     "text": [
      "/bin/bash: /home/aurelie/anaconda3/lib/libtinfo.so.6: no version information available (required by /bin/bash)\n",
      "Backend tfidf: transforming subject corpus\n",
      "Backend tfidf: creating vectorizer\n"
     ]
    }
   ],
   "source": [
    "# Train project\n",
    "! annif train {project} --jobs {njobs} {input_file}"
   ]
  },
  {
   "attachments": {},
   "cell_type": "markdown",
   "metadata": {},
   "source": [
    "### Evaluate model"
   ]
  },
  {
   "cell_type": "code",
   "execution_count": null,
   "metadata": {},
   "outputs": [],
   "source": [
    "# Evaluate project\n",
    "! annif eval --limit {max_nb_concepts} --threshold {threshold} --metrics-file {metric_file_path} --results-file {result_file_path} --jobs {njobs} {project} {test_file}"
   ]
  },
  {
   "attachments": {},
   "cell_type": "markdown",
   "metadata": {},
   "source": [
    "## Hyperoptimization"
   ]
  },
  {
   "cell_type": "code",
   "execution_count": 36,
   "metadata": {},
   "outputs": [
    {
     "name": "stdout",
     "output_type": "stream",
     "text": [
      "/bin/bash: /home/aurelie/anaconda3/lib/libtinfo.so.6: no version information available (required by /bin/bash)\n",
      "Looking for optimal hyperparameters using 100 trials\n",
      "\u001b[32m[I 2023-06-27 18:23:21,067]\u001b[0m A new study created in memory with name: no-name-94504bae-bbd1-4175-bc8c-53c5381601b5\u001b[0m\n",
      "/home/aurelie/.local/lib/python3.10/site-packages/optuna/study/study.py:393: FutureWarning: `n_jobs` argument has been deprecated in v2.7.0. This feature will be removed in v4.0.0. See https://github.com/optuna/optuna/releases/tag/v2.7.0.\n",
      "  warnings.warn(\n",
      "\u001b[32m[I 2023-06-27 18:48:55,432]\u001b[0m Trial 3 finished with value: 0.2826690971851349 and parameters: {'min_samples_leaf': 17, 'max_leaf_nodes': 289, 'max_samples': 0.8931221902724289}. Best is trial 3 with value: 0.2826690971851349.\u001b[0m\n",
      "\u001b[32m[I 2023-06-27 18:48:58,214]\u001b[0m Trial 1 finished with value: 0.28504353761672974 and parameters: {'min_samples_leaf': 25, 'max_leaf_nodes': 1956, 'max_samples': 0.5292036641359308}. Best is trial 1 with value: 0.28504353761672974.\u001b[0m\n",
      "\u001b[32m[I 2023-06-27 18:48:59,033]\u001b[0m Trial 0 finished with value: 0.2849653959274292 and parameters: {'min_samples_leaf': 7, 'max_leaf_nodes': 1196, 'max_samples': 0.5972697775526512}. Best is trial 1 with value: 0.28504353761672974.\u001b[0m\n",
      "\u001b[32m[I 2023-06-27 18:49:00,042]\u001b[0m Trial 2 finished with value: 0.28486448526382446 and parameters: {'min_samples_leaf': 18, 'max_leaf_nodes': 1029, 'max_samples': 0.6545761498858421}. Best is trial 1 with value: 0.28504353761672974.\u001b[0m\n",
      "\u001b[32m[I 2023-06-27 19:13:56,495]\u001b[0m Trial 4 finished with value: 0.28307822346687317 and parameters: {'min_samples_leaf': 29, 'max_leaf_nodes': 355, 'max_samples': 0.6725684406484403}. Best is trial 1 with value: 0.28504353761672974.\u001b[0m\n",
      "\u001b[32m[I 2023-06-27 19:14:21,743]\u001b[0m Trial 5 finished with value: 0.28481078147888184 and parameters: {'min_samples_leaf': 17, 'max_leaf_nodes': 995, 'max_samples': 0.927469790580372}. Best is trial 1 with value: 0.28504353761672974.\u001b[0m\n",
      "\u001b[32m[I 2023-06-27 19:14:22,011]\u001b[0m Trial 7 finished with value: 0.28499430418014526 and parameters: {'min_samples_leaf': 7, 'max_leaf_nodes': 1740, 'max_samples': 0.7745515789701365}. Best is trial 1 with value: 0.28504353761672974.\u001b[0m\n",
      "\u001b[32m[I 2023-06-27 19:14:22,674]\u001b[0m Trial 6 finished with value: 0.2851812243461609 and parameters: {'min_samples_leaf': 7, 'max_leaf_nodes': 1724, 'max_samples': 0.8291462194088188}. Best is trial 6 with value: 0.2851812243461609.\u001b[0m\n",
      "\u001b[32m[I 2023-06-27 19:40:08,606]\u001b[0m Trial 8 finished with value: 0.2842468023300171 and parameters: {'min_samples_leaf': 13, 'max_leaf_nodes': 904, 'max_samples': 0.9358066273884391}. Best is trial 6 with value: 0.2851812243461609.\u001b[0m\n",
      "\u001b[32m[I 2023-06-27 19:40:17,623]\u001b[0m Trial 10 finished with value: 0.2832447588443756 and parameters: {'min_samples_leaf': 6, 'max_leaf_nodes': 490, 'max_samples': 0.9404519553378163}. Best is trial 6 with value: 0.2851812243461609.\u001b[0m\n",
      "\u001b[32m[I 2023-06-27 19:40:17,805]\u001b[0m Trial 9 finished with value: 0.2853424847126007 and parameters: {'min_samples_leaf': 29, 'max_leaf_nodes': 1504, 'max_samples': 0.7002892222988185}. Best is trial 9 with value: 0.2853424847126007.\u001b[0m\n",
      "\u001b[32m[I 2023-06-27 19:40:18,429]\u001b[0m Trial 11 finished with value: 0.28540942072868347 and parameters: {'min_samples_leaf': 14, 'max_leaf_nodes': 1912, 'max_samples': 0.7583568909182605}. Best is trial 11 with value: 0.28540942072868347.\u001b[0m\n",
      "\u001b[32m[I 2023-06-27 20:06:05,626]\u001b[0m Trial 12 finished with value: 0.2851952612400055 and parameters: {'min_samples_leaf': 21, 'max_leaf_nodes': 1331, 'max_samples': 0.6469568976346551}. Best is trial 11 with value: 0.28540942072868347.\u001b[0m\n",
      "\u001b[32m[I 2023-06-27 20:06:18,268]\u001b[0m Trial 15 finished with value: 0.2851184904575348 and parameters: {'min_samples_leaf': 24, 'max_leaf_nodes': 1433, 'max_samples': 0.7224836649257625}. Best is trial 11 with value: 0.28540942072868347.\u001b[0m\n",
      "\u001b[32m[I 2023-06-27 20:06:18,858]\u001b[0m Trial 14 finished with value: 0.28519007563591003 and parameters: {'min_samples_leaf': 25, 'max_leaf_nodes': 1522, 'max_samples': 0.7979538630043577}. Best is trial 11 with value: 0.28540942072868347.\u001b[0m\n",
      "\u001b[32m[I 2023-06-27 20:06:19,453]\u001b[0m Trial 13 finished with value: 0.2854655385017395 and parameters: {'min_samples_leaf': 12, 'max_leaf_nodes': 1533, 'max_samples': 0.8082115644339608}. Best is trial 13 with value: 0.2854655385017395.\u001b[0m\n",
      "\u001b[32m[I 2023-06-27 20:31:56,870]\u001b[0m Trial 16 finished with value: 0.2851240038871765 and parameters: {'min_samples_leaf': 12, 'max_leaf_nodes': 1549, 'max_samples': 0.7460284144812313}. Best is trial 13 with value: 0.2854655385017395.\u001b[0m\n",
      "\u001b[32m[I 2023-06-27 20:32:06,412]\u001b[0m Trial 18 finished with value: 0.2851521074771881 and parameters: {'min_samples_leaf': 13, 'max_leaf_nodes': 1998, 'max_samples': 0.7313075650707214}. Best is trial 13 with value: 0.2854655385017395.\u001b[0m\n",
      "\u001b[32m[I 2023-06-27 20:32:08,080]\u001b[0m Trial 17 finished with value: 0.28516632318496704 and parameters: {'min_samples_leaf': 12, 'max_leaf_nodes': 1608, 'max_samples': 0.7957678007819945}. Best is trial 13 with value: 0.2854655385017395.\u001b[0m\n",
      "\u001b[32m[I 2023-06-27 20:32:08,544]\u001b[0m Trial 19 finished with value: 0.28545793890953064 and parameters: {'min_samples_leaf': 14, 'max_leaf_nodes': 1926, 'max_samples': 0.8363560734875896}. Best is trial 13 with value: 0.2854655385017395.\u001b[0m\n"
     ]
    }
   ],
   "source": [
    "if optimization:\n",
    "    metric_file_path = os.path.join(annif_report_path, str(project + '_opt.json'))\n",
    "    result_file_path = os.path.join(annif_report_path, str(project + '_opt.csv'))\n",
    "\n",
    "    ! annif hyperopt {project} --trials {trials} --results-file {result_file_path} --jobs 4  {test_file}"
   ]
  },
  {
   "cell_type": "code",
   "execution_count": 40,
   "metadata": {},
   "outputs": [
    {
     "data": {
      "text/html": [
       "<div>\n",
       "<style scoped>\n",
       "    .dataframe tbody tr th:only-of-type {\n",
       "        vertical-align: middle;\n",
       "    }\n",
       "\n",
       "    .dataframe tbody tr th {\n",
       "        vertical-align: top;\n",
       "    }\n",
       "\n",
       "    .dataframe thead th {\n",
       "        text-align: right;\n",
       "    }\n",
       "</style>\n",
       "<table border=\"1\" class=\"dataframe\">\n",
       "  <thead>\n",
       "    <tr style=\"text-align: right;\">\n",
       "      <th></th>\n",
       "      <th>URI</th>\n",
       "      <th>Label</th>\n",
       "      <th>Support</th>\n",
       "      <th>True_positives</th>\n",
       "      <th>False_positives</th>\n",
       "      <th>False_negatives</th>\n",
       "      <th>Precision</th>\n",
       "      <th>Recall</th>\n",
       "      <th>F1_score</th>\n",
       "    </tr>\n",
       "  </thead>\n",
       "  <tbody>\n",
       "    <tr>\n",
       "      <th>0</th>\n",
       "      <td>https://www.idref.fr/157992527</td>\n",
       "      <td>Kirp?n</td>\n",
       "      <td>0</td>\n",
       "      <td>0</td>\n",
       "      <td>0</td>\n",
       "      <td>0</td>\n",
       "      <td>0.000000</td>\n",
       "      <td>0.000000</td>\n",
       "      <td>0.000000</td>\n",
       "    </tr>\n",
       "    <tr>\n",
       "      <th>1</th>\n",
       "      <td>https://www.idref.fr/110140494</td>\n",
       "      <td>Militaires artistes</td>\n",
       "      <td>0</td>\n",
       "      <td>0</td>\n",
       "      <td>0</td>\n",
       "      <td>0</td>\n",
       "      <td>0.000000</td>\n",
       "      <td>0.000000</td>\n",
       "      <td>0.000000</td>\n",
       "    </tr>\n",
       "    <tr>\n",
       "      <th>2</th>\n",
       "      <td>https://www.idref.fr/028492161</td>\n",
       "      <td>Militaires romains</td>\n",
       "      <td>2</td>\n",
       "      <td>0</td>\n",
       "      <td>0</td>\n",
       "      <td>2</td>\n",
       "      <td>0.000000</td>\n",
       "      <td>0.000000</td>\n",
       "      <td>0.000000</td>\n",
       "    </tr>\n",
       "    <tr>\n",
       "      <th>3</th>\n",
       "      <td>https://www.idref.fr/028521757</td>\n",
       "      <td>Militaires prussiens</td>\n",
       "      <td>0</td>\n",
       "      <td>0</td>\n",
       "      <td>0</td>\n",
       "      <td>0</td>\n",
       "      <td>0.000000</td>\n",
       "      <td>0.000000</td>\n",
       "      <td>0.000000</td>\n",
       "    </tr>\n",
       "    <tr>\n",
       "      <th>4</th>\n",
       "      <td>https://www.idref.fr/029895561</td>\n",
       "      <td>Sa-skya-pa</td>\n",
       "      <td>0</td>\n",
       "      <td>0</td>\n",
       "      <td>0</td>\n",
       "      <td>0</td>\n",
       "      <td>0.000000</td>\n",
       "      <td>0.000000</td>\n",
       "      <td>0.000000</td>\n",
       "    </tr>\n",
       "    <tr>\n",
       "      <th>...</th>\n",
       "      <td>...</td>\n",
       "      <td>...</td>\n",
       "      <td>...</td>\n",
       "      <td>...</td>\n",
       "      <td>...</td>\n",
       "      <td>...</td>\n",
       "      <td>...</td>\n",
       "      <td>...</td>\n",
       "      <td>...</td>\n",
       "    </tr>\n",
       "    <tr>\n",
       "      <th>85871</th>\n",
       "      <td>https://www.idref.fr/191405949</td>\n",
       "      <td>Relations artistes-collectivité</td>\n",
       "      <td>0</td>\n",
       "      <td>0</td>\n",
       "      <td>0</td>\n",
       "      <td>0</td>\n",
       "      <td>0.000000</td>\n",
       "      <td>0.000000</td>\n",
       "      <td>0.000000</td>\n",
       "    </tr>\n",
       "    <tr>\n",
       "      <th>85872</th>\n",
       "      <td>https://www.idref.fr/234777605</td>\n",
       "      <td>Postcolonialisme et arts</td>\n",
       "      <td>2</td>\n",
       "      <td>0</td>\n",
       "      <td>0</td>\n",
       "      <td>2</td>\n",
       "      <td>0.000000</td>\n",
       "      <td>0.000000</td>\n",
       "      <td>0.000000</td>\n",
       "    </tr>\n",
       "    <tr>\n",
       "      <th>85873</th>\n",
       "      <td>https://www.idref.fr/193907445</td>\n",
       "      <td>Ascèse</td>\n",
       "      <td>0</td>\n",
       "      <td>0</td>\n",
       "      <td>0</td>\n",
       "      <td>0</td>\n",
       "      <td>0.000000</td>\n",
       "      <td>0.000000</td>\n",
       "      <td>0.000000</td>\n",
       "    </tr>\n",
       "    <tr>\n",
       "      <th>85874</th>\n",
       "      <td>https://www.idref.fr/027415074</td>\n",
       "      <td>Vie chrétienne</td>\n",
       "      <td>3</td>\n",
       "      <td>0</td>\n",
       "      <td>0</td>\n",
       "      <td>3</td>\n",
       "      <td>0.000000</td>\n",
       "      <td>0.000000</td>\n",
       "      <td>0.000000</td>\n",
       "    </tr>\n",
       "    <tr>\n",
       "      <th>85875</th>\n",
       "      <td>https://www.idref.fr/140430431</td>\n",
       "      <td>Loisirs créatifs</td>\n",
       "      <td>14</td>\n",
       "      <td>2</td>\n",
       "      <td>1</td>\n",
       "      <td>12</td>\n",
       "      <td>0.666667</td>\n",
       "      <td>0.142857</td>\n",
       "      <td>0.235294</td>\n",
       "    </tr>\n",
       "  </tbody>\n",
       "</table>\n",
       "<p>85876 rows × 9 columns</p>\n",
       "</div>"
      ],
      "text/plain": [
       "                                  URI                            Label   \n",
       "0      https://www.idref.fr/157992527                           Kirp?n  \\\n",
       "1      https://www.idref.fr/110140494              Militaires artistes   \n",
       "2      https://www.idref.fr/028492161               Militaires romains   \n",
       "3      https://www.idref.fr/028521757             Militaires prussiens   \n",
       "4      https://www.idref.fr/029895561                       Sa-skya-pa   \n",
       "...                               ...                              ...   \n",
       "85871  https://www.idref.fr/191405949  Relations artistes-collectivité   \n",
       "85872  https://www.idref.fr/234777605         Postcolonialisme et arts   \n",
       "85873  https://www.idref.fr/193907445                           Ascèse   \n",
       "85874  https://www.idref.fr/027415074                   Vie chrétienne   \n",
       "85875  https://www.idref.fr/140430431                 Loisirs créatifs   \n",
       "\n",
       "       Support  True_positives  False_positives  False_negatives  Precision   \n",
       "0            0               0                0                0   0.000000  \\\n",
       "1            0               0                0                0   0.000000   \n",
       "2            2               0                0                2   0.000000   \n",
       "3            0               0                0                0   0.000000   \n",
       "4            0               0                0                0   0.000000   \n",
       "...        ...             ...              ...              ...        ...   \n",
       "85871        0               0                0                0   0.000000   \n",
       "85872        2               0                0                2   0.000000   \n",
       "85873        0               0                0                0   0.000000   \n",
       "85874        3               0                0                3   0.000000   \n",
       "85875       14               2                1               12   0.666667   \n",
       "\n",
       "         Recall  F1_score  \n",
       "0      0.000000  0.000000  \n",
       "1      0.000000  0.000000  \n",
       "2      0.000000  0.000000  \n",
       "3      0.000000  0.000000  \n",
       "4      0.000000  0.000000  \n",
       "...         ...       ...  \n",
       "85871  0.000000  0.000000  \n",
       "85872  0.000000  0.000000  \n",
       "85873  0.000000  0.000000  \n",
       "85874  0.000000  0.000000  \n",
       "85875  0.142857  0.235294  \n",
       "\n",
       "[85876 rows x 9 columns]"
      ]
     },
     "execution_count": 40,
     "metadata": {},
     "output_type": "execute_result"
    }
   ],
   "source": [
    "# Select best model\n",
    "opt = pd.read_csv(result_file_path, sep='\\t')\n",
    "opt"
   ]
  },
  {
   "cell_type": "code",
   "execution_count": 38,
   "metadata": {},
   "outputs": [
    {
     "ename": "KeyError",
     "evalue": "'value'",
     "output_type": "error",
     "traceback": [
      "\u001b[0;31m---------------------------------------------------------------------------\u001b[0m",
      "\u001b[0;31mKeyError\u001b[0m                                  Traceback (most recent call last)",
      "File \u001b[0;32m~/.local/lib/python3.10/site-packages/pandas/core/indexes/base.py:3652\u001b[0m, in \u001b[0;36mIndex.get_loc\u001b[0;34m(self, key)\u001b[0m\n\u001b[1;32m   3651\u001b[0m \u001b[39mtry\u001b[39;00m:\n\u001b[0;32m-> 3652\u001b[0m     \u001b[39mreturn\u001b[39;00m \u001b[39mself\u001b[39;49m\u001b[39m.\u001b[39;49m_engine\u001b[39m.\u001b[39;49mget_loc(casted_key)\n\u001b[1;32m   3653\u001b[0m \u001b[39mexcept\u001b[39;00m \u001b[39mKeyError\u001b[39;00m \u001b[39mas\u001b[39;00m err:\n",
      "File \u001b[0;32m~/.local/lib/python3.10/site-packages/pandas/_libs/index.pyx:147\u001b[0m, in \u001b[0;36mpandas._libs.index.IndexEngine.get_loc\u001b[0;34m()\u001b[0m\n",
      "File \u001b[0;32m~/.local/lib/python3.10/site-packages/pandas/_libs/index.pyx:176\u001b[0m, in \u001b[0;36mpandas._libs.index.IndexEngine.get_loc\u001b[0;34m()\u001b[0m\n",
      "File \u001b[0;32mpandas/_libs/hashtable_class_helper.pxi:7080\u001b[0m, in \u001b[0;36mpandas._libs.hashtable.PyObjectHashTable.get_item\u001b[0;34m()\u001b[0m\n",
      "File \u001b[0;32mpandas/_libs/hashtable_class_helper.pxi:7088\u001b[0m, in \u001b[0;36mpandas._libs.hashtable.PyObjectHashTable.get_item\u001b[0;34m()\u001b[0m\n",
      "\u001b[0;31mKeyError\u001b[0m: 'value'",
      "\nThe above exception was the direct cause of the following exception:\n",
      "\u001b[0;31mKeyError\u001b[0m                                  Traceback (most recent call last)",
      "Cell \u001b[0;32mIn[38], line 2\u001b[0m\n\u001b[1;32m      1\u001b[0m \u001b[39mimport\u001b[39;00m \u001b[39mnumpy\u001b[39;00m \u001b[39mas\u001b[39;00m \u001b[39mnp\u001b[39;00m\n\u001b[0;32m----> 2\u001b[0m best_model \u001b[39m=\u001b[39m opt\u001b[39m.\u001b[39miloc[np\u001b[39m.\u001b[39margmax(opt[\u001b[39m\"\u001b[39;49m\u001b[39mvalue\u001b[39;49m\u001b[39m\"\u001b[39;49m])]\n\u001b[1;32m      3\u001b[0m best_model\n",
      "File \u001b[0;32m~/.local/lib/python3.10/site-packages/pandas/core/frame.py:3760\u001b[0m, in \u001b[0;36mDataFrame.__getitem__\u001b[0;34m(self, key)\u001b[0m\n\u001b[1;32m   3758\u001b[0m \u001b[39mif\u001b[39;00m \u001b[39mself\u001b[39m\u001b[39m.\u001b[39mcolumns\u001b[39m.\u001b[39mnlevels \u001b[39m>\u001b[39m \u001b[39m1\u001b[39m:\n\u001b[1;32m   3759\u001b[0m     \u001b[39mreturn\u001b[39;00m \u001b[39mself\u001b[39m\u001b[39m.\u001b[39m_getitem_multilevel(key)\n\u001b[0;32m-> 3760\u001b[0m indexer \u001b[39m=\u001b[39m \u001b[39mself\u001b[39;49m\u001b[39m.\u001b[39;49mcolumns\u001b[39m.\u001b[39;49mget_loc(key)\n\u001b[1;32m   3761\u001b[0m \u001b[39mif\u001b[39;00m is_integer(indexer):\n\u001b[1;32m   3762\u001b[0m     indexer \u001b[39m=\u001b[39m [indexer]\n",
      "File \u001b[0;32m~/.local/lib/python3.10/site-packages/pandas/core/indexes/base.py:3654\u001b[0m, in \u001b[0;36mIndex.get_loc\u001b[0;34m(self, key)\u001b[0m\n\u001b[1;32m   3652\u001b[0m     \u001b[39mreturn\u001b[39;00m \u001b[39mself\u001b[39m\u001b[39m.\u001b[39m_engine\u001b[39m.\u001b[39mget_loc(casted_key)\n\u001b[1;32m   3653\u001b[0m \u001b[39mexcept\u001b[39;00m \u001b[39mKeyError\u001b[39;00m \u001b[39mas\u001b[39;00m err:\n\u001b[0;32m-> 3654\u001b[0m     \u001b[39mraise\u001b[39;00m \u001b[39mKeyError\u001b[39;00m(key) \u001b[39mfrom\u001b[39;00m \u001b[39merr\u001b[39;00m\n\u001b[1;32m   3655\u001b[0m \u001b[39mexcept\u001b[39;00m \u001b[39mTypeError\u001b[39;00m:\n\u001b[1;32m   3656\u001b[0m     \u001b[39m# If we have a listlike key, _check_indexing_error will raise\u001b[39;00m\n\u001b[1;32m   3657\u001b[0m     \u001b[39m#  InvalidIndexError. Otherwise we fall through and re-raise\u001b[39;00m\n\u001b[1;32m   3658\u001b[0m     \u001b[39m#  the TypeError.\u001b[39;00m\n\u001b[1;32m   3659\u001b[0m     \u001b[39mself\u001b[39m\u001b[39m.\u001b[39m_check_indexing_error(key)\n",
      "\u001b[0;31mKeyError\u001b[0m: 'value'"
     ]
    }
   ],
   "source": [
    "import numpy as np\n",
    "best_model = opt.iloc[np.argmax(opt[\"value\"])]\n",
    "best_model"
   ]
  },
  {
   "cell_type": "code",
   "execution_count": null,
   "metadata": {},
   "outputs": [],
   "source": [
    "# Retrain model\n",
    "! annif train {project} --jobs {njobs} {input_file}"
   ]
  },
  {
   "cell_type": "code",
   "execution_count": null,
   "metadata": {},
   "outputs": [],
   "source": [
    "metric_file_path"
   ]
  },
  {
   "cell_type": "code",
   "execution_count": null,
   "metadata": {},
   "outputs": [],
   "source": [
    "# Evaluate project\n",
    "! annif eval --limit {max_nb_concepts} --threshold {threshold} --metrics-file {metric_file_path} --results-file {result_file_path} --jobs {njobs} {project} {test_file}"
   ]
  },
  {
   "cell_type": "code",
   "execution_count": 1,
   "metadata": {},
   "outputs": [
    {
     "ename": "NameError",
     "evalue": "name 'pd' is not defined",
     "output_type": "error",
     "traceback": [
      "\u001b[0;31m---------------------------------------------------------------------------\u001b[0m",
      "\u001b[0;31mNameError\u001b[0m                                 Traceback (most recent call last)",
      "Cell \u001b[0;32mIn[1], line 4\u001b[0m\n\u001b[1;32m      1\u001b[0m \u001b[39m# Plot radar from a evaluation file\u001b[39;00m\n\u001b[1;32m      2\u001b[0m \u001b[39mfrom\u001b[39;00m \u001b[39mutils_visualization\u001b[39;00m \u001b[39mimport\u001b[39;00m metrics_radar_plot\n\u001b[0;32m----> 4\u001b[0m annif_eval \u001b[39m=\u001b[39m pd\u001b[39m.\u001b[39mread_csv(\u001b[39m\"\u001b[39m\u001b[39mannif_evaluation.csv\u001b[39m\u001b[39m\"\u001b[39m, index_col\u001b[39m=\u001b[39m\u001b[39m0\u001b[39m)\n\u001b[1;32m      5\u001b[0m metrics \u001b[39m=\u001b[39m [\n\u001b[1;32m      6\u001b[0m     \u001b[39m\"\u001b[39m\u001b[39mPrecision_doc_avg\u001b[39m\u001b[39m\"\u001b[39m,\n\u001b[1;32m      7\u001b[0m     \u001b[39m\"\u001b[39m\u001b[39mRecall_doc_avg\u001b[39m\u001b[39m\"\u001b[39m,\n\u001b[0;32m   (...)\u001b[0m\n\u001b[1;32m     12\u001b[0m     \u001b[39m\"\u001b[39m\u001b[39mF1@5\u001b[39m\u001b[39m\"\u001b[39m\n\u001b[1;32m     13\u001b[0m ]\n\u001b[1;32m     15\u001b[0m metrics_radar_plot(\n\u001b[1;32m     16\u001b[0m     annif_eval,\n\u001b[1;32m     17\u001b[0m     metrics\u001b[39m=\u001b[39mmetrics,\n\u001b[0;32m   (...)\u001b[0m\n\u001b[1;32m     22\u001b[0m     width\u001b[39m=\u001b[39m\u001b[39m1000\u001b[39m,\n\u001b[1;32m     23\u001b[0m     height\u001b[39m=\u001b[39m\u001b[39m550\u001b[39m)\n",
      "\u001b[0;31mNameError\u001b[0m: name 'pd' is not defined"
     ]
    }
   ],
   "source": [
    "# Plot radar from a evaluation file\n",
    "from utils_visualization import metrics_radar_plot\n",
    "\n",
    "annif_eval = pd.read_csv(\"annif_evaluation.csv\", index_col=0)\n",
    "metrics = [\n",
    "    \"Precision_doc_avg\",\n",
    "    \"Recall_doc_avg\",\n",
    "    \"F1_score_doc_avg\",\n",
    "    \"Precision_weighted_subj_avg\",\n",
    "    \"Recall_weighted_subj_avg\",\n",
    "    \"F1_score_weighted_subj_avg\",\n",
    "    \"F1@5\"\n",
    "]\n",
    "\n",
    "metrics_radar_plot(\n",
    "    annif_eval,\n",
    "    metrics=metrics,\n",
    "    remove_identity=False,\n",
    "    scale=False,\n",
    "    title=\"ANNIF evaluation\",\n",
    "    savefig=None,\n",
    "    width=1000,\n",
    "    height=550)\n"
   ]
  },
  {
   "cell_type": "code",
   "execution_count": null,
   "metadata": {},
   "outputs": [],
   "source": [
    "annif_eval.loc[\"rameau-pav-MLLM-fr.json\"]"
   ]
  },
  {
   "attachments": {},
   "cell_type": "markdown",
   "metadata": {},
   "source": [
    "### Prediction on all notices from test folder"
   ]
  },
  {
   "cell_type": "code",
   "execution_count": null,
   "metadata": {},
   "outputs": [],
   "source": [
    "# Prediction sur toutes les notices du dossier \"test\"\n",
    "suffix = str('_' + project + 'opt.csv')\n",
    "! annif index -s {suffix} {project} {annif_test_folder_path}"
   ]
  },
  {
   "attachments": {},
   "cell_type": "markdown",
   "metadata": {},
   "source": [
    "## Format predictions for future use"
   ]
  },
  {
   "cell_type": "code",
   "execution_count": null,
   "metadata": {},
   "outputs": [],
   "source": [
    "csv_files = [f for f in os.listdir(annif_test_folder_path) if f.endswith(suffix)]\n",
    "print(f\"There are {len(csv_files)} files to compile\")"
   ]
  },
  {
   "cell_type": "code",
   "execution_count": null,
   "metadata": {},
   "outputs": [],
   "source": [
    "# Build dataframe\n",
    "predictions = pd.DataFrame(columns=[\"PPN\", \"predictions\", \"scores\"])\n",
    "for i, file in enumerate(csv_files):\n",
    "    ppn = file.split('_')[0]\n",
    "    pred = pd.read_csv(os.path.join(annif_test_folder_path, file), sep='\\t', header=None, names=[\"URI\", \"pred_concept\", \"score\"])\n",
    "    predictions.loc[i,\"PPN\"] = ppn\n",
    "    predictions.loc[i,\"predictions\"] = pred[\"pred_concept\"].to_list()\n",
    "    predictions.loc[i,\"scores\"] = pred[\"score\"].to_list()"
   ]
  },
  {
   "cell_type": "code",
   "execution_count": null,
   "metadata": {},
   "outputs": [],
   "source": [
    "# Show predictions\n",
    "predictions.head()"
   ]
  },
  {
   "cell_type": "code",
   "execution_count": null,
   "metadata": {},
   "outputs": [],
   "source": [
    "# Save dataframe\n",
    "if optimization:\n",
    "    predictions.to_csv(os.path.join(annif_report_path, str(project + \"_opt\" + \"_predictions.csv\")))\n",
    "else: \n",
    "    predictions.to_csv(os.path.join(annif_report_path, str(project + \"_predictions.csv\")))"
   ]
  },
  {
   "attachments": {},
   "cell_type": "markdown",
   "metadata": {},
   "source": [
    "## Merge predictions with existing predictions (including reindexation and indexing if available)"
   ]
  },
  {
   "cell_type": "code",
   "execution_count": null,
   "metadata": {},
   "outputs": [],
   "source": [
    "os.getcwd()"
   ]
  },
  {
   "cell_type": "code",
   "execution_count": null,
   "metadata": {},
   "outputs": [],
   "source": [
    " # Set files\n",
    "if save_predictions:\n",
    "    input_file = \"./../data/data_with_reindexation_and_embeddings_withANNIF.csv\"\n",
    "    output_file = \"./../data/data_with_reindexation_and_embeddings_withANNIF.csv\"\n",
    "else: \n",
    "    input_file = None\n",
    "    output_file = None"
   ]
  },
  {
   "cell_type": "code",
   "execution_count": null,
   "metadata": {},
   "outputs": [],
   "source": [
    "# merge predictions with reindexation file\n",
    "indexation_file = pd.read_csv(input_file, index_col=0)\n",
    "print(indexation_file.shape)\n",
    "indexation_file.head(3)"
   ]
  },
  {
   "cell_type": "code",
   "execution_count": null,
   "metadata": {},
   "outputs": [],
   "source": [
    "# Merge predictions\n",
    "output = indexation_file.merge(predictions, on=\"PPN\", how=\"inner\")\n",
    "if optimization:\n",
    "    output.rename(columns={\"predictions\" : str(\"predictions_opt_\" + project), \"scores\":str(\"scores_opt_\" + project)}, inplace=True)\n",
    "else:\n",
    "    output.rename(columns={\"predictions\" : str(\"predictions_\" + project), \"scores\":str(\"scores_\" + project)}, inplace=True)"
   ]
  },
  {
   "cell_type": "code",
   "execution_count": null,
   "metadata": {},
   "outputs": [],
   "source": [
    "output.head(3)"
   ]
  },
  {
   "cell_type": "code",
   "execution_count": null,
   "metadata": {},
   "outputs": [],
   "source": [
    "# Save output\n",
    "output.to_csv(output_file)"
   ]
  },
  {
   "attachments": {},
   "cell_type": "markdown",
   "metadata": {},
   "source": []
  },
  {
   "attachments": {},
   "cell_type": "markdown",
   "metadata": {},
   "source": [
    "## Multilabel classification - Metrics"
   ]
  },
  {
   "cell_type": "code",
   "execution_count": null,
   "metadata": {},
   "outputs": [],
   "source": [
    "from sklearn.preprocessing import MultiLabelBinarizer\n",
    "from utils_metrics import *"
   ]
  },
  {
   "cell_type": "code",
   "execution_count": null,
   "metadata": {},
   "outputs": [],
   "source": [
    "# Variables to use\n",
    "## Chains\n",
    "field = [\n",
    "    (\"ANNIF_mllm\", \"rameau_concepts\", \"predictions_opt_rameau-mllm-fr\"),\n",
    "    (\"ANNIF_tfidf\",  \"rameau_concepts\", \"predictions_rameau-tfidf-snowball-fr\")\n",
    "]\n",
    "results = dict()\n"
   ]
  },
  {
   "cell_type": "code",
   "execution_count": null,
   "metadata": {},
   "outputs": [],
   "source": [
    "def flatten(list):\n",
    "    flat_list = [item for sublist in list for item in sublist]\n",
    "    return flat_list"
   ]
  },
  {
   "cell_type": "code",
   "execution_count": null,
   "metadata": {},
   "outputs": [],
   "source": [
    "# Binarization\n",
    "for var in field: \n",
    "    print(\"Working on \", var[0])\n",
    "    mlb = MultiLabelBinarizer(sparse_output=False)\n",
    "    mlb.fit(flatten(output[\"rameau_concepts\"]))\n",
    "    sudoc = mlb.transform(output[var[1]])\n",
    "    embed = mlb.transform(output[var[2]])\n",
    "    results[str(\"ANNIF\" + var[0])] = label_metrics_report(\"Embeddings\", sudoc, embed, zero_division=0)"
   ]
  },
  {
   "cell_type": "code",
   "execution_count": null,
   "metadata": {},
   "outputs": [],
   "source": [
    "mlb.inverse_transform(embed)"
   ]
  },
  {
   "attachments": {},
   "cell_type": "markdown",
   "metadata": {},
   "source": [
    "### Dataframe of results"
   ]
  },
  {
   "cell_type": "code",
   "execution_count": null,
   "metadata": {},
   "outputs": [],
   "source": [
    "result_df = pd.DataFrame(results).T\n",
    "result_df"
   ]
  },
  {
   "attachments": {},
   "cell_type": "markdown",
   "metadata": {},
   "source": [
    "### Plot"
   ]
  },
  {
   "cell_type": "code",
   "execution_count": null,
   "metadata": {},
   "outputs": [],
   "source": [
    "# Plot results\n",
    "metrics_radar_plot(\n",
    "    result_df,\n",
    "    remove_identity=False,\n",
    "    title=\"Quantitative comparisons\",\n",
    "    savefig=\"metrics_ANNIF-sudoc.html\",)"
   ]
  }
 ],
 "metadata": {
  "kernelspec": {
   "display_name": "abes_index",
   "language": "python",
   "name": "python3"
  },
  "language_info": {
   "codemirror_mode": {
    "name": "ipython",
    "version": 3
   },
   "file_extension": ".py",
   "mimetype": "text/x-python",
   "name": "python",
   "nbconvert_exporter": "python",
   "pygments_lexer": "ipython3",
   "version": "3.10.11"
  },
  "orig_nbformat": 4
 },
 "nbformat": 4,
 "nbformat_minor": 2
}
