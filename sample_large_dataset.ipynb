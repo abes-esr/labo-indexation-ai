{
 "cells": [
  {
   "attachments": {},
   "cell_type": "markdown",
   "metadata": {},
   "source": [
    "# Etape 1 - Preprocessing du dataset"
   ]
  },
  {
   "cell_type": "code",
   "execution_count": null,
   "metadata": {},
   "outputs": [],
   "source": [
    "# Import librairies\n",
    "import os\n",
    "import re\n",
    "import sys\n",
    "\n",
    "import csv\n",
    "import matplotlib.pyplot as plt\n",
    "import numpy as np\n",
    "import pandas as pd\n",
    "import seaborn as sns\n",
    "import warnings\n"
   ]
  },
  {
   "cell_type": "code",
   "execution_count": null,
   "metadata": {},
   "outputs": [],
   "source": [
    "# Set paths\n",
    "path = \".\"\n",
    "os.chdir(path)\n",
    "data_path = path + \"/data\"\n",
    "output_path = path + \"\\\\outputs\"\n",
    "fig_path = path + \"\\\\figures\""
   ]
  },
  {
   "cell_type": "code",
   "execution_count": null,
   "metadata": {},
   "outputs": [],
   "source": [
    "# Suppression des FutureWarnings\n",
    "warnings.simplefilter(action='ignore', category=FutureWarning)\n",
    "warnings.simplefilter(action='ignore', category=DeprecationWarning)"
   ]
  },
  {
   "cell_type": "code",
   "execution_count": null,
   "metadata": {},
   "outputs": [],
   "source": [
    "# Parametres graphiques\n",
    "%matplotlib inline\n",
    "rc = {\n",
    "    'font.size': 14,\n",
    "    'font.family': 'Arial',\n",
    "    'axes.labelsize': 14,\n",
    "    'legend.fontsize': 12,\n",
    "    'axes.titlesize': 14,\n",
    "    'xtick.labelsize': 12,\n",
    "    'ytick.labelsize': 12,\n",
    "    'figure.max_open_warning': 30}\n",
    "\n",
    "sns.set(font='Arial', rc=rc)\n",
    "sns.set_style(\n",
    "    \"whitegrid\", {\n",
    "        'axes.edgecolor': 'k',\n",
    "        'axes.linewidth': 1,\n",
    "        'axes.grid': True,\n",
    "        'xtick.major.width': 1,\n",
    "        'ytick.major.width': 1\n",
    "        })\n",
    "sns.set_context(\n",
    "    \"notebook\",\n",
    "    font_scale=1.1,\n",
    "    rc={\"lines.linewidth\": 1.5})\n",
    "pd.set_option('display.max_columns', None)"
   ]
  },
  {
   "cell_type": "code",
   "execution_count": null,
   "metadata": {},
   "outputs": [],
   "source": [
    "filename = \"working_data_sans_dewey.csv\""
   ]
  },
  {
   "cell_type": "code",
   "execution_count": null,
   "metadata": {},
   "outputs": [],
   "source": [
    "df = pd.read_csv(os.path.join(data_path, filename), index_col=0)\n",
    "print(\"Dimension of the dataset: \", df.shape)"
   ]
  },
  {
   "attachments": {},
   "cell_type": "markdown",
   "metadata": {},
   "source": [
    "# Clustering avant échantillonnage"
   ]
  },
  {
   "cell_type": "code",
   "execution_count": null,
   "metadata": {},
   "outputs": [],
   "source": [
    "# echantillonnage\n",
    "nsample = 10000\n",
    "df_sample = df.sample(n=nsample).reset_index()\n",
    "df_sample.shape"
   ]
  },
  {
   "cell_type": "code",
   "execution_count": null,
   "metadata": {},
   "outputs": [],
   "source": [
    "# Check absence of NA\n",
    "df_sample.isna().mean()"
   ]
  },
  {
   "cell_type": "code",
   "execution_count": null,
   "metadata": {},
   "outputs": [],
   "source": [
    "# Formatage des labels\n",
    "df_sample[\"target\"] = df_sample[\"rameau_concepts\"].apply(lambda x: eval(x))\n",
    "df_sample[\"target\"]"
   ]
  },
  {
   "cell_type": "code",
   "execution_count": null,
   "metadata": {},
   "outputs": [],
   "source": [
    "# Encodage des mots clés\n",
    "from sklearn.preprocessing import MultiLabelBinarizer, LabelEncoder\n",
    "mlb = MultiLabelBinarizer()\n",
    "labels_encoded = mlb.fit_transform(df_sample[\"target\"])\n",
    "classes = mlb.classes_\n",
    "\n",
    "print(classes)"
   ]
  },
  {
   "cell_type": "code",
   "execution_count": null,
   "metadata": {},
   "outputs": [],
   "source": [
    "# Check encoding\n",
    "labels_encoded"
   ]
  },
  {
   "cell_type": "code",
   "execution_count": null,
   "metadata": {},
   "outputs": [],
   "source": [
    "# Check inverse transformation\n",
    "nlab = 5\n",
    "labels_true = df_sample.loc[:nlab-1, \"rameau_concepts\"]\n",
    "print(f\"True {nlab} first labels : {labels_true}\")\n",
    "print(f\"Recoded {nlab} first labels : {mlb.inverse_transform(labels_encoded[:nlab-1])}\")"
   ]
  },
  {
   "cell_type": "code",
   "execution_count": null,
   "metadata": {},
   "outputs": [],
   "source": [
    "# Check classes\n",
    "nbr = 50\n",
    "print(f\"{classes[:nbr]} premiers mots clés (ordre alphabetique)\")\n",
    "print(f\"{classes[-nbr:]} derniers mots clés (ordre alphabetique)\")"
   ]
  },
  {
   "cell_type": "code",
   "execution_count": null,
   "metadata": {},
   "outputs": [],
   "source": [
    "# Clustering based on Kmeans\n",
    "from sklearn.cluster import KMeans\n",
    "from sklearn import metrics\n",
    "from sklearn.metrics import silhouette_score, davies_bouldin_score"
   ]
  },
  {
   "cell_type": "code",
   "execution_count": null,
   "metadata": {},
   "outputs": [],
   "source": [
    "# test different clusters\n",
    "sil = []\n",
    "davis_bouldin = []\n",
    "sum_of_squared_distances = []\n",
    "param_range = range(3,20)\n",
    "for k in param_range:\n",
    "    print(f\"Clustering with {k} groups\")\n",
    "    kmeans = KMeans(n_clusters=k)\n",
    "    kmeans.fit(labels_encoded)\n",
    "    labels = kmeans.labels_\n",
    "    sum_of_squared_distances.append(kmeans.inertia_)\n",
    "    silh = silhouette_score(\n",
    "        labels_encoded, labels, metric=\"euclidean\", sample_size=50000, random_state=200\n",
    "        )\n",
    "    dav = davies_bouldin_score(labels_encoded, labels)\n",
    "    sil.append(silh)\n",
    "    davis_bouldin.append(dav)"
   ]
  },
  {
   "cell_type": "code",
   "execution_count": null,
   "metadata": {},
   "outputs": [],
   "source": [
    "# Find optimal values accordin to silhouette and Davis-Bouldin scores\n",
    "opt_val_sil = param_range[sil.index(max(sil))]\n",
    "opt_val_db = param_range[davis_bouldin.index(min(davis_bouldin))]"
   ]
  },
  {
   "cell_type": "code",
   "execution_count": null,
   "metadata": {},
   "outputs": [],
   "source": [
    "def plot_metrics(\n",
    "    sil, davis_bouldin, param_name, param_range, silhouette_color=\"red\", db_color=\"blue\"\n",
    "):\n",
    "    \"\"\"\n",
    "    Plot the silhouette score and davies_bouldin score for a range of cluster number.\n",
    "\n",
    "    Parameters:\n",
    "    -----------\n",
    "        - sil (list): list of silhouette scores for all values of hyper-parameter range\n",
    "        - davis_bouldin (list): list of davies-bouldin scores along hyper-parameter range\n",
    "        - param_name (str): name of the hyper-parameter to be fined-tuned\n",
    "        - param_range (list) : range of possible values for hyper-parameter tuning\n",
    "        - silhouette_color (str): color for the silhouette score (defaut: 'red')\n",
    "        - db_color (str): color for the silhouette score (defaut: 'blue')\n",
    "\n",
    "    Returns :\n",
    "    ---------\n",
    "        - Evolution of silhouette and Davies-bouldin scores along hyper-parameter range\n",
    "    \"\"\"\n",
    "\n",
    "    # plot\n",
    "    _, ax1 = plt.subplots()\n",
    "    ax1.set_xlabel(param_name)\n",
    "    ax1.set_ylabel(\"Silhouette_score\", color=silhouette_color)\n",
    "    ax1.plot(param_range, sil, color=silhouette_color)\n",
    "    ax1.tick_params(axis=\"y\", labelcolor=silhouette_color)\n",
    "\n",
    "    # Adding Twin Axes\n",
    "    ax2 = ax1.twinx()\n",
    "    ax2.set_ylabel(\"Davies_bouldin\", color=db_color)\n",
    "    ax2.plot(param_range, davis_bouldin, color=db_color)\n",
    "    ax2.tick_params(axis=\"y\", labelcolor=db_color)\n",
    "\n",
    "    # Show plot\n",
    "    plt.show()"
   ]
  },
  {
   "cell_type": "code",
   "execution_count": null,
   "metadata": {},
   "outputs": [],
   "source": [
    "plot_metrics(sil, davis_bouldin, param_name=\"k\", param_range=param_range, silhouette_color=\"red\", db_color=\"blue\")"
   ]
  },
  {
   "cell_type": "code",
   "execution_count": null,
   "metadata": {},
   "outputs": [],
   "source": [
    "# Plot inertia\n",
    "plt.plot(param_range, sum_of_squared_distances, 'bx-')\n",
    "plt.xlabel('k')\n",
    "plt.ylabel('sum_of_squared_distances')\n",
    "plt.title('elbow method for optimal k')\n",
    "plt.show()"
   ]
  },
  {
   "cell_type": "code",
   "execution_count": null,
   "metadata": {},
   "outputs": [],
   "source": [
    "# Best clustering\n",
    "#k = opt_val_sil\n",
    "k = 4\n",
    "kmeans = KMeans(n_clusters=k)\n",
    "kmeans.fit(labels_encoded)"
   ]
  },
  {
   "cell_type": "code",
   "execution_count": null,
   "metadata": {},
   "outputs": [],
   "source": [
    "# Graph des silhouettes\n",
    "from yellowbrick.cluster import SilhouetteVisualizer\n",
    "print(\"Graph des Silhouettes\\n\")\n",
    "silhouette_vis = SilhouetteVisualizer(kmeans)\n",
    "silhouette_vis.fit(labels_encoded)\n",
    "silhouette_vis.poof()"
   ]
  },
  {
   "cell_type": "code",
   "execution_count": null,
   "metadata": {},
   "outputs": [],
   "source": [
    "# Plot clusters\n",
    "# Fit visualisation pipeline\n",
    "import sklearn\n",
    "from sklearn.manifold import TSNE\n",
    "tsne =  TSNE(init=\"pca\").fit_transform(labels_encoded)"
   ]
  },
  {
   "cell_type": "code",
   "execution_count": null,
   "metadata": {},
   "outputs": [],
   "source": [
    "# Plot TSNE\n",
    "plt.figure(figsize=(10, 10))\n",
    "axe = plt.axes()\n",
    "clusters = kmeans.labels_\n",
    "num_classes = k\n",
    "palette = np.array(sns.color_palette(\"tab10\", num_classes))\n",
    "axe.scatter(x=tsne[:, 0], y=tsne[:, 1], c=palette[clusters.astype(int)])\n",
    "plt.legend()"
   ]
  },
  {
   "cell_type": "code",
   "execution_count": null,
   "metadata": {},
   "outputs": [],
   "source": [
    "df_sample[\"clusters\"] = clusters\n",
    "df_sample.to_csv(os.path.join(data_path, \"clustering_result_10000_notices.csv\"))"
   ]
  }
 ],
 "metadata": {
  "kernelspec": {
   "display_name": "Python 3 (ipykernel)",
   "language": "python",
   "name": "python3"
  },
  "language_info": {
   "codemirror_mode": {
    "name": "ipython",
    "version": 3
   },
   "file_extension": ".py",
   "mimetype": "text/x-python",
   "name": "python",
   "nbconvert_exporter": "python",
   "pygments_lexer": "ipython3",
   "version": "3.10.10"
  },
  "vscode": {
   "interpreter": {
    "hash": "79d7ff32004ac4c5bc1812f118fca289ef6cc0cea24529fb05e42e57e2fccd5e"
   }
  }
 },
 "nbformat": 4,
 "nbformat_minor": 2
}
