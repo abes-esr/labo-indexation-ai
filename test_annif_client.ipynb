{
 "cells": [
  {
   "cell_type": "code",
   "execution_count": null,
   "metadata": {},
   "outputs": [],
   "source": [
    "import os\n",
    "import pandas as pd\n",
    "\n",
    "from annif_client import AnnifClient\n",
    "\n",
    "annif = AnnifClient(api_base='https://api.annif.org/v1/')\n"
   ]
  },
  {
   "cell_type": "code",
   "execution_count": null,
   "metadata": {},
   "outputs": [],
   "source": [
    "# Set paths\n",
    "path = \".\"\n",
    "os.chdir(path)\n",
    "data_path = path + \"\\\\data\"\n",
    "output_path = path + \"\\\\outputs\"\n",
    "fig_path = path + \"\\\\figs\""
   ]
  },
  {
   "cell_type": "code",
   "execution_count": null,
   "metadata": {},
   "outputs": [],
   "source": [
    "# Look at languages\n",
    "for project in annif.projects:\n",
    "    print(\"Project id: {:<16} lang: {}  name: {}\".format(\n",
    "        project['project_id'], project['language'], project['name']))"
   ]
  },
  {
   "cell_type": "code",
   "execution_count": null,
   "metadata": {},
   "outputs": [],
   "source": [
    "# Set project id\n",
    "project_id='yso-en'"
   ]
  },
  {
   "cell_type": "code",
   "execution_count": null,
   "metadata": {},
   "outputs": [],
   "source": [
    "# Try on text\n",
    "text = 'The quick brown fox jumped over the lazy dog'\n",
    "results = annif.suggest(project_id=project_id, text=text)"
   ]
  },
  {
   "cell_type": "code",
   "execution_count": null,
   "metadata": {},
   "outputs": [],
   "source": [
    "# Show results\n",
    "print(\"URI\\t\\t\\t\\t\\tscore\\tlabel\")\n",
    "for result in results:\n",
    "    print(\"<{}>\\t{:.4f}\\t{}\".format(result['uri'], result['score'], result['label']))"
   ]
  },
  {
   "cell_type": "code",
   "execution_count": null,
   "metadata": {},
   "outputs": [],
   "source": [
    "# Import data\n",
    "filename = \"working_data.csv\"\n",
    "output_filename = \"working_data_with_annif.csv\"\n",
    "df = pd.read_csv(os.path.join(data_path, filename), index_col=0)\n",
    "print(\"Dimension of dataframe: \", df.shape)"
   ]
  },
  {
   "cell_type": "code",
   "execution_count": null,
   "metadata": {},
   "outputs": [],
   "source": [
    "# Try on 1 notice\n",
    "text = df.loc[2, \"DESCR\"]\n",
    "text"
   ]
  },
  {
   "cell_type": "code",
   "execution_count": null,
   "metadata": {},
   "outputs": [],
   "source": [
    "results = annif.suggest(project_id=project_id, text=text)\n",
    "print(\"URI\\t\\t\\t\\t\\tscore\\tlabel\")\n",
    "for result in results:\n",
    "    print(\"<{}>\\t{:.4f}\\t{}\".format(result['uri'], result['score'], result['label']))"
   ]
  },
  {
   "cell_type": "code",
   "execution_count": null,
   "metadata": {},
   "outputs": [],
   "source": [
    "def store_annif_results(results):\n",
    "    annif = {}\n",
    "    for result in results:\n",
    "        annif[result['label']] = \"{:.4f}\".format(result['score'])\n",
    "\n",
    "    return annif"
   ]
  },
  {
   "cell_type": "code",
   "execution_count": null,
   "metadata": {},
   "outputs": [],
   "source": [
    "def get_annif_results(text, project_id='yso-en', limit=6):\n",
    "    results = annif.suggest(project_id=project_id, text=text, limit=limit)\n",
    "    return results"
   ]
  },
  {
   "cell_type": "code",
   "execution_count": null,
   "metadata": {},
   "outputs": [],
   "source": [
    "def get_labels_from_annif(text, project_id='yso-en', limit=6):\n",
    "    results = annif.suggest(project_id=project_id, text=text, limit=limit)\n",
    "    annif_res = store_annif_results(results)\n",
    "\n",
    "    return annif_res\n"
   ]
  },
  {
   "cell_type": "code",
   "execution_count": null,
   "metadata": {},
   "outputs": [],
   "source": [
    "df[\"ANNIF\"] = df[\"DESCR\"].apply(lambda x: get_labels_from_annif(x, project_id='yso-en', limit=6))"
   ]
  },
  {
   "cell_type": "code",
   "execution_count": null,
   "metadata": {},
   "outputs": [],
   "source": [
    "df[\"ANNIF\"]"
   ]
  },
  {
   "cell_type": "code",
   "execution_count": null,
   "metadata": {},
   "outputs": [],
   "source": [
    "df.to_csv(os.path.join(data_path, output_filename))"
   ]
  }
 ],
 "metadata": {
  "kernelspec": {
   "display_name": "abes_index",
   "language": "python",
   "name": "python3"
  },
  "language_info": {
   "codemirror_mode": {
    "name": "ipython",
    "version": 3
   },
   "file_extension": ".py",
   "mimetype": "text/x-python",
   "name": "python",
   "nbconvert_exporter": "python",
   "pygments_lexer": "ipython3",
   "version": "3.10.10"
  }
 },
 "nbformat": 4,
 "nbformat_minor": 2
}
