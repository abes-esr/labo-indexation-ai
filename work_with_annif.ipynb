{
 "cells": [
  {
   "cell_type": "code",
   "execution_count": 2,
   "metadata": {},
   "outputs": [],
   "source": [
    "#!/bin/bash -e"
   ]
  },
  {
   "attachments": {},
   "cell_type": "markdown",
   "metadata": {},
   "source": [
    "# Use of ANNIF library"
   ]
  },
  {
   "attachments": {},
   "cell_type": "markdown",
   "metadata": {},
   "source": [
    "Ce notebook contient toutes les étapes de l'utilisation de la librairie annif (doc d'installation de toutes les librairies à prévoir).\n",
    "- Formatage des données pour utilisation dans ANNIF\n",
    "- Entrainement d'un modèle \n",
    "- Utilisation de pipelines pour tester plusieurs modèles\n",
    "- Recherche des meilleurs paramètres  "
   ]
  },
  {
   "attachments": {},
   "cell_type": "markdown",
   "metadata": {},
   "source": [
    "## Setup "
   ]
  },
  {
   "attachments": {},
   "cell_type": "markdown",
   "metadata": {},
   "source": [
    "### Packages"
   ]
  },
  {
   "cell_type": "code",
   "execution_count": 3,
   "metadata": {},
   "outputs": [],
   "source": [
    "# Import librairies\n",
    "import os\n",
    "import csv\n",
    "import pandas as pd"
   ]
  },
  {
   "attachments": {},
   "cell_type": "markdown",
   "metadata": {},
   "source": [
    "### Graphical parameters"
   ]
  },
  {
   "attachments": {},
   "cell_type": "markdown",
   "metadata": {},
   "source": [
    "### Paths"
   ]
  },
  {
   "cell_type": "code",
   "execution_count": 4,
   "metadata": {},
   "outputs": [],
   "source": [
    "# Set path\n",
    "abes_path = \"/home/aurelie/ABES/labo-indexation-ai/\"\n",
    "os.chdir(abes_path)"
   ]
  },
  {
   "cell_type": "code",
   "execution_count": 5,
   "metadata": {},
   "outputs": [
    {
     "name": "stdout",
     "output_type": "stream",
     "text": [
      "Folder ANNIF already exists\n",
      "Folder ANNIF/data already exists\n",
      "Folder ANNIF/reports already exists\n",
      "Folder ANNIF/data/train already exists\n",
      "Folder ANNIF/data/test already exists\n",
      "Folder ANNIF/data/valid already exists\n"
     ]
    }
   ],
   "source": [
    "# Create folders if needed\n",
    "list_folder = [\n",
    "    \"ANNIF\", \n",
    "    \"ANNIF/data\", \"ANNIF/reports\",\n",
    "    \"ANNIF/data/train\", \"ANNIF/data/test\", \"ANNIF/data/valid\"]\n",
    "\n",
    "for folder in list_folder:\n",
    "    if not os.path.exists(folder):\n",
    "        os.makedirs(folder)\n",
    "    else:\n",
    "        print(f\"Folder {folder} already exists\")\n",
    "\n"
   ]
  },
  {
   "cell_type": "code",
   "execution_count": 6,
   "metadata": {},
   "outputs": [],
   "source": [
    "# Set current directory\n",
    "annif_path = os.getcwd() + \"/ANNIF\"\n",
    "os.chdir(annif_path)"
   ]
  },
  {
   "cell_type": "code",
   "execution_count": 7,
   "metadata": {},
   "outputs": [],
   "source": [
    "# Set paths\n",
    "data_path = \"./../data\"\n",
    "fig_path = \"./../figs\"\n",
    "annif_data_path = annif_path + \"/data\"\n",
    "annif_report_path = annif_path + \"/reports\""
   ]
  },
  {
   "attachments": {},
   "cell_type": "markdown",
   "metadata": {},
   "source": [
    "### Files"
   ]
  },
  {
   "cell_type": "code",
   "execution_count": 8,
   "metadata": {},
   "outputs": [],
   "source": [
    "# Select data to use\n",
    "data = \"working_data_sans_dewey.pkl\"\n",
    "rameau_file = \"rameau_Tf_Td_withURI.csv\""
   ]
  },
  {
   "cell_type": "code",
   "execution_count": 9,
   "metadata": {},
   "outputs": [],
   "source": [
    "# Merge predictions to existing predictions?\n",
    "save_predictions = True\n",
    "optimization = True"
   ]
  },
  {
   "attachments": {},
   "cell_type": "markdown",
   "metadata": {},
   "source": [
    "## Create datasets"
   ]
  },
  {
   "attachments": {},
   "cell_type": "markdown",
   "metadata": {},
   "source": [
    "### Import data"
   ]
  },
  {
   "cell_type": "code",
   "execution_count": 10,
   "metadata": {},
   "outputs": [
    {
     "name": "stdout",
     "output_type": "stream",
     "text": [
      "(154508, 10)\n"
     ]
    }
   ],
   "source": [
    "# Import working data\n",
    "df = pd.read_pickle(os.path.join(data_path, data))\n",
    "print(df.shape)"
   ]
  },
  {
   "cell_type": "code",
   "execution_count": 11,
   "metadata": {},
   "outputs": [
    {
     "data": {
      "text/html": [
       "<div>\n",
       "<style scoped>\n",
       "    .dataframe tbody tr th:only-of-type {\n",
       "        vertical-align: middle;\n",
       "    }\n",
       "\n",
       "    .dataframe tbody tr th {\n",
       "        vertical-align: top;\n",
       "    }\n",
       "\n",
       "    .dataframe thead th {\n",
       "        text-align: right;\n",
       "    }\n",
       "</style>\n",
       "<table border=\"1\" class=\"dataframe\">\n",
       "  <thead>\n",
       "    <tr style=\"text-align: right;\">\n",
       "      <th></th>\n",
       "      <th>PPN</th>\n",
       "      <th>TITRE</th>\n",
       "      <th>RESUME</th>\n",
       "      <th>RAMEAU</th>\n",
       "      <th>DEWEY</th>\n",
       "      <th>DESCR</th>\n",
       "      <th>RAMEAU_CHECKED</th>\n",
       "      <th>presence_chaine_indexation</th>\n",
       "      <th>rameau_chaines_index</th>\n",
       "      <th>rameau_concepts</th>\n",
       "    </tr>\n",
       "  </thead>\n",
       "  <tbody>\n",
       "    <tr>\n",
       "      <th>0</th>\n",
       "      <td>000002364</td>\n",
       "      <td>La culture pour vivre</td>\n",
       "      <td>Mort de la culture populaire en France. Mutati...</td>\n",
       "      <td>Culture populaire;Diffusion de la culture;Poli...</td>\n",
       "      <td>840</td>\n",
       "      <td>La culture pour vivre Mort de la culture popul...</td>\n",
       "      <td>Culture populaire;Diffusion de la culture;Poli...</td>\n",
       "      <td>False</td>\n",
       "      <td>[Culture populaire, Diffusion de la culture, P...</td>\n",
       "      <td>[Culture populaire, Diffusion de la culture, P...</td>\n",
       "    </tr>\n",
       "    <tr>\n",
       "      <th>1</th>\n",
       "      <td>000014877</td>\n",
       "      <td>La nuit, le jour : essai psychanalytique sur l...</td>\n",
       "      <td>Discontinuité, latence, rétablissement d’une c...</td>\n",
       "      <td>Complexe de castration;Psychanalyse;Rêves</td>\n",
       "      <td>154.63</td>\n",
       "      <td>La nuit, le jour : essai psychanalytique sur l...</td>\n",
       "      <td>Complexe de castration;Psychanalyse;Rêves</td>\n",
       "      <td>False</td>\n",
       "      <td>[Complexe de castration, Psychanalyse, Rêves]</td>\n",
       "      <td>[Complexe de castration, Psychanalyse, Rêves]</td>\n",
       "    </tr>\n",
       "    <tr>\n",
       "      <th>2</th>\n",
       "      <td>000021857</td>\n",
       "      <td>Ruptures, cultures</td>\n",
       "      <td>Il faut imaginer Robinson sur son île, au mome...</td>\n",
       "      <td>Culture</td>\n",
       "      <td>840</td>\n",
       "      <td>Ruptures, cultures Il faut imaginer Robinson s...</td>\n",
       "      <td>Culture</td>\n",
       "      <td>False</td>\n",
       "      <td>[Culture]</td>\n",
       "      <td>[Culture]</td>\n",
       "    </tr>\n",
       "    <tr>\n",
       "      <th>3</th>\n",
       "      <td>00002564X</td>\n",
       "      <td>La révolution structurale</td>\n",
       "      <td>Mutations ou crises, les brusques accès de fiè...</td>\n",
       "      <td>Structuralisme</td>\n",
       "      <td>100</td>\n",
       "      <td>La révolution structurale Mutations ou crises,...</td>\n",
       "      <td>Structuralisme</td>\n",
       "      <td>False</td>\n",
       "      <td>[Structuralisme]</td>\n",
       "      <td>[Structuralisme]</td>\n",
       "    </tr>\n",
       "    <tr>\n",
       "      <th>4</th>\n",
       "      <td>000026352</td>\n",
       "      <td>La Destruction du temple</td>\n",
       "      <td>Oswald tire sur Kennedy. Jusque-là, c'est bon,...</td>\n",
       "      <td>Science-fiction américaine -- Traductions fran...</td>\n",
       "      <td>830</td>\n",
       "      <td>La Destruction du temple Oswald tire sur Kenne...</td>\n",
       "      <td>Science-fiction américaine -- Traductions fran...</td>\n",
       "      <td>True</td>\n",
       "      <td>[Science-fiction américaine -- Traductions fra...</td>\n",
       "      <td>[Science-fiction américaine, Traductions franç...</td>\n",
       "    </tr>\n",
       "  </tbody>\n",
       "</table>\n",
       "</div>"
      ],
      "text/plain": [
       "         PPN                                              TITRE   \n",
       "0  000002364                              La culture pour vivre  \\\n",
       "1  000014877  La nuit, le jour : essai psychanalytique sur l...   \n",
       "2  000021857                                 Ruptures, cultures   \n",
       "3  00002564X                          La révolution structurale   \n",
       "4  000026352                           La Destruction du temple   \n",
       "\n",
       "                                              RESUME   \n",
       "0  Mort de la culture populaire en France. Mutati...  \\\n",
       "1  Discontinuité, latence, rétablissement d’une c...   \n",
       "2  Il faut imaginer Robinson sur son île, au mome...   \n",
       "3  Mutations ou crises, les brusques accès de fiè...   \n",
       "4  Oswald tire sur Kennedy. Jusque-là, c'est bon,...   \n",
       "\n",
       "                                              RAMEAU   DEWEY   \n",
       "0  Culture populaire;Diffusion de la culture;Poli...     840  \\\n",
       "1          Complexe de castration;Psychanalyse;Rêves  154.63   \n",
       "2                                            Culture     840   \n",
       "3                                     Structuralisme     100   \n",
       "4  Science-fiction américaine -- Traductions fran...     830   \n",
       "\n",
       "                                               DESCR   \n",
       "0  La culture pour vivre Mort de la culture popul...  \\\n",
       "1  La nuit, le jour : essai psychanalytique sur l...   \n",
       "2  Ruptures, cultures Il faut imaginer Robinson s...   \n",
       "3  La révolution structurale Mutations ou crises,...   \n",
       "4  La Destruction du temple Oswald tire sur Kenne...   \n",
       "\n",
       "                                      RAMEAU_CHECKED   \n",
       "0  Culture populaire;Diffusion de la culture;Poli...  \\\n",
       "1          Complexe de castration;Psychanalyse;Rêves   \n",
       "2                                            Culture   \n",
       "3                                     Structuralisme   \n",
       "4  Science-fiction américaine -- Traductions fran...   \n",
       "\n",
       "   presence_chaine_indexation   \n",
       "0                       False  \\\n",
       "1                       False   \n",
       "2                       False   \n",
       "3                       False   \n",
       "4                        True   \n",
       "\n",
       "                                rameau_chaines_index   \n",
       "0  [Culture populaire, Diffusion de la culture, P...  \\\n",
       "1      [Complexe de castration, Psychanalyse, Rêves]   \n",
       "2                                          [Culture]   \n",
       "3                                   [Structuralisme]   \n",
       "4  [Science-fiction américaine -- Traductions fra...   \n",
       "\n",
       "                                     rameau_concepts  \n",
       "0  [Culture populaire, Diffusion de la culture, P...  \n",
       "1      [Complexe de castration, Psychanalyse, Rêves]  \n",
       "2                                          [Culture]  \n",
       "3                                   [Structuralisme]  \n",
       "4  [Science-fiction américaine, Traductions franç...  "
      ]
     },
     "execution_count": 11,
     "metadata": {},
     "output_type": "execute_result"
    }
   ],
   "source": [
    "df.head()"
   ]
  },
  {
   "cell_type": "code",
   "execution_count": 12,
   "metadata": {},
   "outputs": [
    {
     "name": "stdout",
     "output_type": "stream",
     "text": [
      "(103628, 3)\n"
     ]
    },
    {
     "data": {
      "text/html": [
       "<div>\n",
       "<style scoped>\n",
       "    .dataframe tbody tr th:only-of-type {\n",
       "        vertical-align: middle;\n",
       "    }\n",
       "\n",
       "    .dataframe tbody tr th {\n",
       "        vertical-align: top;\n",
       "    }\n",
       "\n",
       "    .dataframe thead th {\n",
       "        text-align: right;\n",
       "    }\n",
       "</style>\n",
       "<table border=\"1\" class=\"dataframe\">\n",
       "  <thead>\n",
       "    <tr style=\"text-align: right;\">\n",
       "      <th></th>\n",
       "      <th>PPN</th>\n",
       "      <th>NOM</th>\n",
       "      <th>URI</th>\n",
       "    </tr>\n",
       "  </thead>\n",
       "  <tbody>\n",
       "    <tr>\n",
       "      <th>0</th>\n",
       "      <td>157992527</td>\n",
       "      <td>Kirp?n</td>\n",
       "      <td>https://www.idref.fr/157992527</td>\n",
       "    </tr>\n",
       "    <tr>\n",
       "      <th>1</th>\n",
       "      <td>110140494</td>\n",
       "      <td>Militaires artistes</td>\n",
       "      <td>https://www.idref.fr/110140494</td>\n",
       "    </tr>\n",
       "    <tr>\n",
       "      <th>2</th>\n",
       "      <td>028492161</td>\n",
       "      <td>Militaires romains</td>\n",
       "      <td>https://www.idref.fr/028492161</td>\n",
       "    </tr>\n",
       "    <tr>\n",
       "      <th>3</th>\n",
       "      <td>028521757</td>\n",
       "      <td>Militaires prussiens</td>\n",
       "      <td>https://www.idref.fr/028521757</td>\n",
       "    </tr>\n",
       "    <tr>\n",
       "      <th>4</th>\n",
       "      <td>029895561</td>\n",
       "      <td>Sa-skya-pa</td>\n",
       "      <td>https://www.idref.fr/029895561</td>\n",
       "    </tr>\n",
       "    <tr>\n",
       "      <th>5</th>\n",
       "      <td>031875459</td>\n",
       "      <td>Militaires réunionnais</td>\n",
       "      <td>https://www.idref.fr/031875459</td>\n",
       "    </tr>\n",
       "    <tr>\n",
       "      <th>6</th>\n",
       "      <td>032370083</td>\n",
       "      <td>Construction à l'épreuve de la sécheresse</td>\n",
       "      <td>https://www.idref.fr/032370083</td>\n",
       "    </tr>\n",
       "    <tr>\n",
       "      <th>7</th>\n",
       "      <td>032878117</td>\n",
       "      <td>Missionnaires suisses</td>\n",
       "      <td>https://www.idref.fr/032878117</td>\n",
       "    </tr>\n",
       "    <tr>\n",
       "      <th>8</th>\n",
       "      <td>034423982</td>\n",
       "      <td>Militaires ivoiriens</td>\n",
       "      <td>https://www.idref.fr/034423982</td>\n",
       "    </tr>\n",
       "    <tr>\n",
       "      <th>9</th>\n",
       "      <td>034686940</td>\n",
       "      <td>Outils à métaux</td>\n",
       "      <td>https://www.idref.fr/034686940</td>\n",
       "    </tr>\n",
       "    <tr>\n",
       "      <th>10</th>\n",
       "      <td>034789081</td>\n",
       "      <td>Militaires maghrébins</td>\n",
       "      <td>https://www.idref.fr/034789081</td>\n",
       "    </tr>\n",
       "    <tr>\n",
       "      <th>11</th>\n",
       "      <td>034826483</td>\n",
       "      <td>Militaires japonais</td>\n",
       "      <td>https://www.idref.fr/034826483</td>\n",
       "    </tr>\n",
       "    <tr>\n",
       "      <th>12</th>\n",
       "      <td>034948813</td>\n",
       "      <td>Outils pour le travail du cuir</td>\n",
       "      <td>https://www.idref.fr/034948813</td>\n",
       "    </tr>\n",
       "    <tr>\n",
       "      <th>13</th>\n",
       "      <td>035446404</td>\n",
       "      <td>Militaires albanais</td>\n",
       "      <td>https://www.idref.fr/035446404</td>\n",
       "    </tr>\n",
       "    <tr>\n",
       "      <th>14</th>\n",
       "      <td>035752939</td>\n",
       "      <td>Militaires israéliens</td>\n",
       "      <td>https://www.idref.fr/035752939</td>\n",
       "    </tr>\n",
       "    <tr>\n",
       "      <th>15</th>\n",
       "      <td>195692845</td>\n",
       "      <td>École de Madrid (philosophie)</td>\n",
       "      <td>https://www.idref.fr/195692845</td>\n",
       "    </tr>\n",
       "    <tr>\n",
       "      <th>16</th>\n",
       "      <td>20377101X</td>\n",
       "      <td>Scientifiques suisses</td>\n",
       "      <td>https://www.idref.fr/20377101X</td>\n",
       "    </tr>\n",
       "    <tr>\n",
       "      <th>17</th>\n",
       "      <td>203771044</td>\n",
       "      <td>Diretmidae</td>\n",
       "      <td>https://www.idref.fr/203771044</td>\n",
       "    </tr>\n",
       "    <tr>\n",
       "      <th>18</th>\n",
       "      <td>203771060</td>\n",
       "      <td>Diretmichthys</td>\n",
       "      <td>https://www.idref.fr/203771060</td>\n",
       "    </tr>\n",
       "    <tr>\n",
       "      <th>19</th>\n",
       "      <td>203771370</td>\n",
       "      <td>Opsanus beta</td>\n",
       "      <td>https://www.idref.fr/203771370</td>\n",
       "    </tr>\n",
       "  </tbody>\n",
       "</table>\n",
       "</div>"
      ],
      "text/plain": [
       "          PPN                                        NOM   \n",
       "0   157992527                                     Kirp?n  \\\n",
       "1   110140494                        Militaires artistes   \n",
       "2   028492161                         Militaires romains   \n",
       "3   028521757                       Militaires prussiens   \n",
       "4   029895561                                 Sa-skya-pa   \n",
       "5   031875459                     Militaires réunionnais   \n",
       "6   032370083  Construction à l'épreuve de la sécheresse   \n",
       "7   032878117                      Missionnaires suisses   \n",
       "8   034423982                       Militaires ivoiriens   \n",
       "9   034686940                            Outils à métaux   \n",
       "10  034789081                      Militaires maghrébins   \n",
       "11  034826483                        Militaires japonais   \n",
       "12  034948813             Outils pour le travail du cuir   \n",
       "13  035446404                        Militaires albanais   \n",
       "14  035752939                      Militaires israéliens   \n",
       "15  195692845              École de Madrid (philosophie)   \n",
       "16  20377101X                      Scientifiques suisses   \n",
       "17  203771044                                 Diretmidae   \n",
       "18  203771060                              Diretmichthys   \n",
       "19  203771370                               Opsanus beta   \n",
       "\n",
       "                               URI  \n",
       "0   https://www.idref.fr/157992527  \n",
       "1   https://www.idref.fr/110140494  \n",
       "2   https://www.idref.fr/028492161  \n",
       "3   https://www.idref.fr/028521757  \n",
       "4   https://www.idref.fr/029895561  \n",
       "5   https://www.idref.fr/031875459  \n",
       "6   https://www.idref.fr/032370083  \n",
       "7   https://www.idref.fr/032878117  \n",
       "8   https://www.idref.fr/034423982  \n",
       "9   https://www.idref.fr/034686940  \n",
       "10  https://www.idref.fr/034789081  \n",
       "11  https://www.idref.fr/034826483  \n",
       "12  https://www.idref.fr/034948813  \n",
       "13  https://www.idref.fr/035446404  \n",
       "14  https://www.idref.fr/035752939  \n",
       "15  https://www.idref.fr/195692845  \n",
       "16  https://www.idref.fr/20377101X  \n",
       "17  https://www.idref.fr/203771044  \n",
       "18  https://www.idref.fr/203771060  \n",
       "19  https://www.idref.fr/203771370  "
      ]
     },
     "execution_count": 12,
     "metadata": {},
     "output_type": "execute_result"
    }
   ],
   "source": [
    "# Import file of RAMEAU concepts\n",
    "rameau = pd.read_csv(os.path.join(data_path, rameau_file), encoding=\"utf-8\", index_col=0)\n",
    "print(rameau.shape)\n",
    "rameau.head(20)"
   ]
  },
  {
   "attachments": {},
   "cell_type": "markdown",
   "metadata": {},
   "source": [
    "### Create vocabulary file"
   ]
  },
  {
   "cell_type": "code",
   "execution_count": 13,
   "metadata": {},
   "outputs": [],
   "source": [
    "# # Useful once only\n",
    "# # Associate concepts with URI\n",
    "# BASE_URI = 'https://www.idref.fr/'\n",
    "# rameau[\"URI\"] = rameau[\"PPN\"].apply(lambda x: BASE_URI + x)\n",
    "# rameau.head(20)\n",
    "\n",
    "# # Save URI to csv file\n",
    "# rameau.to_csv(os.path.join(data_path, str(rameau_file[:-4] + '_withURI.csv')))"
   ]
  },
  {
   "cell_type": "code",
   "execution_count": 14,
   "metadata": {},
   "outputs": [],
   "source": [
    "# Create dictionnary of URI\n",
    "label2uri = {k:v for k,v in zip(rameau[\"NOM\"], rameau[\"URI\"].astype(str))}"
   ]
  },
  {
   "cell_type": "code",
   "execution_count": 15,
   "metadata": {},
   "outputs": [
    {
     "data": {
      "text/html": [
       "<div>\n",
       "<style scoped>\n",
       "    .dataframe tbody tr th:only-of-type {\n",
       "        vertical-align: middle;\n",
       "    }\n",
       "\n",
       "    .dataframe tbody tr th {\n",
       "        vertical-align: top;\n",
       "    }\n",
       "\n",
       "    .dataframe thead th {\n",
       "        text-align: right;\n",
       "    }\n",
       "</style>\n",
       "<table border=\"1\" class=\"dataframe\">\n",
       "  <thead>\n",
       "    <tr style=\"text-align: right;\">\n",
       "      <th></th>\n",
       "      <th>label_fr</th>\n",
       "      <th>uri</th>\n",
       "    </tr>\n",
       "  </thead>\n",
       "  <tbody>\n",
       "    <tr>\n",
       "      <th>0</th>\n",
       "      <td>Kirp?n</td>\n",
       "      <td>https://www.idref.fr/157992527</td>\n",
       "    </tr>\n",
       "    <tr>\n",
       "      <th>1</th>\n",
       "      <td>Militaires artistes</td>\n",
       "      <td>https://www.idref.fr/110140494</td>\n",
       "    </tr>\n",
       "    <tr>\n",
       "      <th>2</th>\n",
       "      <td>Militaires romains</td>\n",
       "      <td>https://www.idref.fr/028492161</td>\n",
       "    </tr>\n",
       "    <tr>\n",
       "      <th>3</th>\n",
       "      <td>Militaires prussiens</td>\n",
       "      <td>https://www.idref.fr/028521757</td>\n",
       "    </tr>\n",
       "    <tr>\n",
       "      <th>4</th>\n",
       "      <td>Sa-skya-pa</td>\n",
       "      <td>https://www.idref.fr/029895561</td>\n",
       "    </tr>\n",
       "    <tr>\n",
       "      <th>5</th>\n",
       "      <td>Militaires réunionnais</td>\n",
       "      <td>https://www.idref.fr/031875459</td>\n",
       "    </tr>\n",
       "    <tr>\n",
       "      <th>6</th>\n",
       "      <td>Construction à l'épreuve de la sécheresse</td>\n",
       "      <td>https://www.idref.fr/032370083</td>\n",
       "    </tr>\n",
       "    <tr>\n",
       "      <th>7</th>\n",
       "      <td>Missionnaires suisses</td>\n",
       "      <td>https://www.idref.fr/032878117</td>\n",
       "    </tr>\n",
       "    <tr>\n",
       "      <th>8</th>\n",
       "      <td>Militaires ivoiriens</td>\n",
       "      <td>https://www.idref.fr/034423982</td>\n",
       "    </tr>\n",
       "    <tr>\n",
       "      <th>9</th>\n",
       "      <td>Outils à métaux</td>\n",
       "      <td>https://www.idref.fr/034686940</td>\n",
       "    </tr>\n",
       "  </tbody>\n",
       "</table>\n",
       "</div>"
      ],
      "text/plain": [
       "                                    label_fr                             uri\n",
       "0                                     Kirp?n  https://www.idref.fr/157992527\n",
       "1                        Militaires artistes  https://www.idref.fr/110140494\n",
       "2                         Militaires romains  https://www.idref.fr/028492161\n",
       "3                       Militaires prussiens  https://www.idref.fr/028521757\n",
       "4                                 Sa-skya-pa  https://www.idref.fr/029895561\n",
       "5                     Militaires réunionnais  https://www.idref.fr/031875459\n",
       "6  Construction à l'épreuve de la sécheresse  https://www.idref.fr/032370083\n",
       "7                      Missionnaires suisses  https://www.idref.fr/032878117\n",
       "8                       Militaires ivoiriens  https://www.idref.fr/034423982\n",
       "9                            Outils à métaux  https://www.idref.fr/034686940"
      ]
     },
     "execution_count": 15,
     "metadata": {},
     "output_type": "execute_result"
    }
   ],
   "source": [
    "# Create vocabulary file\n",
    "vocab_filename = os.path.join(annif_data_path,'subjects.csv')\n",
    "vocab = pd.DataFrame(rameau[[\"NOM\", \"URI\"]])\n",
    "vocab.columns = [\"label_fr\", \"uri\"]\n",
    "vocab.to_csv(vocab_filename, encoding='utf-8', index=None)\n",
    "vocab.head(10)"
   ]
  },
  {
   "cell_type": "code",
   "execution_count": 16,
   "metadata": {},
   "outputs": [
    {
     "name": "stdout",
     "output_type": "stream",
     "text": [
      "/bin/bash: /home/aurelie/anaconda3/lib/libtinfo.so.6: no version information available (required by /bin/bash)\n",
      "label_fr,uri\n",
      "Kirp?n,https://www.idref.fr/157992527\n",
      "Militaires artistes,https://www.idref.fr/110140494\n",
      "Militaires romains,https://www.idref.fr/028492161\n",
      "Militaires prussiens,https://www.idref.fr/028521757\n",
      "Sa-skya-pa,https://www.idref.fr/029895561\n",
      "Militaires réunionnais,https://www.idref.fr/031875459\n",
      "Construction à l'épreuve de la sécheresse,https://www.idref.fr/032370083\n",
      "Missionnaires suisses,https://www.idref.fr/032878117\n",
      "Militaires ivoiriens,https://www.idref.fr/034423982\n"
     ]
    }
   ],
   "source": [
    "# Check import with bash:\n",
    "! head {vocab_filename}"
   ]
  },
  {
   "cell_type": "code",
   "execution_count": 17,
   "metadata": {},
   "outputs": [
    {
     "name": "stdout",
     "output_type": "stream",
     "text": [
      "/bin/bash: /home/aurelie/anaconda3/lib/libtinfo.so.6: no version information available (required by /bin/bash)\n",
      "103629\n"
     ]
    }
   ],
   "source": [
    "# Check number of concepts in the vocabulary file:\n",
    "! wc -l < {vocab_filename}"
   ]
  },
  {
   "cell_type": "code",
   "execution_count": 18,
   "metadata": {},
   "outputs": [
    {
     "name": "stdout",
     "output_type": "stream",
     "text": [
      "/bin/bash: /home/aurelie/anaconda3/lib/libtinfo.so.6: no version information available (required by /bin/bash)\n",
      "Loading vocabulary from CSV file /home/aurelie/ABES/labo-indexation-ai/ANNIF/data/subjects.csv...\n",
      "updating existing subject index\n",
      "saving vocabulary into SKOS file data/vocabs/rameau/subjects.ttl\n"
     ]
    }
   ],
   "source": [
    "# Load vocabulary file in ANNIF\n",
    "! annif load-vocab rameau {vocab_filename}"
   ]
  },
  {
   "attachments": {},
   "cell_type": "markdown",
   "metadata": {},
   "source": [
    "### Datasets for training and evaluation"
   ]
  },
  {
   "attachments": {},
   "cell_type": "markdown",
   "metadata": {},
   "source": [
    "#### Define train and test sets (using split performed by Jean Luc Prieto)"
   ]
  },
  {
   "cell_type": "code",
   "execution_count": 19,
   "metadata": {},
   "outputs": [
    {
     "name": "stdout",
     "output_type": "stream",
     "text": [
      "dimension of train set:  (125264, 10)\n",
      "dimension of test set:  (29244, 10)\n",
      "dimension of validation set:  (100, 10)\n"
     ]
    }
   ],
   "source": [
    "# Define train and test sets \n",
    "df_train = pd.read_csv(os.path.join(data_path, \"train_dataset.csv\"))\n",
    "print(\"dimension of train set: \", df_train.shape)\n",
    "df_test = pd.read_csv(os.path.join(data_path, \"test_dataset.csv\"))\n",
    "print(\"dimension of test set: \", df_test.shape)\n",
    "df_valid = pd.read_csv(os.path.join(data_path, \"valid100_dataset.csv\"))\n",
    "print(\"dimension of validation set: \", df_valid.shape)"
   ]
  },
  {
   "attachments": {},
   "cell_type": "markdown",
   "metadata": {},
   "source": [
    "#### Create TSV files (short-text-document)\n",
    "see: https://github.com/NatLibFi/Annif/wiki/Document-corpus-formats#short-text-document-corpus-tsv-file"
   ]
  },
  {
   "cell_type": "code",
   "execution_count": 20,
   "metadata": {},
   "outputs": [],
   "source": [
    "# define paths\n",
    "train_tsv_path = os.path.join(annif_data_path, \"rameau-train.tsv\")\n",
    "test_tsv_path = os.path.join(annif_data_path, \"rameau-test.tsv\")\n",
    "valid_tsv_path = os.path.join(annif_data_path, \"rameau-valid.tsv\")\n",
    "\n",
    "annif_train_folder_path = os.path.join(annif_data_path, \"train/\")\n",
    "annif_test_folder_path = os.path.join(annif_data_path, \"test/\")\n",
    "annif_valid_folder_path = os.path.join(annif_data_path, \"valid/\")"
   ]
  },
  {
   "cell_type": "code",
   "execution_count": 22,
   "metadata": {},
   "outputs": [],
   "source": [
    "# Format URIS for ANNIF\n",
    "def format_for_annif(labels):\n",
    "    uris = []\n",
    "    for label in labels:\n",
    "        if label in label2uri.keys():\n",
    "            uris.append(label2uri[label])\n",
    "    uris_formated = \" \".join(uris)\n",
    "    return uris_formated"
   ]
  },
  {
   "cell_type": "code",
   "execution_count": 23,
   "metadata": {},
   "outputs": [
    {
     "data": {
      "text/html": [
       "<div>\n",
       "<style scoped>\n",
       "    .dataframe tbody tr th:only-of-type {\n",
       "        vertical-align: middle;\n",
       "    }\n",
       "\n",
       "    .dataframe tbody tr th {\n",
       "        vertical-align: top;\n",
       "    }\n",
       "\n",
       "    .dataframe thead th {\n",
       "        text-align: right;\n",
       "    }\n",
       "</style>\n",
       "<table border=\"1\" class=\"dataframe\">\n",
       "  <thead>\n",
       "    <tr style=\"text-align: right;\">\n",
       "      <th></th>\n",
       "      <th>DESCR_cleaned</th>\n",
       "      <th>rameau_concept_formatted_for_annif</th>\n",
       "    </tr>\n",
       "  </thead>\n",
       "  <tbody>\n",
       "    <tr>\n",
       "      <th>0</th>\n",
       "      <td>La culture pour vivre Mort de la culture popul...</td>\n",
       "      <td>https://www.idref.fr/027348237 https://www.idr...</td>\n",
       "    </tr>\n",
       "    <tr>\n",
       "      <th>1</th>\n",
       "      <td>La nuit, le jour : essai psychanalytique sur l...</td>\n",
       "      <td>https://www.idref.fr/027823393 https://www.idr...</td>\n",
       "    </tr>\n",
       "    <tr>\n",
       "      <th>2</th>\n",
       "      <td>Ruptures, cultures Il faut imaginer Robinson s...</td>\n",
       "      <td>https://www.idref.fr/027231429</td>\n",
       "    </tr>\n",
       "    <tr>\n",
       "      <th>3</th>\n",
       "      <td>La Destruction du temple Oswald tire sur Kenne...</td>\n",
       "      <td>http://www.idref.fr/028242955 https://www.idre...</td>\n",
       "    </tr>\n",
       "    <tr>\n",
       "      <th>4</th>\n",
       "      <td>Mon père Jové, pèlerin de l'image Naturalisé f...</td>\n",
       "      <td>http://www.idref.fr/028224248</td>\n",
       "    </tr>\n",
       "  </tbody>\n",
       "</table>\n",
       "</div>"
      ],
      "text/plain": [
       "                                       DESCR_cleaned   \n",
       "0  La culture pour vivre Mort de la culture popul...  \\\n",
       "1  La nuit, le jour : essai psychanalytique sur l...   \n",
       "2  Ruptures, cultures Il faut imaginer Robinson s...   \n",
       "3  La Destruction du temple Oswald tire sur Kenne...   \n",
       "4  Mon père Jové, pèlerin de l'image Naturalisé f...   \n",
       "\n",
       "                  rameau_concept_formatted_for_annif  \n",
       "0  https://www.idref.fr/027348237 https://www.idr...  \n",
       "1  https://www.idref.fr/027823393 https://www.idr...  \n",
       "2                     https://www.idref.fr/027231429  \n",
       "3  http://www.idref.fr/028242955 https://www.idre...  \n",
       "4                      http://www.idref.fr/028224248  "
      ]
     },
     "execution_count": 23,
     "metadata": {},
     "output_type": "execute_result"
    }
   ],
   "source": [
    "# Apply on train data\n",
    "df_train[\"rameau_concept_formatted_for_annif\"] = df_train[\"rameau_concepts\"].apply(lambda x: format_for_annif(eval(x)))\n",
    "df_train[\"DESCR_cleaned\"] = df_train[\"DESCR\"].apply(lambda x: \" \".join(x.split()))\n",
    "df_train[[\"DESCR_cleaned\", \"rameau_concept_formatted_for_annif\"]].head()"
   ]
  },
  {
   "cell_type": "code",
   "execution_count": 24,
   "metadata": {},
   "outputs": [],
   "source": [
    "# Save TSV file for ANNIF\n",
    "with open(train_tsv_path, 'w', encoding='utf-8') as output_train_file:\n",
    "        for index, row in df_train.iterrows():\n",
    "                print(row['DESCR_cleaned'] + '\\t' + row['rameau_concept_formatted_for_annif'], file=output_train_file)\n"
   ]
  },
  {
   "cell_type": "code",
   "execution_count": 25,
   "metadata": {},
   "outputs": [
    {
     "name": "stdout",
     "output_type": "stream",
     "text": [
      "/bin/bash: /home/aurelie/anaconda3/lib/libtinfo.so.6: no version information available (required by /bin/bash)\n",
      "La culture pour vivre Mort de la culture populaire en France. Mutation des institutions culturelles grâce à une technique de mise en relation des oeuvres et d'un public, et qui tend à créer un comportement culturel adapté aux caractéristiques de l'époque\thttps://www.idref.fr/027348237 https://www.idref.fr/027224929 https://www.idref.fr/027416593\n",
      "La nuit, le jour : essai psychanalytique sur le fonctionnement mental Discontinuité, latence, rétablissement d’une continuité organisent la vie psychique. Réparatrice est dite la nuit... Les auteurs ont voulu montrer la complexité sous-jacente à cette qualité dès lors que Freud met au jour dans l’étude du rêve, au-delà d’une certaine réalisation de désir inconscient lié à l’histoire individuelle d’un sujet donné, l’existence de « veinures » qui résultent de la préhistoire de tous les humains et qui, imprimant la matière où s’inscrit le rêve, obligent celui-ci à organiser l’hallucination du désir en fonction de leur immuabilité. Les pensées latentes où s’origine de jour la vie onirique surgissent sur fond de manque à percevoir où se réédite quotidiennement le message verbal de castration. C’est pourquoi les pensées latentes et l’hallucination du désir auraient plus tendance à se conserver qu’à se décharger. La poussée vers la décharge apte à rendre la nuit aussi réparatrice que possible ne pourrait aboutir si la mère du tout premier âge, mère sexuelle et incestueuse, invisible car recouverte de son habit de censure, ne resurgissait rythmiquement ; certes elle pérennise l’inceste, mais aussi, le temps d’un sommeil, elle replonge l’individu dans la nuit des temps.\thttps://www.idref.fr/027823393 https://www.idref.fr/027241505 https://www.idref.fr/027242013\n",
      "Ruptures, cultures Il faut imaginer Robinson sur son île, au moment où il va être menacé de découvrir les lettres et les arts : quelle ressource, observait déjà Rousseau, que cette figure, que cette “ folie ” pour une culture qui ne l'aura inventée que pour nous persuader plus sûrement de sa nécessité ? Mais tout un qui écrit, qui peint, qui fait œuvre, n'est-il pas une manière de Robinson, un être séparé ou – comme disait Bataille – un “ nécessiteux ” ? Et que dire de celui qui prétend s'exclure du jeu, refuser l'héritage, rompre les amarres ? Et que dire, à l'inverse, de celui qui, soustrait par force à la société de ses semblables, s'emploie à battre la culture sur son propre terrain, à la débusquer de ses retraites les plus secrètes, à la vaincre par excès ? De Dubuffet à Sade, en passant par quelques-unes des figures, mythiques, économiques, politiques, créatrices, de l'appropriation, de l'inquisition, du refus, c'est la culture elle-même qui se trouve renvoyée à son propre fond et sommée d'avouer – quand s'inversent les signes du luxe et de la nécessité – la puissance de rupture qui l'habite et qui fait son ressort.\thttps://www.idref.fr/027231429\n",
      "La Destruction du temple Oswald tire sur Kennedy. Jusque-là, c'est bon, cette fois, mais ensuite tout recommence à aller de travers. C'est bien simple, il n'y a rien à faire avec ces gens-là. Cet imbécile de Kennedy a jugé bon de se mettre debout dans la limousine, ce coup-là, et il tombe pesamment sans aucune élégance... Oswald, inconscient du désastre et ne pensant, comme tous les autres, qu'à sa propre prestation, balance allégrement son fusil du haut du dixième étage et disparaît de la fenêtre tandis que je me sauve ventre à terre. Reconstitution ? Film ? Jeu ? Et s'il s'agissait d'une autre réalité dans laquelle, à chaque instant, Lee Harvey Oswald tire sur le président Kennedy ?\thttp://www.idref.fr/028242955 https://www.idref.fr/029051428\n",
      "Mon père Jové, pèlerin de l'image Naturalisé français en 1931, ce photographe qui travailla entre autres pour l'Illustration fut aussi peintre, graveur-lithographe et pratiqua le cinéma itinérant. Il vécut 37 ans à Pau\thttp://www.idref.fr/028224248\n"
     ]
    }
   ],
   "source": [
    "# Check import with bash: \n",
    "! head -n 5 {train_tsv_path}"
   ]
  },
  {
   "cell_type": "code",
   "execution_count": 26,
   "metadata": {},
   "outputs": [
    {
     "data": {
      "text/html": [
       "<div>\n",
       "<style scoped>\n",
       "    .dataframe tbody tr th:only-of-type {\n",
       "        vertical-align: middle;\n",
       "    }\n",
       "\n",
       "    .dataframe tbody tr th {\n",
       "        vertical-align: top;\n",
       "    }\n",
       "\n",
       "    .dataframe thead th {\n",
       "        text-align: right;\n",
       "    }\n",
       "</style>\n",
       "<table border=\"1\" class=\"dataframe\">\n",
       "  <thead>\n",
       "    <tr style=\"text-align: right;\">\n",
       "      <th></th>\n",
       "      <th>DESCR_cleaned</th>\n",
       "      <th>rameau_concept_formatted_for_annif</th>\n",
       "    </tr>\n",
       "  </thead>\n",
       "  <tbody>\n",
       "    <tr>\n",
       "      <th>0</th>\n",
       "      <td>La révolution structurale Mutations ou crises,...</td>\n",
       "      <td>https://www.idref.fr/027249581</td>\n",
       "    </tr>\n",
       "    <tr>\n",
       "      <th>1</th>\n",
       "      <td>La théorie des jeux et ses applications à l'éc...</td>\n",
       "      <td>https://www.idref.fr/02733743X https://www.idr...</td>\n",
       "    </tr>\n",
       "    <tr>\n",
       "      <th>2</th>\n",
       "      <td>Pétrole : le vrai dossier Que dissimulent les ...</td>\n",
       "      <td>https://www.idref.fr/027428958</td>\n",
       "    </tr>\n",
       "    <tr>\n",
       "      <th>3</th>\n",
       "      <td>Magie : aspects de la tradition occidentale La...</td>\n",
       "      <td>https://www.idref.fr/027238210</td>\n",
       "    </tr>\n",
       "    <tr>\n",
       "      <th>4</th>\n",
       "      <td>Mathématiques de base pour les linguistes La f...</td>\n",
       "      <td>https://www.idref.fr/027236005 https://www.idr...</td>\n",
       "    </tr>\n",
       "  </tbody>\n",
       "</table>\n",
       "</div>"
      ],
      "text/plain": [
       "                                       DESCR_cleaned   \n",
       "0  La révolution structurale Mutations ou crises,...  \\\n",
       "1  La théorie des jeux et ses applications à l'éc...   \n",
       "2  Pétrole : le vrai dossier Que dissimulent les ...   \n",
       "3  Magie : aspects de la tradition occidentale La...   \n",
       "4  Mathématiques de base pour les linguistes La f...   \n",
       "\n",
       "                  rameau_concept_formatted_for_annif  \n",
       "0                     https://www.idref.fr/027249581  \n",
       "1  https://www.idref.fr/02733743X https://www.idr...  \n",
       "2                     https://www.idref.fr/027428958  \n",
       "3                     https://www.idref.fr/027238210  \n",
       "4  https://www.idref.fr/027236005 https://www.idr...  "
      ]
     },
     "execution_count": 26,
     "metadata": {},
     "output_type": "execute_result"
    }
   ],
   "source": [
    "# Apply on test dataset\n",
    "df_test[\"rameau_concept_formatted_for_annif\"] = df_test[\"rameau_concepts\"].apply(lambda x: format_for_annif(eval(x)))\n",
    "df_test[\"DESCR_cleaned\"] = df_test[\"DESCR\"].apply(lambda x: \" \".join(x.split()))\n",
    "df_test[[\"DESCR_cleaned\", \"rameau_concept_formatted_for_annif\"]].head()"
   ]
  },
  {
   "cell_type": "code",
   "execution_count": 27,
   "metadata": {},
   "outputs": [],
   "source": [
    "# Save TSV file for ANNIF\n",
    "test_tsv_path = os.path.join(annif_data_path, \"rameau-test.tsv\")\n",
    "with open(test_tsv_path, 'w', encoding='utf-8') as output_test_file:\n",
    "        for index, row in df_test.iterrows():\n",
    "                print(row['DESCR_cleaned'] + '\\t' + row['rameau_concept_formatted_for_annif'], file=output_test_file)"
   ]
  },
  {
   "cell_type": "code",
   "execution_count": 28,
   "metadata": {},
   "outputs": [],
   "source": [
    "# Apply on test dataset\n",
    "df_valid[\"rameau_concept_formatted_for_annif\"] = df_valid[\"rameau_concepts\"].apply(lambda x: format_for_annif(eval(x)))\n",
    "df_valid[\"DESCR_cleaned\"] = df_valid[\"DESCR\"].apply(lambda x: \" \".join(x.split()))\n",
    "df_valid[[\"DESCR_cleaned\", \"rameau_concept_formatted_for_annif\"]].head()\n",
    "\n",
    "# Save TSV file for ANNIF\n",
    "valid_tsv_path = os.path.join(annif_data_path, \"rameau-valid.tsv\")\n",
    "with open(valid_tsv_path, 'w', encoding='utf-8') as output_valid_file:\n",
    "        for index, row in df_test.iterrows():\n",
    "                print(row['DESCR_cleaned'] + '\\t' + row['rameau_concept_formatted_for_annif'], file=output_valid_file)"
   ]
  },
  {
   "attachments": {},
   "cell_type": "markdown",
   "metadata": {},
   "source": [
    "### Datasets to get predictions"
   ]
  },
  {
   "attachments": {},
   "cell_type": "markdown",
   "metadata": {},
   "source": [
    "ANNIF ne sait pas faire la prédiction de chaque notice d'un fichier short-text document (TSV) d'un coup. Il fait une prédiction pour tout le texte du TSV, ce qui n'a pas de sens.\n",
    "\n",
    "Il faut donc créer un fichier .txt pour chaque notice et lancer la prédiction pour tous les .txt d'un dossier en utilisant annif index"
   ]
  },
  {
   "cell_type": "code",
   "execution_count": 29,
   "metadata": {},
   "outputs": [],
   "source": [
    "# Train dataset\n",
    "for index, row in df_train.iterrows():\n",
    "    if not os.path.exists(annif_train_folder_path):\n",
    "        os.makedirs(annif_train_folder_path)\n",
    "    filename = os.path.join(annif_train_folder_path, str(row['PPN'] + '.txt'))\n",
    "    with open(filename, 'a') as f:\n",
    "        f.write(row['DESCR_cleaned'])"
   ]
  },
  {
   "cell_type": "code",
   "execution_count": 30,
   "metadata": {},
   "outputs": [
    {
     "name": "stdout",
     "output_type": "stream",
     "text": [
      "Number of files in /home/aurelie/ABES/labo-indexation-ai/ANNIF/data/train/ folder: \n",
      "['/bin/bash: /home/aurelie/anaconda3/lib/libtinfo.so.6: no version information available (required by /bin/bash)', '125264']\n"
     ]
    }
   ],
   "source": [
    "# Check number of files in the train folder:\n",
    "nb_file = !ls {annif_train_folder_path} | wc -l\n",
    "print(f\"Number of files in {annif_train_folder_path} folder: \\n{nb_file}\")"
   ]
  },
  {
   "cell_type": "code",
   "execution_count": 31,
   "metadata": {},
   "outputs": [],
   "source": [
    "# Test dataset\n",
    "annif_test_folder_path = os.path.join(annif_data_path, \"test/\")\n",
    "for index, row in df_test.iterrows():\n",
    "    if not os.path.exists(annif_test_folder_path):\n",
    "        os.makedirs(annif_test_folder_path)\n",
    "    filename = os.path.join(annif_test_folder_path, str(row['PPN'] + '.txt'))\n",
    "    with open(filename, 'a') as f:\n",
    "        f.write(row['DESCR_cleaned'])"
   ]
  },
  {
   "cell_type": "code",
   "execution_count": 32,
   "metadata": {},
   "outputs": [
    {
     "name": "stdout",
     "output_type": "stream",
     "text": [
      "Number of files in /home/aurelie/ABES/labo-indexation-ai/ANNIF/data/test/ folder: \n",
      "['/bin/bash: /home/aurelie/anaconda3/lib/libtinfo.so.6: no version information available (required by /bin/bash)', '29244']\n"
     ]
    }
   ],
   "source": [
    "# Check number of files in the train folder:\n",
    "nb_file = !ls {annif_test_folder_path} | wc -l\n",
    "print(f\"Number of files in {annif_test_folder_path} folder: \\n{nb_file}\")"
   ]
  },
  {
   "cell_type": "code",
   "execution_count": 33,
   "metadata": {},
   "outputs": [
    {
     "name": "stdout",
     "output_type": "stream",
     "text": [
      "Number of files in /home/aurelie/ABES/labo-indexation-ai/ANNIF/data/valid/ folder: \n",
      "['/bin/bash: /home/aurelie/anaconda3/lib/libtinfo.so.6: no version information available (required by /bin/bash)', '100']\n"
     ]
    }
   ],
   "source": [
    "# Validation dataset\n",
    "annif_valid_folder_path = os.path.join(annif_data_path, \"valid/\")\n",
    "for index, row in df_valid.iterrows():\n",
    "    if not os.path.exists(annif_valid_folder_path):\n",
    "        os.makedirs(annif_valid_folder_path)\n",
    "    filename = os.path.join(annif_valid_folder_path, str(row['PPN'] + '.txt'))\n",
    "    with open(filename, 'a') as f:\n",
    "        f.write(row['DESCR_cleaned'])\n",
    "\n",
    "# Check number of files in the train folder:\n",
    "nb_file = !ls {annif_valid_folder_path} | wc -l\n",
    "print(f\"Number of files in {annif_valid_folder_path} folder: \\n{nb_file}\")"
   ]
  },
  {
   "attachments": {},
   "cell_type": "markdown",
   "metadata": {},
   "source": [
    "## Test ANNIF"
   ]
  },
  {
   "attachments": {},
   "cell_type": "markdown",
   "metadata": {},
   "source": [
    "### List all available projects "
   ]
  },
  {
   "cell_type": "code",
   "execution_count": 34,
   "metadata": {},
   "outputs": [
    {
     "data": {
      "text/plain": [
       "['/bin/bash: /home/aurelie/anaconda3/lib/libtinfo.so.6: no version information available (required by /bin/bash)',\n",
       " 'Project ID               Project Name                                 Language  Trained',\n",
       " '---------------------------------------------------------------------------------------',\n",
       " 'rameau-tfidf-snowball-fr TF-IDF French RAMEAU with snowball lemma     fr        True   ',\n",
       " 'rameau-tfidf-spacy-fr    TF-IDF French RAMEAU with spacy lemma        fr        True   ',\n",
       " 'rameau-fasttext-fr       FastText French RAMEAU                       fr        True   ',\n",
       " 'rameau-fasttext-snowball-frFastText French RAMEAU                       fr        False  ',\n",
       " 'rameau-svc-fr            SVC French RAMEAU                            fr        False  ',\n",
       " 'rameau-yake-fr           Yake French RAMEAU                           fr        True   ',\n",
       " 'rameau-omikuji-parabel-frOmikuji Parabel French                       fr        True   ',\n",
       " 'rameau-mllm-fr           RAMEAU MLLM project                          fr        True   ',\n",
       " 'rameau-mllm-snowball-fr  RAMEAU MLLM project                          fr        True   ',\n",
       " '2023-06-28 11:21:42.549857: I tensorflow/core/platform/cpu_feature_guard.cc:193] This TensorFlow binary is optimized with oneAPI Deep Neural Network Library (oneDNN) to use the following CPU instructions in performance-critical operations:  AVX2 FMA',\n",
       " 'To enable them in other operations, rebuild TensorFlow with the appropriate compiler flags.',\n",
       " 'rameau-ensemble-mllm-fr  RAMEAU ensemble with MLLM French             fr        False  ',\n",
       " 'rameau-simple-ensemble-fasttext-frRAMEAU ensemble with Fasttext French         fr        True   ',\n",
       " 'rameau-simple-ensemble-all-frRAMEAU ensemble French                       fr        True   ',\n",
       " 'rameau-simple-ensemble-mllm-frRAMEAU ensemble with MLLM French             fr        True   ',\n",
       " 'rameau-ensemble-fasttext-frRAMEAU ensemble with FastText French         fr        True   ',\n",
       " 'rameau-pav-MLLM-fr       RAMEAU PAV ensemble project with MLLM        fr        True   ']"
      ]
     },
     "execution_count": 34,
     "metadata": {},
     "output_type": "execute_result"
    }
   ],
   "source": [
    "# list of projects\n",
    "project_list = ! annif list-projects\n",
    "project_list"
   ]
  },
  {
   "attachments": {},
   "cell_type": "markdown",
   "metadata": {},
   "source": [
    "### Select project to test"
   ]
  },
  {
   "cell_type": "code",
   "execution_count": 50,
   "metadata": {},
   "outputs": [],
   "source": [
    "# Select project and parameters\n",
    "project = \"rameau-mllm-snowball-fr\"\n",
    "njobs = 0\n",
    "input_file = train_tsv_path\n",
    "max_nb_concepts = 10\n",
    "threshold = 0.2 \n",
    "trials = 10\n",
    "metric_file_path = os.path.join(annif_report_path, str(project + '.json'))\n",
    "result_file_path = os.path.join(annif_report_path, str(project + '.csv'))\n",
    "\n",
    "test_file = test_tsv_path"
   ]
  },
  {
   "cell_type": "code",
   "execution_count": 43,
   "metadata": {},
   "outputs": [
    {
     "data": {
      "text/plain": [
       "'/home/aurelie/ABES/labo-indexation-ai/ANNIF/reports/rameau-mllm-snowball-fr.json'"
      ]
     },
     "execution_count": 43,
     "metadata": {},
     "output_type": "execute_result"
    }
   ],
   "source": [
    "metric_file_path"
   ]
  },
  {
   "attachments": {},
   "cell_type": "markdown",
   "metadata": {},
   "source": [
    "### Train model"
   ]
  },
  {
   "cell_type": "code",
   "execution_count": 44,
   "metadata": {},
   "outputs": [
    {
     "name": "stdout",
     "output_type": "stream",
     "text": [
      "/bin/bash: /home/aurelie/anaconda3/lib/libtinfo.so.6: no version information available (required by /bin/bash)\n",
      "Backend mllm: starting train\n",
      "Backend mllm: preparing training data\n",
      "/home/aurelie/anaconda3/envs/abes_index/lib/python3.10/site-packages/sklearn/feature_extraction/text.py:528: UserWarning: The parameter 'token_pattern' will not be used since 'tokenizer' is not None'\n",
      "  warnings.warn(\n",
      "Backend mllm: training model\n",
      "^C\n"
     ]
    }
   ],
   "source": [
    "# Train project\n",
    "! annif train {project} --jobs {njobs} {input_file}"
   ]
  },
  {
   "attachments": {},
   "cell_type": "markdown",
   "metadata": {},
   "source": [
    "### Evaluate model"
   ]
  },
  {
   "cell_type": "code",
   "execution_count": null,
   "metadata": {},
   "outputs": [],
   "source": [
    "# Evaluate project\n",
    "! annif eval --limit {max_nb_concepts} --threshold {threshold} --metrics-file {metric_file_path} --results-file {result_file_path} --jobs {njobs} {project} {test_file}"
   ]
  },
  {
   "attachments": {},
   "cell_type": "markdown",
   "metadata": {},
   "source": [
    "## Hyperoptimization"
   ]
  },
  {
   "cell_type": "code",
   "execution_count": 51,
   "metadata": {},
   "outputs": [
    {
     "name": "stdout",
     "output_type": "stream",
     "text": [
      "/bin/bash: /home/aurelie/anaconda3/lib/libtinfo.so.6: no version information available (required by /bin/bash)\n",
      "Looking for optimal hyperparameters using 10 trials\n",
      "\u001b[32m[I 2023-06-28 18:50:59,779]\u001b[0m A new study created in memory with name: no-name-4a72b918-184a-49fa-95d8-b838fe00b0e0\u001b[0m\n",
      "\u001b[33m[W 2023-06-28 19:01:22,162]\u001b[0m Trial 0 failed because of the following error: KeyError('f1score')\u001b[0m\n",
      "Traceback (most recent call last):\n",
      "  File \"/home/aurelie/.local/lib/python3.10/site-packages/optuna/study/_optimize.py\", line 213, in _run_trial\n",
      "    value_or_values = func(trial)\n",
      "  File \"/home/aurelie/anaconda3/envs/abes_index/lib/python3.10/site-packages/annif/backend/mllm.py\", line 52, in _objective\n",
      "    results = batch.results(metrics=[self._metric])\n",
      "  File \"/home/aurelie/anaconda3/envs/abes_index/lib/python3.10/site-packages/annif/eval.py\", line 223, in results\n",
      "    results = self._evaluate_samples(y_true, y_pred, metrics)\n",
      "  File \"/home/aurelie/anaconda3/envs/abes_index/lib/python3.10/site-packages/annif/eval.py\", line 157, in _evaluate_samples\n",
      "    return {metric: all_metrics[metric]() for metric in metrics}\n",
      "  File \"/home/aurelie/anaconda3/envs/abes_index/lib/python3.10/site-packages/annif/eval.py\", line 157, in <dictcomp>\n",
      "    return {metric: all_metrics[metric]() for metric in metrics}\n",
      "KeyError: 'f1score'\n",
      "  0%|                                                    | 0/10 [10:22<?, ?it/s]\n",
      "Traceback (most recent call last):\n",
      "  File \"/home/aurelie/anaconda3/envs/abes_index/bin/annif\", line 8, in <module>\n",
      "    sys.exit(cli())\n",
      "  File \"/home/aurelie/.local/lib/python3.10/site-packages/click/core.py\", line 1130, in __call__\n",
      "    return self.main(*args, **kwargs)\n",
      "  File \"/home/aurelie/.local/lib/python3.10/site-packages/click/core.py\", line 1055, in main\n",
      "    rv = self.invoke(ctx)\n",
      "  File \"/home/aurelie/.local/lib/python3.10/site-packages/click/core.py\", line 1657, in invoke\n",
      "    return _process_result(sub_ctx.command.invoke(sub_ctx))\n",
      "  File \"/home/aurelie/.local/lib/python3.10/site-packages/click/core.py\", line 1404, in invoke\n",
      "    return ctx.invoke(self.callback, **ctx.params)\n",
      "  File \"/home/aurelie/.local/lib/python3.10/site-packages/click/core.py\", line 760, in invoke\n",
      "    return __callback(*args, **kwargs)\n",
      "  File \"/home/aurelie/.local/lib/python3.10/site-packages/click/decorators.py\", line 26, in new_func\n",
      "    return f(get_current_context(), *args, **kwargs)\n",
      "  File \"/home/aurelie/.local/lib/python3.10/site-packages/flask/cli.py\", line 357, in decorator\n",
      "    return __ctx.invoke(f, *args, **kwargs)\n",
      "  File \"/home/aurelie/.local/lib/python3.10/site-packages/click/core.py\", line 760, in invoke\n",
      "    return __callback(*args, **kwargs)\n",
      "  File \"/home/aurelie/anaconda3/envs/abes_index/lib/python3.10/site-packages/annif/cli.py\", line 546, in run_hyperopt\n",
      "    rec = proj.hyperopt(documents, trials, jobs, metric, results_file)\n",
      "  File \"/home/aurelie/anaconda3/envs/abes_index/lib/python3.10/site-packages/annif/project.py\", line 246, in hyperopt\n",
      "    return optimizer.optimize(trials, jobs, results_file)\n",
      "  File \"/home/aurelie/anaconda3/envs/abes_index/lib/python3.10/site-packages/annif/backend/hyperopt.py\", line 90, in optimize\n",
      "    study.optimize(\n",
      "  File \"/home/aurelie/.local/lib/python3.10/site-packages/optuna/study/study.py\", line 400, in optimize\n",
      "    _optimize(\n",
      "  File \"/home/aurelie/.local/lib/python3.10/site-packages/optuna/study/_optimize.py\", line 66, in _optimize\n",
      "    _optimize_sequential(\n",
      "  File \"/home/aurelie/.local/lib/python3.10/site-packages/optuna/study/_optimize.py\", line 163, in _optimize_sequential\n",
      "    trial = _run_trial(study, func, catch)\n",
      "  File \"/home/aurelie/.local/lib/python3.10/site-packages/optuna/study/_optimize.py\", line 264, in _run_trial\n",
      "    raise func_err\n",
      "  File \"/home/aurelie/.local/lib/python3.10/site-packages/optuna/study/_optimize.py\", line 213, in _run_trial\n",
      "    value_or_values = func(trial)\n",
      "  File \"/home/aurelie/anaconda3/envs/abes_index/lib/python3.10/site-packages/annif/backend/mllm.py\", line 52, in _objective\n",
      "    results = batch.results(metrics=[self._metric])\n",
      "  File \"/home/aurelie/anaconda3/envs/abes_index/lib/python3.10/site-packages/annif/eval.py\", line 223, in results\n",
      "    results = self._evaluate_samples(y_true, y_pred, metrics)\n",
      "  File \"/home/aurelie/anaconda3/envs/abes_index/lib/python3.10/site-packages/annif/eval.py\", line 157, in _evaluate_samples\n",
      "    return {metric: all_metrics[metric]() for metric in metrics}\n",
      "  File \"/home/aurelie/anaconda3/envs/abes_index/lib/python3.10/site-packages/annif/eval.py\", line 157, in <dictcomp>\n",
      "    return {metric: all_metrics[metric]() for metric in metrics}\n",
      "KeyError: 'f1score'\n"
     ]
    }
   ],
   "source": [
    "if optimization:\n",
    "    metric_file_path = os.path.join(annif_report_path, str(project + '_opt.json'))\n",
    "    result_file_path_opt = os.path.join(annif_report_path, str(project + '_opt.csv'))\n",
    "\n",
    "    ! annif hyperopt {project} --trials {trials} --results-file {result_file_path_opt} --metric \"f1score\" {test_file}"
   ]
  },
  {
   "cell_type": "code",
   "execution_count": 49,
   "metadata": {},
   "outputs": [
    {
     "ename": "EmptyDataError",
     "evalue": "No columns to parse from file",
     "output_type": "error",
     "traceback": [
      "\u001b[0;31m---------------------------------------------------------------------------\u001b[0m",
      "\u001b[0;31mEmptyDataError\u001b[0m                            Traceback (most recent call last)",
      "Cell \u001b[0;32mIn[49], line 2\u001b[0m\n\u001b[1;32m      1\u001b[0m \u001b[39m# Select best model\u001b[39;00m\n\u001b[0;32m----> 2\u001b[0m opt \u001b[39m=\u001b[39m pd\u001b[39m.\u001b[39;49mread_csv(result_file_path_opt, sep\u001b[39m=\u001b[39;49m\u001b[39m'\u001b[39;49m\u001b[39m\\t\u001b[39;49;00m\u001b[39m'\u001b[39;49m)\n\u001b[1;32m      3\u001b[0m opt\n",
      "File \u001b[0;32m~/.local/lib/python3.10/site-packages/pandas/io/parsers/readers.py:912\u001b[0m, in \u001b[0;36mread_csv\u001b[0;34m(filepath_or_buffer, sep, delimiter, header, names, index_col, usecols, dtype, engine, converters, true_values, false_values, skipinitialspace, skiprows, skipfooter, nrows, na_values, keep_default_na, na_filter, verbose, skip_blank_lines, parse_dates, infer_datetime_format, keep_date_col, date_parser, date_format, dayfirst, cache_dates, iterator, chunksize, compression, thousands, decimal, lineterminator, quotechar, quoting, doublequote, escapechar, comment, encoding, encoding_errors, dialect, on_bad_lines, delim_whitespace, low_memory, memory_map, float_precision, storage_options, dtype_backend)\u001b[0m\n\u001b[1;32m    899\u001b[0m kwds_defaults \u001b[39m=\u001b[39m _refine_defaults_read(\n\u001b[1;32m    900\u001b[0m     dialect,\n\u001b[1;32m    901\u001b[0m     delimiter,\n\u001b[0;32m   (...)\u001b[0m\n\u001b[1;32m    908\u001b[0m     dtype_backend\u001b[39m=\u001b[39mdtype_backend,\n\u001b[1;32m    909\u001b[0m )\n\u001b[1;32m    910\u001b[0m kwds\u001b[39m.\u001b[39mupdate(kwds_defaults)\n\u001b[0;32m--> 912\u001b[0m \u001b[39mreturn\u001b[39;00m _read(filepath_or_buffer, kwds)\n",
      "File \u001b[0;32m~/.local/lib/python3.10/site-packages/pandas/io/parsers/readers.py:577\u001b[0m, in \u001b[0;36m_read\u001b[0;34m(filepath_or_buffer, kwds)\u001b[0m\n\u001b[1;32m    574\u001b[0m _validate_names(kwds\u001b[39m.\u001b[39mget(\u001b[39m\"\u001b[39m\u001b[39mnames\u001b[39m\u001b[39m\"\u001b[39m, \u001b[39mNone\u001b[39;00m))\n\u001b[1;32m    576\u001b[0m \u001b[39m# Create the parser.\u001b[39;00m\n\u001b[0;32m--> 577\u001b[0m parser \u001b[39m=\u001b[39m TextFileReader(filepath_or_buffer, \u001b[39m*\u001b[39;49m\u001b[39m*\u001b[39;49mkwds)\n\u001b[1;32m    579\u001b[0m \u001b[39mif\u001b[39;00m chunksize \u001b[39mor\u001b[39;00m iterator:\n\u001b[1;32m    580\u001b[0m     \u001b[39mreturn\u001b[39;00m parser\n",
      "File \u001b[0;32m~/.local/lib/python3.10/site-packages/pandas/io/parsers/readers.py:1407\u001b[0m, in \u001b[0;36mTextFileReader.__init__\u001b[0;34m(self, f, engine, **kwds)\u001b[0m\n\u001b[1;32m   1404\u001b[0m     \u001b[39mself\u001b[39m\u001b[39m.\u001b[39moptions[\u001b[39m\"\u001b[39m\u001b[39mhas_index_names\u001b[39m\u001b[39m\"\u001b[39m] \u001b[39m=\u001b[39m kwds[\u001b[39m\"\u001b[39m\u001b[39mhas_index_names\u001b[39m\u001b[39m\"\u001b[39m]\n\u001b[1;32m   1406\u001b[0m \u001b[39mself\u001b[39m\u001b[39m.\u001b[39mhandles: IOHandles \u001b[39m|\u001b[39m \u001b[39mNone\u001b[39;00m \u001b[39m=\u001b[39m \u001b[39mNone\u001b[39;00m\n\u001b[0;32m-> 1407\u001b[0m \u001b[39mself\u001b[39m\u001b[39m.\u001b[39m_engine \u001b[39m=\u001b[39m \u001b[39mself\u001b[39;49m\u001b[39m.\u001b[39;49m_make_engine(f, \u001b[39mself\u001b[39;49m\u001b[39m.\u001b[39;49mengine)\n",
      "File \u001b[0;32m~/.local/lib/python3.10/site-packages/pandas/io/parsers/readers.py:1679\u001b[0m, in \u001b[0;36mTextFileReader._make_engine\u001b[0;34m(self, f, engine)\u001b[0m\n\u001b[1;32m   1676\u001b[0m     \u001b[39mraise\u001b[39;00m \u001b[39mValueError\u001b[39;00m(msg)\n\u001b[1;32m   1678\u001b[0m \u001b[39mtry\u001b[39;00m:\n\u001b[0;32m-> 1679\u001b[0m     \u001b[39mreturn\u001b[39;00m mapping[engine](f, \u001b[39m*\u001b[39;49m\u001b[39m*\u001b[39;49m\u001b[39mself\u001b[39;49m\u001b[39m.\u001b[39;49moptions)\n\u001b[1;32m   1680\u001b[0m \u001b[39mexcept\u001b[39;00m \u001b[39mException\u001b[39;00m:\n\u001b[1;32m   1681\u001b[0m     \u001b[39mif\u001b[39;00m \u001b[39mself\u001b[39m\u001b[39m.\u001b[39mhandles \u001b[39mis\u001b[39;00m \u001b[39mnot\u001b[39;00m \u001b[39mNone\u001b[39;00m:\n",
      "File \u001b[0;32m~/.local/lib/python3.10/site-packages/pandas/io/parsers/c_parser_wrapper.py:93\u001b[0m, in \u001b[0;36mCParserWrapper.__init__\u001b[0;34m(self, src, **kwds)\u001b[0m\n\u001b[1;32m     90\u001b[0m \u001b[39mif\u001b[39;00m kwds[\u001b[39m\"\u001b[39m\u001b[39mdtype_backend\u001b[39m\u001b[39m\"\u001b[39m] \u001b[39m==\u001b[39m \u001b[39m\"\u001b[39m\u001b[39mpyarrow\u001b[39m\u001b[39m\"\u001b[39m:\n\u001b[1;32m     91\u001b[0m     \u001b[39m# Fail here loudly instead of in cython after reading\u001b[39;00m\n\u001b[1;32m     92\u001b[0m     import_optional_dependency(\u001b[39m\"\u001b[39m\u001b[39mpyarrow\u001b[39m\u001b[39m\"\u001b[39m)\n\u001b[0;32m---> 93\u001b[0m \u001b[39mself\u001b[39m\u001b[39m.\u001b[39m_reader \u001b[39m=\u001b[39m parsers\u001b[39m.\u001b[39;49mTextReader(src, \u001b[39m*\u001b[39;49m\u001b[39m*\u001b[39;49mkwds)\n\u001b[1;32m     95\u001b[0m \u001b[39mself\u001b[39m\u001b[39m.\u001b[39munnamed_cols \u001b[39m=\u001b[39m \u001b[39mself\u001b[39m\u001b[39m.\u001b[39m_reader\u001b[39m.\u001b[39munnamed_cols\n\u001b[1;32m     97\u001b[0m \u001b[39m# error: Cannot determine type of 'names'\u001b[39;00m\n",
      "File \u001b[0;32m~/.local/lib/python3.10/site-packages/pandas/_libs/parsers.pyx:555\u001b[0m, in \u001b[0;36mpandas._libs.parsers.TextReader.__cinit__\u001b[0;34m()\u001b[0m\n",
      "\u001b[0;31mEmptyDataError\u001b[0m: No columns to parse from file"
     ]
    }
   ],
   "source": [
    "# Select best model\n",
    "opt = pd.read_csv(result_file_path_opt, sep='\\t')\n",
    "opt"
   ]
  },
  {
   "cell_type": "code",
   "execution_count": 38,
   "metadata": {},
   "outputs": [
    {
     "ename": "KeyError",
     "evalue": "'value'",
     "output_type": "error",
     "traceback": [
      "\u001b[0;31m---------------------------------------------------------------------------\u001b[0m",
      "\u001b[0;31mKeyError\u001b[0m                                  Traceback (most recent call last)",
      "File \u001b[0;32m~/.local/lib/python3.10/site-packages/pandas/core/indexes/base.py:3652\u001b[0m, in \u001b[0;36mIndex.get_loc\u001b[0;34m(self, key)\u001b[0m\n\u001b[1;32m   3651\u001b[0m \u001b[39mtry\u001b[39;00m:\n\u001b[0;32m-> 3652\u001b[0m     \u001b[39mreturn\u001b[39;00m \u001b[39mself\u001b[39;49m\u001b[39m.\u001b[39;49m_engine\u001b[39m.\u001b[39;49mget_loc(casted_key)\n\u001b[1;32m   3653\u001b[0m \u001b[39mexcept\u001b[39;00m \u001b[39mKeyError\u001b[39;00m \u001b[39mas\u001b[39;00m err:\n",
      "File \u001b[0;32m~/.local/lib/python3.10/site-packages/pandas/_libs/index.pyx:147\u001b[0m, in \u001b[0;36mpandas._libs.index.IndexEngine.get_loc\u001b[0;34m()\u001b[0m\n",
      "File \u001b[0;32m~/.local/lib/python3.10/site-packages/pandas/_libs/index.pyx:176\u001b[0m, in \u001b[0;36mpandas._libs.index.IndexEngine.get_loc\u001b[0;34m()\u001b[0m\n",
      "File \u001b[0;32mpandas/_libs/hashtable_class_helper.pxi:7080\u001b[0m, in \u001b[0;36mpandas._libs.hashtable.PyObjectHashTable.get_item\u001b[0;34m()\u001b[0m\n",
      "File \u001b[0;32mpandas/_libs/hashtable_class_helper.pxi:7088\u001b[0m, in \u001b[0;36mpandas._libs.hashtable.PyObjectHashTable.get_item\u001b[0;34m()\u001b[0m\n",
      "\u001b[0;31mKeyError\u001b[0m: 'value'",
      "\nThe above exception was the direct cause of the following exception:\n",
      "\u001b[0;31mKeyError\u001b[0m                                  Traceback (most recent call last)",
      "Cell \u001b[0;32mIn[38], line 2\u001b[0m\n\u001b[1;32m      1\u001b[0m \u001b[39mimport\u001b[39;00m \u001b[39mnumpy\u001b[39;00m \u001b[39mas\u001b[39;00m \u001b[39mnp\u001b[39;00m\n\u001b[0;32m----> 2\u001b[0m best_model \u001b[39m=\u001b[39m opt\u001b[39m.\u001b[39miloc[np\u001b[39m.\u001b[39margmax(opt[\u001b[39m\"\u001b[39;49m\u001b[39mvalue\u001b[39;49m\u001b[39m\"\u001b[39;49m])]\n\u001b[1;32m      3\u001b[0m best_model\n",
      "File \u001b[0;32m~/.local/lib/python3.10/site-packages/pandas/core/frame.py:3760\u001b[0m, in \u001b[0;36mDataFrame.__getitem__\u001b[0;34m(self, key)\u001b[0m\n\u001b[1;32m   3758\u001b[0m \u001b[39mif\u001b[39;00m \u001b[39mself\u001b[39m\u001b[39m.\u001b[39mcolumns\u001b[39m.\u001b[39mnlevels \u001b[39m>\u001b[39m \u001b[39m1\u001b[39m:\n\u001b[1;32m   3759\u001b[0m     \u001b[39mreturn\u001b[39;00m \u001b[39mself\u001b[39m\u001b[39m.\u001b[39m_getitem_multilevel(key)\n\u001b[0;32m-> 3760\u001b[0m indexer \u001b[39m=\u001b[39m \u001b[39mself\u001b[39;49m\u001b[39m.\u001b[39;49mcolumns\u001b[39m.\u001b[39;49mget_loc(key)\n\u001b[1;32m   3761\u001b[0m \u001b[39mif\u001b[39;00m is_integer(indexer):\n\u001b[1;32m   3762\u001b[0m     indexer \u001b[39m=\u001b[39m [indexer]\n",
      "File \u001b[0;32m~/.local/lib/python3.10/site-packages/pandas/core/indexes/base.py:3654\u001b[0m, in \u001b[0;36mIndex.get_loc\u001b[0;34m(self, key)\u001b[0m\n\u001b[1;32m   3652\u001b[0m     \u001b[39mreturn\u001b[39;00m \u001b[39mself\u001b[39m\u001b[39m.\u001b[39m_engine\u001b[39m.\u001b[39mget_loc(casted_key)\n\u001b[1;32m   3653\u001b[0m \u001b[39mexcept\u001b[39;00m \u001b[39mKeyError\u001b[39;00m \u001b[39mas\u001b[39;00m err:\n\u001b[0;32m-> 3654\u001b[0m     \u001b[39mraise\u001b[39;00m \u001b[39mKeyError\u001b[39;00m(key) \u001b[39mfrom\u001b[39;00m \u001b[39merr\u001b[39;00m\n\u001b[1;32m   3655\u001b[0m \u001b[39mexcept\u001b[39;00m \u001b[39mTypeError\u001b[39;00m:\n\u001b[1;32m   3656\u001b[0m     \u001b[39m# If we have a listlike key, _check_indexing_error will raise\u001b[39;00m\n\u001b[1;32m   3657\u001b[0m     \u001b[39m#  InvalidIndexError. Otherwise we fall through and re-raise\u001b[39;00m\n\u001b[1;32m   3658\u001b[0m     \u001b[39m#  the TypeError.\u001b[39;00m\n\u001b[1;32m   3659\u001b[0m     \u001b[39mself\u001b[39m\u001b[39m.\u001b[39m_check_indexing_error(key)\n",
      "\u001b[0;31mKeyError\u001b[0m: 'value'"
     ]
    }
   ],
   "source": [
    "import numpy as np\n",
    "best_model = opt.iloc[np.argmax(opt[\"value\"])]\n",
    "best_model"
   ]
  },
  {
   "cell_type": "code",
   "execution_count": null,
   "metadata": {},
   "outputs": [],
   "source": [
    "# Retrain model\n",
    "! annif train {project} --jobs {njobs} {input_file}"
   ]
  },
  {
   "cell_type": "code",
   "execution_count": null,
   "metadata": {},
   "outputs": [],
   "source": [
    "# Evaluate project\n",
    "! annif eval --limit {max_nb_concepts} --threshold {threshold} --metrics-file {metric_file_path} --results-file {result_file_path} --jobs {njobs} {project} {test_file}"
   ]
  },
  {
   "cell_type": "code",
   "execution_count": 1,
   "metadata": {},
   "outputs": [
    {
     "ename": "NameError",
     "evalue": "name 'pd' is not defined",
     "output_type": "error",
     "traceback": [
      "\u001b[0;31m---------------------------------------------------------------------------\u001b[0m",
      "\u001b[0;31mNameError\u001b[0m                                 Traceback (most recent call last)",
      "Cell \u001b[0;32mIn[1], line 4\u001b[0m\n\u001b[1;32m      1\u001b[0m \u001b[39m# Plot radar from a evaluation file\u001b[39;00m\n\u001b[1;32m      2\u001b[0m \u001b[39mfrom\u001b[39;00m \u001b[39mutils_visualization\u001b[39;00m \u001b[39mimport\u001b[39;00m metrics_radar_plot\n\u001b[0;32m----> 4\u001b[0m annif_eval \u001b[39m=\u001b[39m pd\u001b[39m.\u001b[39mread_csv(\u001b[39m\"\u001b[39m\u001b[39mannif_evaluation.csv\u001b[39m\u001b[39m\"\u001b[39m, index_col\u001b[39m=\u001b[39m\u001b[39m0\u001b[39m)\n\u001b[1;32m      5\u001b[0m metrics \u001b[39m=\u001b[39m [\n\u001b[1;32m      6\u001b[0m     \u001b[39m\"\u001b[39m\u001b[39mPrecision_doc_avg\u001b[39m\u001b[39m\"\u001b[39m,\n\u001b[1;32m      7\u001b[0m     \u001b[39m\"\u001b[39m\u001b[39mRecall_doc_avg\u001b[39m\u001b[39m\"\u001b[39m,\n\u001b[0;32m   (...)\u001b[0m\n\u001b[1;32m     12\u001b[0m     \u001b[39m\"\u001b[39m\u001b[39mF1@5\u001b[39m\u001b[39m\"\u001b[39m\n\u001b[1;32m     13\u001b[0m ]\n\u001b[1;32m     15\u001b[0m metrics_radar_plot(\n\u001b[1;32m     16\u001b[0m     annif_eval,\n\u001b[1;32m     17\u001b[0m     metrics\u001b[39m=\u001b[39mmetrics,\n\u001b[0;32m   (...)\u001b[0m\n\u001b[1;32m     22\u001b[0m     width\u001b[39m=\u001b[39m\u001b[39m1000\u001b[39m,\n\u001b[1;32m     23\u001b[0m     height\u001b[39m=\u001b[39m\u001b[39m550\u001b[39m)\n",
      "\u001b[0;31mNameError\u001b[0m: name 'pd' is not defined"
     ]
    }
   ],
   "source": [
    "# Plot radar from a evaluation file\n",
    "from utils_visualization import metrics_radar_plot\n",
    "\n",
    "annif_eval = pd.read_csv(\"annif_evaluation.csv\", index_col=0)\n",
    "metrics = [\n",
    "    \"Precision_doc_avg\",\n",
    "    \"Recall_doc_avg\",\n",
    "    \"F1_score_doc_avg\",\n",
    "    \"Precision_weighted_subj_avg\",\n",
    "    \"Recall_weighted_subj_avg\",\n",
    "    \"F1_score_weighted_subj_avg\",\n",
    "    \"F1@5\"\n",
    "]\n",
    "\n",
    "metrics_radar_plot(\n",
    "    annif_eval,\n",
    "    metrics=metrics,\n",
    "    remove_identity=False,\n",
    "    scale=False,\n",
    "    title=\"ANNIF evaluation\",\n",
    "    savefig=None,\n",
    "    width=1000,\n",
    "    height=550)\n"
   ]
  },
  {
   "cell_type": "code",
   "execution_count": null,
   "metadata": {},
   "outputs": [],
   "source": [
    "annif_eval.loc[\"rameau-pav-MLLM-fr.json\"]"
   ]
  },
  {
   "attachments": {},
   "cell_type": "markdown",
   "metadata": {},
   "source": [
    "### Prediction on all notices from test folder"
   ]
  },
  {
   "cell_type": "code",
   "execution_count": null,
   "metadata": {},
   "outputs": [],
   "source": [
    "# Prediction sur toutes les notices du dossier \"test\"\n",
    "suffix = str('_' + project + 'opt.csv')\n",
    "! annif index -s {suffix} {project} {annif_test_folder_path}"
   ]
  },
  {
   "attachments": {},
   "cell_type": "markdown",
   "metadata": {},
   "source": [
    "## Format predictions for future use"
   ]
  },
  {
   "cell_type": "code",
   "execution_count": null,
   "metadata": {},
   "outputs": [],
   "source": [
    "csv_files = [f for f in os.listdir(annif_test_folder_path) if f.endswith(suffix)]\n",
    "print(f\"There are {len(csv_files)} files to compile\")"
   ]
  },
  {
   "cell_type": "code",
   "execution_count": null,
   "metadata": {},
   "outputs": [],
   "source": [
    "# Build dataframe\n",
    "predictions = pd.DataFrame(columns=[\"PPN\", \"predictions\", \"scores\"])\n",
    "for i, file in enumerate(csv_files):\n",
    "    ppn = file.split('_')[0]\n",
    "    pred = pd.read_csv(os.path.join(annif_test_folder_path, file), sep='\\t', header=None, names=[\"URI\", \"pred_concept\", \"score\"])\n",
    "    predictions.loc[i,\"PPN\"] = ppn\n",
    "    predictions.loc[i,\"predictions\"] = pred[\"pred_concept\"].to_list()\n",
    "    predictions.loc[i,\"scores\"] = pred[\"score\"].to_list()"
   ]
  },
  {
   "cell_type": "code",
   "execution_count": null,
   "metadata": {},
   "outputs": [],
   "source": [
    "# Show predictions\n",
    "predictions.head()"
   ]
  },
  {
   "cell_type": "code",
   "execution_count": null,
   "metadata": {},
   "outputs": [],
   "source": [
    "# Save dataframe\n",
    "if optimization:\n",
    "    predictions.to_csv(os.path.join(annif_report_path, str(project + \"_opt\" + \"_predictions.csv\")))\n",
    "else: \n",
    "    predictions.to_csv(os.path.join(annif_report_path, str(project + \"_predictions.csv\")))"
   ]
  },
  {
   "attachments": {},
   "cell_type": "markdown",
   "metadata": {},
   "source": [
    "## Merge predictions with existing predictions (including reindexation and indexing if available)"
   ]
  },
  {
   "cell_type": "code",
   "execution_count": null,
   "metadata": {},
   "outputs": [],
   "source": [
    "os.getcwd()"
   ]
  },
  {
   "cell_type": "code",
   "execution_count": null,
   "metadata": {},
   "outputs": [],
   "source": [
    " # Set files\n",
    "if save_predictions:\n",
    "    input_file = \"./../data/data_with_reindexation_and_embeddings_withANNIF.csv\"\n",
    "    output_file = \"./../data/data_with_reindexation_and_embeddings_withANNIF.csv\"\n",
    "else: \n",
    "    input_file = None\n",
    "    output_file = None"
   ]
  },
  {
   "cell_type": "code",
   "execution_count": null,
   "metadata": {},
   "outputs": [],
   "source": [
    "# merge predictions with reindexation file\n",
    "indexation_file = pd.read_csv(input_file, index_col=0)\n",
    "print(indexation_file.shape)\n",
    "indexation_file.head(3)"
   ]
  },
  {
   "cell_type": "code",
   "execution_count": null,
   "metadata": {},
   "outputs": [],
   "source": [
    "# Merge predictions\n",
    "output = indexation_file.merge(predictions, on=\"PPN\", how=\"inner\")\n",
    "if optimization:\n",
    "    output.rename(columns={\"predictions\" : str(\"predictions_opt_\" + project), \"scores\":str(\"scores_opt_\" + project)}, inplace=True)\n",
    "else:\n",
    "    output.rename(columns={\"predictions\" : str(\"predictions_\" + project), \"scores\":str(\"scores_\" + project)}, inplace=True)"
   ]
  },
  {
   "cell_type": "code",
   "execution_count": null,
   "metadata": {},
   "outputs": [],
   "source": [
    "output.head(3)"
   ]
  },
  {
   "cell_type": "code",
   "execution_count": null,
   "metadata": {},
   "outputs": [],
   "source": [
    "# Save output\n",
    "output.to_csv(output_file)"
   ]
  },
  {
   "attachments": {},
   "cell_type": "markdown",
   "metadata": {},
   "source": []
  },
  {
   "attachments": {},
   "cell_type": "markdown",
   "metadata": {},
   "source": [
    "## Multilabel classification - Metrics"
   ]
  },
  {
   "cell_type": "code",
   "execution_count": null,
   "metadata": {},
   "outputs": [],
   "source": [
    "from sklearn.preprocessing import MultiLabelBinarizer\n",
    "from utils_metrics import *"
   ]
  },
  {
   "cell_type": "code",
   "execution_count": null,
   "metadata": {},
   "outputs": [],
   "source": [
    "# Variables to use\n",
    "## Chains\n",
    "field = [\n",
    "    (\"ANNIF_mllm\", \"rameau_concepts\", \"predictions_opt_rameau-mllm-fr\"),\n",
    "    (\"ANNIF_tfidf\",  \"rameau_concepts\", \"predictions_rameau-tfidf-snowball-fr\")\n",
    "]\n",
    "results = dict()\n"
   ]
  },
  {
   "cell_type": "code",
   "execution_count": null,
   "metadata": {},
   "outputs": [],
   "source": [
    "def flatten(list):\n",
    "    flat_list = [item for sublist in list for item in sublist]\n",
    "    return flat_list"
   ]
  },
  {
   "cell_type": "code",
   "execution_count": null,
   "metadata": {},
   "outputs": [],
   "source": [
    "# Binarization\n",
    "for var in field: \n",
    "    print(\"Working on \", var[0])\n",
    "    mlb = MultiLabelBinarizer(sparse_output=False)\n",
    "    mlb.fit(flatten(output[\"rameau_concepts\"]))\n",
    "    sudoc = mlb.transform(output[var[1]])\n",
    "    embed = mlb.transform(output[var[2]])\n",
    "    results[str(\"ANNIF\" + var[0])] = label_metrics_report(\"Embeddings\", sudoc, embed, zero_division=0)"
   ]
  },
  {
   "cell_type": "code",
   "execution_count": null,
   "metadata": {},
   "outputs": [],
   "source": [
    "mlb.inverse_transform(embed)"
   ]
  },
  {
   "attachments": {},
   "cell_type": "markdown",
   "metadata": {},
   "source": [
    "### Dataframe of results"
   ]
  },
  {
   "cell_type": "code",
   "execution_count": null,
   "metadata": {},
   "outputs": [],
   "source": [
    "result_df = pd.DataFrame(results).T\n",
    "result_df"
   ]
  },
  {
   "attachments": {},
   "cell_type": "markdown",
   "metadata": {},
   "source": [
    "### Plot"
   ]
  },
  {
   "cell_type": "code",
   "execution_count": null,
   "metadata": {},
   "outputs": [],
   "source": [
    "# Plot results\n",
    "metrics_radar_plot(\n",
    "    result_df,\n",
    "    remove_identity=False,\n",
    "    title=\"Quantitative comparisons\",\n",
    "    savefig=\"metrics_ANNIF-sudoc.html\",)"
   ]
  }
 ],
 "metadata": {
  "kernelspec": {
   "display_name": "abes_index",
   "language": "python",
   "name": "python3"
  },
  "language_info": {
   "codemirror_mode": {
    "name": "ipython",
    "version": 3
   },
   "file_extension": ".py",
   "mimetype": "text/x-python",
   "name": "python",
   "nbconvert_exporter": "python",
   "pygments_lexer": "ipython3",
   "version": "3.10.11"
  },
  "orig_nbformat": 4
 },
 "nbformat": 4,
 "nbformat_minor": 2
}
