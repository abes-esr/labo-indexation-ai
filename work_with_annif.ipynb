{
 "cells": [
  {
   "cell_type": "code",
   "execution_count": 37,
   "metadata": {},
   "outputs": [],
   "source": [
    "#!/bin/bash -e"
   ]
  },
  {
   "attachments": {},
   "cell_type": "markdown",
   "metadata": {},
   "source": [
    "# Use of ANNIF library"
   ]
  },
  {
   "attachments": {},
   "cell_type": "markdown",
   "metadata": {},
   "source": [
    "Ce notebook contient toutes les étapes de l'utilisation de la librairie annif (doc d'installation de toutes les librairies à prévoir).\n",
    "- Formatage des données pour utilisation dans ANNIF\n",
    "- Entrainement d'un modèle \n",
    "- Utilisation de pipelines pour tester plusieurs modèles\n",
    "- Recherche des meilleurs paramètres  "
   ]
  },
  {
   "attachments": {},
   "cell_type": "markdown",
   "metadata": {},
   "source": [
    "## Setup "
   ]
  },
  {
   "attachments": {},
   "cell_type": "markdown",
   "metadata": {},
   "source": [
    "### Packages"
   ]
  },
  {
   "cell_type": "code",
   "execution_count": 1,
   "metadata": {},
   "outputs": [],
   "source": [
    "# Import librairies\n",
    "import os\n",
    "import csv\n",
    "import pandas as pd"
   ]
  },
  {
   "attachments": {},
   "cell_type": "markdown",
   "metadata": {},
   "source": [
    "### Graphical parameters"
   ]
  },
  {
   "cell_type": "code",
   "execution_count": null,
   "metadata": {},
   "outputs": [],
   "source": []
  },
  {
   "attachments": {},
   "cell_type": "markdown",
   "metadata": {},
   "source": [
    "### Paths"
   ]
  },
  {
   "cell_type": "code",
   "execution_count": 2,
   "metadata": {},
   "outputs": [
    {
     "name": "stdout",
     "output_type": "stream",
     "text": [
      "Folder ANNIF already exists\n",
      "Folder ANNIF/data already exists\n",
      "Folder ANNIF/reports already exists\n",
      "Folder ANNIF/data/train already exists\n",
      "Folder ANNIF/data/test already exists\n"
     ]
    }
   ],
   "source": [
    "# Create folders if needed\n",
    "list_folder = [\n",
    "    \"ANNIF\", \n",
    "    \"ANNIF/data\", \"ANNIF/reports\",\n",
    "    \"ANNIF/data/train\", \"ANNIF/data/test\"]\n",
    "\n",
    "for folder in list_folder:\n",
    "    if not os.path.exists(folder):\n",
    "        os.makedirs(folder)\n",
    "    else:\n",
    "        print(f\"Folder {folder} already exists\")\n",
    "\n"
   ]
  },
  {
   "cell_type": "code",
   "execution_count": 3,
   "metadata": {},
   "outputs": [],
   "source": [
    "# Set current directory\n",
    "annif_path = os.getcwd() + \"/ANNIF\"\n",
    "os.chdir(annif_path)"
   ]
  },
  {
   "cell_type": "code",
   "execution_count": 4,
   "metadata": {},
   "outputs": [],
   "source": [
    "# Set paths\n",
    "data_path = \"./../data\"\n",
    "annif_data_path = annif_path + \"/data\"\n",
    "annif_report_path = annif_path + \"/reports\""
   ]
  },
  {
   "attachments": {},
   "cell_type": "markdown",
   "metadata": {},
   "source": [
    "### Files"
   ]
  },
  {
   "cell_type": "code",
   "execution_count": 5,
   "metadata": {},
   "outputs": [],
   "source": [
    "# Select data to use\n",
    "data = \"working_data_sans_dewey.pkl\"\n",
    "rameau_file = \"extraction/liste_concepts_rameau_sans_vedetteConstruites.csv\"\n",
    "rameau_file_with_vedetteConstruites = \"extraction/liste_concepts_rameau.csv\" "
   ]
  },
  {
   "cell_type": "code",
   "execution_count": 115,
   "metadata": {},
   "outputs": [],
   "source": [
    "# Merge predictions to existing predictions?\n",
    "save_predictions = True"
   ]
  },
  {
   "attachments": {},
   "cell_type": "markdown",
   "metadata": {},
   "source": [
    "## Create datasets"
   ]
  },
  {
   "attachments": {},
   "cell_type": "markdown",
   "metadata": {},
   "source": [
    "### Import data"
   ]
  },
  {
   "cell_type": "code",
   "execution_count": 6,
   "metadata": {},
   "outputs": [
    {
     "name": "stdout",
     "output_type": "stream",
     "text": [
      "(154508, 9)\n"
     ]
    }
   ],
   "source": [
    "# Import working data\n",
    "df = pd.read_pickle(os.path.join(data_path, data))\n",
    "print(df.shape)"
   ]
  },
  {
   "cell_type": "code",
   "execution_count": 7,
   "metadata": {},
   "outputs": [
    {
     "data": {
      "text/html": [
       "<div>\n",
       "<style scoped>\n",
       "    .dataframe tbody tr th:only-of-type {\n",
       "        vertical-align: middle;\n",
       "    }\n",
       "\n",
       "    .dataframe tbody tr th {\n",
       "        vertical-align: top;\n",
       "    }\n",
       "\n",
       "    .dataframe thead th {\n",
       "        text-align: right;\n",
       "    }\n",
       "</style>\n",
       "<table border=\"1\" class=\"dataframe\">\n",
       "  <thead>\n",
       "    <tr style=\"text-align: right;\">\n",
       "      <th></th>\n",
       "      <th>PPN</th>\n",
       "      <th>TITRE</th>\n",
       "      <th>RESUME</th>\n",
       "      <th>RAMEAU</th>\n",
       "      <th>DEWEY</th>\n",
       "      <th>DESCR</th>\n",
       "      <th>presence_chaine_indexation</th>\n",
       "      <th>rameau_chaines_index</th>\n",
       "      <th>rameau_concepts</th>\n",
       "    </tr>\n",
       "  </thead>\n",
       "  <tbody>\n",
       "    <tr>\n",
       "      <th>0</th>\n",
       "      <td>000002364</td>\n",
       "      <td>La culture pour vivre</td>\n",
       "      <td>Mort de la culture populaire en France. Mutati...</td>\n",
       "      <td>Culture populaire;Diffusion de la culture;Poli...</td>\n",
       "      <td>840</td>\n",
       "      <td>La culture pour vivre Mort de la culture popul...</td>\n",
       "      <td>False</td>\n",
       "      <td>[Culture populaire, Diffusion de la culture, P...</td>\n",
       "      <td>[Culture populaire, Diffusion de la culture, P...</td>\n",
       "    </tr>\n",
       "    <tr>\n",
       "      <th>1</th>\n",
       "      <td>000014877</td>\n",
       "      <td>La nuit, le jour : essai psychanalytique sur l...</td>\n",
       "      <td>Discontinuité, latence, rétablissement d’une c...</td>\n",
       "      <td>Complexe de castration;Psychanalyse;Rêves</td>\n",
       "      <td>154.63</td>\n",
       "      <td>La nuit, le jour : essai psychanalytique sur l...</td>\n",
       "      <td>False</td>\n",
       "      <td>[Complexe de castration, Psychanalyse, Rêves]</td>\n",
       "      <td>[Complexe de castration, Psychanalyse, Rêves]</td>\n",
       "    </tr>\n",
       "    <tr>\n",
       "      <th>2</th>\n",
       "      <td>000021857</td>\n",
       "      <td>Ruptures, cultures</td>\n",
       "      <td>Il faut imaginer Robinson sur son île, au mome...</td>\n",
       "      <td>Culture</td>\n",
       "      <td>840</td>\n",
       "      <td>Ruptures, cultures Il faut imaginer Robinson s...</td>\n",
       "      <td>False</td>\n",
       "      <td>[Culture]</td>\n",
       "      <td>[Culture]</td>\n",
       "    </tr>\n",
       "    <tr>\n",
       "      <th>3</th>\n",
       "      <td>00002564X</td>\n",
       "      <td>La révolution structurale</td>\n",
       "      <td>Mutations ou crises, les brusques accès de fiè...</td>\n",
       "      <td>Structuralisme</td>\n",
       "      <td>100</td>\n",
       "      <td>La révolution structurale Mutations ou crises,...</td>\n",
       "      <td>False</td>\n",
       "      <td>[Structuralisme]</td>\n",
       "      <td>[Structuralisme]</td>\n",
       "    </tr>\n",
       "    <tr>\n",
       "      <th>4</th>\n",
       "      <td>000026352</td>\n",
       "      <td>La Destruction du temple</td>\n",
       "      <td>Oswald tire sur Kennedy. Jusque-là, c'est bon,...</td>\n",
       "      <td>Science-fiction américaine -- Traductions fran...</td>\n",
       "      <td>830</td>\n",
       "      <td>La Destruction du temple Oswald tire sur Kenne...</td>\n",
       "      <td>True</td>\n",
       "      <td>[Science-fiction américaine -- Traductions fra...</td>\n",
       "      <td>[Science-fiction américaine, Traductions franç...</td>\n",
       "    </tr>\n",
       "  </tbody>\n",
       "</table>\n",
       "</div>"
      ],
      "text/plain": [
       "         PPN                                              TITRE   \n",
       "0  000002364                              La culture pour vivre  \\\n",
       "1  000014877  La nuit, le jour : essai psychanalytique sur l...   \n",
       "2  000021857                                 Ruptures, cultures   \n",
       "3  00002564X                          La révolution structurale   \n",
       "4  000026352                           La Destruction du temple   \n",
       "\n",
       "                                              RESUME   \n",
       "0  Mort de la culture populaire en France. Mutati...  \\\n",
       "1  Discontinuité, latence, rétablissement d’une c...   \n",
       "2  Il faut imaginer Robinson sur son île, au mome...   \n",
       "3  Mutations ou crises, les brusques accès de fiè...   \n",
       "4  Oswald tire sur Kennedy. Jusque-là, c'est bon,...   \n",
       "\n",
       "                                              RAMEAU   DEWEY   \n",
       "0  Culture populaire;Diffusion de la culture;Poli...     840  \\\n",
       "1          Complexe de castration;Psychanalyse;Rêves  154.63   \n",
       "2                                            Culture     840   \n",
       "3                                     Structuralisme     100   \n",
       "4  Science-fiction américaine -- Traductions fran...     830   \n",
       "\n",
       "                                               DESCR   \n",
       "0  La culture pour vivre Mort de la culture popul...  \\\n",
       "1  La nuit, le jour : essai psychanalytique sur l...   \n",
       "2  Ruptures, cultures Il faut imaginer Robinson s...   \n",
       "3  La révolution structurale Mutations ou crises,...   \n",
       "4  La Destruction du temple Oswald tire sur Kenne...   \n",
       "\n",
       "   presence_chaine_indexation   \n",
       "0                       False  \\\n",
       "1                       False   \n",
       "2                       False   \n",
       "3                       False   \n",
       "4                        True   \n",
       "\n",
       "                                rameau_chaines_index   \n",
       "0  [Culture populaire, Diffusion de la culture, P...  \\\n",
       "1      [Complexe de castration, Psychanalyse, Rêves]   \n",
       "2                                          [Culture]   \n",
       "3                                   [Structuralisme]   \n",
       "4  [Science-fiction américaine -- Traductions fra...   \n",
       "\n",
       "                                     rameau_concepts  \n",
       "0  [Culture populaire, Diffusion de la culture, P...  \n",
       "1      [Complexe de castration, Psychanalyse, Rêves]  \n",
       "2                                          [Culture]  \n",
       "3                                   [Structuralisme]  \n",
       "4  [Science-fiction américaine, Traductions franç...  "
      ]
     },
     "execution_count": 7,
     "metadata": {},
     "output_type": "execute_result"
    }
   ],
   "source": [
    "df.head()"
   ]
  },
  {
   "cell_type": "code",
   "execution_count": 8,
   "metadata": {},
   "outputs": [
    {
     "name": "stdout",
     "output_type": "stream",
     "text": [
      "(85876, 2)\n"
     ]
    },
    {
     "data": {
      "text/html": [
       "<div>\n",
       "<style scoped>\n",
       "    .dataframe tbody tr th:only-of-type {\n",
       "        vertical-align: middle;\n",
       "    }\n",
       "\n",
       "    .dataframe tbody tr th {\n",
       "        vertical-align: top;\n",
       "    }\n",
       "\n",
       "    .dataframe thead th {\n",
       "        text-align: right;\n",
       "    }\n",
       "</style>\n",
       "<table border=\"1\" class=\"dataframe\">\n",
       "  <thead>\n",
       "    <tr style=\"text-align: right;\">\n",
       "      <th></th>\n",
       "      <th>PPN</th>\n",
       "      <th>NOM</th>\n",
       "    </tr>\n",
       "  </thead>\n",
       "  <tbody>\n",
       "    <tr>\n",
       "      <th>0</th>\n",
       "      <td>157992527</td>\n",
       "      <td>Kirp?n</td>\n",
       "    </tr>\n",
       "    <tr>\n",
       "      <th>1</th>\n",
       "      <td>110140494</td>\n",
       "      <td>Militaires artistes</td>\n",
       "    </tr>\n",
       "    <tr>\n",
       "      <th>2</th>\n",
       "      <td>028492161</td>\n",
       "      <td>Militaires romains</td>\n",
       "    </tr>\n",
       "    <tr>\n",
       "      <th>3</th>\n",
       "      <td>028521757</td>\n",
       "      <td>Militaires prussiens</td>\n",
       "    </tr>\n",
       "    <tr>\n",
       "      <th>4</th>\n",
       "      <td>029895561</td>\n",
       "      <td>Sa-skya-pa</td>\n",
       "    </tr>\n",
       "    <tr>\n",
       "      <th>5</th>\n",
       "      <td>031875459</td>\n",
       "      <td>Militaires réunionnais</td>\n",
       "    </tr>\n",
       "    <tr>\n",
       "      <th>6</th>\n",
       "      <td>032370083</td>\n",
       "      <td>Construction à l'épreuve de la sécheresse</td>\n",
       "    </tr>\n",
       "    <tr>\n",
       "      <th>7</th>\n",
       "      <td>032878117</td>\n",
       "      <td>Missionnaires suisses</td>\n",
       "    </tr>\n",
       "    <tr>\n",
       "      <th>8</th>\n",
       "      <td>034423982</td>\n",
       "      <td>Militaires ivoiriens</td>\n",
       "    </tr>\n",
       "    <tr>\n",
       "      <th>9</th>\n",
       "      <td>034686940</td>\n",
       "      <td>Outils à métaux</td>\n",
       "    </tr>\n",
       "    <tr>\n",
       "      <th>10</th>\n",
       "      <td>034789081</td>\n",
       "      <td>Militaires maghrébins</td>\n",
       "    </tr>\n",
       "    <tr>\n",
       "      <th>11</th>\n",
       "      <td>034826483</td>\n",
       "      <td>Militaires japonais</td>\n",
       "    </tr>\n",
       "    <tr>\n",
       "      <th>12</th>\n",
       "      <td>034948813</td>\n",
       "      <td>Outils pour le travail du cuir</td>\n",
       "    </tr>\n",
       "    <tr>\n",
       "      <th>13</th>\n",
       "      <td>035446404</td>\n",
       "      <td>Militaires albanais</td>\n",
       "    </tr>\n",
       "    <tr>\n",
       "      <th>14</th>\n",
       "      <td>035752939</td>\n",
       "      <td>Militaires israéliens</td>\n",
       "    </tr>\n",
       "    <tr>\n",
       "      <th>15</th>\n",
       "      <td>195692845</td>\n",
       "      <td>École de Madrid (philosophie)</td>\n",
       "    </tr>\n",
       "    <tr>\n",
       "      <th>16</th>\n",
       "      <td>20377101X</td>\n",
       "      <td>Scientifiques suisses</td>\n",
       "    </tr>\n",
       "    <tr>\n",
       "      <th>17</th>\n",
       "      <td>203771044</td>\n",
       "      <td>Diretmidae</td>\n",
       "    </tr>\n",
       "    <tr>\n",
       "      <th>18</th>\n",
       "      <td>203771060</td>\n",
       "      <td>Diretmichthys</td>\n",
       "    </tr>\n",
       "    <tr>\n",
       "      <th>19</th>\n",
       "      <td>203771370</td>\n",
       "      <td>Opsanus beta</td>\n",
       "    </tr>\n",
       "  </tbody>\n",
       "</table>\n",
       "</div>"
      ],
      "text/plain": [
       "          PPN                                        NOM\n",
       "0   157992527                                     Kirp?n\n",
       "1   110140494                        Militaires artistes\n",
       "2   028492161                         Militaires romains\n",
       "3   028521757                       Militaires prussiens\n",
       "4   029895561                                 Sa-skya-pa\n",
       "5   031875459                     Militaires réunionnais\n",
       "6   032370083  Construction à l'épreuve de la sécheresse\n",
       "7   032878117                      Missionnaires suisses\n",
       "8   034423982                       Militaires ivoiriens\n",
       "9   034686940                            Outils à métaux\n",
       "10  034789081                      Militaires maghrébins\n",
       "11  034826483                        Militaires japonais\n",
       "12  034948813             Outils pour le travail du cuir\n",
       "13  035446404                        Militaires albanais\n",
       "14  035752939                      Militaires israéliens\n",
       "15  195692845              École de Madrid (philosophie)\n",
       "16  20377101X                      Scientifiques suisses\n",
       "17  203771044                                 Diretmidae\n",
       "18  203771060                              Diretmichthys\n",
       "19  203771370                               Opsanus beta"
      ]
     },
     "execution_count": 8,
     "metadata": {},
     "output_type": "execute_result"
    }
   ],
   "source": [
    "# Import file of RAMEAU concepts\n",
    "rameau = pd.read_csv(os.path.join(data_path, rameau_file), encoding=\"latin-1\")\n",
    "print(rameau.shape)\n",
    "rameau.head(20)"
   ]
  },
  {
   "attachments": {},
   "cell_type": "markdown",
   "metadata": {},
   "source": [
    "### Create vocabulary file"
   ]
  },
  {
   "cell_type": "code",
   "execution_count": 9,
   "metadata": {},
   "outputs": [
    {
     "data": {
      "text/html": [
       "<div>\n",
       "<style scoped>\n",
       "    .dataframe tbody tr th:only-of-type {\n",
       "        vertical-align: middle;\n",
       "    }\n",
       "\n",
       "    .dataframe tbody tr th {\n",
       "        vertical-align: top;\n",
       "    }\n",
       "\n",
       "    .dataframe thead th {\n",
       "        text-align: right;\n",
       "    }\n",
       "</style>\n",
       "<table border=\"1\" class=\"dataframe\">\n",
       "  <thead>\n",
       "    <tr style=\"text-align: right;\">\n",
       "      <th></th>\n",
       "      <th>PPN</th>\n",
       "      <th>NOM</th>\n",
       "      <th>URI</th>\n",
       "    </tr>\n",
       "  </thead>\n",
       "  <tbody>\n",
       "    <tr>\n",
       "      <th>0</th>\n",
       "      <td>157992527</td>\n",
       "      <td>Kirp?n</td>\n",
       "      <td>https://www.idref.fr/157992527</td>\n",
       "    </tr>\n",
       "    <tr>\n",
       "      <th>1</th>\n",
       "      <td>110140494</td>\n",
       "      <td>Militaires artistes</td>\n",
       "      <td>https://www.idref.fr/110140494</td>\n",
       "    </tr>\n",
       "    <tr>\n",
       "      <th>2</th>\n",
       "      <td>028492161</td>\n",
       "      <td>Militaires romains</td>\n",
       "      <td>https://www.idref.fr/028492161</td>\n",
       "    </tr>\n",
       "    <tr>\n",
       "      <th>3</th>\n",
       "      <td>028521757</td>\n",
       "      <td>Militaires prussiens</td>\n",
       "      <td>https://www.idref.fr/028521757</td>\n",
       "    </tr>\n",
       "    <tr>\n",
       "      <th>4</th>\n",
       "      <td>029895561</td>\n",
       "      <td>Sa-skya-pa</td>\n",
       "      <td>https://www.idref.fr/029895561</td>\n",
       "    </tr>\n",
       "    <tr>\n",
       "      <th>5</th>\n",
       "      <td>031875459</td>\n",
       "      <td>Militaires réunionnais</td>\n",
       "      <td>https://www.idref.fr/031875459</td>\n",
       "    </tr>\n",
       "    <tr>\n",
       "      <th>6</th>\n",
       "      <td>032370083</td>\n",
       "      <td>Construction à l'épreuve de la sécheresse</td>\n",
       "      <td>https://www.idref.fr/032370083</td>\n",
       "    </tr>\n",
       "    <tr>\n",
       "      <th>7</th>\n",
       "      <td>032878117</td>\n",
       "      <td>Missionnaires suisses</td>\n",
       "      <td>https://www.idref.fr/032878117</td>\n",
       "    </tr>\n",
       "    <tr>\n",
       "      <th>8</th>\n",
       "      <td>034423982</td>\n",
       "      <td>Militaires ivoiriens</td>\n",
       "      <td>https://www.idref.fr/034423982</td>\n",
       "    </tr>\n",
       "    <tr>\n",
       "      <th>9</th>\n",
       "      <td>034686940</td>\n",
       "      <td>Outils à métaux</td>\n",
       "      <td>https://www.idref.fr/034686940</td>\n",
       "    </tr>\n",
       "    <tr>\n",
       "      <th>10</th>\n",
       "      <td>034789081</td>\n",
       "      <td>Militaires maghrébins</td>\n",
       "      <td>https://www.idref.fr/034789081</td>\n",
       "    </tr>\n",
       "    <tr>\n",
       "      <th>11</th>\n",
       "      <td>034826483</td>\n",
       "      <td>Militaires japonais</td>\n",
       "      <td>https://www.idref.fr/034826483</td>\n",
       "    </tr>\n",
       "    <tr>\n",
       "      <th>12</th>\n",
       "      <td>034948813</td>\n",
       "      <td>Outils pour le travail du cuir</td>\n",
       "      <td>https://www.idref.fr/034948813</td>\n",
       "    </tr>\n",
       "    <tr>\n",
       "      <th>13</th>\n",
       "      <td>035446404</td>\n",
       "      <td>Militaires albanais</td>\n",
       "      <td>https://www.idref.fr/035446404</td>\n",
       "    </tr>\n",
       "    <tr>\n",
       "      <th>14</th>\n",
       "      <td>035752939</td>\n",
       "      <td>Militaires israéliens</td>\n",
       "      <td>https://www.idref.fr/035752939</td>\n",
       "    </tr>\n",
       "    <tr>\n",
       "      <th>15</th>\n",
       "      <td>195692845</td>\n",
       "      <td>École de Madrid (philosophie)</td>\n",
       "      <td>https://www.idref.fr/195692845</td>\n",
       "    </tr>\n",
       "    <tr>\n",
       "      <th>16</th>\n",
       "      <td>20377101X</td>\n",
       "      <td>Scientifiques suisses</td>\n",
       "      <td>https://www.idref.fr/20377101X</td>\n",
       "    </tr>\n",
       "    <tr>\n",
       "      <th>17</th>\n",
       "      <td>203771044</td>\n",
       "      <td>Diretmidae</td>\n",
       "      <td>https://www.idref.fr/203771044</td>\n",
       "    </tr>\n",
       "    <tr>\n",
       "      <th>18</th>\n",
       "      <td>203771060</td>\n",
       "      <td>Diretmichthys</td>\n",
       "      <td>https://www.idref.fr/203771060</td>\n",
       "    </tr>\n",
       "    <tr>\n",
       "      <th>19</th>\n",
       "      <td>203771370</td>\n",
       "      <td>Opsanus beta</td>\n",
       "      <td>https://www.idref.fr/203771370</td>\n",
       "    </tr>\n",
       "  </tbody>\n",
       "</table>\n",
       "</div>"
      ],
      "text/plain": [
       "          PPN                                        NOM   \n",
       "0   157992527                                     Kirp?n  \\\n",
       "1   110140494                        Militaires artistes   \n",
       "2   028492161                         Militaires romains   \n",
       "3   028521757                       Militaires prussiens   \n",
       "4   029895561                                 Sa-skya-pa   \n",
       "5   031875459                     Militaires réunionnais   \n",
       "6   032370083  Construction à l'épreuve de la sécheresse   \n",
       "7   032878117                      Missionnaires suisses   \n",
       "8   034423982                       Militaires ivoiriens   \n",
       "9   034686940                            Outils à métaux   \n",
       "10  034789081                      Militaires maghrébins   \n",
       "11  034826483                        Militaires japonais   \n",
       "12  034948813             Outils pour le travail du cuir   \n",
       "13  035446404                        Militaires albanais   \n",
       "14  035752939                      Militaires israéliens   \n",
       "15  195692845              École de Madrid (philosophie)   \n",
       "16  20377101X                      Scientifiques suisses   \n",
       "17  203771044                                 Diretmidae   \n",
       "18  203771060                              Diretmichthys   \n",
       "19  203771370                               Opsanus beta   \n",
       "\n",
       "                               URI  \n",
       "0   https://www.idref.fr/157992527  \n",
       "1   https://www.idref.fr/110140494  \n",
       "2   https://www.idref.fr/028492161  \n",
       "3   https://www.idref.fr/028521757  \n",
       "4   https://www.idref.fr/029895561  \n",
       "5   https://www.idref.fr/031875459  \n",
       "6   https://www.idref.fr/032370083  \n",
       "7   https://www.idref.fr/032878117  \n",
       "8   https://www.idref.fr/034423982  \n",
       "9   https://www.idref.fr/034686940  \n",
       "10  https://www.idref.fr/034789081  \n",
       "11  https://www.idref.fr/034826483  \n",
       "12  https://www.idref.fr/034948813  \n",
       "13  https://www.idref.fr/035446404  \n",
       "14  https://www.idref.fr/035752939  \n",
       "15  https://www.idref.fr/195692845  \n",
       "16  https://www.idref.fr/20377101X  \n",
       "17  https://www.idref.fr/203771044  \n",
       "18  https://www.idref.fr/203771060  \n",
       "19  https://www.idref.fr/203771370  "
      ]
     },
     "execution_count": 9,
     "metadata": {},
     "output_type": "execute_result"
    }
   ],
   "source": [
    "# Associate concepts with URI\n",
    "BASE_URI = 'https://www.idref.fr/'\n",
    "rameau[\"URI\"] = rameau[\"PPN\"].apply(lambda x: BASE_URI + x)\n",
    "rameau.head(20)"
   ]
  },
  {
   "cell_type": "code",
   "execution_count": 10,
   "metadata": {},
   "outputs": [],
   "source": [
    "# Create dictionnary of URI\n",
    "label2uri = {k:v for k,v in zip(rameau[\"NOM\"], rameau[\"URI\"].astype(str))}"
   ]
  },
  {
   "cell_type": "code",
   "execution_count": 11,
   "metadata": {},
   "outputs": [],
   "source": [
    "# Save URI to csv file\n",
    "rameau.to_csv(os.path.join(data_path, str(rameau_file[:-4] + '_withURI.csv')))"
   ]
  },
  {
   "cell_type": "code",
   "execution_count": 12,
   "metadata": {},
   "outputs": [
    {
     "data": {
      "text/html": [
       "<div>\n",
       "<style scoped>\n",
       "    .dataframe tbody tr th:only-of-type {\n",
       "        vertical-align: middle;\n",
       "    }\n",
       "\n",
       "    .dataframe tbody tr th {\n",
       "        vertical-align: top;\n",
       "    }\n",
       "\n",
       "    .dataframe thead th {\n",
       "        text-align: right;\n",
       "    }\n",
       "</style>\n",
       "<table border=\"1\" class=\"dataframe\">\n",
       "  <thead>\n",
       "    <tr style=\"text-align: right;\">\n",
       "      <th></th>\n",
       "      <th>label_fr</th>\n",
       "      <th>uri</th>\n",
       "    </tr>\n",
       "  </thead>\n",
       "  <tbody>\n",
       "    <tr>\n",
       "      <th>0</th>\n",
       "      <td>Kirp?n</td>\n",
       "      <td>https://www.idref.fr/157992527</td>\n",
       "    </tr>\n",
       "    <tr>\n",
       "      <th>1</th>\n",
       "      <td>Militaires artistes</td>\n",
       "      <td>https://www.idref.fr/110140494</td>\n",
       "    </tr>\n",
       "    <tr>\n",
       "      <th>2</th>\n",
       "      <td>Militaires romains</td>\n",
       "      <td>https://www.idref.fr/028492161</td>\n",
       "    </tr>\n",
       "    <tr>\n",
       "      <th>3</th>\n",
       "      <td>Militaires prussiens</td>\n",
       "      <td>https://www.idref.fr/028521757</td>\n",
       "    </tr>\n",
       "    <tr>\n",
       "      <th>4</th>\n",
       "      <td>Sa-skya-pa</td>\n",
       "      <td>https://www.idref.fr/029895561</td>\n",
       "    </tr>\n",
       "    <tr>\n",
       "      <th>5</th>\n",
       "      <td>Militaires réunionnais</td>\n",
       "      <td>https://www.idref.fr/031875459</td>\n",
       "    </tr>\n",
       "    <tr>\n",
       "      <th>6</th>\n",
       "      <td>Construction à l'épreuve de la sécheresse</td>\n",
       "      <td>https://www.idref.fr/032370083</td>\n",
       "    </tr>\n",
       "    <tr>\n",
       "      <th>7</th>\n",
       "      <td>Missionnaires suisses</td>\n",
       "      <td>https://www.idref.fr/032878117</td>\n",
       "    </tr>\n",
       "    <tr>\n",
       "      <th>8</th>\n",
       "      <td>Militaires ivoiriens</td>\n",
       "      <td>https://www.idref.fr/034423982</td>\n",
       "    </tr>\n",
       "    <tr>\n",
       "      <th>9</th>\n",
       "      <td>Outils à métaux</td>\n",
       "      <td>https://www.idref.fr/034686940</td>\n",
       "    </tr>\n",
       "  </tbody>\n",
       "</table>\n",
       "</div>"
      ],
      "text/plain": [
       "                                    label_fr                             uri\n",
       "0                                     Kirp?n  https://www.idref.fr/157992527\n",
       "1                        Militaires artistes  https://www.idref.fr/110140494\n",
       "2                         Militaires romains  https://www.idref.fr/028492161\n",
       "3                       Militaires prussiens  https://www.idref.fr/028521757\n",
       "4                                 Sa-skya-pa  https://www.idref.fr/029895561\n",
       "5                     Militaires réunionnais  https://www.idref.fr/031875459\n",
       "6  Construction à l'épreuve de la sécheresse  https://www.idref.fr/032370083\n",
       "7                      Missionnaires suisses  https://www.idref.fr/032878117\n",
       "8                       Militaires ivoiriens  https://www.idref.fr/034423982\n",
       "9                            Outils à métaux  https://www.idref.fr/034686940"
      ]
     },
     "execution_count": 12,
     "metadata": {},
     "output_type": "execute_result"
    }
   ],
   "source": [
    "# Create vocabulary file\n",
    "vocab_filename = os.path.join(annif_data_path,'subjects.csv')\n",
    "vocab = pd.DataFrame(rameau[[\"NOM\", \"URI\"]])\n",
    "vocab.columns = [\"label_fr\", \"uri\"]\n",
    "vocab.to_csv(vocab_filename, encoding='utf-8', index=None)\n",
    "vocab.head(10)"
   ]
  },
  {
   "cell_type": "code",
   "execution_count": 13,
   "metadata": {},
   "outputs": [
    {
     "name": "stdout",
     "output_type": "stream",
     "text": [
      "/bin/bash: /home/aurelie/anaconda3/lib/libtinfo.so.6: no version information available (required by /bin/bash)\n",
      "label_fr,uri\n",
      "Kirp?n,https://www.idref.fr/157992527\n",
      "Militaires artistes,https://www.idref.fr/110140494\n",
      "Militaires romains,https://www.idref.fr/028492161\n",
      "Militaires prussiens,https://www.idref.fr/028521757\n",
      "Sa-skya-pa,https://www.idref.fr/029895561\n",
      "Militaires réunionnais,https://www.idref.fr/031875459\n",
      "Construction à l'épreuve de la sécheresse,https://www.idref.fr/032370083\n",
      "Missionnaires suisses,https://www.idref.fr/032878117\n",
      "Militaires ivoiriens,https://www.idref.fr/034423982\n"
     ]
    }
   ],
   "source": [
    "# Check import with bash:\n",
    "! head {vocab_filename}"
   ]
  },
  {
   "cell_type": "code",
   "execution_count": 14,
   "metadata": {},
   "outputs": [
    {
     "name": "stdout",
     "output_type": "stream",
     "text": [
      "/bin/bash: /home/aurelie/anaconda3/lib/libtinfo.so.6: no version information available (required by /bin/bash)\n",
      "85877\n"
     ]
    }
   ],
   "source": [
    "# Check number of concepts in the vocabulary file:\n",
    "! wc -l < {vocab_filename}"
   ]
  },
  {
   "cell_type": "code",
   "execution_count": 15,
   "metadata": {},
   "outputs": [
    {
     "name": "stdout",
     "output_type": "stream",
     "text": [
      "/bin/bash: /home/aurelie/anaconda3/lib/libtinfo.so.6: no version information available (required by /bin/bash)\n",
      "Loading vocabulary from CSV file /home/aurelie/ABES/labo-indexation-ai/ANNIF/data/subjects.csv...\n",
      "updating existing subject index\n",
      "saving vocabulary into SKOS file data/vocabs/rameau/subjects.ttl\n"
     ]
    }
   ],
   "source": [
    "# Load vocabulary file in ANNIF\n",
    "! annif load-vocab rameau {vocab_filename}"
   ]
  },
  {
   "attachments": {},
   "cell_type": "markdown",
   "metadata": {},
   "source": [
    "### Datasets for training and evaluation"
   ]
  },
  {
   "attachments": {},
   "cell_type": "markdown",
   "metadata": {},
   "source": [
    "#### Define train and test sets (using split performed by Jean Luc Prieto)"
   ]
  },
  {
   "cell_type": "code",
   "execution_count": 16,
   "metadata": {},
   "outputs": [
    {
     "name": "stdout",
     "output_type": "stream",
     "text": [
      "dimension of train set:  (125264, 1)\n",
      "dimension of test set:  (29244, 1)\n"
     ]
    }
   ],
   "source": [
    "# Define train and test sets \n",
    "train_set_ppn = pd.read_excel(os.path.join(data_path, \"training_data.xlsx\"), dtype=str)\n",
    "print(\"dimension of train set: \", train_set_ppn.shape)\n",
    "test_set_ppn = pd.read_excel(os.path.join(data_path, \"testing_data.xlsx\"), dtype=str)\n",
    "print(\"dimension of test set: \", test_set_ppn.shape)"
   ]
  },
  {
   "cell_type": "code",
   "execution_count": 17,
   "metadata": {},
   "outputs": [
    {
     "name": "stdout",
     "output_type": "stream",
     "text": [
      "dimension of train set:  (115853, 9)\n",
      "dimension of test set:  (27070, 9)\n"
     ]
    }
   ],
   "source": [
    "df_train = pd.merge(df, train_set_ppn, on=\"PPN\", how=\"inner\")\n",
    "print(\"dimension of train set: \", df_train.shape)\n",
    "df_test = pd.merge(df, test_set_ppn, on=\"PPN\", how=\"inner\")\n",
    "print(\"dimension of test set: \", df_test.shape)"
   ]
  },
  {
   "attachments": {},
   "cell_type": "markdown",
   "metadata": {},
   "source": [
    "#### Create TSV files (short-text-document)\n",
    "see: https://github.com/NatLibFi/Annif/wiki/Document-corpus-formats#short-text-document-corpus-tsv-file"
   ]
  },
  {
   "cell_type": "code",
   "execution_count": 18,
   "metadata": {},
   "outputs": [],
   "source": [
    "# Format URIS for ANNIF\n",
    "def format_for_annif(labels):\n",
    "    uris = []\n",
    "    for label in labels:\n",
    "        if label in label2uri.keys():\n",
    "            uris.append(label2uri[label])\n",
    "    uris_formated = \" \".join(uris)\n",
    "    return uris_formated"
   ]
  },
  {
   "cell_type": "code",
   "execution_count": 19,
   "metadata": {},
   "outputs": [
    {
     "data": {
      "text/html": [
       "<div>\n",
       "<style scoped>\n",
       "    .dataframe tbody tr th:only-of-type {\n",
       "        vertical-align: middle;\n",
       "    }\n",
       "\n",
       "    .dataframe tbody tr th {\n",
       "        vertical-align: top;\n",
       "    }\n",
       "\n",
       "    .dataframe thead th {\n",
       "        text-align: right;\n",
       "    }\n",
       "</style>\n",
       "<table border=\"1\" class=\"dataframe\">\n",
       "  <thead>\n",
       "    <tr style=\"text-align: right;\">\n",
       "      <th></th>\n",
       "      <th>DESCR_cleaned</th>\n",
       "      <th>rameau_concept_formatted_for_annif</th>\n",
       "    </tr>\n",
       "  </thead>\n",
       "  <tbody>\n",
       "    <tr>\n",
       "      <th>0</th>\n",
       "      <td>Une politique pour La Réunion Michel Debré a é...</td>\n",
       "      <td>https://www.idref.fr/027274292 https://www.idr...</td>\n",
       "    </tr>\n",
       "    <tr>\n",
       "      <th>1</th>\n",
       "      <td>L'Aparole électorale La 4ème de couv. indique ...</td>\n",
       "      <td>https://www.idref.fr/027225763</td>\n",
       "    </tr>\n",
       "    <tr>\n",
       "      <th>2</th>\n",
       "      <td>La face cachée du soleil : énergie solaire et ...</td>\n",
       "      <td>https://www.idref.fr/027391027 https://www.idr...</td>\n",
       "    </tr>\n",
       "    <tr>\n",
       "      <th>3</th>\n",
       "      <td>La voie et sa vertu : Tao-tê-king La 4e de cou...</td>\n",
       "      <td>https://www.idref.fr/027847896 https://www.idr...</td>\n",
       "    </tr>\n",
       "    <tr>\n",
       "      <th>4</th>\n",
       "      <td>Akavak Akavak n'a pas encore quatorze ans. Et ...</td>\n",
       "      <td>https://www.idref.fr/027235262</td>\n",
       "    </tr>\n",
       "  </tbody>\n",
       "</table>\n",
       "</div>"
      ],
      "text/plain": [
       "                                       DESCR_cleaned   \n",
       "0  Une politique pour La Réunion Michel Debré a é...  \\\n",
       "1  L'Aparole électorale La 4ème de couv. indique ...   \n",
       "2  La face cachée du soleil : énergie solaire et ...   \n",
       "3  La voie et sa vertu : Tao-tê-king La 4e de cou...   \n",
       "4  Akavak Akavak n'a pas encore quatorze ans. Et ...   \n",
       "\n",
       "                  rameau_concept_formatted_for_annif  \n",
       "0  https://www.idref.fr/027274292 https://www.idr...  \n",
       "1                     https://www.idref.fr/027225763  \n",
       "2  https://www.idref.fr/027391027 https://www.idr...  \n",
       "3  https://www.idref.fr/027847896 https://www.idr...  \n",
       "4                     https://www.idref.fr/027235262  "
      ]
     },
     "execution_count": 19,
     "metadata": {},
     "output_type": "execute_result"
    }
   ],
   "source": [
    "# Apply on train data\n",
    "df_train[\"rameau_concept_formatted_for_annif\"] = df_train[\"rameau_concepts\"].apply(lambda x: format_for_annif(x))\n",
    "df_train[\"DESCR_cleaned\"] = df_train[\"DESCR\"].apply(lambda x: \" \".join(x.split()))\n",
    "df_train[[\"DESCR_cleaned\", \"rameau_concept_formatted_for_annif\"]].head()"
   ]
  },
  {
   "cell_type": "code",
   "execution_count": 20,
   "metadata": {},
   "outputs": [],
   "source": [
    "# Save TSV file for ANNIF\n",
    "train_tsv_path = os.path.join(annif_data_path, \"rameau-train.tsv\")\n",
    "with open(train_tsv_path, 'w', encoding='utf-8') as output_train_file:\n",
    "        for index, row in df_train.iterrows():\n",
    "                print(row['DESCR_cleaned'] + '\\t' + row['rameau_concept_formatted_for_annif'], file=output_train_file)\n"
   ]
  },
  {
   "cell_type": "code",
   "execution_count": 21,
   "metadata": {},
   "outputs": [
    {
     "name": "stdout",
     "output_type": "stream",
     "text": [
      "/bin/bash: /home/aurelie/anaconda3/lib/libtinfo.so.6: no version information available (required by /bin/bash)\n",
      "Une politique pour La Réunion Michel Debré a été élu député de la Réunion en avril 1963, en 1967, en 1968 et en 1973. Ce dernier a pris une part considérable dans une étape essentielle de l'évolution réunionnaise qui est celle de la réalisation effective de la départementalisation entraînant un développement et un progrès considérable dans tous les domaines. Cet ouvrage a pour objectif de déterminer les grandes orientations économiques et sociales de l'île.\thttps://www.idref.fr/027274292 https://www.idref.fr/027479358\n",
      "L'Aparole électorale La 4ème de couv. indique : \" Sommes-nous la moitié du ciel ou voulons-nous la moitié du gâteau ?… Les élections étaient finies depuis peu en Italie. Elles laissaient derrière elles une déception sensible […], un déchaînement de polémiques acerbes et amères… une fois encore, les femmes étaient mises en accusation… Il ne s’agit pas d’un livre dont le propos aurait été de représenter dans son ensemble la réalité féministe nationale ou encore le débat complet relancé pour les élections dans tous les collectifs féministes […] toutes les camarades appelées à y participer devaient s’efforcer de raconter une histoire politique en choisissant les temps, les modes et les chronologies qu’elles préféraient.\"\thttps://www.idref.fr/027225763\n",
      "La face cachée du soleil : énergie solaire et architecture « Nous sommes partis de rien il a y a quelques mois. Un nouveau gadget « l’énergie solaire », un congrès international, un voyage, des lectures, des discussions, puis la brochure à travers laquelle nous pensons atteindre autre chose, « une problématique ».Diffuser les informations recueillies et l’idée qu’on s’en fait. Ouvrir un débat autre que celui engagé par la presse et passer l’hiver au chaud. En conséquence, ce n’est ni un travail de spécialistes de l’énergie solaire (nous en serions du reste bien incapables), ni un travail de vulgarisation des techniques (des fiches techniques suffiraient). Toutes les utilisations possibles de l’énergie solaire n’y sont pas recensées : seules celles concernant l’habitat, notre champ d’activité, y sont décrites.[...] »\thttps://www.idref.fr/027391027 https://www.idref.fr/027672808 https://www.idref.fr/027700321 https://www.idref.fr/027233235\n",
      "La voie et sa vertu : Tao-tê-king La 4e de couverture indique : \"Malgré son contenu très bref, le Tao-tê-king, attribué par la tradition au philosophe Lao-tzeu, a joué un rôle particulièrement important dans l'histoire de la civilisation chinoise. Dès le IVe et le IIIe siècle avant J.-C., son influence était considérable. La prodigieuse fortune de Tao-tê-king a été due en partie à sa forme littéraire, et singulièrement au fait qu'il abonde en aphorisme et en paradoxes susceptibles d'être pris soit à la lettre, soit au sens figuré. D'où la possibilité pour les philosophes des écoles les plus diverses de se réclamer du Tao-tê-king ; d'où, aussi, le nombre étonnant de proverbes courants qui sont tirés de ce livre.\"\thttps://www.idref.fr/027847896 https://www.idref.fr/027252825\n",
      "Akavak Akavak n'a pas encore quatorze ans. Et pourtant c'est à lui que revient la responsabilité d'accompagner son grand-père jusqu'au Kokjuak, région lointaine par-delà les montagnes glacées du Canada du Nord. Grand-Père a promis de revoir son frère avant de mourir et il sent que son heure est proche. Que de souffrances, que de privations... pour ce garçon courageux et tenace.\thttps://www.idref.fr/027235262\n"
     ]
    }
   ],
   "source": [
    "# Check import with bash: \n",
    "! head -n 5 {train_tsv_path}"
   ]
  },
  {
   "cell_type": "code",
   "execution_count": 22,
   "metadata": {},
   "outputs": [
    {
     "data": {
      "text/html": [
       "<div>\n",
       "<style scoped>\n",
       "    .dataframe tbody tr th:only-of-type {\n",
       "        vertical-align: middle;\n",
       "    }\n",
       "\n",
       "    .dataframe tbody tr th {\n",
       "        vertical-align: top;\n",
       "    }\n",
       "\n",
       "    .dataframe thead th {\n",
       "        text-align: right;\n",
       "    }\n",
       "</style>\n",
       "<table border=\"1\" class=\"dataframe\">\n",
       "  <thead>\n",
       "    <tr style=\"text-align: right;\">\n",
       "      <th></th>\n",
       "      <th>DESCR_cleaned</th>\n",
       "      <th>rameau_concept_formatted_for_annif</th>\n",
       "    </tr>\n",
       "  </thead>\n",
       "  <tbody>\n",
       "    <tr>\n",
       "      <th>0</th>\n",
       "      <td>La révolution structurale Mutations ou crises,...</td>\n",
       "      <td>https://www.idref.fr/027249581</td>\n",
       "    </tr>\n",
       "    <tr>\n",
       "      <th>1</th>\n",
       "      <td>Esclavage antique et idéologie moderne L'étude...</td>\n",
       "      <td>https://www.idref.fr/027224295 https://www.idr...</td>\n",
       "    </tr>\n",
       "    <tr>\n",
       "      <th>2</th>\n",
       "      <td>Cahiers de doléances des femmes en 1789 : et a...</td>\n",
       "      <td>https://www.idref.fr/027225798 https://www.idr...</td>\n",
       "    </tr>\n",
       "    <tr>\n",
       "      <th>3</th>\n",
       "      <td>La santé fait ses comptes : une perspective in...</td>\n",
       "      <td>https://www.idref.fr/02736075X https://www.idr...</td>\n",
       "    </tr>\n",
       "    <tr>\n",
       "      <th>4</th>\n",
       "      <td>Les étapes de la pensée sociologique : Montesq...</td>\n",
       "      <td>https://www.idref.fr/027301117 https://www.idr...</td>\n",
       "    </tr>\n",
       "  </tbody>\n",
       "</table>\n",
       "</div>"
      ],
      "text/plain": [
       "                                       DESCR_cleaned   \n",
       "0  La révolution structurale Mutations ou crises,...  \\\n",
       "1  Esclavage antique et idéologie moderne L'étude...   \n",
       "2  Cahiers de doléances des femmes en 1789 : et a...   \n",
       "3  La santé fait ses comptes : une perspective in...   \n",
       "4  Les étapes de la pensée sociologique : Montesq...   \n",
       "\n",
       "                  rameau_concept_formatted_for_annif  \n",
       "0                     https://www.idref.fr/027249581  \n",
       "1  https://www.idref.fr/027224295 https://www.idr...  \n",
       "2  https://www.idref.fr/027225798 https://www.idr...  \n",
       "3  https://www.idref.fr/02736075X https://www.idr...  \n",
       "4  https://www.idref.fr/027301117 https://www.idr...  "
      ]
     },
     "execution_count": 22,
     "metadata": {},
     "output_type": "execute_result"
    }
   ],
   "source": [
    "# Apply on test dataset\n",
    "df_test[\"rameau_concept_formatted_for_annif\"] = df_test[\"rameau_concepts\"].apply(lambda x: format_for_annif(x))\n",
    "df_test[\"DESCR_cleaned\"] = df_test[\"DESCR\"].apply(lambda x: \" \".join(x.split()))\n",
    "df_test[[\"DESCR_cleaned\", \"rameau_concept_formatted_for_annif\"]].head()"
   ]
  },
  {
   "cell_type": "code",
   "execution_count": 23,
   "metadata": {},
   "outputs": [],
   "source": [
    "# Save TSV file for ANNIF\n",
    "test_tsv_path = os.path.join(annif_data_path, \"rameau-test.tsv\")\n",
    "with open(test_tsv_path, 'w', encoding='utf-8') as output_test_file:\n",
    "        for index, row in df_test.iterrows():\n",
    "                print(row['DESCR_cleaned'] + '\\t' + row['rameau_concept_formatted_for_annif'], file=output_test_file)"
   ]
  },
  {
   "attachments": {},
   "cell_type": "markdown",
   "metadata": {},
   "source": [
    "### Datasets to get predictions"
   ]
  },
  {
   "attachments": {},
   "cell_type": "markdown",
   "metadata": {},
   "source": [
    "ANNIF ne sait pas faire la prédiction de chaque notice d'un fichier short-text document (TSV) d'un coup. Il fait une prédiction pour tout le texte du TSV, ce qui n'a pas de sens.\n",
    "\n",
    "Il faut donc créer un fichier .txt pour chaque notice et lancer la prédiction pour tous les .txt d'un dossier en utilisant annif index"
   ]
  },
  {
   "cell_type": "code",
   "execution_count": 24,
   "metadata": {},
   "outputs": [],
   "source": [
    "# Train dataset\n",
    "annif_train_folder_path = os.path.join(annif_data_path, \"train/\")\n",
    "for index, row in df_train.iterrows():\n",
    "    if not os.path.exists(annif_train_folder_path):\n",
    "        os.makedirs(annif_train_folder_path)\n",
    "    filename = os.path.join(annif_train_folder_path, str(row['PPN'] + '.txt'))\n",
    "    with open(filename, 'a') as f:\n",
    "        f.write(row['DESCR_cleaned'])"
   ]
  },
  {
   "cell_type": "code",
   "execution_count": 25,
   "metadata": {},
   "outputs": [
    {
     "name": "stdout",
     "output_type": "stream",
     "text": [
      "Number of files in /home/aurelie/ABES/labo-indexation-ai/ANNIF/data/train/ folder: \n",
      "['/bin/bash: /home/aurelie/anaconda3/lib/libtinfo.so.6: no version information available (required by /bin/bash)', '115853']\n"
     ]
    }
   ],
   "source": [
    "# Check number of files in the train folder:\n",
    "nb_file = !ls {annif_train_folder_path} | wc -l\n",
    "print(f\"Number of files in {annif_train_folder_path} folder: \\n{nb_file}\")"
   ]
  },
  {
   "cell_type": "code",
   "execution_count": 26,
   "metadata": {},
   "outputs": [],
   "source": [
    "# Test dataset\n",
    "annif_test_folder_path = os.path.join(annif_data_path, \"test/\")\n",
    "for index, row in df_test.iterrows():\n",
    "    if not os.path.exists(annif_test_folder_path):\n",
    "        os.makedirs(annif_test_folder_path)\n",
    "    filename = os.path.join(annif_test_folder_path, str(row['PPN'] + '.txt'))\n",
    "    with open(filename, 'a') as f:\n",
    "        f.write(row['DESCR_cleaned'])"
   ]
  },
  {
   "cell_type": "code",
   "execution_count": 27,
   "metadata": {},
   "outputs": [
    {
     "name": "stdout",
     "output_type": "stream",
     "text": [
      "Number of files in /home/aurelie/ABES/labo-indexation-ai/ANNIF/data/test/ folder: \n",
      "['/bin/bash: /home/aurelie/anaconda3/lib/libtinfo.so.6: no version information available (required by /bin/bash)', '27070']\n"
     ]
    }
   ],
   "source": [
    "# Check number of files in the train folder:\n",
    "nb_file = !ls {annif_test_folder_path} | wc -l\n",
    "print(f\"Number of files in {annif_test_folder_path} folder: \\n{nb_file}\")"
   ]
  },
  {
   "attachments": {},
   "cell_type": "markdown",
   "metadata": {},
   "source": [
    "## Test ANNIF"
   ]
  },
  {
   "attachments": {},
   "cell_type": "markdown",
   "metadata": {},
   "source": [
    "### List all available projects "
   ]
  },
  {
   "cell_type": "code",
   "execution_count": 28,
   "metadata": {},
   "outputs": [
    {
     "data": {
      "text/plain": [
       "['/bin/bash: /home/aurelie/anaconda3/lib/libtinfo.so.6: no version information available (required by /bin/bash)',\n",
       " 'Project ID               Project Name                                 Language  Trained',\n",
       " '---------------------------------------------------------------------------------------',\n",
       " 'rameau-tfidf-snowball-fr TF-IDF French RAMEAU with snowball lemma     fr        False  ',\n",
       " 'rameau-tfidf-spacy-fr    TF-IDF French RAMEAU with spacy lemma        fr        False  ',\n",
       " 'rameau-fasttext-fr       FastText French RAMEAU                       fr        None   ',\n",
       " 'rameau-svc-fr            SVC French RAMEAU                            fr        None   ',\n",
       " 'rameau-omikuji-parabel-frOmikuji Parabel French                       fr        None   ',\n",
       " 'rameau-mllm-fr           RAMEAU MLLM project                          fr        False  ',\n",
       " 'rameau-ensemble-mllm-fr  RAMEAU ensemble with MLLM French             fr        None   ',\n",
       " 'rameau-ensemble-fasttext-frRAMEAU ensemble with FastText French         fr        None   ']"
      ]
     },
     "execution_count": 28,
     "metadata": {},
     "output_type": "execute_result"
    }
   ],
   "source": [
    "# list of projects\n",
    "project_list = ! annif list-projects\n",
    "project_list"
   ]
  },
  {
   "attachments": {},
   "cell_type": "markdown",
   "metadata": {},
   "source": [
    "### Select project to test"
   ]
  },
  {
   "cell_type": "code",
   "execution_count": 35,
   "metadata": {},
   "outputs": [],
   "source": [
    "# Select project and parameters\n",
    "project = \"rameau-tfidf-snowball-fr\"\n",
    "njobs = 0\n",
    "input_file = train_tsv_path\n",
    "max_nb_concepts = 10\n",
    "threshold = 0.2 \n",
    "metric_file_path = os.path.join(annif_report_path, str(project + '.json'))\n",
    "result_file_path = os.path.join(annif_report_path, str(project + '.csv'))\n",
    "test_file = test_tsv_path"
   ]
  },
  {
   "cell_type": "code",
   "execution_count": 31,
   "metadata": {},
   "outputs": [
    {
     "name": "stdout",
     "output_type": "stream",
     "text": [
      "/bin/bash: /home/aurelie/anaconda3/lib/libtinfo.so.6: no version information available (required by /bin/bash)\n",
      "Backend tfidf: transforming subject corpus\n",
      "Backend tfidf: creating vectorizer\n",
      "Backend tfidf: creating similarity index\n"
     ]
    }
   ],
   "source": [
    "# Train project\n",
    "! annif train {project} --jobs {njobs} {input_file}"
   ]
  },
  {
   "cell_type": "code",
   "execution_count": 36,
   "metadata": {},
   "outputs": [
    {
     "name": "stdout",
     "output_type": "stream",
     "text": [
      "/bin/bash: /home/aurelie/anaconda3/lib/libtinfo.so.6: no version information available (required by /bin/bash)\n",
      "Writing per subject evaluation results to /home/aurelie/ABES/labo-indexation-ai/ANNIF/reports/rameau-tfidf-snowball-fr.csv\n",
      "Precision (doc avg):          \t0.12882369928638862\n",
      "Recall (doc avg):             \t0.5278674600303408\n",
      "F1 score (doc avg):           \t0.19333392359100954\n",
      "Precision (subj avg):         \t0.024571609443821082\n",
      "Recall (subj avg):            \t0.052584938071034676\n",
      "F1 score (subj avg):          \t0.028848476895531373\n",
      "Precision (weighted subj avg):\t0.20842883496037395\n",
      "Recall (weighted subj avg):   \t0.47828141846485595\n",
      "F1 score (weighted subj avg): \t0.26290995862717426\n",
      "Precision (microavg):         \t0.1267004972866382\n",
      "Recall (microavg):            \t0.47828141846485595\n",
      "F1 score (microavg):          \t0.20033158672910725\n",
      "F1@5:                         \t0.25437580477122784\n",
      "NDCG:                         \t0.4509288966655731\n",
      "NDCG@5:                       \t0.4170965552330017\n",
      "NDCG@10:                      \t0.4509790539741516\n",
      "Precision@1:                  \t0.43405984484669374\n",
      "Precision@3:                  \t0.2653490949390469\n",
      "Precision@5:                  \t0.19847617288511268\n",
      "True positives:               \t32383\n",
      "False positives:              \t223204\n",
      "False negatives:              \t35324\n",
      "Documents evaluated:          \t27070\n"
     ]
    }
   ],
   "source": [
    "# Evaluate project\n",
    "! annif eval --limit {max_nb_concepts} --threshold {threshold} --metrics-file {metric_file_path} --results-file {result_file_path} --jobs {njobs} {project} {test_file}"
   ]
  },
  {
   "cell_type": "code",
   "execution_count": 44,
   "metadata": {},
   "outputs": [
    {
     "name": "stdout",
     "output_type": "stream",
     "text": [
      "/bin/bash: /home/aurelie/anaconda3/lib/libtinfo.so.6: no version information available (required by /bin/bash)\n"
     ]
    }
   ],
   "source": [
    "# Prediction sur toutes les notices du dossier \"test\"\n",
    "suffix = str('_' + project + '.csv')\n",
    "! annif index -s {suffix} {project} {annif_test_folder_path}"
   ]
  },
  {
   "attachments": {},
   "cell_type": "markdown",
   "metadata": {},
   "source": [
    "## Format predictions for future use"
   ]
  },
  {
   "cell_type": "code",
   "execution_count": 46,
   "metadata": {},
   "outputs": [
    {
     "name": "stdout",
     "output_type": "stream",
     "text": [
      "There are 27070 files to compile\n"
     ]
    }
   ],
   "source": [
    "csv_files = [f for f in os.listdir(annif_test_folder_path) if f.endswith(\".csv\")]\n",
    "print(f\"There are {len(csv_files)} files to compile\")"
   ]
  },
  {
   "cell_type": "code",
   "execution_count": 77,
   "metadata": {},
   "outputs": [],
   "source": [
    "# Build dataframe\n",
    "predictions = pd.DataFrame(columns=[\"PPN\", \"predictions\", \"scores\"])\n",
    "for i, file in enumerate(csv_files):\n",
    "    ppn = file.split('_')[0]\n",
    "    pred = pd.read_csv(os.path.join(annif_test_folder_path, file), sep='\\t', header=None, names=[\"URI\", \"pred_concept\", \"score\"])\n",
    "    predictions.loc[i,\"PPN\"] = ppn\n",
    "    predictions.loc[i,\"predictions\"] = pred[\"pred_concept\"].to_list()\n",
    "    predictions.loc[i,\"scores\"] = pred[\"score\"].to_list()"
   ]
  },
  {
   "cell_type": "code",
   "execution_count": 93,
   "metadata": {},
   "outputs": [
    {
     "data": {
      "text/html": [
       "<div>\n",
       "<style scoped>\n",
       "    .dataframe tbody tr th:only-of-type {\n",
       "        vertical-align: middle;\n",
       "    }\n",
       "\n",
       "    .dataframe tbody tr th {\n",
       "        vertical-align: top;\n",
       "    }\n",
       "\n",
       "    .dataframe thead th {\n",
       "        text-align: right;\n",
       "    }\n",
       "</style>\n",
       "<table border=\"1\" class=\"dataframe\">\n",
       "  <thead>\n",
       "    <tr style=\"text-align: right;\">\n",
       "      <th></th>\n",
       "      <th>PPN</th>\n",
       "      <th>predictions</th>\n",
       "      <th>scores</th>\n",
       "    </tr>\n",
       "  </thead>\n",
       "  <tbody>\n",
       "    <tr>\n",
       "      <th>0</th>\n",
       "      <td>19598241X</td>\n",
       "      <td>[Vêtements de femme, Vêtements d'enfant, Robes...</td>\n",
       "      <td>[0.5036637187004089, 0.4903338253498077, 0.435...</td>\n",
       "    </tr>\n",
       "    <tr>\n",
       "      <th>1</th>\n",
       "      <td>143319477</td>\n",
       "      <td>[Soi (philosophie), Logique antique, Temps (ph...</td>\n",
       "      <td>[0.3134464919567108, 0.3116497695446014, 0.305...</td>\n",
       "    </tr>\n",
       "    <tr>\n",
       "      <th>2</th>\n",
       "      <td>240480805</td>\n",
       "      <td>[Notaires, Notariat, Actes authentiques, Déont...</td>\n",
       "      <td>[0.5995048880577087, 0.5834233164787292, 0.451...</td>\n",
       "    </tr>\n",
       "    <tr>\n",
       "      <th>3</th>\n",
       "      <td>07908527X</td>\n",
       "      <td>[Juifs, Judaïsme, Antisémitisme, Relations int...</td>\n",
       "      <td>[0.6071311235427856, 0.5999835729598999, 0.518...</td>\n",
       "    </tr>\n",
       "    <tr>\n",
       "      <th>4</th>\n",
       "      <td>248872214</td>\n",
       "      <td>[Pensée, Anthropologie, Dans la littérature, É...</td>\n",
       "      <td>[0.4287354648113251, 0.4070886969566345, 0.403...</td>\n",
       "    </tr>\n",
       "  </tbody>\n",
       "</table>\n",
       "</div>"
      ],
      "text/plain": [
       "         PPN                                        predictions   \n",
       "0  19598241X  [Vêtements de femme, Vêtements d'enfant, Robes...  \\\n",
       "1  143319477  [Soi (philosophie), Logique antique, Temps (ph...   \n",
       "2  240480805  [Notaires, Notariat, Actes authentiques, Déont...   \n",
       "3  07908527X  [Juifs, Judaïsme, Antisémitisme, Relations int...   \n",
       "4  248872214  [Pensée, Anthropologie, Dans la littérature, É...   \n",
       "\n",
       "                                              scores  \n",
       "0  [0.5036637187004089, 0.4903338253498077, 0.435...  \n",
       "1  [0.3134464919567108, 0.3116497695446014, 0.305...  \n",
       "2  [0.5995048880577087, 0.5834233164787292, 0.451...  \n",
       "3  [0.6071311235427856, 0.5999835729598999, 0.518...  \n",
       "4  [0.4287354648113251, 0.4070886969566345, 0.403...  "
      ]
     },
     "execution_count": 93,
     "metadata": {},
     "output_type": "execute_result"
    }
   ],
   "source": [
    "# Show predictions\n",
    "predictions.head()"
   ]
  },
  {
   "cell_type": "code",
   "execution_count": 79,
   "metadata": {},
   "outputs": [],
   "source": [
    "# Save dataframe\n",
    "predictions.to_csv(os.path.join(annif_report_path, str(project + \"_predictions.csv\")))"
   ]
  },
  {
   "cell_type": "code",
   "execution_count": 105,
   "metadata": {},
   "outputs": [
    {
     "data": {
      "text/plain": [
       "'./../data'"
      ]
     },
     "execution_count": 105,
     "metadata": {},
     "output_type": "execute_result"
    }
   ],
   "source": [
    "data_path"
   ]
  },
  {
   "attachments": {},
   "cell_type": "markdown",
   "metadata": {},
   "source": [
    "## Merge predictions with existing predictions (including reindexation and indexing if available)"
   ]
  },
  {
   "cell_type": "code",
   "execution_count": null,
   "metadata": {},
   "outputs": [],
   "source": [
    " # Set files\n",
    "if save_predictions:\n",
    "    input_file = \"./../data/data_with_reindexation_and_embeddings.csv\"\n",
    "    output_file = \"./../data/data_with_reindexation_and_embeddings_withANNIF.csv\"\n",
    "else: \n",
    "    input_file = None\n",
    "    output_file = None"
   ]
  },
  {
   "cell_type": "code",
   "execution_count": 113,
   "metadata": {},
   "outputs": [
    {
     "name": "stdout",
     "output_type": "stream",
     "text": [
      "(99, 17)\n"
     ]
    },
    {
     "data": {
      "text/html": [
       "<div>\n",
       "<style scoped>\n",
       "    .dataframe tbody tr th:only-of-type {\n",
       "        vertical-align: middle;\n",
       "    }\n",
       "\n",
       "    .dataframe tbody tr th {\n",
       "        vertical-align: top;\n",
       "    }\n",
       "\n",
       "    .dataframe thead th {\n",
       "        text-align: right;\n",
       "    }\n",
       "</style>\n",
       "<table border=\"1\" class=\"dataframe\">\n",
       "  <thead>\n",
       "    <tr style=\"text-align: right;\">\n",
       "      <th></th>\n",
       "      <th>PPN</th>\n",
       "      <th>TITRE</th>\n",
       "      <th>RESUME</th>\n",
       "      <th>RAMEAU</th>\n",
       "      <th>DEWEY</th>\n",
       "      <th>DESCR</th>\n",
       "      <th>presence_chaine_indexation</th>\n",
       "      <th>rameau_chaines_index</th>\n",
       "      <th>rameau_concepts</th>\n",
       "      <th>INDEX_AFE</th>\n",
       "      <th>INDEX_MCR</th>\n",
       "      <th>INDEX_JMF</th>\n",
       "      <th>INDEX_LPL</th>\n",
       "      <th>INDEX_LJZ</th>\n",
       "      <th>INDEX_MPD</th>\n",
       "      <th>embedding_chains</th>\n",
       "      <th>embeddings_autorites</th>\n",
       "    </tr>\n",
       "  </thead>\n",
       "  <tbody>\n",
       "    <tr>\n",
       "      <th>0</th>\n",
       "      <td>000308838</td>\n",
       "      <td>Les sommets de l'État : essai sur l'élite du p...</td>\n",
       "      <td>u XIXe siècle à nos jours, l'Etat \"fort\" à la ...</td>\n",
       "      <td>Bureaucratie;Classes dirigeantes;Classes dirig...</td>\n",
       "      <td>NaN</td>\n",
       "      <td>Les sommets de l'État : essai sur l'élite du p...</td>\n",
       "      <td>False</td>\n",
       "      <td>['Bureaucratie', 'Classes dirigeantes', 'Class...</td>\n",
       "      <td>['Bureaucratie', 'Classes dirigeantes', 'Class...</td>\n",
       "      <td>Classes dirigeantes -- France -- Histoire;;Pou...</td>\n",
       "      <td>Pouvoir (sciences sociales) -- Classes dirigea...</td>\n",
       "      <td>Classes dirigeantes -- Relations avec l'État -...</td>\n",
       "      <td>Hauts fonctionnaires -- France;;Classes dirige...</td>\n",
       "      <td>Classes dirigeantes -- France;;Hauts fonctionn...</td>\n",
       "      <td>Classes dirigeantes -- France -- Histoire;;Éli...</td>\n",
       "      <td>['État', 'Administration publique', 'Fédéralis...</td>\n",
       "      <td>['État', 'Administration publique', 'Fédéralis...</td>\n",
       "    </tr>\n",
       "    <tr>\n",
       "      <th>1</th>\n",
       "      <td>00094758X</td>\n",
       "      <td>Le dollar</td>\n",
       "      <td>La quatrième de couverture indique : \"Quelle e...</td>\n",
       "      <td>Dollar américain;Finances internationales;Poli...</td>\n",
       "      <td>320</td>\n",
       "      <td>Le dollar La quatrième de couverture indique :...</td>\n",
       "      <td>False</td>\n",
       "      <td>['Dollar américain', 'Finances internationales...</td>\n",
       "      <td>['Dollar américain', 'Finances internationales...</td>\n",
       "      <td>Dollar américain;;Eurodollar, Marché de l';;Po...</td>\n",
       "      <td>Dollar américain -- Mondialisation;;Dollar amé...</td>\n",
       "      <td>Dollar américain ;;Politique économique -- Éta...</td>\n",
       "      <td>Dollar américain -- Influence -- 20e siècle;;F...</td>\n",
       "      <td>Dollar américain;;Eurodollar, Marché de l';;Fi...</td>\n",
       "      <td>Dollar américain;;Eurodollar, Marché de l';;Fi...</td>\n",
       "      <td>['Dollar américain', 'Système monétaire intern...</td>\n",
       "      <td>['Dollar américain', 'Système monétaire intern...</td>\n",
       "    </tr>\n",
       "    <tr>\n",
       "      <th>2</th>\n",
       "      <td>003632806</td>\n",
       "      <td>Les intellectuels sous la Ve République : 1958...</td>\n",
       "      <td>Célèbres, influents, on les voit, on en parle ...</td>\n",
       "      <td>Intellectuels;Intellectuels français</td>\n",
       "      <td>301</td>\n",
       "      <td>Les intellectuels sous la Ve République : 1958...</td>\n",
       "      <td>False</td>\n",
       "      <td>['Intellectuels', 'Intellectuels français']</td>\n",
       "      <td>['Intellectuels', 'Intellectuels français']</td>\n",
       "      <td>Intellectuels -- France -- 1958-.... (5e Répub...</td>\n",
       "      <td>Intellectuels -- France -- 1945</td>\n",
       "      <td>Intellectuels français -- Sociologie ;;Intelle...</td>\n",
       "      <td>Intellectuels -- France -- 1958 (5e République...</td>\n",
       "      <td>Intellectuels -- France;;Vie intellectuelle --...</td>\n",
       "      <td>Intellectuels -- France -- 1958-.... (5e Répub...</td>\n",
       "      <td>['Intellectuels -- Activité politique', 'Intel...</td>\n",
       "      <td>['Intellectuels', 'Activité politique', 'Intel...</td>\n",
       "    </tr>\n",
       "  </tbody>\n",
       "</table>\n",
       "</div>"
      ],
      "text/plain": [
       "         PPN                                              TITRE   \n",
       "0  000308838  Les sommets de l'État : essai sur l'élite du p...  \\\n",
       "1  00094758X                                          Le dollar   \n",
       "2  003632806  Les intellectuels sous la Ve République : 1958...   \n",
       "\n",
       "                                              RESUME   \n",
       "0  u XIXe siècle à nos jours, l'Etat \"fort\" à la ...  \\\n",
       "1  La quatrième de couverture indique : \"Quelle e...   \n",
       "2  Célèbres, influents, on les voit, on en parle ...   \n",
       "\n",
       "                                              RAMEAU DEWEY   \n",
       "0  Bureaucratie;Classes dirigeantes;Classes dirig...   NaN  \\\n",
       "1  Dollar américain;Finances internationales;Poli...   320   \n",
       "2               Intellectuels;Intellectuels français   301   \n",
       "\n",
       "                                               DESCR   \n",
       "0  Les sommets de l'État : essai sur l'élite du p...  \\\n",
       "1  Le dollar La quatrième de couverture indique :...   \n",
       "2  Les intellectuels sous la Ve République : 1958...   \n",
       "\n",
       "   presence_chaine_indexation   \n",
       "0                       False  \\\n",
       "1                       False   \n",
       "2                       False   \n",
       "\n",
       "                                rameau_chaines_index   \n",
       "0  ['Bureaucratie', 'Classes dirigeantes', 'Class...  \\\n",
       "1  ['Dollar américain', 'Finances internationales...   \n",
       "2        ['Intellectuels', 'Intellectuels français']   \n",
       "\n",
       "                                     rameau_concepts   \n",
       "0  ['Bureaucratie', 'Classes dirigeantes', 'Class...  \\\n",
       "1  ['Dollar américain', 'Finances internationales...   \n",
       "2        ['Intellectuels', 'Intellectuels français']   \n",
       "\n",
       "                                           INDEX_AFE   \n",
       "0  Classes dirigeantes -- France -- Histoire;;Pou...  \\\n",
       "1  Dollar américain;;Eurodollar, Marché de l';;Po...   \n",
       "2  Intellectuels -- France -- 1958-.... (5e Répub...   \n",
       "\n",
       "                                           INDEX_MCR   \n",
       "0  Pouvoir (sciences sociales) -- Classes dirigea...  \\\n",
       "1  Dollar américain -- Mondialisation;;Dollar amé...   \n",
       "2                    Intellectuels -- France -- 1945   \n",
       "\n",
       "                                           INDEX_JMF   \n",
       "0  Classes dirigeantes -- Relations avec l'État -...  \\\n",
       "1  Dollar américain ;;Politique économique -- Éta...   \n",
       "2  Intellectuels français -- Sociologie ;;Intelle...   \n",
       "\n",
       "                                           INDEX_LPL   \n",
       "0  Hauts fonctionnaires -- France;;Classes dirige...  \\\n",
       "1  Dollar américain -- Influence -- 20e siècle;;F...   \n",
       "2  Intellectuels -- France -- 1958 (5e République...   \n",
       "\n",
       "                                           INDEX_LJZ   \n",
       "0  Classes dirigeantes -- France;;Hauts fonctionn...  \\\n",
       "1  Dollar américain;;Eurodollar, Marché de l';;Fi...   \n",
       "2  Intellectuels -- France;;Vie intellectuelle --...   \n",
       "\n",
       "                                           INDEX_MPD   \n",
       "0  Classes dirigeantes -- France -- Histoire;;Éli...  \\\n",
       "1  Dollar américain;;Eurodollar, Marché de l';;Fi...   \n",
       "2  Intellectuels -- France -- 1958-.... (5e Répub...   \n",
       "\n",
       "                                    embedding_chains   \n",
       "0  ['État', 'Administration publique', 'Fédéralis...  \\\n",
       "1  ['Dollar américain', 'Système monétaire intern...   \n",
       "2  ['Intellectuels -- Activité politique', 'Intel...   \n",
       "\n",
       "                                embeddings_autorites  \n",
       "0  ['État', 'Administration publique', 'Fédéralis...  \n",
       "1  ['Dollar américain', 'Système monétaire intern...  \n",
       "2  ['Intellectuels', 'Activité politique', 'Intel...  "
      ]
     },
     "execution_count": 113,
     "metadata": {},
     "output_type": "execute_result"
    }
   ],
   "source": [
    "# merge predictions with reindexation file\n",
    "indexation_file = pd.read_csv(input_file, index_col=0)\n",
    "print(indexation_file.shape)\n",
    "indexation_file.head(3)"
   ]
  },
  {
   "cell_type": "code",
   "execution_count": 110,
   "metadata": {},
   "outputs": [],
   "source": [
    "# Merge predictions\n",
    "output = indexation_file.merge(predictions, on=\"PPN\", how=\"inner\")\n",
    "output.rename(columns={\"predictions\" : str(\"predictions_\" + project), \"scores\":str(\"scores_\" + project)}, inplace=True)"
   ]
  },
  {
   "cell_type": "code",
   "execution_count": 112,
   "metadata": {},
   "outputs": [
    {
     "data": {
      "text/html": [
       "<div>\n",
       "<style scoped>\n",
       "    .dataframe tbody tr th:only-of-type {\n",
       "        vertical-align: middle;\n",
       "    }\n",
       "\n",
       "    .dataframe tbody tr th {\n",
       "        vertical-align: top;\n",
       "    }\n",
       "\n",
       "    .dataframe thead th {\n",
       "        text-align: right;\n",
       "    }\n",
       "</style>\n",
       "<table border=\"1\" class=\"dataframe\">\n",
       "  <thead>\n",
       "    <tr style=\"text-align: right;\">\n",
       "      <th></th>\n",
       "      <th>PPN</th>\n",
       "      <th>TITRE</th>\n",
       "      <th>RESUME</th>\n",
       "      <th>RAMEAU</th>\n",
       "      <th>DEWEY</th>\n",
       "      <th>DESCR</th>\n",
       "      <th>presence_chaine_indexation</th>\n",
       "      <th>rameau_chaines_index</th>\n",
       "      <th>rameau_concepts</th>\n",
       "      <th>INDEX_AFE</th>\n",
       "      <th>INDEX_MCR</th>\n",
       "      <th>INDEX_JMF</th>\n",
       "      <th>INDEX_LPL</th>\n",
       "      <th>INDEX_LJZ</th>\n",
       "      <th>INDEX_MPD</th>\n",
       "      <th>embedding_chains</th>\n",
       "      <th>embeddings_autorites</th>\n",
       "      <th>predictions_rameau-tfidf-snowball-fr</th>\n",
       "      <th>scores_rameau-tfidf-snowball-fr</th>\n",
       "    </tr>\n",
       "  </thead>\n",
       "  <tbody>\n",
       "    <tr>\n",
       "      <th>0</th>\n",
       "      <td>00094758X</td>\n",
       "      <td>Le dollar</td>\n",
       "      <td>La quatrième de couverture indique : \"Quelle e...</td>\n",
       "      <td>Dollar américain;Finances internationales;Poli...</td>\n",
       "      <td>320</td>\n",
       "      <td>Le dollar La quatrième de couverture indique :...</td>\n",
       "      <td>False</td>\n",
       "      <td>['Dollar américain', 'Finances internationales...</td>\n",
       "      <td>['Dollar américain', 'Finances internationales...</td>\n",
       "      <td>Dollar américain;;Eurodollar, Marché de l';;Po...</td>\n",
       "      <td>Dollar américain -- Mondialisation;;Dollar amé...</td>\n",
       "      <td>Dollar américain ;;Politique économique -- Éta...</td>\n",
       "      <td>Dollar américain -- Influence -- 20e siècle;;F...</td>\n",
       "      <td>Dollar américain;;Eurodollar, Marché de l';;Fi...</td>\n",
       "      <td>Dollar américain;;Eurodollar, Marché de l';;Fi...</td>\n",
       "      <td>['Dollar américain', 'Système monétaire intern...</td>\n",
       "      <td>['Dollar américain', 'Système monétaire intern...</td>\n",
       "      <td>[Dollar américain, Système monétaire internati...</td>\n",
       "      <td>[0.5164358615875244, 0.4515779912471771, 0.414...</td>\n",
       "    </tr>\n",
       "    <tr>\n",
       "      <th>1</th>\n",
       "      <td>05224170X</td>\n",
       "      <td>Apprendre à aimer les mathématiques : conditio...</td>\n",
       "      <td>Les entretiens d'élèves et d'enseignants, anal...</td>\n",
       "      <td>Mathématiques -- Étude et enseignement -- Aspe...</td>\n",
       "      <td>370</td>\n",
       "      <td>Apprendre à aimer les mathématiques : conditio...</td>\n",
       "      <td>True</td>\n",
       "      <td>['Mathématiques -- Étude et enseignement -- As...</td>\n",
       "      <td>['Mathématiques', 'Étude et enseignement', 'As...</td>\n",
       "      <td>Mathématiques -- Étude et enseignement;;Psycho...</td>\n",
       "      <td>Mathématiques -- Enfants en difficulté d'appre...</td>\n",
       "      <td>Didactique -- Mathématiques;;Apprentissage par...</td>\n",
       "      <td>Apprentissage -- Mathématiques;;Enseignement -...</td>\n",
       "      <td>Mathématiques -- Pédagogie;;Mathématiques -- É...</td>\n",
       "      <td>Mathématiques -- Étude et enseignement -- Fran...</td>\n",
       "      <td>['Apprentissage par problèmes', \"Psychologie d...</td>\n",
       "      <td>['Apprentissage par problèmes', \"Psychologie d...</td>\n",
       "      <td>[Pédagogie de soutien, Psychologie de l'appren...</td>\n",
       "      <td>[0.4382833838462829, 0.4295188188552856, 0.427...</td>\n",
       "    </tr>\n",
       "    <tr>\n",
       "      <th>2</th>\n",
       "      <td>103220844</td>\n",
       "      <td>Friedrich A. von Hayek : vie, oeuvres, concepts</td>\n",
       "      <td>La 4e de couverture indique: \"Les œuvres de Fr...</td>\n",
       "      <td>Libéralisme économique</td>\n",
       "      <td>330.157</td>\n",
       "      <td>Friedrich A. von Hayek : vie, oeuvres, concept...</td>\n",
       "      <td>False</td>\n",
       "      <td>['Libéralisme économique']</td>\n",
       "      <td>['Libéralisme économique']</td>\n",
       "      <td>Économistes -- 20e siècle;;Libéralisme économique</td>\n",
       "      <td>Libéralisme économique;;Économistes -- Prix No...</td>\n",
       "      <td>Libéralisme économique ;;École autrichienne d'...</td>\n",
       "      <td>Économistes -- Libéralisme économique -- Autri...</td>\n",
       "      <td>Keynésianisme;;Libéralisme économique;;Économi...</td>\n",
       "      <td>Keynésianisme;;Libéralisme économique -- 20e s...</td>\n",
       "      <td>['Keynésianisme', 'Libéralisme (philosophie)',...</td>\n",
       "      <td>['Keynésianisme', 'Libéralisme (philosophie)',...</td>\n",
       "      <td>[Libéralisme (philosophie), Économie de marché...</td>\n",
       "      <td>[0.3712964057922363, 0.3706687390804291, 0.370...</td>\n",
       "    </tr>\n",
       "  </tbody>\n",
       "</table>\n",
       "</div>"
      ],
      "text/plain": [
       "         PPN                                              TITRE   \n",
       "0  00094758X                                          Le dollar  \\\n",
       "1  05224170X  Apprendre à aimer les mathématiques : conditio...   \n",
       "2  103220844    Friedrich A. von Hayek : vie, oeuvres, concepts   \n",
       "\n",
       "                                              RESUME   \n",
       "0  La quatrième de couverture indique : \"Quelle e...  \\\n",
       "1  Les entretiens d'élèves et d'enseignants, anal...   \n",
       "2  La 4e de couverture indique: \"Les œuvres de Fr...   \n",
       "\n",
       "                                              RAMEAU    DEWEY   \n",
       "0  Dollar américain;Finances internationales;Poli...      320  \\\n",
       "1  Mathématiques -- Étude et enseignement -- Aspe...      370   \n",
       "2                             Libéralisme économique  330.157   \n",
       "\n",
       "                                               DESCR   \n",
       "0  Le dollar La quatrième de couverture indique :...  \\\n",
       "1  Apprendre à aimer les mathématiques : conditio...   \n",
       "2  Friedrich A. von Hayek : vie, oeuvres, concept...   \n",
       "\n",
       "   presence_chaine_indexation   \n",
       "0                       False  \\\n",
       "1                        True   \n",
       "2                       False   \n",
       "\n",
       "                                rameau_chaines_index   \n",
       "0  ['Dollar américain', 'Finances internationales...  \\\n",
       "1  ['Mathématiques -- Étude et enseignement -- As...   \n",
       "2                         ['Libéralisme économique']   \n",
       "\n",
       "                                     rameau_concepts   \n",
       "0  ['Dollar américain', 'Finances internationales...  \\\n",
       "1  ['Mathématiques', 'Étude et enseignement', 'As...   \n",
       "2                         ['Libéralisme économique']   \n",
       "\n",
       "                                           INDEX_AFE   \n",
       "0  Dollar américain;;Eurodollar, Marché de l';;Po...  \\\n",
       "1  Mathématiques -- Étude et enseignement;;Psycho...   \n",
       "2  Économistes -- 20e siècle;;Libéralisme économique   \n",
       "\n",
       "                                           INDEX_MCR   \n",
       "0  Dollar américain -- Mondialisation;;Dollar amé...  \\\n",
       "1  Mathématiques -- Enfants en difficulté d'appre...   \n",
       "2  Libéralisme économique;;Économistes -- Prix No...   \n",
       "\n",
       "                                           INDEX_JMF   \n",
       "0  Dollar américain ;;Politique économique -- Éta...  \\\n",
       "1  Didactique -- Mathématiques;;Apprentissage par...   \n",
       "2  Libéralisme économique ;;École autrichienne d'...   \n",
       "\n",
       "                                           INDEX_LPL   \n",
       "0  Dollar américain -- Influence -- 20e siècle;;F...  \\\n",
       "1  Apprentissage -- Mathématiques;;Enseignement -...   \n",
       "2  Économistes -- Libéralisme économique -- Autri...   \n",
       "\n",
       "                                           INDEX_LJZ   \n",
       "0  Dollar américain;;Eurodollar, Marché de l';;Fi...  \\\n",
       "1  Mathématiques -- Pédagogie;;Mathématiques -- É...   \n",
       "2  Keynésianisme;;Libéralisme économique;;Économi...   \n",
       "\n",
       "                                           INDEX_MPD   \n",
       "0  Dollar américain;;Eurodollar, Marché de l';;Fi...  \\\n",
       "1  Mathématiques -- Étude et enseignement -- Fran...   \n",
       "2  Keynésianisme;;Libéralisme économique -- 20e s...   \n",
       "\n",
       "                                    embedding_chains   \n",
       "0  ['Dollar américain', 'Système monétaire intern...  \\\n",
       "1  ['Apprentissage par problèmes', \"Psychologie d...   \n",
       "2  ['Keynésianisme', 'Libéralisme (philosophie)',...   \n",
       "\n",
       "                                embeddings_autorites   \n",
       "0  ['Dollar américain', 'Système monétaire intern...  \\\n",
       "1  ['Apprentissage par problèmes', \"Psychologie d...   \n",
       "2  ['Keynésianisme', 'Libéralisme (philosophie)',...   \n",
       "\n",
       "                predictions_rameau-tfidf-snowball-fr   \n",
       "0  [Dollar américain, Système monétaire internati...  \\\n",
       "1  [Pédagogie de soutien, Psychologie de l'appren...   \n",
       "2  [Libéralisme (philosophie), Économie de marché...   \n",
       "\n",
       "                     scores_rameau-tfidf-snowball-fr  \n",
       "0  [0.5164358615875244, 0.4515779912471771, 0.414...  \n",
       "1  [0.4382833838462829, 0.4295188188552856, 0.427...  \n",
       "2  [0.3712964057922363, 0.3706687390804291, 0.370...  "
      ]
     },
     "execution_count": 112,
     "metadata": {},
     "output_type": "execute_result"
    }
   ],
   "source": [
    "output.head(3)"
   ]
  },
  {
   "cell_type": "code",
   "execution_count": 114,
   "metadata": {},
   "outputs": [],
   "source": [
    "# Save output\n",
    "output.to_csv(output_file)"
   ]
  }
 ],
 "metadata": {
  "kernelspec": {
   "display_name": "abes_index",
   "language": "python",
   "name": "python3"
  },
  "language_info": {
   "codemirror_mode": {
    "name": "ipython",
    "version": 3
   },
   "file_extension": ".py",
   "mimetype": "text/x-python",
   "name": "python",
   "nbconvert_exporter": "python",
   "pygments_lexer": "ipython3",
   "version": "3.10.11"
  },
  "orig_nbformat": 4
 },
 "nbformat": 4,
 "nbformat_minor": 2
}
